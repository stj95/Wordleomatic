{
  "cells": [
    {
      "cell_type": "markdown",
      "metadata": {
        "id": "bcfgW_bpTyke"
      },
      "source": [
        "WORDLE'O'MATIC 🤖"
      ]
    },
    {
      "cell_type": "code",
      "source": [
        "# Need this to get the other files\n",
        "# !git clone https://github.com/stj95/Wordleomatic.git\n",
        "# %cd Wordleomatic"
      ],
      "metadata": {
        "colab": {
          "base_uri": "https://localhost:8080/"
        },
        "id": "N0JJc5whdBKZ",
        "outputId": "829cd2f4-7071-41e9-83ae-e1de4ff08e18"
      },
      "execution_count": 35,
      "outputs": [
        {
          "output_type": "stream",
          "name": "stdout",
          "text": [
            "Cloning into 'Wordleomatic'...\n",
            "remote: Enumerating objects: 29, done.\u001b[K\n",
            "remote: Counting objects: 100% (29/29), done.\u001b[K\n",
            "remote: Compressing objects: 100% (28/28), done.\u001b[K\n",
            "remote: Total 29 (delta 12), reused 7 (delta 0), pack-reused 0 (from 0)\u001b[K\n",
            "Receiving objects: 100% (29/29), 20.94 KiB | 4.19 MiB/s, done.\n",
            "Resolving deltas: 100% (12/12), done.\n",
            "/content/Wordleomatic/Wordleomatic/Wordleomatic/Wordleomatic/Wordleomatic\n"
          ]
        }
      ]
    },
    {
      "cell_type": "code",
      "execution_count": 65,
      "metadata": {
        "id": "IkeELD5iPB9V"
      },
      "outputs": [],
      "source": [
        "import ipywidgets as widgets\n",
        "from IPython.display import display\n",
        "from datetime import datetime, date\n",
        "import importlib\n",
        "\n",
        "# Import the modules (not individual classes yet)\n",
        "import wordle_users\n",
        "import wordle_logs\n",
        "\n",
        "# Reload the modules (this picks up file changes)\n",
        "importlib.reload(wordle_users)\n",
        "importlib.reload(wordle_logs)\n",
        "\n",
        "# Now import the classes from the reloaded modules\n",
        "from wordle_users import WordleUser\n",
        "from wordle_logs import WordleLog"
      ]
    },
    {
      "cell_type": "markdown",
      "metadata": {
        "id": "-8DAE6_aUjbp"
      },
      "source": []
    },
    {
      "cell_type": "code",
      "execution_count": 69,
      "metadata": {
        "id": "dmnUJlSiXDtu"
      },
      "outputs": [],
      "source": [
        "# lines = []\n",
        "\n",
        "# # Create the upload widget\n",
        "# uploader = widgets.FileUpload(\n",
        "#     accept='.txt',  # Only accept text files (optional)\n",
        "#     multiple=False  # One file only\n",
        "# )\n",
        "\n",
        "# def on_upload_change(change):\n",
        "#     global lines\n",
        "#     if uploader.value:\n",
        "#         uploaded_file = list(uploader.value.values())[0]\n",
        "#         content_bytes = uploaded_file['content']\n",
        "#         content_text = content_bytes.decode('utf-8')\n",
        "#         lines = content_text.splitlines()\n",
        "#         print(\"✅ File uploaded!\")\n",
        "#     else:\n",
        "#         print(\"⚠️ No file uploaded.\")\n",
        "\n",
        "# # Display the widget\n",
        "# uploader.observe(on_upload_change, names='value')\n",
        "# display(uploader)"
      ]
    },
    {
      "cell_type": "code",
      "source": [
        "# Create two DatePickers\n",
        "start_date = widgets.DatePicker(\n",
        "    description='Start:',\n",
        "    value=date(2025, 4, 1),\n",
        "    disabled=False\n",
        ")\n",
        "\n",
        "end_date = widgets.DatePicker(\n",
        "    description='End:',\n",
        "    value=date.today(),\n",
        "    disabled=False\n",
        ")\n",
        "\n",
        "# Button to apply filter\n",
        "apply_button = widgets.Button(description=\"Apply Date Filter\")\n",
        "\n",
        "\n",
        "# Display everything\n",
        "print(\"Date range to calculate results:\")\n",
        "display(widgets.HBox([start_date, end_date]))\n"
      ],
      "metadata": {
        "colab": {
          "base_uri": "https://localhost:8080/",
          "height": 66,
          "referenced_widgets": [
            "159bb42dd16b47c7ac7b4c82ae9530b4",
            "d1bc73039fc347c0b6c7ef9c009c8c80",
            "55946e2df30f43ed8e053cba571a6e77",
            "357817f35b1648d9bf12583e61a930d1",
            "949b6f4b11c54906b55c09d38b148efc",
            "ccd5dcd0de9e420fb646d1fe14c334ff",
            "992ea044c37549368fe85d319717df51",
            "94360be2fe6647e39b132c63e9d68934"
          ]
        },
        "id": "1OZ3XiliSyCM",
        "outputId": "f7986512-d110-484c-c549-b7739f87f483"
      },
      "execution_count": 64,
      "outputs": [
        {
          "output_type": "stream",
          "name": "stdout",
          "text": [
            "Date range to calculate results:\n"
          ]
        },
        {
          "output_type": "display_data",
          "data": {
            "text/plain": [
              "HBox(children=(DatePicker(value=datetime.date(2025, 4, 1), description='Start:'), DatePicker(value=datetime.da…"
            ],
            "application/vnd.jupyter.widget-view+json": {
              "version_major": 2,
              "version_minor": 0,
              "model_id": "159bb42dd16b47c7ac7b4c82ae9530b4"
            }
          },
          "metadata": {}
        }
      ]
    },
    {
      "cell_type": "code",
      "execution_count": 76,
      "metadata": {
        "colab": {
          "base_uri": "https://localhost:8080/",
          "height": 480,
          "referenced_widgets": [
            "4fe901fe969d47cca86642ca580038d6",
            "0c131df7a0cc497da5d9432244685e6b",
            "a3afd3f8adc7447dbc3daa5a844fef42",
            "6497326601934aaf8341abceb082499e",
            "c29c62dd688f4308a4c8e2de78fcec92",
            "16dff1684cf04668b14828865b29a9ed",
            "b175e9d7bc8d444ba9d17f52aefe2bfc",
            "4b7344707c8b4f3885e70958003a8fa7"
          ]
        },
        "id": "b8kqNQI5pEcy",
        "outputId": "1e8a3525-41a0-488d-a6b2-0bb81b4d1398"
      },
      "outputs": [
        {
          "output_type": "display_data",
          "data": {
            "text/plain": [
              "FileUpload(value={}, accept='.txt', description='Upload')"
            ],
            "application/vnd.jupyter.widget-view+json": {
              "version_major": 2,
              "version_minor": 0,
              "model_id": "4fe901fe969d47cca86642ca580038d6"
            }
          },
          "metadata": {}
        },
        {
          "output_type": "display_data",
          "data": {
            "text/plain": [
              "Button(description='Get scores', style=ButtonStyle())"
            ],
            "application/vnd.jupyter.widget-view+json": {
              "version_major": 2,
              "version_minor": 0,
              "model_id": "6497326601934aaf8341abceb082499e"
            }
          },
          "metadata": {}
        },
        {
          "output_type": "display_data",
          "data": {
            "text/plain": [
              "Output()"
            ],
            "application/vnd.jupyter.widget-view+json": {
              "version_major": 2,
              "version_minor": 0,
              "model_id": "b175e9d7bc8d444ba9d17f52aefe2bfc"
            }
          },
          "metadata": {}
        }
      ],
      "source": [
        "output = widgets.Output()\n",
        "lines = []\n",
        "# Create the upload widget\n",
        "uploader = widgets.FileUpload(\n",
        "    accept='.txt',  # Only accept text files (optional)\n",
        "    multiple=False  # One file only\n",
        ")\n",
        "\n",
        "\n",
        "\n",
        "def get_data(b):\n",
        "    with output:\n",
        "        output.clear_output()\n",
        "\n",
        "        if not start_date.value or not end_date.value:\n",
        "            print(\"⚠️ Please select both start and end dates.\")\n",
        "            return\n",
        "\n",
        "        if not uploader.value:\n",
        "          print(\"⚠️ Please upload a file before clicking 'Get scores'.\")\n",
        "          return\n",
        "\n",
        "        # Handle both list and dict formats, just in case:\n",
        "        uploaded_file = uploader.value[0] if isinstance(uploader.value, (list, tuple)) else list(uploader.value.values())[0]\n",
        "        # uploaded_file = uploader.value[0]\n",
        "        # uploaded_file = list(uploader.value.values())[0]\n",
        "\n",
        "        content_bytes = uploaded_file['content']\n",
        "        content_text = content_bytes.decode('utf-8')\n",
        "        lines = content_text.splitlines()\n",
        "        print(f\"✅ Uploaded file with {len(lines)} lines\")\n",
        "\n",
        "        log = WordleLog(start_date, end_date)\n",
        "        log.parse_lines(lines)\n",
        "\n",
        "        if not log.users:\n",
        "            print(\"⚠️ No games found in the given date range.\")\n",
        "            return\n",
        "\n",
        "\n",
        "        scoreboard = {}\n",
        "        missed_games = {}\n",
        "        missed_scores = {}\n",
        "        tile_scores = {}\n",
        "        average_scores = {}\n",
        "        n_green_scores = {}\n",
        "        n_yellow_scores = {}\n",
        "        ones = {}\n",
        "        sixs = {}\n",
        "        losses = {}\n",
        "\n",
        "        for name, user in log.users.items():\n",
        "            user.get_stats()\n",
        "            scoreboard[name] = user.total_score\n",
        "            missed_games[name] = user.n_missed_games\n",
        "            missed_scores[name] = user.missed_score\n",
        "            tile_scores[name] = user.game_score\n",
        "            average_scores[name] = user.average_score\n",
        "            n_green_scores[name] = user.n_greens\n",
        "            n_yellow_scores[name] = user.n_yellows\n",
        "            ones[name] = user.ones\n",
        "            sixs[name] = user.sixs\n",
        "            losses[name] = user.losses\n",
        "\n",
        "        sorted_scoreboard = dict(sorted(scoreboard.items(), key=lambda item: item[1]))\n",
        "        sorted_missed_games = dict(sorted(missed_games.items(), key=lambda item: item[1]))\n",
        "        sorted_missed_games_r = dict(sorted(missed_games.items(), key=lambda item: item[1], reverse=True))\n",
        "        sorted_greens = dict(sorted(n_green_scores.items(), key=lambda item: item[1], reverse=True))\n",
        "        sorted_yellows = dict(sorted(n_yellow_scores.items(), key=lambda item: item[1], reverse=True))\n",
        "        sorted_ones = dict(sorted(ones.items(), key=lambda item: item[1], reverse=True))\n",
        "        sorted_sixs = dict(sorted(sixs.items(), key=lambda item: item[1], reverse=True))\n",
        "        sorted_losses = dict(sorted(losses.items(), key=lambda item: item[1], reverse=True))\n",
        "\n",
        "        # ------------------------ SCOREBOARD ----------------------------\n",
        "\n",
        "\n",
        "        print(\"############ SCOREBOARD ############\")\n",
        "        emoji_list = ['🏆', '🥈', '🥉', '4️⃣', '5️⃣', '6️⃣', '7️⃣', '8️⃣', '9️⃣', '🔟']\n",
        "        for i, (name, score) in enumerate(sorted_scoreboard.items()):\n",
        "            if i == len(scoreboard)-1:\n",
        "                emoji = '🥄'\n",
        "            else:\n",
        "                emoji = emoji_list[i] if i < len(emoji_list) else '🔸'\n",
        "            print(f\"{emoji} - {name} ({score})\")\n",
        "\n",
        "        print(\" \")\n",
        "        print(\"############ AWARDS ############\")\n",
        "\n",
        "        if sorted_missed_games:\n",
        "          missed_winner_name, missed_winner_score = next(iter(sorted_missed_games.items()))\n",
        "          missed_loser_name, missed_loser_score = next(iter(sorted_missed_games_r.items()))\n",
        "          green_winner_name, green_winner_score = next(iter(sorted_greens.items()))\n",
        "          yellow_winner_name, yellow_winner_score = next(iter(sorted_yellows.items()))\n",
        "          ones_winner_name, ones_winner_score = next(iter(sorted_ones.items()))\n",
        "          sixs_winner_name, sixs_winner_score = next(iter(sorted_sixs.items()))\n",
        "          losses_winner_name, losses_winner_score = next(iter(sorted_losses.items()))\n",
        "\n",
        "          print(\" \")\n",
        "          print(\"############ AWARDS ############\")\n",
        "          print(f\"♻️ Ever-present - {missed_winner_name} ({missed_winner_score} games missed)\")\n",
        "          print(f\"🫥 The Invisible Man - {missed_loser_name} ({missed_loser_score} games missed)\")\n",
        "          print(f\"🥲 Biggest Loser - {losses_winner_name} ({losses_winner_score} games lost)\")\n",
        "          print(f\"🟩 Green Giant - {green_winner_name} ({green_winner_score} greens/game)\")\n",
        "          print(f\"🟨 Mellow Yellow - {yellow_winner_name} ({yellow_winner_score} yellows/game)\")\n",
        "          print(f\"☝️ One and Done - {ones_winner_name} ({ones_winner_score} game completed in one attempt)\")\n",
        "          print(f\"😅 Life on the Edge - {sixs_winner_name} ({sixs_winner_score} games completed on the last attempt)\")\n",
        "        else:\n",
        "          print(\"⚠️ No Wordle games were found — check your file or date range.\")\n",
        "\n",
        "# Display the widget\n",
        "# uploader.observe(on_upload_change, names='value')\n",
        "# display(uploader)\n",
        "# Button + Output\n",
        "button = widgets.Button(description=\"Get scores\")\n",
        "button.on_click(get_data)\n",
        "\n",
        "display(uploader, button, output)\n"
      ]
    },
    {
      "cell_type": "code",
      "execution_count": null,
      "metadata": {
        "id": "QKmuUGJF2nUj",
        "colab": {
          "base_uri": "https://localhost:8080/",
          "height": 52
        },
        "outputId": "97bf7d14-3b41-45e3-98c2-64079ac020df"
      },
      "outputs": [
        {
          "output_type": "stream",
          "name": "stdout",
          "text": [
            "  adding: wordle_logs.py (deflated 72%)\n",
            "  adding: wordle_users.py (deflated 69%)\n"
          ]
        },
        {
          "output_type": "display_data",
          "data": {
            "text/plain": [
              "<IPython.core.display.Javascript object>"
            ],
            "application/javascript": [
              "\n",
              "    async function download(id, filename, size) {\n",
              "      if (!google.colab.kernel.accessAllowed) {\n",
              "        return;\n",
              "      }\n",
              "      const div = document.createElement('div');\n",
              "      const label = document.createElement('label');\n",
              "      label.textContent = `Downloading \"${filename}\": `;\n",
              "      div.appendChild(label);\n",
              "      const progress = document.createElement('progress');\n",
              "      progress.max = size;\n",
              "      div.appendChild(progress);\n",
              "      document.body.appendChild(div);\n",
              "\n",
              "      const buffers = [];\n",
              "      let downloaded = 0;\n",
              "\n",
              "      const channel = await google.colab.kernel.comms.open(id);\n",
              "      // Send a message to notify the kernel that we're ready.\n",
              "      channel.send({})\n",
              "\n",
              "      for await (const message of channel.messages) {\n",
              "        // Send a message to notify the kernel that we're ready.\n",
              "        channel.send({})\n",
              "        if (message.buffers) {\n",
              "          for (const buffer of message.buffers) {\n",
              "            buffers.push(buffer);\n",
              "            downloaded += buffer.byteLength;\n",
              "            progress.value = downloaded;\n",
              "          }\n",
              "        }\n",
              "      }\n",
              "      const blob = new Blob(buffers, {type: 'application/binary'});\n",
              "      const a = document.createElement('a');\n",
              "      a.href = window.URL.createObjectURL(blob);\n",
              "      a.download = filename;\n",
              "      div.appendChild(a);\n",
              "      a.click();\n",
              "      div.remove();\n",
              "    }\n",
              "  "
            ]
          },
          "metadata": {}
        },
        {
          "output_type": "display_data",
          "data": {
            "text/plain": [
              "<IPython.core.display.Javascript object>"
            ],
            "application/javascript": [
              "download(\"download_71b44f16-f419-41a9-a3e4-6b3a1781d2dd\", \"wordle_project.zip\", 2211)"
            ]
          },
          "metadata": {}
        }
      ],
      "source": [
        "# !zip -r wordle_project.zip . -i \"*.py\" \"*.ipynb\"\n",
        "# from google.colab import files\n",
        "# files.download('wordle_project.zip')\n"
      ]
    }
  ],
  "metadata": {
    "colab": {
      "provenance": [],
      "authorship_tag": "ABX9TyOOE/ToG5M1VeGE5uKHSKoC"
    },
    "kernelspec": {
      "display_name": "Python 3",
      "name": "python3"
    },
    "language_info": {
      "name": "python"
    },
    "widgets": {
      "application/vnd.jupyter.widget-state+json": {
        "159bb42dd16b47c7ac7b4c82ae9530b4": {
          "model_module": "@jupyter-widgets/controls",
          "model_name": "HBoxModel",
          "model_module_version": "1.5.0",
          "state": {
            "_dom_classes": [],
            "_model_module": "@jupyter-widgets/controls",
            "_model_module_version": "1.5.0",
            "_model_name": "HBoxModel",
            "_view_count": null,
            "_view_module": "@jupyter-widgets/controls",
            "_view_module_version": "1.5.0",
            "_view_name": "HBoxView",
            "box_style": "",
            "children": [
              "IPY_MODEL_d1bc73039fc347c0b6c7ef9c009c8c80",
              "IPY_MODEL_55946e2df30f43ed8e053cba571a6e77"
            ],
            "layout": "IPY_MODEL_357817f35b1648d9bf12583e61a930d1"
          }
        },
        "d1bc73039fc347c0b6c7ef9c009c8c80": {
          "model_module": "@jupyter-widgets/controls",
          "model_name": "DatePickerModel",
          "model_module_version": "1.5.0",
          "state": {
            "_dom_classes": [],
            "_model_module": "@jupyter-widgets/controls",
            "_model_module_version": "1.5.0",
            "_model_name": "DatePickerModel",
            "_view_count": null,
            "_view_module": "@jupyter-widgets/controls",
            "_view_module_version": "1.5.0",
            "_view_name": "DatePickerView",
            "description": "Start:",
            "description_tooltip": null,
            "disabled": false,
            "layout": "IPY_MODEL_949b6f4b11c54906b55c09d38b148efc",
            "style": "IPY_MODEL_ccd5dcd0de9e420fb646d1fe14c334ff",
            "value": {
              "year": 2025,
              "month": 3,
              "date": 1
            }
          }
        },
        "55946e2df30f43ed8e053cba571a6e77": {
          "model_module": "@jupyter-widgets/controls",
          "model_name": "DatePickerModel",
          "model_module_version": "1.5.0",
          "state": {
            "_dom_classes": [],
            "_model_module": "@jupyter-widgets/controls",
            "_model_module_version": "1.5.0",
            "_model_name": "DatePickerModel",
            "_view_count": null,
            "_view_module": "@jupyter-widgets/controls",
            "_view_module_version": "1.5.0",
            "_view_name": "DatePickerView",
            "description": "End:",
            "description_tooltip": null,
            "disabled": false,
            "layout": "IPY_MODEL_992ea044c37549368fe85d319717df51",
            "style": "IPY_MODEL_94360be2fe6647e39b132c63e9d68934",
            "value": {
              "year": 2025,
              "month": 3,
              "date": 11
            }
          }
        },
        "357817f35b1648d9bf12583e61a930d1": {
          "model_module": "@jupyter-widgets/base",
          "model_name": "LayoutModel",
          "model_module_version": "1.2.0",
          "state": {
            "_model_module": "@jupyter-widgets/base",
            "_model_module_version": "1.2.0",
            "_model_name": "LayoutModel",
            "_view_count": null,
            "_view_module": "@jupyter-widgets/base",
            "_view_module_version": "1.2.0",
            "_view_name": "LayoutView",
            "align_content": null,
            "align_items": null,
            "align_self": null,
            "border": null,
            "bottom": null,
            "display": null,
            "flex": null,
            "flex_flow": null,
            "grid_area": null,
            "grid_auto_columns": null,
            "grid_auto_flow": null,
            "grid_auto_rows": null,
            "grid_column": null,
            "grid_gap": null,
            "grid_row": null,
            "grid_template_areas": null,
            "grid_template_columns": null,
            "grid_template_rows": null,
            "height": null,
            "justify_content": null,
            "justify_items": null,
            "left": null,
            "margin": null,
            "max_height": null,
            "max_width": null,
            "min_height": null,
            "min_width": null,
            "object_fit": null,
            "object_position": null,
            "order": null,
            "overflow": null,
            "overflow_x": null,
            "overflow_y": null,
            "padding": null,
            "right": null,
            "top": null,
            "visibility": null,
            "width": null
          }
        },
        "949b6f4b11c54906b55c09d38b148efc": {
          "model_module": "@jupyter-widgets/base",
          "model_name": "LayoutModel",
          "model_module_version": "1.2.0",
          "state": {
            "_model_module": "@jupyter-widgets/base",
            "_model_module_version": "1.2.0",
            "_model_name": "LayoutModel",
            "_view_count": null,
            "_view_module": "@jupyter-widgets/base",
            "_view_module_version": "1.2.0",
            "_view_name": "LayoutView",
            "align_content": null,
            "align_items": null,
            "align_self": null,
            "border": null,
            "bottom": null,
            "display": null,
            "flex": null,
            "flex_flow": null,
            "grid_area": null,
            "grid_auto_columns": null,
            "grid_auto_flow": null,
            "grid_auto_rows": null,
            "grid_column": null,
            "grid_gap": null,
            "grid_row": null,
            "grid_template_areas": null,
            "grid_template_columns": null,
            "grid_template_rows": null,
            "height": null,
            "justify_content": null,
            "justify_items": null,
            "left": null,
            "margin": null,
            "max_height": null,
            "max_width": null,
            "min_height": null,
            "min_width": null,
            "object_fit": null,
            "object_position": null,
            "order": null,
            "overflow": null,
            "overflow_x": null,
            "overflow_y": null,
            "padding": null,
            "right": null,
            "top": null,
            "visibility": null,
            "width": null
          }
        },
        "ccd5dcd0de9e420fb646d1fe14c334ff": {
          "model_module": "@jupyter-widgets/controls",
          "model_name": "DescriptionStyleModel",
          "model_module_version": "1.5.0",
          "state": {
            "_model_module": "@jupyter-widgets/controls",
            "_model_module_version": "1.5.0",
            "_model_name": "DescriptionStyleModel",
            "_view_count": null,
            "_view_module": "@jupyter-widgets/base",
            "_view_module_version": "1.2.0",
            "_view_name": "StyleView",
            "description_width": ""
          }
        },
        "992ea044c37549368fe85d319717df51": {
          "model_module": "@jupyter-widgets/base",
          "model_name": "LayoutModel",
          "model_module_version": "1.2.0",
          "state": {
            "_model_module": "@jupyter-widgets/base",
            "_model_module_version": "1.2.0",
            "_model_name": "LayoutModel",
            "_view_count": null,
            "_view_module": "@jupyter-widgets/base",
            "_view_module_version": "1.2.0",
            "_view_name": "LayoutView",
            "align_content": null,
            "align_items": null,
            "align_self": null,
            "border": null,
            "bottom": null,
            "display": null,
            "flex": null,
            "flex_flow": null,
            "grid_area": null,
            "grid_auto_columns": null,
            "grid_auto_flow": null,
            "grid_auto_rows": null,
            "grid_column": null,
            "grid_gap": null,
            "grid_row": null,
            "grid_template_areas": null,
            "grid_template_columns": null,
            "grid_template_rows": null,
            "height": null,
            "justify_content": null,
            "justify_items": null,
            "left": null,
            "margin": null,
            "max_height": null,
            "max_width": null,
            "min_height": null,
            "min_width": null,
            "object_fit": null,
            "object_position": null,
            "order": null,
            "overflow": null,
            "overflow_x": null,
            "overflow_y": null,
            "padding": null,
            "right": null,
            "top": null,
            "visibility": null,
            "width": null
          }
        },
        "94360be2fe6647e39b132c63e9d68934": {
          "model_module": "@jupyter-widgets/controls",
          "model_name": "DescriptionStyleModel",
          "model_module_version": "1.5.0",
          "state": {
            "_model_module": "@jupyter-widgets/controls",
            "_model_module_version": "1.5.0",
            "_model_name": "DescriptionStyleModel",
            "_view_count": null,
            "_view_module": "@jupyter-widgets/base",
            "_view_module_version": "1.2.0",
            "_view_name": "StyleView",
            "description_width": ""
          }
        },
        "4fe901fe969d47cca86642ca580038d6": {
          "model_module": "@jupyter-widgets/controls",
          "model_name": "FileUploadModel",
          "model_module_version": "1.5.0",
          "state": {
            "_counter": 1,
            "_dom_classes": [],
            "_model_module": "@jupyter-widgets/controls",
            "_model_module_version": "1.5.0",
            "_model_name": "FileUploadModel",
            "_view_count": null,
            "_view_module": "@jupyter-widgets/controls",
            "_view_module_version": "1.5.0",
            "_view_name": "FileUploadView",
            "accept": ".txt",
            "button_style": "",
            "data": [
              null
            ],
            "description": "Upload",
            "description_tooltip": null,
            "disabled": false,
            "error": "",
            "icon": "upload",
            "layout": "IPY_MODEL_0c131df7a0cc497da5d9432244685e6b",
            "metadata": [
              {
                "name": "WhatsApp Chat with The leeeeg of extraordinary wordles.txt",
                "type": "text/plain",
                "size": 148653,
                "lastModified": 1744282400000
              }
            ],
            "multiple": false,
            "style": "IPY_MODEL_a3afd3f8adc7447dbc3daa5a844fef42"
          }
        },
        "0c131df7a0cc497da5d9432244685e6b": {
          "model_module": "@jupyter-widgets/base",
          "model_name": "LayoutModel",
          "model_module_version": "1.2.0",
          "state": {
            "_model_module": "@jupyter-widgets/base",
            "_model_module_version": "1.2.0",
            "_model_name": "LayoutModel",
            "_view_count": null,
            "_view_module": "@jupyter-widgets/base",
            "_view_module_version": "1.2.0",
            "_view_name": "LayoutView",
            "align_content": null,
            "align_items": null,
            "align_self": null,
            "border": null,
            "bottom": null,
            "display": null,
            "flex": null,
            "flex_flow": null,
            "grid_area": null,
            "grid_auto_columns": null,
            "grid_auto_flow": null,
            "grid_auto_rows": null,
            "grid_column": null,
            "grid_gap": null,
            "grid_row": null,
            "grid_template_areas": null,
            "grid_template_columns": null,
            "grid_template_rows": null,
            "height": null,
            "justify_content": null,
            "justify_items": null,
            "left": null,
            "margin": null,
            "max_height": null,
            "max_width": null,
            "min_height": null,
            "min_width": null,
            "object_fit": null,
            "object_position": null,
            "order": null,
            "overflow": null,
            "overflow_x": null,
            "overflow_y": null,
            "padding": null,
            "right": null,
            "top": null,
            "visibility": null,
            "width": null
          }
        },
        "a3afd3f8adc7447dbc3daa5a844fef42": {
          "model_module": "@jupyter-widgets/controls",
          "model_name": "ButtonStyleModel",
          "model_module_version": "1.5.0",
          "state": {
            "_model_module": "@jupyter-widgets/controls",
            "_model_module_version": "1.5.0",
            "_model_name": "ButtonStyleModel",
            "_view_count": null,
            "_view_module": "@jupyter-widgets/base",
            "_view_module_version": "1.2.0",
            "_view_name": "StyleView",
            "button_color": null,
            "font_weight": ""
          }
        },
        "6497326601934aaf8341abceb082499e": {
          "model_module": "@jupyter-widgets/controls",
          "model_name": "ButtonModel",
          "model_module_version": "1.5.0",
          "state": {
            "_dom_classes": [],
            "_model_module": "@jupyter-widgets/controls",
            "_model_module_version": "1.5.0",
            "_model_name": "ButtonModel",
            "_view_count": null,
            "_view_module": "@jupyter-widgets/controls",
            "_view_module_version": "1.5.0",
            "_view_name": "ButtonView",
            "button_style": "",
            "description": "Get scores",
            "disabled": false,
            "icon": "",
            "layout": "IPY_MODEL_c29c62dd688f4308a4c8e2de78fcec92",
            "style": "IPY_MODEL_16dff1684cf04668b14828865b29a9ed",
            "tooltip": ""
          }
        },
        "c29c62dd688f4308a4c8e2de78fcec92": {
          "model_module": "@jupyter-widgets/base",
          "model_name": "LayoutModel",
          "model_module_version": "1.2.0",
          "state": {
            "_model_module": "@jupyter-widgets/base",
            "_model_module_version": "1.2.0",
            "_model_name": "LayoutModel",
            "_view_count": null,
            "_view_module": "@jupyter-widgets/base",
            "_view_module_version": "1.2.0",
            "_view_name": "LayoutView",
            "align_content": null,
            "align_items": null,
            "align_self": null,
            "border": null,
            "bottom": null,
            "display": null,
            "flex": null,
            "flex_flow": null,
            "grid_area": null,
            "grid_auto_columns": null,
            "grid_auto_flow": null,
            "grid_auto_rows": null,
            "grid_column": null,
            "grid_gap": null,
            "grid_row": null,
            "grid_template_areas": null,
            "grid_template_columns": null,
            "grid_template_rows": null,
            "height": null,
            "justify_content": null,
            "justify_items": null,
            "left": null,
            "margin": null,
            "max_height": null,
            "max_width": null,
            "min_height": null,
            "min_width": null,
            "object_fit": null,
            "object_position": null,
            "order": null,
            "overflow": null,
            "overflow_x": null,
            "overflow_y": null,
            "padding": null,
            "right": null,
            "top": null,
            "visibility": null,
            "width": null
          }
        },
        "16dff1684cf04668b14828865b29a9ed": {
          "model_module": "@jupyter-widgets/controls",
          "model_name": "ButtonStyleModel",
          "model_module_version": "1.5.0",
          "state": {
            "_model_module": "@jupyter-widgets/controls",
            "_model_module_version": "1.5.0",
            "_model_name": "ButtonStyleModel",
            "_view_count": null,
            "_view_module": "@jupyter-widgets/base",
            "_view_module_version": "1.2.0",
            "_view_name": "StyleView",
            "button_color": null,
            "font_weight": ""
          }
        },
        "b175e9d7bc8d444ba9d17f52aefe2bfc": {
          "model_module": "@jupyter-widgets/output",
          "model_name": "OutputModel",
          "model_module_version": "1.0.0",
          "state": {
            "_dom_classes": [],
            "_model_module": "@jupyter-widgets/output",
            "_model_module_version": "1.0.0",
            "_model_name": "OutputModel",
            "_view_count": null,
            "_view_module": "@jupyter-widgets/output",
            "_view_module_version": "1.0.0",
            "_view_name": "OutputView",
            "layout": "IPY_MODEL_4b7344707c8b4f3885e70958003a8fa7",
            "msg_id": "",
            "outputs": [
              {
                "output_type": "stream",
                "name": "stdout",
                "text": [
                  "✅ Uploaded file with 6161 lines\n",
                  "############ SCOREBOARD ############\n",
                  "🏆 - Bal The Veen (130)\n",
                  "🥈 - +44 7889 643371 (162)\n",
                  "🥉 - Ella Carden (166)\n",
                  "4️⃣ - Stephen Jackson (172)\n",
                  "5️⃣ - +44 7950 720437 (180)\n",
                  "6️⃣ - +44 7896 463954 (185)\n",
                  "7️⃣ - Ben Hawkey (186)\n",
                  "8️⃣ - +44 7805 323515 (192)\n",
                  "9️⃣ - Tomos (203)\n",
                  "🥄 - Sean Edwards (215)\n",
                  " \n",
                  "############ AWARDS ############\n",
                  " \n",
                  "############ AWARDS ############\n",
                  "♻️ Ever-present - Ben Hawkey (1 games missed)\n",
                  "🫥 The Invisible Man - Bal The Veen (9 games missed)\n",
                  "🥲 Biggest Loser - Ben Hawkey (1 games lost)\n",
                  "🟩 Green Giant - Ben Hawkey (11.5 greens/game)\n",
                  "🟨 Mellow Yellow - Tomos (4.0 yellows/game)\n",
                  "☝️ One and Done - Ella Carden (1 game completed in one attempt)\n",
                  "😅 Life on the Edge - Ben Hawkey (2 games completed on the last attempt)\n"
                ]
              }
            ]
          }
        },
        "4b7344707c8b4f3885e70958003a8fa7": {
          "model_module": "@jupyter-widgets/base",
          "model_name": "LayoutModel",
          "model_module_version": "1.2.0",
          "state": {
            "_model_module": "@jupyter-widgets/base",
            "_model_module_version": "1.2.0",
            "_model_name": "LayoutModel",
            "_view_count": null,
            "_view_module": "@jupyter-widgets/base",
            "_view_module_version": "1.2.0",
            "_view_name": "LayoutView",
            "align_content": null,
            "align_items": null,
            "align_self": null,
            "border": null,
            "bottom": null,
            "display": null,
            "flex": null,
            "flex_flow": null,
            "grid_area": null,
            "grid_auto_columns": null,
            "grid_auto_flow": null,
            "grid_auto_rows": null,
            "grid_column": null,
            "grid_gap": null,
            "grid_row": null,
            "grid_template_areas": null,
            "grid_template_columns": null,
            "grid_template_rows": null,
            "height": null,
            "justify_content": null,
            "justify_items": null,
            "left": null,
            "margin": null,
            "max_height": null,
            "max_width": null,
            "min_height": null,
            "min_width": null,
            "object_fit": null,
            "object_position": null,
            "order": null,
            "overflow": null,
            "overflow_x": null,
            "overflow_y": null,
            "padding": null,
            "right": null,
            "top": null,
            "visibility": null,
            "width": null
          }
        }
      }
    }
  },
  "nbformat": 4,
  "nbformat_minor": 0
}