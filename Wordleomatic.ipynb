{
  "cells": [
    {
      "cell_type": "markdown",
      "metadata": {
        "id": "bcfgW_bpTyke"
      },
      "source": [
        "WORDLE'O'MATIC 🤖"
      ]
    },
    {
      "cell_type": "code",
      "source": [
        "# Need this to get the other files\n",
        "!git clone https://github.com/stj95/Wordleomatic.git\n",
        "%cd Wordleomatic"
      ],
      "metadata": {
        "colab": {
          "base_uri": "https://localhost:8080/"
        },
        "id": "N0JJc5whdBKZ",
        "outputId": "19712e8e-a820-4833-dee9-796d5ad9ac50"
      },
      "execution_count": 8,
      "outputs": [
        {
          "output_type": "stream",
          "name": "stdout",
          "text": [
            "Cloning into 'Wordleomatic'...\n",
            "remote: Enumerating objects: 15, done.\u001b[K\n",
            "remote: Counting objects: 100% (15/15), done.\u001b[K\n",
            "remote: Compressing objects: 100% (14/14), done.\u001b[K\n",
            "remote: Total 15 (delta 3), reused 8 (delta 0), pack-reused 0 (from 0)\u001b[K\n",
            "Receiving objects: 100% (15/15), 15.89 KiB | 15.89 MiB/s, done.\n",
            "Resolving deltas: 100% (3/3), done.\n",
            "/content/Wordleomatic/Wordleomatic/Wordleomatic\n"
          ]
        }
      ]
    },
    {
      "cell_type": "code",
      "execution_count": 9,
      "metadata": {
        "id": "IkeELD5iPB9V"
      },
      "outputs": [],
      "source": [
        "import ipywidgets as widgets\n",
        "from IPython.display import display\n",
        "from datetime import datetime"
      ]
    },
    {
      "cell_type": "markdown",
      "metadata": {
        "id": "-8DAE6_aUjbp"
      },
      "source": []
    },
    {
      "cell_type": "code",
      "execution_count": 10,
      "metadata": {
        "colab": {
          "base_uri": "https://localhost:8080/",
          "height": 49,
          "referenced_widgets": [
            "07450af012504d168ecbb2860297c891",
            "d1bb3bbf4c1c438e95275c438f9ee17f",
            "283b1a31c58a4ccaa980ee36466428f8"
          ]
        },
        "id": "dmnUJlSiXDtu",
        "outputId": "698676c9-0819-4588-bc26-593b692e464b"
      },
      "outputs": [
        {
          "output_type": "display_data",
          "data": {
            "text/plain": [
              "FileUpload(value={}, accept='.txt', description='Upload')"
            ],
            "application/vnd.jupyter.widget-view+json": {
              "version_major": 2,
              "version_minor": 0,
              "model_id": "07450af012504d168ecbb2860297c891"
            }
          },
          "metadata": {}
        }
      ],
      "source": [
        "# @title  {\"display-mode\":\"code\"}\n",
        "# Create the upload widget\n",
        "uploader = widgets.FileUpload(\n",
        "    accept='.txt',  # Only accept text files (optional)\n",
        "    multiple=False  # One file only\n",
        ")\n",
        "\n",
        "# Display the widget\n",
        "display(uploader)"
      ]
    },
    {
      "cell_type": "code",
      "execution_count": 11,
      "metadata": {
        "colab": {
          "base_uri": "https://localhost:8080/"
        },
        "id": "-nNp6JyRaE3A",
        "outputId": "37302b6d-120d-4b4e-fe95-b556d6ce375e"
      },
      "outputs": [
        {
          "output_type": "stream",
          "name": "stdout",
          "text": [
            "File uploaded\n",
            "\n"
          ]
        }
      ],
      "source": [
        "# Check if a file was uploaded\n",
        "if uploader.value:\n",
        "    uploaded_file = list(uploader.value.values())[0]  # Get the uploaded file info\n",
        "    content_bytes = uploaded_file['content']          # This is a bytes object\n",
        "    content_text = content_bytes.decode('utf-8')      # Decode to string\n",
        "    lines=content_text.splitlines()\n",
        "    print(\"File uploaded\\n\")\n",
        "else:\n",
        "    print(\"No file uploaded yet.\")\n"
      ]
    },
    {
      "cell_type": "code",
      "source": [
        "import ipywidgets as widgets\n",
        "from IPython.display import display\n",
        "from datetime import date\n",
        "\n",
        "# Create two DatePickers\n",
        "start_date = widgets.DatePicker(\n",
        "    description='Start:',\n",
        "    value=date(2025, 4, 1),\n",
        "    disabled=False\n",
        ")\n",
        "\n",
        "end_date = widgets.DatePicker(\n",
        "    description='End:',\n",
        "    value=date.today(),\n",
        "    disabled=False\n",
        ")\n",
        "\n",
        "# Button to apply filter\n",
        "apply_button = widgets.Button(description=\"Apply Date Filter\")\n",
        "\n",
        "\n",
        "# Display everything\n",
        "print(\"Date range to calculate results:\")\n",
        "display(widgets.HBox([start_date, end_date]))\n"
      ],
      "metadata": {
        "colab": {
          "base_uri": "https://localhost:8080/",
          "height": 66,
          "referenced_widgets": [
            "a9e03723e7264d1ea4c0d6968f411ab9",
            "21d17d0a52a04c6b80733497da8ee54a",
            "3a93606ed56d4f7c8b17ca3d95de815e",
            "0eb2a94f26c84b67a8537f2252640d4c",
            "9346ac2924d4410b910c9fd1dd153f5c",
            "331d76c4cb4a44e3b0d48b35ba097641",
            "a7533daebd704842b22669b1b7c41610",
            "c4412670323d425bac4e1e76861b504e"
          ]
        },
        "id": "1OZ3XiliSyCM",
        "outputId": "75fe580f-f036-4314-d16e-b2b8bf8cac01"
      },
      "execution_count": 12,
      "outputs": [
        {
          "output_type": "stream",
          "name": "stdout",
          "text": [
            "Date range to calculate results:\n"
          ]
        },
        {
          "output_type": "display_data",
          "data": {
            "text/plain": [
              "HBox(children=(DatePicker(value=datetime.date(2025, 4, 1), description='Start:'), DatePicker(value=datetime.da…"
            ],
            "application/vnd.jupyter.widget-view+json": {
              "version_major": 2,
              "version_minor": 0,
              "model_id": "a9e03723e7264d1ea4c0d6968f411ab9"
            }
          },
          "metadata": {}
        }
      ]
    },
    {
      "cell_type": "code",
      "execution_count": 13,
      "metadata": {
        "id": "PVo_xRQpaMSN"
      },
      "outputs": [],
      "source": [
        "import importlib\n",
        "\n",
        "# Import the modules (not individual classes yet)\n",
        "import wordle_users\n",
        "import wordle_logs\n",
        "\n",
        "# Reload the modules (this picks up file changes)\n",
        "importlib.reload(wordle_users)\n",
        "importlib.reload(wordle_logs)\n",
        "\n",
        "# Now import the classes from the reloaded modules\n",
        "from wordle_users import WordleUser\n",
        "from wordle_logs import WordleLog\n"
      ]
    },
    {
      "cell_type": "code",
      "execution_count": 14,
      "metadata": {
        "colab": {
          "base_uri": "https://localhost:8080/"
        },
        "id": "b8kqNQI5pEcy",
        "outputId": "a2bf0a27-bdfd-47fb-ae82-0cdbbd52d8e5"
      },
      "outputs": [
        {
          "output_type": "stream",
          "name": "stdout",
          "text": [
            "############ SCOREBOARD ############\n",
            "🏆 - Bal The Veen (130)\n",
            "🥈 - +44 7889 643371 (162)\n",
            "🥉 - Ella Carden (166)\n",
            "4️⃣ - Stephen Jackson (172)\n",
            "5️⃣ - +44 7950 720437 (180)\n",
            "6️⃣ - +44 7896 463954 (185)\n",
            "7️⃣ - Ben Hawkey (186)\n",
            "8️⃣ - +44 7805 323515 (192)\n",
            "9️⃣ - Tomos (203)\n",
            "🥄 - Sean Edwards (215)\n",
            " \n",
            "############ AWARDS ############\n",
            "♻️ Ever-present - Ben Hawkey (1 games missed)\n",
            "🫥 The Invisible Man - Bal The Veen (9 games missed)\n",
            "🥲 Biggest Loser - Ben Hawkey (1 games lost)\n",
            "🟩 Green Giant - Ben Hawkey (11.5 greens/game)\n",
            "🟨 Mellow Yellow - Tomos (4.0 yellows/game)\n",
            "☝️ One and Done - Ella Carden (1 game completed in one attempt)\n",
            "😅 Life on the Edge - Ben Hawkey (2 games completed on the last attempt)\n"
          ]
        }
      ],
      "source": [
        "log = WordleLog(start_date, end_date)\n",
        "log.parse_lines(lines)\n",
        "\n",
        "scoreboard = {}\n",
        "missed_games = {}\n",
        "missed_scores = {}\n",
        "tile_scores = {}\n",
        "average_scores = {}\n",
        "n_green_scores = {}\n",
        "n_yellow_scores = {}\n",
        "ones = {}\n",
        "sixs = {}\n",
        "losses = {}\n",
        "\n",
        "for name, user in log.users.items():\n",
        "\n",
        "  user.get_stats()\n",
        "  scoreboard[name] = user.total_score\n",
        "  missed_games[name] = user.n_missed_games\n",
        "  missed_scores[name] = user.missed_score\n",
        "  tile_scores[name] = user.game_score\n",
        "  average_scores[name] = user.average_score\n",
        "  n_green_scores[name] = user.n_greens\n",
        "  n_yellow_scores[name] = user.n_yellows\n",
        "  ones[name] = user.ones\n",
        "  sixs[name] = user.sixs\n",
        "  losses[name] = user.losses\n",
        "  # print(losses)\n",
        "\n",
        "sorted_scoreboard = dict(sorted(scoreboard.items(), key=lambda item: item[1]))\n",
        "sorted_missed_games = dict(sorted(missed_games.items(), key=lambda item: item[1]))\n",
        "sorted_missed_games_r = dict(sorted(missed_games.items(), key=lambda item: item[1], reverse=True))\n",
        "sorted_greens = dict(sorted(n_green_scores.items(), key=lambda item: item[1], reverse=True))\n",
        "sorted_yellows = dict(sorted(n_yellow_scores.items(), key=lambda item: item[1], reverse=True))\n",
        "sorted_ones = dict(sorted(ones.items(), key=lambda item: item[1], reverse=True))\n",
        "sorted_sixs = dict(sorted(sixs.items(), key=lambda item: item[1], reverse=True))\n",
        "sorted_losses = dict(sorted(losses.items(), key=lambda item: item[1], reverse=True))\n",
        "\n",
        "# ------------------------ SCOREBOARD ----------------------------\n",
        "\n",
        "print(\"############ SCOREBOARD ############\")\n",
        "emoji_list = ['🏆', '🥈', '🥉', '4️⃣', '5️⃣', '6️⃣', '7️⃣', '8️⃣', '9️⃣', '🔟']\n",
        "for i, (name, score) in enumerate(sorted_scoreboard.items()):\n",
        "  if i == len(scoreboard)-1:\n",
        "    emoji = '🥄'\n",
        "  else:\n",
        "    emoji = emoji_list[i]\n",
        "\n",
        "  print(f\"{emoji} - {name} ({score})\")\n",
        "\n",
        "# ----------------------------------------------------------------\n",
        "\n",
        "\n",
        "# -------------------------- AWARDS ------------------------------\n",
        "\n",
        "\n",
        "missed_winner_name, missed_winner_score = next(iter(sorted_missed_games.items()))\n",
        "missed_loser_name, missed_loser_score = next(iter(sorted_missed_games_r.items()))\n",
        "green_winner_name, green_winner_score = next(iter(sorted_greens.items()))\n",
        "yellow_winner_name, yellow_winner_score = next(iter(sorted_yellows.items()))\n",
        "ones_winner_name, ones_winner_score = next(iter(sorted_ones.items()))\n",
        "sixs_winner_name, sixs_winner_score = next(iter(sorted_sixs.items()))\n",
        "losses_winner_name, losses_winner_score = next(iter(sorted_losses.items()))\n",
        "\n",
        "print(\" \")\n",
        "print(\"############ AWARDS ############\")\n",
        "print(f\"♻️ Ever-present - {missed_winner_name} ({missed_winner_score} games missed)\")\n",
        "print(f\"🫥 The Invisible Man - {missed_loser_name} ({missed_loser_score} games missed)\")\n",
        "print(f\"🥲 Biggest Loser - {losses_winner_name} ({losses_winner_score} games lost)\")\n",
        "print(f\"🟩 Green Giant - {green_winner_name} ({green_winner_score} greens/game)\")\n",
        "print(f\"🟨 Mellow Yellow - {yellow_winner_name} ({yellow_winner_score} yellows/game)\")\n",
        "print(f\"☝️ One and Done - {ones_winner_name} ({ones_winner_score} game completed in one attempt)\")\n",
        "print(f\"😅 Life on the Edge - {sixs_winner_name} ({sixs_winner_score} games completed on the last attempt)\")\n",
        "\n",
        "\n"
      ]
    },
    {
      "cell_type": "code",
      "execution_count": null,
      "metadata": {
        "id": "QKmuUGJF2nUj",
        "colab": {
          "base_uri": "https://localhost:8080/",
          "height": 52
        },
        "outputId": "97bf7d14-3b41-45e3-98c2-64079ac020df"
      },
      "outputs": [
        {
          "output_type": "stream",
          "name": "stdout",
          "text": [
            "  adding: wordle_logs.py (deflated 72%)\n",
            "  adding: wordle_users.py (deflated 69%)\n"
          ]
        },
        {
          "output_type": "display_data",
          "data": {
            "text/plain": [
              "<IPython.core.display.Javascript object>"
            ],
            "application/javascript": [
              "\n",
              "    async function download(id, filename, size) {\n",
              "      if (!google.colab.kernel.accessAllowed) {\n",
              "        return;\n",
              "      }\n",
              "      const div = document.createElement('div');\n",
              "      const label = document.createElement('label');\n",
              "      label.textContent = `Downloading \"${filename}\": `;\n",
              "      div.appendChild(label);\n",
              "      const progress = document.createElement('progress');\n",
              "      progress.max = size;\n",
              "      div.appendChild(progress);\n",
              "      document.body.appendChild(div);\n",
              "\n",
              "      const buffers = [];\n",
              "      let downloaded = 0;\n",
              "\n",
              "      const channel = await google.colab.kernel.comms.open(id);\n",
              "      // Send a message to notify the kernel that we're ready.\n",
              "      channel.send({})\n",
              "\n",
              "      for await (const message of channel.messages) {\n",
              "        // Send a message to notify the kernel that we're ready.\n",
              "        channel.send({})\n",
              "        if (message.buffers) {\n",
              "          for (const buffer of message.buffers) {\n",
              "            buffers.push(buffer);\n",
              "            downloaded += buffer.byteLength;\n",
              "            progress.value = downloaded;\n",
              "          }\n",
              "        }\n",
              "      }\n",
              "      const blob = new Blob(buffers, {type: 'application/binary'});\n",
              "      const a = document.createElement('a');\n",
              "      a.href = window.URL.createObjectURL(blob);\n",
              "      a.download = filename;\n",
              "      div.appendChild(a);\n",
              "      a.click();\n",
              "      div.remove();\n",
              "    }\n",
              "  "
            ]
          },
          "metadata": {}
        },
        {
          "output_type": "display_data",
          "data": {
            "text/plain": [
              "<IPython.core.display.Javascript object>"
            ],
            "application/javascript": [
              "download(\"download_71b44f16-f419-41a9-a3e4-6b3a1781d2dd\", \"wordle_project.zip\", 2211)"
            ]
          },
          "metadata": {}
        }
      ],
      "source": [
        "!zip -r wordle_project.zip . -i \"*.py\" \"*.ipynb\"\n",
        "from google.colab import files\n",
        "files.download('wordle_project.zip')\n"
      ]
    }
  ],
  "metadata": {
    "colab": {
      "provenance": [],
      "authorship_tag": "ABX9TyORvWk8ueyZ8Hcp4DBpEbmg"
    },
    "kernelspec": {
      "display_name": "Python 3",
      "name": "python3"
    },
    "language_info": {
      "name": "python"
    },
    "widgets": {
      "application/vnd.jupyter.widget-state+json": {
        "07450af012504d168ecbb2860297c891": {
          "model_module": "@jupyter-widgets/controls",
          "model_name": "FileUploadModel",
          "model_module_version": "1.5.0",
          "state": {
            "_counter": 1,
            "_dom_classes": [],
            "_model_module": "@jupyter-widgets/controls",
            "_model_module_version": "1.5.0",
            "_model_name": "FileUploadModel",
            "_view_count": null,
            "_view_module": "@jupyter-widgets/controls",
            "_view_module_version": "1.5.0",
            "_view_name": "FileUploadView",
            "accept": ".txt",
            "button_style": "",
            "data": [
              null
            ],
            "description": "Upload",
            "description_tooltip": null,
            "disabled": false,
            "error": "",
            "icon": "upload",
            "layout": "IPY_MODEL_d1bb3bbf4c1c438e95275c438f9ee17f",
            "metadata": [
              {
                "name": "WhatsApp Chat with The leeeeg of extraordinary wordles.txt",
                "type": "text/plain",
                "size": 148653,
                "lastModified": 1744282400000
              }
            ],
            "multiple": false,
            "style": "IPY_MODEL_283b1a31c58a4ccaa980ee36466428f8"
          }
        },
        "d1bb3bbf4c1c438e95275c438f9ee17f": {
          "model_module": "@jupyter-widgets/base",
          "model_name": "LayoutModel",
          "model_module_version": "1.2.0",
          "state": {
            "_model_module": "@jupyter-widgets/base",
            "_model_module_version": "1.2.0",
            "_model_name": "LayoutModel",
            "_view_count": null,
            "_view_module": "@jupyter-widgets/base",
            "_view_module_version": "1.2.0",
            "_view_name": "LayoutView",
            "align_content": null,
            "align_items": null,
            "align_self": null,
            "border": null,
            "bottom": null,
            "display": null,
            "flex": null,
            "flex_flow": null,
            "grid_area": null,
            "grid_auto_columns": null,
            "grid_auto_flow": null,
            "grid_auto_rows": null,
            "grid_column": null,
            "grid_gap": null,
            "grid_row": null,
            "grid_template_areas": null,
            "grid_template_columns": null,
            "grid_template_rows": null,
            "height": null,
            "justify_content": null,
            "justify_items": null,
            "left": null,
            "margin": null,
            "max_height": null,
            "max_width": null,
            "min_height": null,
            "min_width": null,
            "object_fit": null,
            "object_position": null,
            "order": null,
            "overflow": null,
            "overflow_x": null,
            "overflow_y": null,
            "padding": null,
            "right": null,
            "top": null,
            "visibility": null,
            "width": null
          }
        },
        "283b1a31c58a4ccaa980ee36466428f8": {
          "model_module": "@jupyter-widgets/controls",
          "model_name": "ButtonStyleModel",
          "model_module_version": "1.5.0",
          "state": {
            "_model_module": "@jupyter-widgets/controls",
            "_model_module_version": "1.5.0",
            "_model_name": "ButtonStyleModel",
            "_view_count": null,
            "_view_module": "@jupyter-widgets/base",
            "_view_module_version": "1.2.0",
            "_view_name": "StyleView",
            "button_color": null,
            "font_weight": ""
          }
        },
        "a9e03723e7264d1ea4c0d6968f411ab9": {
          "model_module": "@jupyter-widgets/controls",
          "model_name": "HBoxModel",
          "model_module_version": "1.5.0",
          "state": {
            "_dom_classes": [],
            "_model_module": "@jupyter-widgets/controls",
            "_model_module_version": "1.5.0",
            "_model_name": "HBoxModel",
            "_view_count": null,
            "_view_module": "@jupyter-widgets/controls",
            "_view_module_version": "1.5.0",
            "_view_name": "HBoxView",
            "box_style": "",
            "children": [
              "IPY_MODEL_21d17d0a52a04c6b80733497da8ee54a",
              "IPY_MODEL_3a93606ed56d4f7c8b17ca3d95de815e"
            ],
            "layout": "IPY_MODEL_0eb2a94f26c84b67a8537f2252640d4c"
          }
        },
        "21d17d0a52a04c6b80733497da8ee54a": {
          "model_module": "@jupyter-widgets/controls",
          "model_name": "DatePickerModel",
          "model_module_version": "1.5.0",
          "state": {
            "_dom_classes": [],
            "_model_module": "@jupyter-widgets/controls",
            "_model_module_version": "1.5.0",
            "_model_name": "DatePickerModel",
            "_view_count": null,
            "_view_module": "@jupyter-widgets/controls",
            "_view_module_version": "1.5.0",
            "_view_name": "DatePickerView",
            "description": "Start:",
            "description_tooltip": null,
            "disabled": false,
            "layout": "IPY_MODEL_9346ac2924d4410b910c9fd1dd153f5c",
            "style": "IPY_MODEL_331d76c4cb4a44e3b0d48b35ba097641",
            "value": {
              "year": 2025,
              "month": 3,
              "date": 1
            }
          }
        },
        "3a93606ed56d4f7c8b17ca3d95de815e": {
          "model_module": "@jupyter-widgets/controls",
          "model_name": "DatePickerModel",
          "model_module_version": "1.5.0",
          "state": {
            "_dom_classes": [],
            "_model_module": "@jupyter-widgets/controls",
            "_model_module_version": "1.5.0",
            "_model_name": "DatePickerModel",
            "_view_count": null,
            "_view_module": "@jupyter-widgets/controls",
            "_view_module_version": "1.5.0",
            "_view_name": "DatePickerView",
            "description": "End:",
            "description_tooltip": null,
            "disabled": false,
            "layout": "IPY_MODEL_a7533daebd704842b22669b1b7c41610",
            "style": "IPY_MODEL_c4412670323d425bac4e1e76861b504e",
            "value": {
              "year": 2025,
              "month": 3,
              "date": 11
            }
          }
        },
        "0eb2a94f26c84b67a8537f2252640d4c": {
          "model_module": "@jupyter-widgets/base",
          "model_name": "LayoutModel",
          "model_module_version": "1.2.0",
          "state": {
            "_model_module": "@jupyter-widgets/base",
            "_model_module_version": "1.2.0",
            "_model_name": "LayoutModel",
            "_view_count": null,
            "_view_module": "@jupyter-widgets/base",
            "_view_module_version": "1.2.0",
            "_view_name": "LayoutView",
            "align_content": null,
            "align_items": null,
            "align_self": null,
            "border": null,
            "bottom": null,
            "display": null,
            "flex": null,
            "flex_flow": null,
            "grid_area": null,
            "grid_auto_columns": null,
            "grid_auto_flow": null,
            "grid_auto_rows": null,
            "grid_column": null,
            "grid_gap": null,
            "grid_row": null,
            "grid_template_areas": null,
            "grid_template_columns": null,
            "grid_template_rows": null,
            "height": null,
            "justify_content": null,
            "justify_items": null,
            "left": null,
            "margin": null,
            "max_height": null,
            "max_width": null,
            "min_height": null,
            "min_width": null,
            "object_fit": null,
            "object_position": null,
            "order": null,
            "overflow": null,
            "overflow_x": null,
            "overflow_y": null,
            "padding": null,
            "right": null,
            "top": null,
            "visibility": null,
            "width": null
          }
        },
        "9346ac2924d4410b910c9fd1dd153f5c": {
          "model_module": "@jupyter-widgets/base",
          "model_name": "LayoutModel",
          "model_module_version": "1.2.0",
          "state": {
            "_model_module": "@jupyter-widgets/base",
            "_model_module_version": "1.2.0",
            "_model_name": "LayoutModel",
            "_view_count": null,
            "_view_module": "@jupyter-widgets/base",
            "_view_module_version": "1.2.0",
            "_view_name": "LayoutView",
            "align_content": null,
            "align_items": null,
            "align_self": null,
            "border": null,
            "bottom": null,
            "display": null,
            "flex": null,
            "flex_flow": null,
            "grid_area": null,
            "grid_auto_columns": null,
            "grid_auto_flow": null,
            "grid_auto_rows": null,
            "grid_column": null,
            "grid_gap": null,
            "grid_row": null,
            "grid_template_areas": null,
            "grid_template_columns": null,
            "grid_template_rows": null,
            "height": null,
            "justify_content": null,
            "justify_items": null,
            "left": null,
            "margin": null,
            "max_height": null,
            "max_width": null,
            "min_height": null,
            "min_width": null,
            "object_fit": null,
            "object_position": null,
            "order": null,
            "overflow": null,
            "overflow_x": null,
            "overflow_y": null,
            "padding": null,
            "right": null,
            "top": null,
            "visibility": null,
            "width": null
          }
        },
        "331d76c4cb4a44e3b0d48b35ba097641": {
          "model_module": "@jupyter-widgets/controls",
          "model_name": "DescriptionStyleModel",
          "model_module_version": "1.5.0",
          "state": {
            "_model_module": "@jupyter-widgets/controls",
            "_model_module_version": "1.5.0",
            "_model_name": "DescriptionStyleModel",
            "_view_count": null,
            "_view_module": "@jupyter-widgets/base",
            "_view_module_version": "1.2.0",
            "_view_name": "StyleView",
            "description_width": ""
          }
        },
        "a7533daebd704842b22669b1b7c41610": {
          "model_module": "@jupyter-widgets/base",
          "model_name": "LayoutModel",
          "model_module_version": "1.2.0",
          "state": {
            "_model_module": "@jupyter-widgets/base",
            "_model_module_version": "1.2.0",
            "_model_name": "LayoutModel",
            "_view_count": null,
            "_view_module": "@jupyter-widgets/base",
            "_view_module_version": "1.2.0",
            "_view_name": "LayoutView",
            "align_content": null,
            "align_items": null,
            "align_self": null,
            "border": null,
            "bottom": null,
            "display": null,
            "flex": null,
            "flex_flow": null,
            "grid_area": null,
            "grid_auto_columns": null,
            "grid_auto_flow": null,
            "grid_auto_rows": null,
            "grid_column": null,
            "grid_gap": null,
            "grid_row": null,
            "grid_template_areas": null,
            "grid_template_columns": null,
            "grid_template_rows": null,
            "height": null,
            "justify_content": null,
            "justify_items": null,
            "left": null,
            "margin": null,
            "max_height": null,
            "max_width": null,
            "min_height": null,
            "min_width": null,
            "object_fit": null,
            "object_position": null,
            "order": null,
            "overflow": null,
            "overflow_x": null,
            "overflow_y": null,
            "padding": null,
            "right": null,
            "top": null,
            "visibility": null,
            "width": null
          }
        },
        "c4412670323d425bac4e1e76861b504e": {
          "model_module": "@jupyter-widgets/controls",
          "model_name": "DescriptionStyleModel",
          "model_module_version": "1.5.0",
          "state": {
            "_model_module": "@jupyter-widgets/controls",
            "_model_module_version": "1.5.0",
            "_model_name": "DescriptionStyleModel",
            "_view_count": null,
            "_view_module": "@jupyter-widgets/base",
            "_view_module_version": "1.2.0",
            "_view_name": "StyleView",
            "description_width": ""
          }
        }
      }
    }
  },
  "nbformat": 4,
  "nbformat_minor": 0
}