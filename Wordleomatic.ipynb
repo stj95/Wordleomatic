{
  "cells": [
    {
      "cell_type": "markdown",
      "metadata": {
        "id": "bcfgW_bpTyke"
      },
      "source": [
        "WORDLE'O'MATIC 🤖"
      ]
    },
    {
      "cell_type": "code",
      "source": [
        "# Need this to get the other files\n",
        "# !git clone https://github.com/stj95/Wordleomatic.git\n",
        "# %cd Wordleomatic"
      ],
      "metadata": {
        "colab": {
          "base_uri": "https://localhost:8080/"
        },
        "id": "N0JJc5whdBKZ",
        "outputId": "829cd2f4-7071-41e9-83ae-e1de4ff08e18"
      },
      "execution_count": 35,
      "outputs": [
        {
          "output_type": "stream",
          "name": "stdout",
          "text": [
            "Cloning into 'Wordleomatic'...\n",
            "remote: Enumerating objects: 29, done.\u001b[K\n",
            "remote: Counting objects: 100% (29/29), done.\u001b[K\n",
            "remote: Compressing objects: 100% (28/28), done.\u001b[K\n",
            "remote: Total 29 (delta 12), reused 7 (delta 0), pack-reused 0 (from 0)\u001b[K\n",
            "Receiving objects: 100% (29/29), 20.94 KiB | 4.19 MiB/s, done.\n",
            "Resolving deltas: 100% (12/12), done.\n",
            "/content/Wordleomatic/Wordleomatic/Wordleomatic/Wordleomatic/Wordleomatic\n"
          ]
        }
      ]
    },
    {
      "cell_type": "code",
      "execution_count": 65,
      "metadata": {
        "id": "IkeELD5iPB9V"
      },
      "outputs": [],
      "source": [
        "import ipywidgets as widgets\n",
        "from IPython.display import display\n",
        "from datetime import datetime, date\n",
        "import importlib\n",
        "\n",
        "# Import the modules (not individual classes yet)\n",
        "import wordle_users\n",
        "import wordle_logs\n",
        "\n",
        "# Reload the modules (this picks up file changes)\n",
        "importlib.reload(wordle_users)\n",
        "importlib.reload(wordle_logs)\n",
        "\n",
        "# Now import the classes from the reloaded modules\n",
        "from wordle_users import WordleUser\n",
        "from wordle_logs import WordleLog"
      ]
    },
    {
      "cell_type": "markdown",
      "metadata": {
        "id": "-8DAE6_aUjbp"
      },
      "source": []
    },
    {
      "cell_type": "code",
      "execution_count": 60,
      "metadata": {
        "colab": {
          "base_uri": "https://localhost:8080/",
          "height": 66,
          "referenced_widgets": [
            "4f4ffdfd0c40441aadde9c054f354903",
            "19807e095a79464e8475a69d0891354e",
            "1f22d6b9c0584235be2b3368b025a563"
          ]
        },
        "id": "dmnUJlSiXDtu",
        "outputId": "0ab21abe-27da-46c4-9e6f-abca1871c27f"
      },
      "outputs": [
        {
          "output_type": "display_data",
          "data": {
            "text/plain": [
              "FileUpload(value={}, accept='.txt', description='Upload')"
            ],
            "application/vnd.jupyter.widget-view+json": {
              "version_major": 2,
              "version_minor": 0,
              "model_id": "4f4ffdfd0c40441aadde9c054f354903"
            }
          },
          "metadata": {}
        },
        {
          "output_type": "stream",
          "name": "stdout",
          "text": [
            "✅ File uploaded and parsed!\n"
          ]
        }
      ],
      "source": [
        "lines = []\n",
        "\n",
        "# Create the upload widget\n",
        "uploader = widgets.FileUpload(\n",
        "    accept='.txt',  # Only accept text files (optional)\n",
        "    multiple=False  # One file only\n",
        ")\n",
        "\n",
        "def on_upload_change(change):\n",
        "    global lines\n",
        "    if uploader.value:\n",
        "        uploaded_file = list(uploader.value.values())[0]\n",
        "        content_bytes = uploaded_file['content']\n",
        "        content_text = content_bytes.decode('utf-8')\n",
        "        lines = content_text.splitlines()\n",
        "        print(\"✅ File uploaded!\")\n",
        "    else:\n",
        "        print(\"⚠️ No file uploaded.\")\n",
        "\n",
        "# Display the widget\n",
        "uploader.observe(on_upload_change, names='value')\n",
        "display(uploader)"
      ]
    },
    {
      "cell_type": "code",
      "source": [
        "# Create two DatePickers\n",
        "start_date = widgets.DatePicker(\n",
        "    description='Start:',\n",
        "    value=date(2025, 4, 1),\n",
        "    disabled=False\n",
        ")\n",
        "\n",
        "end_date = widgets.DatePicker(\n",
        "    description='End:',\n",
        "    value=date.today(),\n",
        "    disabled=False\n",
        ")\n",
        "\n",
        "# Button to apply filter\n",
        "apply_button = widgets.Button(description=\"Apply Date Filter\")\n",
        "\n",
        "\n",
        "# Display everything\n",
        "print(\"Date range to calculate results:\")\n",
        "display(widgets.HBox([start_date, end_date]))\n"
      ],
      "metadata": {
        "colab": {
          "base_uri": "https://localhost:8080/",
          "height": 66,
          "referenced_widgets": [
            "159bb42dd16b47c7ac7b4c82ae9530b4",
            "d1bc73039fc347c0b6c7ef9c009c8c80",
            "55946e2df30f43ed8e053cba571a6e77",
            "357817f35b1648d9bf12583e61a930d1",
            "949b6f4b11c54906b55c09d38b148efc",
            "ccd5dcd0de9e420fb646d1fe14c334ff",
            "992ea044c37549368fe85d319717df51",
            "94360be2fe6647e39b132c63e9d68934"
          ]
        },
        "id": "1OZ3XiliSyCM",
        "outputId": "f7986512-d110-484c-c549-b7739f87f483"
      },
      "execution_count": 64,
      "outputs": [
        {
          "output_type": "stream",
          "name": "stdout",
          "text": [
            "Date range to calculate results:\n"
          ]
        },
        {
          "output_type": "display_data",
          "data": {
            "text/plain": [
              "HBox(children=(DatePicker(value=datetime.date(2025, 4, 1), description='Start:'), DatePicker(value=datetime.da…"
            ],
            "application/vnd.jupyter.widget-view+json": {
              "version_major": 2,
              "version_minor": 0,
              "model_id": "159bb42dd16b47c7ac7b4c82ae9530b4"
            }
          },
          "metadata": {}
        }
      ]
    },
    {
      "cell_type": "code",
      "execution_count": 66,
      "metadata": {
        "colab": {
          "base_uri": "https://localhost:8080/",
          "height": 1000,
          "referenced_widgets": [
            "8bb245cbf5b8495b9f06d741fe21a05f",
            "59d6d3011ba142d5a8151adb431d9ccc",
            "2182a05061d5492f9a5d948e0b887023",
            "5d0fd996e7824238ac211316ef64fe08",
            "177382b60f134ac4b51d462bf57345f9"
          ]
        },
        "id": "b8kqNQI5pEcy",
        "outputId": "7f667432-e63c-463a-de2e-bfca1d63b654"
      },
      "outputs": [
        {
          "output_type": "display_data",
          "data": {
            "text/plain": [
              "Button(description='Get scores', style=ButtonStyle())"
            ],
            "application/vnd.jupyter.widget-view+json": {
              "version_major": 2,
              "version_minor": 0,
              "model_id": "8bb245cbf5b8495b9f06d741fe21a05f"
            }
          },
          "metadata": {}
        },
        {
          "output_type": "display_data",
          "data": {
            "text/plain": [
              "Output()"
            ],
            "application/vnd.jupyter.widget-view+json": {
              "version_major": 2,
              "version_minor": 0,
              "model_id": "5d0fd996e7824238ac211316ef64fe08"
            }
          },
          "metadata": {}
        }
      ],
      "source": [
        "output = widgets.Output()\n",
        "\n",
        "def get_data(b):\n",
        "    with output:\n",
        "        output.clear_output()  # Optional: clears previous results\n",
        "        log = WordleLog(start_date, end_date)\n",
        "        log.parse_lines(lines)\n",
        "\n",
        "        scoreboard = {}\n",
        "        missed_games = {}\n",
        "        missed_scores = {}\n",
        "        tile_scores = {}\n",
        "        average_scores = {}\n",
        "        n_green_scores = {}\n",
        "        n_yellow_scores = {}\n",
        "        ones = {}\n",
        "        sixs = {}\n",
        "        losses = {}\n",
        "\n",
        "        for name, user in log.users.items():\n",
        "            user.get_stats()\n",
        "            scoreboard[name] = user.total_score\n",
        "            missed_games[name] = user.n_missed_games\n",
        "            missed_scores[name] = user.missed_score\n",
        "            tile_scores[name] = user.game_score\n",
        "            average_scores[name] = user.average_score\n",
        "            n_green_scores[name] = user.n_greens\n",
        "            n_yellow_scores[name] = user.n_yellows\n",
        "            ones[name] = user.ones\n",
        "            sixs[name] = user.sixs\n",
        "            losses[name] = user.losses\n",
        "\n",
        "        sorted_scoreboard = dict(sorted(scoreboard.items(), key=lambda item: item[1]))\n",
        "        sorted_missed_games = dict(sorted(missed_games.items(), key=lambda item: item[1]))\n",
        "        sorted_missed_games_r = dict(sorted(missed_games.items(), key=lambda item: item[1], reverse=True))\n",
        "        sorted_greens = dict(sorted(n_green_scores.items(), key=lambda item: item[1], reverse=True))\n",
        "        sorted_yellows = dict(sorted(n_yellow_scores.items(), key=lambda item: item[1], reverse=True))\n",
        "        sorted_ones = dict(sorted(ones.items(), key=lambda item: item[1], reverse=True))\n",
        "        sorted_sixs = dict(sorted(sixs.items(), key=lambda item: item[1], reverse=True))\n",
        "        sorted_losses = dict(sorted(losses.items(), key=lambda item: item[1], reverse=True))\n",
        "\n",
        "        # ------------------------ SCOREBOARD ----------------------------\n",
        "\n",
        "\n",
        "        print(\"############ SCOREBOARD ############\")\n",
        "        emoji_list = ['🏆', '🥈', '🥉', '4️⃣', '5️⃣', '6️⃣', '7️⃣', '8️⃣', '9️⃣', '🔟']\n",
        "        for i, (name, score) in enumerate(sorted_scoreboard.items()):\n",
        "            if i == len(scoreboard)-1:\n",
        "                emoji = '🥄'\n",
        "            else:\n",
        "                emoji = emoji_list[i] if i < len(emoji_list) else '🔸'\n",
        "            print(f\"{emoji} - {name} ({score})\")\n",
        "\n",
        "        print(\" \")\n",
        "        print(\"############ AWARDS ############\")\n",
        "\n",
        "        if sorted_missed_games:\n",
        "          missed_winner_name, missed_winner_score = next(iter(sorted_missed_games.items()))\n",
        "          missed_loser_name, missed_loser_score = next(iter(sorted_missed_games_r.items()))\n",
        "          green_winner_name, green_winner_score = next(iter(sorted_greens.items()))\n",
        "          yellow_winner_name, yellow_winner_score = next(iter(sorted_yellows.items()))\n",
        "          ones_winner_name, ones_winner_score = next(iter(sorted_ones.items()))\n",
        "          sixs_winner_name, sixs_winner_score = next(iter(sorted_sixs.items()))\n",
        "          losses_winner_name, losses_winner_score = next(iter(sorted_losses.items()))\n",
        "\n",
        "          print(\" \")\n",
        "          print(\"############ AWARDS ############\")\n",
        "          print(f\"♻️ Ever-present - {missed_winner_name} ({missed_winner_score} games missed)\")\n",
        "          print(f\"🫥 The Invisible Man - {missed_loser_name} ({missed_loser_score} games missed)\")\n",
        "          print(f\"🥲 Biggest Loser - {losses_winner_name} ({losses_winner_score} games lost)\")\n",
        "          print(f\"🟩 Green Giant - {green_winner_name} ({green_winner_score} greens/game)\")\n",
        "          print(f\"🟨 Mellow Yellow - {yellow_winner_name} ({yellow_winner_score} yellows/game)\")\n",
        "          print(f\"☝️ One and Done - {ones_winner_name} ({ones_winner_score} game completed in one attempt)\")\n",
        "          print(f\"😅 Life on the Edge - {sixs_winner_name} ({sixs_winner_score} games completed on the last attempt)\")\n",
        "        else:\n",
        "          print(\"⚠️ No Wordle games were found — check your file or date range.\")\n",
        "\n",
        "# Button + Output\n",
        "button = widgets.Button(description=\"Get scores\")\n",
        "button.on_click(get_data)\n",
        "\n",
        "display(button, output)\n"
      ]
    },
    {
      "cell_type": "code",
      "execution_count": null,
      "metadata": {
        "id": "QKmuUGJF2nUj",
        "colab": {
          "base_uri": "https://localhost:8080/",
          "height": 52
        },
        "outputId": "97bf7d14-3b41-45e3-98c2-64079ac020df"
      },
      "outputs": [
        {
          "output_type": "stream",
          "name": "stdout",
          "text": [
            "  adding: wordle_logs.py (deflated 72%)\n",
            "  adding: wordle_users.py (deflated 69%)\n"
          ]
        },
        {
          "output_type": "display_data",
          "data": {
            "text/plain": [
              "<IPython.core.display.Javascript object>"
            ],
            "application/javascript": [
              "\n",
              "    async function download(id, filename, size) {\n",
              "      if (!google.colab.kernel.accessAllowed) {\n",
              "        return;\n",
              "      }\n",
              "      const div = document.createElement('div');\n",
              "      const label = document.createElement('label');\n",
              "      label.textContent = `Downloading \"${filename}\": `;\n",
              "      div.appendChild(label);\n",
              "      const progress = document.createElement('progress');\n",
              "      progress.max = size;\n",
              "      div.appendChild(progress);\n",
              "      document.body.appendChild(div);\n",
              "\n",
              "      const buffers = [];\n",
              "      let downloaded = 0;\n",
              "\n",
              "      const channel = await google.colab.kernel.comms.open(id);\n",
              "      // Send a message to notify the kernel that we're ready.\n",
              "      channel.send({})\n",
              "\n",
              "      for await (const message of channel.messages) {\n",
              "        // Send a message to notify the kernel that we're ready.\n",
              "        channel.send({})\n",
              "        if (message.buffers) {\n",
              "          for (const buffer of message.buffers) {\n",
              "            buffers.push(buffer);\n",
              "            downloaded += buffer.byteLength;\n",
              "            progress.value = downloaded;\n",
              "          }\n",
              "        }\n",
              "      }\n",
              "      const blob = new Blob(buffers, {type: 'application/binary'});\n",
              "      const a = document.createElement('a');\n",
              "      a.href = window.URL.createObjectURL(blob);\n",
              "      a.download = filename;\n",
              "      div.appendChild(a);\n",
              "      a.click();\n",
              "      div.remove();\n",
              "    }\n",
              "  "
            ]
          },
          "metadata": {}
        },
        {
          "output_type": "display_data",
          "data": {
            "text/plain": [
              "<IPython.core.display.Javascript object>"
            ],
            "application/javascript": [
              "download(\"download_71b44f16-f419-41a9-a3e4-6b3a1781d2dd\", \"wordle_project.zip\", 2211)"
            ]
          },
          "metadata": {}
        }
      ],
      "source": [
        "# !zip -r wordle_project.zip . -i \"*.py\" \"*.ipynb\"\n",
        "# from google.colab import files\n",
        "# files.download('wordle_project.zip')\n"
      ]
    }
  ],
  "metadata": {
    "colab": {
      "provenance": [],
      "authorship_tag": "ABX9TyNDwtx/Dkd1hsWxCZ/J6zAT"
    },
    "kernelspec": {
      "display_name": "Python 3",
      "name": "python3"
    },
    "language_info": {
      "name": "python"
    },
    "widgets": {
      "application/vnd.jupyter.widget-state+json": {
        "4f4ffdfd0c40441aadde9c054f354903": {
          "model_module": "@jupyter-widgets/controls",
          "model_name": "FileUploadModel",
          "model_module_version": "1.5.0",
          "state": {
            "_counter": 1,
            "_dom_classes": [],
            "_model_module": "@jupyter-widgets/controls",
            "_model_module_version": "1.5.0",
            "_model_name": "FileUploadModel",
            "_view_count": null,
            "_view_module": "@jupyter-widgets/controls",
            "_view_module_version": "1.5.0",
            "_view_name": "FileUploadView",
            "accept": ".txt",
            "button_style": "",
            "data": [
              null
            ],
            "description": "Upload",
            "description_tooltip": null,
            "disabled": false,
            "error": "",
            "icon": "upload",
            "layout": "IPY_MODEL_19807e095a79464e8475a69d0891354e",
            "metadata": [
              {
                "name": "WhatsApp Chat with The leeeeg of extraordinary wordles.txt",
                "type": "text/plain",
                "size": 148653,
                "lastModified": 1744282400000
              }
            ],
            "multiple": false,
            "style": "IPY_MODEL_1f22d6b9c0584235be2b3368b025a563"
          }
        },
        "19807e095a79464e8475a69d0891354e": {
          "model_module": "@jupyter-widgets/base",
          "model_name": "LayoutModel",
          "model_module_version": "1.2.0",
          "state": {
            "_model_module": "@jupyter-widgets/base",
            "_model_module_version": "1.2.0",
            "_model_name": "LayoutModel",
            "_view_count": null,
            "_view_module": "@jupyter-widgets/base",
            "_view_module_version": "1.2.0",
            "_view_name": "LayoutView",
            "align_content": null,
            "align_items": null,
            "align_self": null,
            "border": null,
            "bottom": null,
            "display": null,
            "flex": null,
            "flex_flow": null,
            "grid_area": null,
            "grid_auto_columns": null,
            "grid_auto_flow": null,
            "grid_auto_rows": null,
            "grid_column": null,
            "grid_gap": null,
            "grid_row": null,
            "grid_template_areas": null,
            "grid_template_columns": null,
            "grid_template_rows": null,
            "height": null,
            "justify_content": null,
            "justify_items": null,
            "left": null,
            "margin": null,
            "max_height": null,
            "max_width": null,
            "min_height": null,
            "min_width": null,
            "object_fit": null,
            "object_position": null,
            "order": null,
            "overflow": null,
            "overflow_x": null,
            "overflow_y": null,
            "padding": null,
            "right": null,
            "top": null,
            "visibility": null,
            "width": null
          }
        },
        "1f22d6b9c0584235be2b3368b025a563": {
          "model_module": "@jupyter-widgets/controls",
          "model_name": "ButtonStyleModel",
          "model_module_version": "1.5.0",
          "state": {
            "_model_module": "@jupyter-widgets/controls",
            "_model_module_version": "1.5.0",
            "_model_name": "ButtonStyleModel",
            "_view_count": null,
            "_view_module": "@jupyter-widgets/base",
            "_view_module_version": "1.2.0",
            "_view_name": "StyleView",
            "button_color": null,
            "font_weight": ""
          }
        },
        "159bb42dd16b47c7ac7b4c82ae9530b4": {
          "model_module": "@jupyter-widgets/controls",
          "model_name": "HBoxModel",
          "model_module_version": "1.5.0",
          "state": {
            "_dom_classes": [],
            "_model_module": "@jupyter-widgets/controls",
            "_model_module_version": "1.5.0",
            "_model_name": "HBoxModel",
            "_view_count": null,
            "_view_module": "@jupyter-widgets/controls",
            "_view_module_version": "1.5.0",
            "_view_name": "HBoxView",
            "box_style": "",
            "children": [
              "IPY_MODEL_d1bc73039fc347c0b6c7ef9c009c8c80",
              "IPY_MODEL_55946e2df30f43ed8e053cba571a6e77"
            ],
            "layout": "IPY_MODEL_357817f35b1648d9bf12583e61a930d1"
          }
        },
        "d1bc73039fc347c0b6c7ef9c009c8c80": {
          "model_module": "@jupyter-widgets/controls",
          "model_name": "DatePickerModel",
          "model_module_version": "1.5.0",
          "state": {
            "_dom_classes": [],
            "_model_module": "@jupyter-widgets/controls",
            "_model_module_version": "1.5.0",
            "_model_name": "DatePickerModel",
            "_view_count": null,
            "_view_module": "@jupyter-widgets/controls",
            "_view_module_version": "1.5.0",
            "_view_name": "DatePickerView",
            "description": "Start:",
            "description_tooltip": null,
            "disabled": false,
            "layout": "IPY_MODEL_949b6f4b11c54906b55c09d38b148efc",
            "style": "IPY_MODEL_ccd5dcd0de9e420fb646d1fe14c334ff",
            "value": {
              "year": 2025,
              "month": 3,
              "date": 1
            }
          }
        },
        "55946e2df30f43ed8e053cba571a6e77": {
          "model_module": "@jupyter-widgets/controls",
          "model_name": "DatePickerModel",
          "model_module_version": "1.5.0",
          "state": {
            "_dom_classes": [],
            "_model_module": "@jupyter-widgets/controls",
            "_model_module_version": "1.5.0",
            "_model_name": "DatePickerModel",
            "_view_count": null,
            "_view_module": "@jupyter-widgets/controls",
            "_view_module_version": "1.5.0",
            "_view_name": "DatePickerView",
            "description": "End:",
            "description_tooltip": null,
            "disabled": false,
            "layout": "IPY_MODEL_992ea044c37549368fe85d319717df51",
            "style": "IPY_MODEL_94360be2fe6647e39b132c63e9d68934",
            "value": {
              "year": 2025,
              "month": 3,
              "date": 11
            }
          }
        },
        "357817f35b1648d9bf12583e61a930d1": {
          "model_module": "@jupyter-widgets/base",
          "model_name": "LayoutModel",
          "model_module_version": "1.2.0",
          "state": {
            "_model_module": "@jupyter-widgets/base",
            "_model_module_version": "1.2.0",
            "_model_name": "LayoutModel",
            "_view_count": null,
            "_view_module": "@jupyter-widgets/base",
            "_view_module_version": "1.2.0",
            "_view_name": "LayoutView",
            "align_content": null,
            "align_items": null,
            "align_self": null,
            "border": null,
            "bottom": null,
            "display": null,
            "flex": null,
            "flex_flow": null,
            "grid_area": null,
            "grid_auto_columns": null,
            "grid_auto_flow": null,
            "grid_auto_rows": null,
            "grid_column": null,
            "grid_gap": null,
            "grid_row": null,
            "grid_template_areas": null,
            "grid_template_columns": null,
            "grid_template_rows": null,
            "height": null,
            "justify_content": null,
            "justify_items": null,
            "left": null,
            "margin": null,
            "max_height": null,
            "max_width": null,
            "min_height": null,
            "min_width": null,
            "object_fit": null,
            "object_position": null,
            "order": null,
            "overflow": null,
            "overflow_x": null,
            "overflow_y": null,
            "padding": null,
            "right": null,
            "top": null,
            "visibility": null,
            "width": null
          }
        },
        "949b6f4b11c54906b55c09d38b148efc": {
          "model_module": "@jupyter-widgets/base",
          "model_name": "LayoutModel",
          "model_module_version": "1.2.0",
          "state": {
            "_model_module": "@jupyter-widgets/base",
            "_model_module_version": "1.2.0",
            "_model_name": "LayoutModel",
            "_view_count": null,
            "_view_module": "@jupyter-widgets/base",
            "_view_module_version": "1.2.0",
            "_view_name": "LayoutView",
            "align_content": null,
            "align_items": null,
            "align_self": null,
            "border": null,
            "bottom": null,
            "display": null,
            "flex": null,
            "flex_flow": null,
            "grid_area": null,
            "grid_auto_columns": null,
            "grid_auto_flow": null,
            "grid_auto_rows": null,
            "grid_column": null,
            "grid_gap": null,
            "grid_row": null,
            "grid_template_areas": null,
            "grid_template_columns": null,
            "grid_template_rows": null,
            "height": null,
            "justify_content": null,
            "justify_items": null,
            "left": null,
            "margin": null,
            "max_height": null,
            "max_width": null,
            "min_height": null,
            "min_width": null,
            "object_fit": null,
            "object_position": null,
            "order": null,
            "overflow": null,
            "overflow_x": null,
            "overflow_y": null,
            "padding": null,
            "right": null,
            "top": null,
            "visibility": null,
            "width": null
          }
        },
        "ccd5dcd0de9e420fb646d1fe14c334ff": {
          "model_module": "@jupyter-widgets/controls",
          "model_name": "DescriptionStyleModel",
          "model_module_version": "1.5.0",
          "state": {
            "_model_module": "@jupyter-widgets/controls",
            "_model_module_version": "1.5.0",
            "_model_name": "DescriptionStyleModel",
            "_view_count": null,
            "_view_module": "@jupyter-widgets/base",
            "_view_module_version": "1.2.0",
            "_view_name": "StyleView",
            "description_width": ""
          }
        },
        "992ea044c37549368fe85d319717df51": {
          "model_module": "@jupyter-widgets/base",
          "model_name": "LayoutModel",
          "model_module_version": "1.2.0",
          "state": {
            "_model_module": "@jupyter-widgets/base",
            "_model_module_version": "1.2.0",
            "_model_name": "LayoutModel",
            "_view_count": null,
            "_view_module": "@jupyter-widgets/base",
            "_view_module_version": "1.2.0",
            "_view_name": "LayoutView",
            "align_content": null,
            "align_items": null,
            "align_self": null,
            "border": null,
            "bottom": null,
            "display": null,
            "flex": null,
            "flex_flow": null,
            "grid_area": null,
            "grid_auto_columns": null,
            "grid_auto_flow": null,
            "grid_auto_rows": null,
            "grid_column": null,
            "grid_gap": null,
            "grid_row": null,
            "grid_template_areas": null,
            "grid_template_columns": null,
            "grid_template_rows": null,
            "height": null,
            "justify_content": null,
            "justify_items": null,
            "left": null,
            "margin": null,
            "max_height": null,
            "max_width": null,
            "min_height": null,
            "min_width": null,
            "object_fit": null,
            "object_position": null,
            "order": null,
            "overflow": null,
            "overflow_x": null,
            "overflow_y": null,
            "padding": null,
            "right": null,
            "top": null,
            "visibility": null,
            "width": null
          }
        },
        "94360be2fe6647e39b132c63e9d68934": {
          "model_module": "@jupyter-widgets/controls",
          "model_name": "DescriptionStyleModel",
          "model_module_version": "1.5.0",
          "state": {
            "_model_module": "@jupyter-widgets/controls",
            "_model_module_version": "1.5.0",
            "_model_name": "DescriptionStyleModel",
            "_view_count": null,
            "_view_module": "@jupyter-widgets/base",
            "_view_module_version": "1.2.0",
            "_view_name": "StyleView",
            "description_width": ""
          }
        },
        "8bb245cbf5b8495b9f06d741fe21a05f": {
          "model_module": "@jupyter-widgets/controls",
          "model_name": "ButtonModel",
          "model_module_version": "1.5.0",
          "state": {
            "_dom_classes": [],
            "_model_module": "@jupyter-widgets/controls",
            "_model_module_version": "1.5.0",
            "_model_name": "ButtonModel",
            "_view_count": null,
            "_view_module": "@jupyter-widgets/controls",
            "_view_module_version": "1.5.0",
            "_view_name": "ButtonView",
            "button_style": "",
            "description": "Get scores",
            "disabled": false,
            "icon": "",
            "layout": "IPY_MODEL_59d6d3011ba142d5a8151adb431d9ccc",
            "style": "IPY_MODEL_2182a05061d5492f9a5d948e0b887023",
            "tooltip": ""
          }
        },
        "59d6d3011ba142d5a8151adb431d9ccc": {
          "model_module": "@jupyter-widgets/base",
          "model_name": "LayoutModel",
          "model_module_version": "1.2.0",
          "state": {
            "_model_module": "@jupyter-widgets/base",
            "_model_module_version": "1.2.0",
            "_model_name": "LayoutModel",
            "_view_count": null,
            "_view_module": "@jupyter-widgets/base",
            "_view_module_version": "1.2.0",
            "_view_name": "LayoutView",
            "align_content": null,
            "align_items": null,
            "align_self": null,
            "border": null,
            "bottom": null,
            "display": null,
            "flex": null,
            "flex_flow": null,
            "grid_area": null,
            "grid_auto_columns": null,
            "grid_auto_flow": null,
            "grid_auto_rows": null,
            "grid_column": null,
            "grid_gap": null,
            "grid_row": null,
            "grid_template_areas": null,
            "grid_template_columns": null,
            "grid_template_rows": null,
            "height": null,
            "justify_content": null,
            "justify_items": null,
            "left": null,
            "margin": null,
            "max_height": null,
            "max_width": null,
            "min_height": null,
            "min_width": null,
            "object_fit": null,
            "object_position": null,
            "order": null,
            "overflow": null,
            "overflow_x": null,
            "overflow_y": null,
            "padding": null,
            "right": null,
            "top": null,
            "visibility": null,
            "width": null
          }
        },
        "2182a05061d5492f9a5d948e0b887023": {
          "model_module": "@jupyter-widgets/controls",
          "model_name": "ButtonStyleModel",
          "model_module_version": "1.5.0",
          "state": {
            "_model_module": "@jupyter-widgets/controls",
            "_model_module_version": "1.5.0",
            "_model_name": "ButtonStyleModel",
            "_view_count": null,
            "_view_module": "@jupyter-widgets/base",
            "_view_module_version": "1.2.0",
            "_view_name": "StyleView",
            "button_color": null,
            "font_weight": ""
          }
        },
        "5d0fd996e7824238ac211316ef64fe08": {
          "model_module": "@jupyter-widgets/output",
          "model_name": "OutputModel",
          "model_module_version": "1.0.0",
          "state": {
            "_dom_classes": [],
            "_model_module": "@jupyter-widgets/output",
            "_model_module_version": "1.0.0",
            "_model_name": "OutputModel",
            "_view_count": null,
            "_view_module": "@jupyter-widgets/output",
            "_view_module_version": "1.0.0",
            "_view_name": "OutputView",
            "layout": "IPY_MODEL_177382b60f134ac4b51d462bf57345f9",
            "msg_id": "",
            "outputs": [
              {
                "output_type": "stream",
                "name": "stdout",
                "text": [
                  "['10/24/24, 6:07\\u202fPM - Messages and calls are end-to-end encrypted. No one outside of this chat, not even WhatsApp, can read or listen to them. Tap to learn more.', '10/24/24, 6:07\\u202fPM - Ben Hawkey created group \"Wordle League \"', '10/24/24, 6:07\\u202fPM - Ben Hawkey added you', '10/24/24, 6:07\\u202fPM - Stephen Jackson: This shit just got real', '10/24/24, 6:07\\u202fPM - Ben Hawkey: From now on we send our wordles to this chat', '10/24/24, 6:08\\u202fPM - Stephen Jackson: Can we start a leaderboard?', '10/24/24, 6:08\\u202fPM - Ben Hawkey: May the best man or Bal win', '10/24/24, 6:08\\u202fPM - Tomos: <Media omitted>', '10/24/24, 6:08\\u202fPM - Ben Hawkey: We’ve got until 2029 before wordle literally runs out of words', \"10/24/24, 6:10\\u202fPM - Ben Hawkey changed this group's icon\", '10/24/24, 6:10\\u202fPM - Ben Hawkey changed the group name from \"Wordle League \" to \"Wordle League\"', '10/24/24, 6:15\\u202fPM - Bal The Veen: The league starts tomorrow', '10/24/24, 6:15\\u202fPM - Tomos: <Media omitted>', '10/24/24, 6:19\\u202fPM - Stephen Jackson: Can we call it the league of extraordinary wordles?', '10/24/24, 6:19\\u202fPM - Ben Hawkey: The league', '10/24/24, 6:19\\u202fPM - Ben Hawkey: What a fantastic contribution', '10/24/24, 6:20\\u202fPM - Ben Hawkey changed the group name from \"Wordle League\" to \"The leeeeg of extraordinary wordles\"', '10/24/24, 6:20\\u202fPM - Ben Hawkey added ~\\u202fJack Higgins', '10/24/24, 6:21\\u202fPM - Ben Hawkey: My dad is also in the leeeeg so just wordle chat from here on out', '10/24/24, 6:23\\u202fPM - Ben Hawkey: Wordle 1,223 5/6', '', '⬛⬛⬛⬛🟨', '🟨⬛⬛⬛⬛', '⬛⬛🟨⬛⬛', '⬛🟩🟨⬛🟩', '🟩🟩🟩🟩🟩', '10/24/24, 6:23\\u202fPM - Bal The Veen: 😂😂😂', '10/24/24, 6:23\\u202fPM - Bal The Veen: Adorbz', '10/24/24, 6:23\\u202fPM - Tomos: Wordle 1,223 3/6', '', '⬛⬛⬛⬛⬛', '🟩🟩⬛🟩⬛', '🟩🟩🟩🟩🟩', '10/24/24, 6:23\\u202fPM - Bal The Veen: Can we start tomorrow', '10/24/24, 6:24\\u202fPM - Tomos: No. We start today', '10/24/24, 6:24\\u202fPM - Tomos: Would you like to share yours with the group, Balveen?', '10/24/24, 6:24\\u202fPM - Bal The Veen: Kinda feel a bit vulnerable about my wordle today', '10/24/24, 6:24\\u202fPM - Ben Hawkey: He’s only saying that coz he got it in three', '10/24/24, 6:24\\u202fPM - Bal The Veen: Yea thanks Ben', '10/24/24, 6:24\\u202fPM - Ben Hawkey: I think we do actually need to keep score here', '10/24/24, 6:25\\u202fPM - Ben Hawkey: This is 5 years of admin and I know a man who loves admin', '10/24/24, 6:26\\u202fPM - Bal The Veen: Wordle 1,223 6/6', '', '🟨🟩⬛⬛⬛', '⬛🟩⬛⬛⬛', '⬛🟩⬛⬛⬛', '⬛🟩⬛⬛🟩', '⬛🟩⬛⬛🟩', '🟩🟩🟩🟩🟩', '10/24/24, 6:26\\u202fPM - Bal The Veen: I forgot about the amber letter today', '10/24/24, 6:27\\u202fPM - Ben Hawkey: Bill coming in with a shocker', '10/24/24, 6:27\\u202fPM - Tomos: <Media omitted>', '10/24/24, 6:27\\u202fPM - Bal The Veen: Until the last attempt', '10/24/24, 6:27\\u202fPM - Ben Hawkey: Jeremy, hairy toes - let’s see your attempts', '10/24/24, 6:28\\u202fPM - +44 7889 643371: Hairy toes!!?', '10/24/24, 6:28\\u202fPM - Ben Hawkey: Steve has hairy toes dad', \"10/24/24, 6:28\\u202fPM - Stephen Jackson: That's me unfortunately\", '10/24/24, 6:29\\u202fPM - Bal The Veen: Hobbit', '10/24/24, 6:29\\u202fPM - +44 7889 643371: Wordle 1,223 3/6', '', '⬜⬜⬜⬜🟨', '⬜🟩⬜⬜⬜', '🟩🟩🟩🟩🟩', '10/24/24, 6:30\\u202fPM - Ben Hawkey: A valiant 3', '10/24/24, 6:30\\u202fPM - Ben Hawkey: Admin Tom I think we might need to incorporate the number of yellows into the scoring system', '10/24/24, 6:31\\u202fPM - Stephen Jackson: Wordle 1,223 5/6', '', '⬛⬛⬛⬛🟨', '🟨⬛🟨⬛⬛', '⬛🟩⬛⬛🟨', '⬛🟩⬛⬛🟨', '🟩🟩🟩🟩🟩', \"10/24/24, 6:31\\u202fPM - Bal The Veen: Ffs I can't be bottom of the league on day 1\", '10/24/24, 6:32\\u202fPM - Ben Hawkey: Wordle is as wordle does Bill', '10/24/24, 6:32\\u202fPM - Ben Hawkey: She’s a cruel mistress', '10/24/24, 8:11\\u202fPM - Tomos: AI has suggested the following...', '', 'Example Scoring System: ', '', 'Win: +10 points', 'Green Tile: +2 points ', 'Yellow Tile: +1 point', 'Gray Tile: -1 point ', 'Penalty for 4+ Attempts: -5 points', '10/24/24, 9:20\\u202fPM - Tomos: This message was deleted', \"10/24/24, 9:21\\u202fPM - Stephen Jackson: That looks like I'm gonna be getting a lot of negative scores 😂\", '10/24/24, 9:38\\u202fPM - Tomos: https://docs.google.com/spreadsheets/d/1y9Ew9XaqxuE3cI48Tb_mzusWw3ojqPCRqGvgKYqdI60/edit?usp=drivesdk', '10/24/24, 11:50\\u202fPM - Ben Hawkey added Sean Edwards', '10/24/24, 11:52\\u202fPM - Ben Hawkey: Sean has now entered the game - for the spreadsheet admin Tom', '10/25/24, 12:40\\u202fAM - +44 7889 643371: Wordle 1,224 4/6', '', '⬜⬜⬜⬜🟨', '🟨🟨⬜⬜🟨', '🟩🟩🟩🟨⬜', '🟩🟩🟩🟩🟩', '10/25/24, 12:49\\u202fAM - Bal The Veen: Wordle 1,224 5/6', '', '⬛🟨⬛🟨⬛', '⬛🟩🟩🟩🟩', '⬛🟩🟩🟩🟩', '⬛🟩🟩🟩🟩', '🟩🟩🟩🟩🟩', '10/25/24, 12:51\\u202fAM - Bal The Veen: This is sad ...so -5 pts', '10/25/24, 12:51\\u202fAM - Bal The Veen: Arh jesus wept', '10/25/24, 6:51\\u202fAM - Sean Edwards: Hi all!', 'Wordle 1,224 4/6', '', '🟨⬜⬜⬜🟨', '⬜🟩🟩🟩🟩', '⬜🟩🟩🟩🟩', '🟩🟩🟩🟩🟩', '10/25/24, 8:33\\u202fAM - Stephen Jackson: Wordle 1,224 5/6', '', '⬛🟨⬛🟨⬛', '⬛⬛🟩⬛⬛', '⬛🟩🟩⬛⬛', '⬛🟩🟩🟨⬛', '🟩🟩🟩🟩🟩', '10/25/24, 12:25\\u202fPM - Ben Hawkey: Wordle 1,224 6/6', '', '⬛🟩⬛🟨⬛', '⬛🟩⬛🟨🟩', '⬛🟩🟩🟩🟩', '⬛🟩🟩🟩🟩', '⬛🟩🟩🟩🟩', '🟩🟩🟩🟩🟩', '10/25/24, 12:25\\u202fPM - Ben Hawkey: Damn', '10/25/24, 12:41\\u202fPM - Tomos: Wordle 1,224 3/6', '', '⬛🟩⬛🟨⬛', '⬛🟩🟩⬛🟩', '🟩🟩🟩🟩🟩', '10/25/24, 12:41\\u202fPM - Bal The Veen: Pack it in', '10/25/24, 12:42\\u202fPM - Tomos: <Media omitted>', '10/26/24, 7:53\\u202fAM - Sean Edwards: Wordle 1,225 5/6', '', '🟨⬜⬜⬜⬜', '⬜🟨⬜⬜🟨', '⬜🟩🟩🟩⬜', '⬜🟩🟩🟩🟩', '🟩🟩🟩🟩🟩', '10/26/24, 8:36\\u202fAM - Bal The Veen: Wordle 1,225 4/6', '', '⬛⬛🟨🟨🟨', '⬛🟩🟩🟩⬛', '⬛🟩🟩🟩⬛', '🟩🟩🟩🟩🟩', '10/26/24, 9:44\\u202fAM - Tomos: 🥲', '', 'Wordle 1,225 6/6', '', '🟨🟩⬛⬛🟨', '⬛🟩🟩🟩⬛', '⬛🟩🟩🟩🟩', '⬛🟩🟩🟩🟩', '⬛🟩🟩🟩🟩', '🟩🟩🟩🟩🟩', '10/26/24, 10:11\\u202fAM - +44 7889 643371: Wordle 1,225 6/6', '', '🟨⬜⬜⬜⬜', '⬜⬜🟨⬜⬜', '⬜🟨🟨⬜⬜', '⬜⬜🟩🟩🟨', '⬜🟩🟩🟩🟩', '🟩🟩🟩🟩🟩', '10/26/24, 11:09\\u202fAM - Ben Hawkey: Wordle 1,225 6/6', '', '⬛🟩🟨⬛🟨', '⬛🟩🟩🟩⬛', '⬛🟩🟩🟩⬛', '⬛🟩🟩🟩🟩', '⬛🟩🟩🟩🟩', '🟩🟩🟩🟩🟩', '10/26/24, 11:09\\u202fAM - Ben Hawkey: Ughhh', '10/26/24, 11:14\\u202fAM - Stephen Jackson: Wordle 1,225 6/6', '', '🟨⬛⬛⬛⬛', '⬛⬛🟨⬛🟨', '⬛🟨🟨🟨🟨', '⬛🟩🟩🟩🟩', '⬛🟩🟩🟩🟩', '🟩🟩🟩🟩🟩', '10/26/24, 2:33\\u202fPM - Ben Hawkey pinned a message', '10/27/24, 7:26\\u202fAM - Stephen Jackson: Wordle 1,226 3/6', '', '🟨⬛🟨⬛⬛', '🟩⬛🟨🟩⬛', '🟩🟩🟩🟩🟩', '10/27/24, 7:39\\u202fAM - +44 7889 643371: Wordle 1,226 6/6', '', '🟨⬜🟨⬜⬜', '⬜🟩⬜⬜🟨', '⬜🟩⬜🟩🟩', '⬜🟩🟩🟩🟩', '⬜🟩🟩🟩🟩', '🟩🟩🟩🟩🟩', '10/27/24, 10:53\\u202fAM - Tomos: Wordle 1,226 3/6', '', '⬛⬛🟨🟨⬛', '🟩🟩⬛⬛🟨', '🟩🟩🟩🟩🟩', '10/27/24, 11:06\\u202fAM - Sean Edwards: Wordle 1,226 4/6', '', '⬜⬜🟨🟨⬜', '⬜🟩🟨⬜🟩', '⬜🟩🟩🟨🟩', '🟩🟩🟩🟩🟩', '10/27/24, 11:25\\u202fAM - Ben Hawkey: Wordle 1,226 4/6', '', '🟨⬛🟨⬛⬛', '🟨🟩⬛⬛🟩', '🟩🟩🟨⬛🟩', '🟩🟩🟩🟩🟩', '10/27/24, 11:30\\u202fAM - Bal The Veen: Wordle 1,226 2/6', '', '🟩⬛🟨⬛⬛', '🟩🟩🟩🟩🟩', '10/27/24, 11:30\\u202fAM - Bal The Veen: FUCK OFFFF', \"10/27/24, 11:30\\u202fAM - Bal The Veen: Bredrins!!!! I've done the impossible\", '10/28/24, 9:39\\u202fAM - +44 7889 643371: Wordle 1,227 3/6', '', '🟨⬜⬜⬜⬜', '🟩🟩⬜⬜⬜', '🟩🟩🟩🟩🟩', '10/28/24, 10:42\\u202fAM - Bal The Veen: Can I have a certificate for getting it in 2', '10/28/24, 10:43\\u202fAM - Bal The Veen: Also apologies for the profanity', '10/28/24, 12:12\\u202fPM - Ben Hawkey: Wordle 1,227 X/6', '', '🟨⬛🟨⬛⬛', '🟨🟩⬛⬛🟩', '⬛🟩⬛🟩🟩', '⬛🟩⬛🟩🟩', '⬛🟩⬛🟩🟩', '⬛🟩⬛🟩🟩', '10/28/24, 12:12\\u202fPM - Ben Hawkey: Oh gawd', '10/28/24, 12:12\\u202fPM - Ben Hawkey: Now that the profanity has been dealt with. Congratulations on the 2.', '10/28/24, 12:13\\u202fPM - Stephen Jackson: Wordle 1,227 3/6', '', '🟨⬛🟨⬛⬛', '⬛⬛🟨🟩⬛', '🟩🟩🟩🟩🟩', '10/28/24, 12:13\\u202fPM - Bal The Veen: 😂😂😂', '10/28/24, 12:13\\u202fPM - Bal The Veen: Sour', '10/28/24, 12:14\\u202fPM - Ben Hawkey changed the group description', '10/28/24, 12:44\\u202fPM - Bal The Veen: Ben!!! 😂😂😂😂', '10/28/24, 12:44\\u202fPM - Bal The Veen: Ok no fun', '10/28/24, 12:44\\u202fPM - Bal The Veen: 🤐', '10/28/24, 12:47\\u202fPM - Ben Hawkey changed the group description', '10/28/24, 1:46\\u202fPM - Bal The Veen: Wordle 1,227 5/6', '', '⬛⬛🟨⬛⬛', '⬛🟩⬛⬛⬛', '⬛🟩⬛⬛⬛', '⬛🟩⬛🟩🟩', '🟩🟩🟩🟩🟩', '10/28/24, 1:46\\u202fPM - Bal The Veen: Affirmative', '10/28/24, 1:47\\u202fPM - Bal The Veen: Professional wordle chat', '10/28/24, 2:50\\u202fPM - Tomos: Wordle 1,227 6/6', '', '🟨⬛⬛⬛⬛', '⬛⬛🟨⬛⬛', '⬛🟩⬛⬛⬛', '⬛🟩⬛🟩🟩', '🟩🟩⬛🟩🟩', '🟩🟩🟩🟩🟩', '10/29/24, 9:06\\u202fAM - +44 7889 643371: Wordle 1,228 2/6', '', '⬜🟩⬜🟩⬜', '🟩🟩🟩🟩🟩', '10/29/24, 9:08\\u202fAM - Bal The Veen: Omg!!!!', '10/29/24, 9:09\\u202fAM - Bal The Veen: Ok I think we need extra points for getting it in 2', '10/29/24, 9:09\\u202fAM - Sean Edwards: Wordle 1,228 4/6', '', '⬜⬜⬜⬜🟨', '🟩⬜🟨🟨⬜', '🟩🟩🟩⬜⬜', '🟩🟩🟩🟩🟩', '10/29/24, 10:03\\u202fAM - Stephen Jackson: Wordle 1,228 3/6', '', '⬛🟩⬛🟩⬛', '⬛🟩⬛🟩🟨', '🟩🟩🟩🟩🟩', '10/29/24, 10:05\\u202fAM - Ben Hawkey: Wordle 1,228 3/6*', '', '⬛🟩⬛🟩⬛', '⬛🟩⬛🟩🟩', '🟩🟩🟩🟩🟩', '10/29/24, 10:06\\u202fAM - Ben Hawkey: Nice!', '10/29/24, 10:43\\u202fAM - Bal The Veen: Wordle 1,228 4/6', '', '⬛⬛⬛⬛⬛', '⬛⬛🟨🟩🟨', '⬛🟩🟨🟩🟨', '🟩🟩🟩🟩🟩', '10/29/24, 6:03\\u202fPM - Tomos: Wordle 1,228 4/6', '', '⬛⬛🟨⬛⬛', '⬛🟨🟩⬛⬛', '🟩⬛🟩🟩🟩', '🟩🟩🟩🟩🟩', '10/29/24, 10:27\\u202fPM - Ben Hawkey: So dad and Steve are neck and neck', '10/29/24, 10:28\\u202fPM - Ben Hawkey: And I’m last', '10/29/24, 10:28\\u202fPM - Ben Hawkey: I can see how this is going to go….', '10/30/24, 7:40\\u202fAM - Stephen Jackson: Wordle 1,229 5/6', '', '🟨⬛⬛⬛⬛', '⬛🟨🟨🟨⬛', '🟨⬛🟨🟨🟨', '⬛🟩🟨🟩🟨', '🟩🟩🟩🟩🟩', \"10/30/24, 7:42\\u202fAM - Stephen Jackson: How does the table work then because you've got the most points haha\", '10/30/24, 8:12\\u202fAM - Ben Hawkey: You want the least points from what I understand', '10/30/24, 8:34\\u202fAM - Bal The Veen: Wordle 1,229 4/6', '', '🟨🟩⬛⬛⬛', '⬛🟩⬛⬛🟨', '🟨🟩🟩⬛⬛', '🟩🟩🟩🟩🟩', \"10/30/24, 8:34\\u202fAM - Bal The Veen: Wasn't your degree in words?\", '10/30/24, 8:36\\u202fAM - Ben Hawkey: Medieval literature doesn’t really translate to Wordle', '10/30/24, 9:08\\u202fAM - Tomos: Still a work in progress I think so open to suggestions....', '', '', 'Loss = 10 points ', 'Not Shared = 25', 'Green tiles = 2', 'Yellow tiles = 1', '1 attempt = -10', '2 attempts= -5', '3 attempts = 1', '4+ attempts= 5', '', 'Aim is to have the least points', \"10/30/24, 9:13\\u202fAM - Bal The Veen: You're just pooped you've not got it in 2 yet\", '10/30/24, 9:14\\u202fAM - Bal The Veen: Not shared meaning...?', '10/30/24, 9:14\\u202fAM - Bal The Veen: I think yellow tiles should be 2 and green 1', \"10/30/24, 9:16\\u202fAM - Tomos: Meaning an attempt hasn't been shared to this group a la Sean this Monday 👀\", '10/30/24, 9:19\\u202fAM - Ben Hawkey: I think no attempt = 12 points', '10/30/24, 9:19\\u202fAM - Bal The Veen: 25 points bit harsh no?', '10/30/24, 9:20\\u202fAM - Bal The Veen: Maybe no attempt and unshared 12 pts', '10/30/24, 9:23\\u202fAM - Sean Edwards: Woah I would’ve thought not shared is the same as a loss', '10/30/24, 9:23\\u202fAM - Sean Edwards: I am pained', '10/30/24, 9:23\\u202fAM - +44 7889 643371: Wordle 1,229 4/6', '', '🟨⬜⬜⬜⬜', '⬜⬜🟨⬜⬜', '🟨🟩⬜⬜⬜', '🟩🟩🟩🟩🟩', '10/30/24, 9:27\\u202fAM - Ben Hawkey: Wordle 1,229 5/6*', '', '⬛⬛🟨⬛🟨', '🟨⬛🟨⬛🟨', '⬛🟩🟩🟩⬛', '⬛🟩🟩🟩⬛', '🟩🟩🟩🟩🟩', '10/30/24, 5:24\\u202fPM - Tomos: Wordle 1,229 5/6', '', '⬛⬛🟨⬛🟨', '🟨🟩⬛🟩⬛', '⬛🟩🟨🟩⬛', '🟨🟩⬛🟩🟨', '🟩🟩🟩🟩🟩', '10/30/24, 9:53\\u202fPM - Sean Edwards: Wordle 1,229 6/6', '', '⬜⬜🟨⬜🟨', '⬜🟨🟨🟨⬜', '⬜🟩🟨🟩⬜', '🟨🟩⬜🟩🟨', '⬜🟩🟨🟩🟨', '🟩🟩🟩🟩🟩', '10/30/24, 10:12\\u202fPM - Ben Hawkey: Sean cutting it close', '10/31/24, 7:31\\u202fAM - Sean Edwards: Wordle 1,230 3/6', '', '⬜🟨⬜⬜🟨', '⬜🟨🟨🟨🟩', '🟩🟩🟩🟩🟩', '10/31/24, 8:22\\u202fAM - +44 7889 643371: Wordle 1,230 4/6', '', '⬜⬜🟨🟨⬜', '🟨🟨🟨⬜⬜', '⬜🟨🟩⬜🟩', '🟩🟩🟩🟩🟩', '10/31/24, 8:48\\u202fAM - Stephen Jackson: Wordle 1,230 4/6', '', '⬛⬛🟨🟨⬛', '⬛🟨🟨🟨🟨', '⬛🟨🟩🟨🟨', '🟩🟩🟩🟩🟩', '10/31/24, 9:59\\u202fAM - Ben Hawkey: Wordle 1,230 6/6', '', '⬛⬛🟨🟨⬛', '⬛⬛🟩🟨🟨', '🟨🟨🟩⬛⬛', '⬛🟨🟩🟨🟩', '⬛🟨🟩🟨🟩', '🟩🟩🟩🟩🟩', '10/31/24, 9:59\\u202fAM - Ben Hawkey: Oh dear', '10/31/24, 7:48\\u202fPM - Tomos: Wordle 1,230 3/6', '', '⬛🟨🟩⬛🟨', '🟨🟩🟩⬛⬛', '🟩🟩🟩🟩🟩', '10/31/24, 11:14\\u202fPM - Bal The Veen: Wordle 1,230 3/6', '', '⬛⬛⬛🟩🟨', '🟩⬛🟩🟩⬛', '🟩🟩🟩🟩🟩', '10/31/24, 11:24\\u202fPM - Ben Hawkey: What about a rule where you have to use yesterday’s answer as your starting word the next?', '11/1/24, 7:04\\u202fAM - Sean Edwards: Wordle 1,231 4/6', '', '⬜⬜⬜⬜🟨', '🟩🟨⬜⬜⬜', '🟩🟩🟨⬜🟩', '🟩🟩🟩🟩🟩', '11/1/24, 7:04\\u202fAM - Sean Edwards: No rulez? 👀', '11/1/24, 7:22\\u202fAM - Stephen Jackson: Wordle 1,231 4/6', '', '🟩⬛⬛⬛⬛', '🟩🟩🟨⬛⬛', '🟩🟩⬛🟩⬛', '🟩🟩🟩🟩🟩', \"11/1/24, 7:22\\u202fAM - Stephen Jackson: I've tried that before but I can never remember what yesterdays word was\", '11/1/24, 8:41\\u202fAM - +44 7889 643371: Wordle 1,231 X/6', '', '⬜⬜⬜🟨⬜', '🟨🟨⬜🟨⬜', '⬜🟩⬜🟩🟩', '⬜🟩⬜🟩🟩', '⬜🟩⬜🟩🟩', '🟩⬜🟨🟩🟩', '11/1/24, 10:14\\u202fAM - Ben Hawkey: You’re right, I’ve completely forgotten yesterdays word', '11/1/24, 10:16\\u202fAM - Ben Hawkey: Wordle 1,231 3/6', '', '⬛⬛⬛⬛⬛', '🟨🟨🟨⬛⬛', '🟩🟩🟩🟩🟩', \"11/1/24, 11:13\\u202fAM - +44 7889 643371: Can anyone remember yesterday's word......\", \"11/1/24, 11:38\\u202fAM - Tomos: Can't remember either... weird... 🤔\", '11/1/24, 11:51\\u202fAM - Bal The Veen: IT WAS WEIRD', '11/1/24, 12:48\\u202fPM - Ben Hawkey: You sneaky boy', '11/1/24, 5:23\\u202fPM - Bal The Veen: Wordle 1,231 4/6', '', '🟩⬛⬛⬛⬛', '🟩⬛⬛⬛⬛', '🟩🟩⬛🟨🟨', '🟩🟩🟩🟩🟩', '11/1/24, 10:52\\u202fPM - Tomos: Wordle 1,231 4/6', '', '⬛⬛⬛⬛⬛', '⬛⬛⬛🟩🟨', '⬛🟩🟨🟩⬛', '🟩🟩🟩🟩🟩', '11/2/24, 7:46\\u202fAM - Sean Edwards: Wordle 1,232 5/6', '', '🟨⬜⬜⬜⬜', '⬜🟨⬜⬜⬜', '🟩🟨🟩🟩⬜', '🟩⬜🟩🟩🟩', '🟩🟩🟩🟩🟩', '11/2/24, 9:03\\u202fAM - +44 7889 643371: Wordle 1,232 5/6', '', '⬜⬜⬜⬜🟨', '🟩🟨🟩⬜⬜', '🟩⬜🟩🟩🟩', '🟩⬜🟩🟩🟩', '🟩🟩🟩🟩🟩', '11/2/24, 9:46\\u202fAM - Tomos: Wordle 1,232 5/6', '', '⬛⬛⬛🟨⬛', '🟩⬛⬛⬛⬛', '🟩🟨🟩🟩⬛', '🟩⬛🟩🟩🟩', '🟩🟩🟩🟩🟩', '11/2/24, 11:10\\u202fAM - Stephen Jackson: Wordle 1,232 5/6', '', '⬛⬛⬛⬛🟨', '🟩⬛🟩⬛⬛', '🟩⬛🟩⬛⬛', '🟩🟨🟩🟩🟨', '🟩🟩🟩🟩🟩', '11/2/24, 6:27\\u202fPM - Ben Hawkey: Wordle 1,232 5/6', '', '🟨🟨⬛⬛⬛', '🟨🟨⬛⬛🟨', '🟩🟨🟩⬛⬛', '🟩⬛🟩🟨⬛', '🟩🟩🟩🟩🟩', '11/2/24, 8:28\\u202fPM - Bal The Veen: Wordle 1,232 6/6', '', '🟩🟨⬛⬛⬛', '🟩⬛🟩⬛⬛', '🟩🟨🟩⬛⬛', '🟩🟨🟩🟩⬛', '🟩⬛🟩🟩🟩', '🟩🟩🟩🟩🟩', '11/3/24, 12:30\\u202fAM - Sean Edwards: Wordle 1,233 X/6', '', '⬜⬜⬜⬜🟩', '⬜⬜⬜⬜🟩', '⬜🟩🟩⬜🟩', '⬜🟩🟩⬜🟩', '⬜🟩🟩⬜🟩', '⬜🟩🟩⬜🟩', '11/3/24, 8:41\\u202fAM - Stephen Jackson: Wordle 1,233 4/6', '', '🟨⬛⬛⬛⬛', '⬛⬛🟨🟨⬛', '🟩🟩🟩⬛🟩', '🟩🟩🟩🟩🟩', '11/3/24, 9:22\\u202fAM - Ben Hawkey: Wordle 1,233 5/6', '', '⬛⬛🟩⬛🟩', '⬛🟩🟩⬛🟩', '⬛🟩🟩⬛🟩', '🟩🟩🟩⬛🟩', '🟩🟩🟩🟩🟩', '11/3/24, 9:32\\u202fAM - Tomos: Wordle 1,233 4/6', '', '⬛🟨⬛🟨⬛', '⬛🟩🟨🟨⬛', '⬛🟩🟩🟩🟩', '🟩🟩🟩🟩🟩', '11/3/24, 9:38\\u202fAM - +44 7889 643371: Wordle 1,233 5/6', '', '🟨⬜⬜⬜⬜', '⬜⬜🟨🟨⬜', '⬜⬜🟩⬜🟩', '🟩🟩🟩⬜🟩', '🟩🟩🟩🟩🟩', '11/3/24, 9:40\\u202fPM - Bal The Veen: Wordle 1,233 4/6', '', '⬛⬛🟩⬛🟩', '⬛🟩🟩⬛🟩', '🟩🟩🟩⬛🟩', '🟩🟩🟩🟩🟩', '11/4/24, 6:55\\u202fAM - Tomos: Wordle 1,234 4/6', '', '⬛⬛🟨⬛⬛', '⬛🟩🟨⬛⬛', '🟨🟩🟩⬛⬛', '🟩🟩🟩🟩🟩', '11/4/24, 9:08\\u202fAM - +44 7889 643371: Wordle 1,234 4/6', '', '⬜⬜⬜🟨⬜', '⬜🟨🟨🟨⬜', '🟨🟩🟩⬜⬜', '🟩🟩🟩🟩🟩', '11/4/24, 10:47\\u202fAM - Stephen Jackson: Wordle 1,234 4/6', '', '⬛⬛⬛🟨⬛', '⬛⬛🟨🟨⬛', '🟨🟩🟩⬛⬛', '🟩🟩🟩🟩🟩', '11/4/24, 1:17\\u202fPM - Ben Hawkey: Wordle 1,234 6/6', '', '⬛⬛⬛⬛⬛', '⬛⬛🟨⬛⬛', '⬛🟨🟨⬛⬛', '🟨🟩🟨⬛⬛', '⬛🟩🟨⬛🟨', '🟩🟩🟩🟩🟩', '11/4/24, 1:24\\u202fPM - Bal The Veen: Wordle 1,234 4/6', '', '⬛⬛⬛🟨⬛', '⬛🟨🟨🟨⬛', '🟨🟩🟩⬛⬛', '🟩🟩🟩🟩🟩', '11/5/24, 8:18\\u202fAM - +44 7889 643371: Wordle 1,235 4/6', '', '⬜⬜⬜⬜🟨', '🟨⬜🟨⬜⬜', '⬜🟩🟨⬜🟨', '🟩🟩🟩🟩🟩', '11/5/24, 9:18\\u202fAM - Tomos: Wordle 1,235 6/6', '', '⬛⬛⬛⬛🟨', '⬛⬛⬛🟩⬛', '⬛🟨⬛🟩⬛', '🟩🟨⬛🟩⬛', '🟩⬛🟩🟩⬛', '🟩🟩🟩🟩🟩', '11/5/24, 11:12\\u202fAM - Stephen Jackson: Wordle 1,235 4/6', '', '⬛⬛⬛⬛🟨', '⬛⬛🟨⬛🟨', '🟨🟨⬛🟩⬛', '🟩🟩🟩🟩🟩', '11/5/24, 6:01\\u202fPM - Ben Hawkey: Wordle 1,235 4/6', '', '⬛⬛⬛⬛🟨', '🟩⬛🟨⬛⬛', '🟩🟨⬛🟩⬛', '🟩🟩🟩🟩🟩', '11/5/24, 6:02\\u202fPM - Ben Hawkey: Bill and Sean, get it in', '11/5/24, 8:11\\u202fPM - Sean Edwards: Wordle 1,235 3/6', '', '⬜🟨⬜⬜🟨', '🟩⬜⬜🟩⬜', '🟩🟩🟩🟩🟩', '11/5/24, 8:39\\u202fPM - Bal The Veen: Wordle 1,235 4/6', '', '⬛⬛⬛⬛🟩', '⬛⬛🟨⬛🟩', '🟨🟨⬛⬛🟩', '🟩🟩🟩🟩🟩', '11/5/24, 8:39\\u202fPM - Bal The Veen: That was a shit one', '11/5/24, 8:39\\u202fPM - Bal The Veen: Unfair', '11/5/24, 8:40\\u202fPM - +44 7889 643371: Agreed))', '11/5/24, 8:42\\u202fPM - +44 7889 643371: But you did it in 4', '11/5/24, 8:47\\u202fPM - Bal The Veen: I felt sorry for Tommy 🥹', \"11/5/24, 8:49\\u202fPM - Bal The Veen: And I spent half looking at the fourth attempt rearranging o c over and over again 🥲 wouldn't make any sense\", '11/5/24, 8:50\\u202fPM - +44 7889 643371: but you got it)', '11/5/24, 9:00\\u202fPM - Bal The Veen: I did ❤️', '11/6/24, 7:56\\u202fAM - Stephen Jackson: Wordle 1,236 5/6', '', '⬛🟨⬛⬛⬛', '⬛🟨🟩⬛⬛', '🟩🟩🟩⬛⬛', '🟩🟩🟩⬛⬛', '🟩🟩🟩🟩🟩', '11/6/24, 8:07\\u202fAM - Bal The Veen: Wordle 1,236 6/6', '', '⬛⬛⬛🟨⬛', '⬛🟩🟩⬛🟨', '🟩🟩🟩⬛⬛', '🟩🟩🟩⬛⬛', '🟩🟩🟩⬛⬛', '🟩🟩🟩🟩🟩', '11/6/24, 8:49\\u202fAM - Ben Hawkey: Wordle 1,236 6/6', '', '⬛🟨⬛⬛⬛', '⬛🟨🟩⬛⬛', '⬛⬛🟩🟨🟨', '🟨🟨🟨⬛⬛', '⬛🟨🟨🟩🟩', '🟩🟩🟩🟩🟩', '11/6/24, 8:49\\u202fAM - Ben Hawkey: What a mess', '11/6/24, 8:51\\u202fAM - Tomos: Oh dear, not looking forward to this one 🥲', '11/6/24, 8:52\\u202fAM - +44 7889 643371: Wordle 1,236 4/6', '', '⬜🟨⬜⬜⬜', '🟨⬜⬜🟩⬜', '⬜🟨⬜🟩🟩', '🟩🟩🟩🟩🟩', '11/6/24, 9:20\\u202fAM - Sean Edwards: Wordle 1,236 3/6', '', '⬜⬜🟩⬜⬜', '⬜⬜🟩🟩🟨', '🟩🟩🟩🟩🟩', '11/6/24, 9:25\\u202fAM - Tomos: Wordle 1,236 5/6', '', '⬛🟩⬛⬛⬛', '⬛🟩⬛⬛⬛', '⬛🟩🟩⬛🟨', '🟩🟩🟩⬛⬛', '🟩🟩🟩🟩🟩', '11/6/24, 10:03\\u202fAM - Bal The Veen: Have we all done it', '11/6/24, 10:04\\u202fAM - Bal The Veen: Yea', '11/6/24, 10:04\\u202fAM - Bal The Veen: So who thought the word was going to be Trump?', '11/6/24, 10:05\\u202fAM - Tomos: That was my fourth guess 😅', '11/6/24, 10:09\\u202fAM - Bal The Veen: <Media omitted>', \"11/6/24, 10:09\\u202fAM - Bal The Veen: I thought here we go, he's paid Wordle\", '11/7/24, 8:11\\u202fAM - +44 7889 643371: Wordle 1,237 4/6', '', '⬜⬜⬜⬜⬜', '⬜⬜🟩⬜⬜', '⬜⬜🟩🟨🟩', '🟩🟩🟩🟩🟩', '11/7/24, 10:24\\u202fAM - Tomos: Wordle 1,237 6/6', '', '⬛⬛⬛⬛🟨', '⬛⬛⬛🟨⬛', '⬛🟨🟨⬛⬛', '⬛⬛🟨⬛🟨', '⬛⬛🟩🟨🟩', '🟩🟩🟩🟩🟩', '11/7/24, 10:37\\u202fAM - Bal The Veen: Can this not be a Wordle and US politics chat?', '11/7/24, 11:19\\u202fAM - Stephen Jackson: Wordle 1,237 3/6', '', '⬛⬛⬛⬛⬛', '⬛⬛🟩🟩🟩', '🟩🟩🟩🟩🟩', '11/7/24, 1:22\\u202fPM - Ben Hawkey: Wordle 1,237 5/6', '', '⬛⬛⬛🟩🟨', '🟨⬛🟩🟩⬛', '⬛⬛🟩🟩🟩', '⬛⬛🟩🟩🟩', '🟩🟩🟩🟩🟩', '11/7/24, 4:32\\u202fPM - Sean Edwards: Wordle 1,237 4/6', '', '⬜⬜⬜⬜🟨', '🟩⬜🟨⬜⬜', '🟩⬜⬜🟨🟨', '🟩🟩🟩🟩🟩', '11/7/24, 10:18\\u202fPM - Bal The Veen: Wordle 1,237 4/6', '', '⬛⬛⬛⬛🟩', '⬛⬛⬛🟩🟩', '⬛⬛🟩🟩🟩', '🟩🟩🟩🟩🟩', '11/8/24, 6:53\\u202fAM - Sean Edwards: Wordle 1,238 6/6', '', '⬜⬜⬜⬜🟨', '🟨⬜⬜🟨🟨', '⬜🟨🟨🟨⬜', '⬜🟨🟨🟨⬜', '🟩🟩🟩⬜⬜', '🟩🟩🟩🟩🟩', '11/8/24, 8:32\\u202fAM - +44 7889 643371: Wordle 1,238 3/6', '', '🟨⬜🟨⬜⬜', '🟨🟨⬜⬜🟨', '🟩🟩🟩🟩🟩', '11/8/24, 8:50\\u202fAM - Ben Hawkey: Wordle 1,238 4/6', '', '🟨⬛🟨⬛⬛', '🟨🟨⬛⬛⬛', '⬛🟨🟩⬛🟨', '🟩🟩🟩🟩🟩', '11/8/24, 9:05\\u202fAM - Tomos: Wordle 1,238 3/6', '', '🟨🟨⬛⬛🟨', '🟩🟨⬛🟨🟨', '🟩🟩🟩🟩🟩', '11/8/24, 10:34\\u202fAM - Stephen Jackson: Wordle 1,238 4/6', '', '🟨⬛🟨⬛⬛', '⬛⬛🟩🟩🟨', '⬛🟩🟩🟩🟩', '🟩🟩🟩🟩🟩', '11/8/24, 11:45\\u202fPM - Bal The Veen: Wordle 1,238 3/6', '', '⬛🟨⬛⬛⬛', '🟩🟩⬛🟨⬛', '🟩🟩🟩🟩🟩', '11/9/24, 9:18\\u202fAM - Stephen Jackson: Wordle 1,239 5/6', '', '⬛⬛⬛⬛⬛', '🟩⬛🟩⬛⬛', '🟩⬛🟩⬛⬛', '🟩⬛🟩🟩🟩', '🟩🟩🟩🟩🟩', '11/9/24, 9:22\\u202fAM - Tomos: Wordle 1,239 4/6', '', '⬛⬛⬛⬛🟨', '🟩⬛🟩🟩⬛', '🟩⬛🟩🟩🟩', '🟩🟩🟩🟩🟩', '11/9/24, 9:23\\u202fAM - +44 7889 643371: Wordle 1,239 4/6', '', '⬜⬜⬜⬜⬜', '⬜⬜🟩🟨⬜', '⬜⬜🟩⬜🟨', '🟩🟩🟩🟩🟩', '11/9/24, 11:44\\u202fPM - Ben Hawkey: Wordle 1,239 5/6', '', '⬛⬛🟩⬛⬛', '⬛⬛🟩⬛⬛', '⬛⬛⬛⬛⬛', '🟩⬛🟩⬛⬛', '🟩🟩🟩🟩🟩', '11/9/24, 11:44\\u202fPM - Ben Hawkey: Jheeeze that was close', '11/9/24, 11:45\\u202fPM - Ben Hawkey: Bill and Sean looking at some hefty point reductions', '11/9/24, 11:46\\u202fPM - Bal The Veen: Shit', '11/9/24, 11:51\\u202fPM - Bal The Veen: Wordle 1,239 4/6', '', '🟩⬛⬛⬛🟨', '🟩⬛🟩⬛⬛', '🟩⬛🟩⬛⬛', '🟩🟩🟩🟩🟩', '11/9/24, 11:51\\u202fPM - Bal The Veen: That was close', '11/9/24, 11:51\\u202fPM - Ben Hawkey: With 9 mins to spare', '11/9/24, 11:51\\u202fPM - Bal The Veen: Tbf I have been hustling', '11/9/24, 11:51\\u202fPM - Bal The Veen: Still made time', '11/9/24, 11:51\\u202fPM - Ben Hawkey: Business is it Bal?', '11/9/24, 11:51\\u202fPM - Bal The Veen: Biznis', '11/9/24, 11:51\\u202fPM - Bal The Veen: Ice ice baby', '11/9/24, 11:51\\u202fPM - Ben Hawkey: Such a loser', \"11/9/24, 11:52\\u202fPM - Bal The Veen: You're just jealous\", '11/9/24, 11:52\\u202fPM - Bal The Veen: Should empower mates', '11/9/24, 11:52\\u202fPM - Bal The Veen: Family *', '11/10/24, 8:36\\u202fAM - Sean Edwards: Wordle 1,239 6/6', '', '⬜⬜⬜⬜🟨', '🟨⬜⬜⬜⬜', '⬜🟨🟩🟨⬜', '🟩⬜🟩🟩🟩', '🟩⬜🟩🟩🟩', '🟩🟩🟩🟩🟩', '11/10/24, 8:38\\u202fAM - Sean Edwards: I got it in well on time! Or are you criticising my score 👀 I can only try my best', '11/10/24, 8:40\\u202fAM - Sean Edwards: Wordle 1,240 5/6', '', '⬜⬜⬜⬜🟨', '🟨⬜⬜🟨⬜', '⬜🟨🟨🟩⬜', '⬜🟨⬜🟩🟩', '🟩🟩🟩🟩🟩', '11/10/24, 9:04\\u202fAM - Bal The Veen: Wordle 1,240 5/6', '', '⬛🟨⬛🟨⬛', '⬛⬛🟨🟨⬛', '🟨🟨⬛🟩🟨', '🟩🟩⬛🟩🟩', '🟩🟩🟩🟩🟩', '11/10/24, 9:10\\u202fAM - +44 7889 643371: Wordle 1,240 5/6', '', '⬜⬜⬜🟨⬜', '⬜⬜🟨⬜⬜', '🟩🟩⬜🟩🟩', '🟩🟩⬜🟩🟩', '🟩🟩🟩🟩🟩', '11/10/24, 9:10\\u202fAM - Stephen Jackson: Wordle 1,240 4/6', '', '⬛⬛⬛🟨⬛', '⬛⬛🟨⬛🟨', '⬛🟨🟩🟩🟩', '🟩🟩🟩🟩🟩', '11/10/24, 9:19\\u202fAM - Bal The Veen: How', \"11/10/24, 9:24\\u202fAM - Stephen Jackson: I've got wordle running through my veins bal\", '11/10/24, 9:27\\u202fAM - Bal The Veen: Poo', \"11/10/24, 9:27\\u202fAM - Bal The Veen: I'll tell Santa no presents for you\", '11/10/24, 9:34\\u202fAM - Tomos: Wordle 1,240 6/6', '', '⬛🟨🟨⬛🟨', '🟨🟨⬛🟩⬛', '🟩🟩⬛🟩🟩', '🟩🟩⬛🟩🟩', '🟩🟩⬛🟩🟩', '🟩🟩🟩🟩🟩', '11/10/24, 3:42\\u202fPM - Ben Hawkey: Wordle 1,240 6/6', '', '⬛⬛⬛🟨⬛', '⬛🟨⬛⬛⬛', '⬛⬛🟨🟨⬛', '🟩🟩⬛🟩🟩', '🟩🟩⬛🟩🟩', '🟩🟩🟩🟩🟩', '11/10/24, 3:42\\u202fPM - Ben Hawkey: Damn', '11/11/24, 7:09\\u202fAM - Tomos: Wordle 1,241 4/6', '', '🟨⬛⬛⬛⬛', '🟩🟨🟩⬛⬛', '🟩⬛🟩🟨⬛', '🟩🟩🟩🟩🟩', '11/11/24, 7:47\\u202fAM - Ben Hawkey: Wordle 1,241 4/6', '', '🟨⬛⬛⬛⬛', '⬛⬛🟩🟨⬛', '🟩🟨🟩🟨⬛', '🟩🟩🟩🟩🟩', '11/11/24, 8:20\\u202fAM - Stephen Jackson: Wordle 1,241 3/6', '', '⬛⬛⬛🟩🟨', '🟩⬛🟩🟩⬛', '🟩🟩🟩🟩🟩', '11/11/24, 9:36\\u202fAM - +44 7889 643371: Wordle 1,241 3/6', '', '⬜⬜⬜🟩🟨', '🟩⬜🟩🟩⬜', '🟩🟩🟩🟩🟩', '11/11/24, 10:49\\u202fAM - Bal The Veen: Wordle 1,241 4/6', '', '🟩🟨⬛⬛⬛', '🟩⬛🟩⬛🟨', '🟩🟩🟩🟨⬛', '🟩🟩🟩🟩🟩', '11/12/24, 9:35\\u202fAM - +44 7889 643371: Wordle 1,242 4/6', '', '⬜⬜⬜⬜🟨', '⬜⬜🟩⬜⬜', '⬜⬜🟩🟨⬜', '🟩🟩🟩🟩🟩', '11/12/24, 10:51\\u202fAM - Ben Hawkey: Wordle 1,242 5/6', '', '🟨⬛⬛⬛⬛', '⬛⬛🟩⬛⬛', '🟨⬛🟩🟨⬛', '⬛🟩🟩🟩🟩', '🟩🟩🟩🟩🟩', '11/12/24, 10:53\\u202fAM - Stephen Jackson: Wordle 1,242 5/6', '', '⬛⬛⬛⬛🟨', '⬛⬛🟩⬛⬛', '⬛🟩🟩🟩🟩', '⬛🟩🟩🟩🟩', '🟩🟩🟩🟩🟩', '11/12/24, 11:00\\u202fAM - Bal The Veen: Wordle 1,242 5/6', '', '⬛🟨⬛⬛⬛', '⬛🟩⬛⬛🟨', '🟩🟩🟩⬛⬛', '🟩🟩🟩⬛⬛', '🟩🟩🟩🟩🟩', '11/12/24, 4:57\\u202fPM - Sean Edwards: Wordle 1,242 4/6', '', '⬜⬜⬜⬜⬜', '🟩🟩🟩⬜⬜', '🟩🟩🟩⬜⬜', '🟩🟩🟩🟩🟩', '11/12/24, 9:51\\u202fPM - Tomos: Wordle 1,242 2/6', '', '⬛⬛⬛⬛🟩', '🟩🟩🟩🟩🟩', '11/12/24, 10:23\\u202fPM - Bal The Veen: Mate wow 🫡', '11/13/24, 9:42\\u202fAM - +44 7889 643371: Wordle 1,243 5/6', '', '⬜⬜⬜🟨⬜', '⬜⬜🟩⬜⬜', '⬜🟩🟩🟩⬜', '⬜🟩🟩🟩🟩', '🟩🟩🟩🟩🟩', '11/13/24, 10:00\\u202fAM - Stephen Jackson: Wordle 1,243 X/6', '', '⬛⬛⬛🟨⬛', '⬛🟨🟩⬛⬛', '🟩🟩🟩⬛⬛', '🟩🟩🟩⬛⬛', '🟩🟩🟩⬛⬛', '🟩🟩🟩⬛⬛', '11/13/24, 10:00\\u202fAM - Stephen Jackson: Brilliant', '11/13/24, 10:00\\u202fAM - Ben Hawkey: Wordle 1,243 X/6', '', '⬛🟨⬛🟨⬛', '🟩🟩🟩⬛⬛', '🟩🟩🟩⬛⬛', '🟩🟩🟩⬛⬛', '🟩🟩🟩⬛⬛', '🟩🟩🟩⬛⬛', '11/13/24, 10:01\\u202fAM - Ben Hawkey: For god sake', '11/13/24, 10:05\\u202fAM - Tomos: Wordle 1,243 6/6', '', '⬛🟩🟩⬛⬛', '⬛🟩🟩⬛⬛', '🟩🟩🟩⬛⬛', '🟩🟩🟩⬛⬛', '🟩🟩🟩⬛⬛', '🟩🟩🟩🟩🟩', '11/13/24, 10:08\\u202fAM - Sean Edwards: Wordle 1,243 5/6', '', '⬜🟩⬜⬜⬜', '🟩🟩⬜⬜⬜', '🟩🟩🟩⬜⬜', '🟩🟩🟩⬜⬜', '🟩🟩🟩🟩🟩', '11/13/24, 11:24\\u202fPM - Bal The Veen: AHH shit shit', '11/13/24, 11:26\\u202fPM - Bal The Veen: Wordle 1,243 5/6', '', '⬛⬛⬛🟨⬛', '⬛🟩⬛🟨⬛', '⬛🟩🟩⬛⬛', '🟩🟩🟩⬛⬛', '🟩🟩🟩🟩🟩', '11/13/24, 11:27\\u202fPM - Bal The Veen: Prick was my guess what other words even are there 🫠 starting with pri', \"11/13/24, 11:27\\u202fPM - Bal The Veen: Don't even know what primp is\", '11/13/24, 11:28\\u202fPM - Bal The Veen: Weird wordle HQ', '11/14/24, 11:29\\u202fAM - +44 7889 643371: Wordle 1,244 6/6', '', '🟨🟨⬜⬜⬜', '🟨🟨🟩⬜⬜', '⬜⬜🟩🟨🟨', '⬜⬜🟩🟩⬜', '⬜⬜🟩🟩🟩', '🟩🟩🟩🟩🟩', '11/14/24, 11:39\\u202fAM - Ben Hawkey: First one down', '11/14/24, 11:39\\u202fAM - Ben Hawkey: Today is hard', \"11/14/24, 11:41\\u202fAM - +44 7889 643371: It's not a word i am familiar with but i am aware of it\", \"11/14/24, 11:42\\u202fAM - +44 7889 643371: I'd better not give you clues. Probably against the rules of the team)\", '11/14/24, 11:59\\u202fAM - Stephen Jackson: Wordle 1,244 5/6', '', '🟨🟨⬛⬛⬛', '⬛🟨⬛🟨⬛', '⬛🟨⬛🟨🟨', '🟩⬛🟨⬛⬛', '🟩🟩🟩🟩🟩', '11/14/24, 5:19\\u202fPM - Sean Edwards: Wordle 1,244 6/6', '', '⬜⬜🟩⬜⬜', '⬜🟨🟩⬜⬜', '⬜⬜🟩🟩⬜', '⬜🟨🟩🟩⬜', '🟨⬜⬜⬜⬜', '🟩🟩🟩🟩🟩', '11/14/24, 5:20\\u202fPM - Sean Edwards: That’s a cruel word 😂', '11/14/24, 5:20\\u202fPM - Bal The Veen: Should I even bother', '11/14/24, 5:21\\u202fPM - Ben Hawkey: I think a fail is better than a no effort points wise', '11/14/24, 6:20\\u202fPM - Bal The Veen: Inspired', '11/14/24, 7:10\\u202fPM - Tomos: Wordle 1,244 X/6', '', '⬛⬛⬛⬛⬛', '⬛🟨🟨⬛⬛', '🟨🟨⬛⬛⬛', '⬛⬛🟩🟩⬛', '⬛🟨🟩🟩⬛', '⬛🟨🟩🟩⬛', '11/14/24, 7:49\\u202fPM - Bal The Veen: Wordle 1,244 6/6', '', '⬛⬛🟩⬛⬛', '⬛🟨🟩⬛⬛', '⬛⬛🟩🟩⬛', '⬛🟨🟩🟩⬛', '🟨🟨🟨🟨⬛', '🟩🟩🟩🟩🟩', '11/14/24, 7:49\\u202fPM - Bal The Veen: Jesus wept', '11/14/24, 7:50\\u202fPM - Bal The Veen: @447527688123  I thought it was going to be another GAMUT', '11/14/24, 8:16\\u202fPM - Stephen Jackson: Bloody gamut, wordle HQ needs to pull their socks up and give us some easy words back', '11/14/24, 8:16\\u202fPM - Stephen Jackson: Tomorrow better be audio', '11/14/24, 8:23\\u202fPM - Bal The Veen: Wonder if they repeat words', '11/14/24, 8:26\\u202fPM - Bal The Veen: Wordle hq is one woman!!?', '11/14/24, 8:27\\u202fPM - Bal The Veen: A Tracy Bennett picks the wordle word', '11/14/24, 9:26\\u202fPM - Ben Hawkey: Wordle 1,244 X/6', '', '🟨🟨⬛⬛⬛', '⬛🟨🟩🟩⬛', '⬛🟨🟩🟩⬛', '⬛⬛🟨⬛⬛', '⬛🟨⬛🟩🟩', '⬛🟨⬛⬛⬛', '11/14/24, 9:26\\u202fPM - Ben Hawkey: My last word was huffs', '11/14/24, 9:28\\u202fPM - Tomos: Close', '11/14/24, 9:29\\u202fPM - Ben Hawkey: Anybody got an asos student discount still?', '11/14/24, 9:29\\u202fPM - Ben Hawkey: i.e @447450449899', '11/14/24, 9:40\\u202fPM - Bal The Veen: Yea', '11/14/24, 9:40\\u202fPM - Bal The Veen: Need more gilets?', '11/14/24, 9:41\\u202fPM - Ben Hawkey: Awwww shit it’s too late', '11/14/24, 9:56\\u202fPM - Bal The Veen: Why', '11/14/24, 10:02\\u202fPM - Ben Hawkey: I ordered the thing', '11/14/24, 10:04\\u202fPM - Bal The Veen: Not sketchy sounding at all', '11/15/24, 6:44\\u202fAM - Stephen Jackson: Wordle 1,245 4/6', '', '🟨⬛⬛⬛⬛', '⬛🟨🟨⬛⬛', '⬛🟩⬛🟨🟩', '🟩🟩🟩🟩🟩', '11/15/24, 7:00\\u202fAM - Sean Edwards: Wordle 1,245 5/6', '', '⬜⬜🟨⬜🟨', '🟩🟩⬜⬜⬜', '🟩🟩⬜⬜⬜', '🟩🟩⬜⬜🟩', '🟩🟩🟩🟩🟩', '11/15/24, 8:38\\u202fAM - +44 7889 643371: Wordle 1,245 3/6', '', '🟨⬜⬜⬜⬜', '🟨🟩🟨⬜⬜', '🟩🟩🟩🟩🟩', '11/15/24, 11:06\\u202fAM - Tomos: Wordle 1,245 3/6', '', '🟨⬛🟨⬛⬛', '⬛🟩🟩🟩⬛', '🟩🟩🟩🟩🟩', '11/15/24, 12:30\\u202fPM - Bal The Veen: Wordle 1,245 3/6', '', '⬛⬛🟨⬛⬛', '🟨🟩🟨⬛⬛', '🟩🟩🟩🟩🟩', '11/15/24, 12:31\\u202fPM - Ben Hawkey: Wordle 1,245 4/6', '', '⬛⬛⬛⬛🟨', '⬛🟩⬛🟨⬛', '🟩🟩⬛⬛🟩', '🟩🟩🟩🟩🟩', '11/16/24, 8:39\\u202fAM - Sean Edwards: Wordle 1,246 4/6', '', '⬜⬜⬜🟨🟨', '⬜🟨⬜🟨⬜', '⬜🟩🟨🟩🟨', '🟩🟩🟩🟩🟩', '11/16/24, 9:17\\u202fAM - Ben Hawkey: Wordle 1,246 4/6', '', '🟨⬛⬛🟨⬛', '🟨⬛🟩⬛⬛', '⬛🟩🟩⬛🟩', '🟩🟩🟩🟩🟩', '11/16/24, 9:22\\u202fAM - Stephen Jackson: Wordle 1,246 4/6', '', '⬛⬛⬛🟨🟨', '🟨⬛🟨🟨⬛', '🟩🟩⬛🟩🟩', '🟩🟩🟩🟩🟩', '11/16/24, 9:39\\u202fAM - +44 7889 643371: Wordle 1,246 4/6', '', '⬜⬜⬜🟨🟨', '⬜⬜🟨🟩⬜', '⬜🟩⬜🟩⬜', '🟩🟩🟩🟩🟩', '11/16/24, 12:11\\u202fPM - Ben Hawkey: Unanimous scores so far', '11/16/24, 4:13\\u202fPM - Tomos: Wordle 1,246 5/6', '', '⬛🟨⬛⬛⬛', '⬛⬛🟨⬛🟩', '⬛⬛🟨🟩🟩', '🟩🟩⬛🟩🟩', '🟩🟩🟩🟩🟩', '11/17/24, 8:28\\u202fAM - Sean Edwards: Wordle 1,247 X/6', '', '🟨⬜⬜⬜⬜', '⬜🟨🟨⬜⬜', '⬜🟩🟨⬜🟩', '🟩🟩⬜⬜🟩', '🟩🟩⬜⬜🟩', '🟩🟩⬜⬜🟩', '11/17/24, 8:36\\u202fAM - Ben Hawkey: Wordle 1,247 4/6', '', '⬛⬛🟨⬛⬛', '⬛🟩⬛⬛🟩', '🟨🟩⬛⬛🟩', '🟩🟩🟩🟩🟩', '11/17/24, 8:57\\u202fAM - +44 7889 643371: Wordle 1,247 4/6', '', '🟨⬜⬜⬜⬜', '⬜⬜🟨🟨⬜', '🟩🟩⬜⬜🟩', '🟩🟩🟩🟩🟩', '11/17/24, 9:07\\u202fAM - Tomos: Wordle 1,247 6/6', '', '🟨⬛⬛⬛⬛', '⬛🟨🟨⬛⬛', '⬛⬛⬛⬛🟨', '🟨🟩⬛⬛🟩', '⬛🟩🟩🟩🟩', '🟩🟩🟩🟩🟩', '11/17/24, 9:11\\u202fAM - Sean Edwards: You’re all doing well, I found it difficult today!', '11/17/24, 9:42\\u202fAM - Stephen Jackson: Dont you worry', '11/17/24, 9:42\\u202fAM - Stephen Jackson: Wordle 1,247 X/6', '', '🟨⬛⬛⬛⬛', '⬛🟨🟨⬛⬛', '🟨🟩⬛⬛🟩', '⬛🟩🟩⬛🟩', '⬛🟩🟩🟩🟩', '⬛🟩🟩🟩🟩', '11/17/24, 9:56\\u202fAM - Bal The Veen: Wordle 1,247 6/6', '', '⬛⬛🟨⬛⬛', '🟨⬛⬛⬛🟨', '⬛🟩🟨⬛🟩', '🟩🟩⬛⬛🟩', '🟩🟩⬛⬛🟩', '🟩🟩🟩🟩🟩', '11/17/24, 10:09\\u202fAM - Sean Edwards: Solidarity. Mathematicians don’t know that word 🤷\\u200d♂️ <This message was edited>', '11/17/24, 10:52\\u202fAM - Bal The Veen: Ahhh Steve 🥲', '11/18/24, 6:48\\u202fAM - Tomos: Wordle 1,248 5/6', '', '🟨🟩🟨⬛⬛', '⬛🟩🟩🟩⬛', '⬛🟩🟩🟩🟩', '⬛🟩🟩🟩🟩', '🟩🟩🟩🟩🟩', '11/18/24, 7:43\\u202fAM - Bal The Veen: Wordle 1,248 3/6', '', '🟨🟩🟨⬛⬛', '⬛🟩🟩🟩⬛', '🟩🟩🟩🟩🟩', '11/18/24, 8:27\\u202fAM - +44 7889 643371: Wordle 1,248 4/6', '', '🟨⬜⬜🟩⬜', '⬜🟨⬜🟩⬜', '⬜🟨🟩🟩⬜', '🟩🟩🟩🟩🟩', '11/18/24, 9:39\\u202fAM - Ben Hawkey: Wordle 1,248 3/6', '', '⬛🟩🟩⬛⬛', '⬛🟩🟩🟩🟩', '🟩🟩🟩🟩🟩', '11/18/24, 9:39\\u202fAM - Ben Hawkey: Come onnn', '11/18/24, 9:57\\u202fAM - Tomos: A Wild Wordle Weekend has seen some change in the standings 👀', '', '🏆 Jeremy - 408', '🥈 Balveen - 414', '🥉 Tom - 447', '4️⃣ Steve - 453', '5️⃣ Sean - 471', '🥄 Ben - 528', '11/18/24, 9:57\\u202fAM - Ben Hawkey: Ffs', \"11/18/24, 9:58\\u202fAM - Tomos: This is before today's score, so you never know! Might get within touching distance of Sean if you're lucky\", '11/18/24, 10:04\\u202fAM - Bal The Veen: Shit', '11/18/24, 10:04\\u202fAM - Bal The Veen: Because I missed Saturday', '11/18/24, 10:04\\u202fAM - Bal The Veen: Profanity', '11/18/24, 10:05\\u202fAM - Ben Hawkey: Bill rule 1', '11/18/24, 10:05\\u202fAM - Ben Hawkey: Oh', '11/18/24, 10:05\\u202fAM - Ben Hawkey: How the turntables', '11/18/24, 10:05\\u202fAM - Bal The Veen: ....', '11/18/24, 10:35\\u202fAM - Sean Edwards: Loving being above Ben 😂 I thought with my omissions I was well out of the race', '11/18/24, 10:35\\u202fAM - Sean Edwards: Congrats to all of you who are better', '11/18/24, 10:36\\u202fAM - Sean Edwards: Wordle 1,248 5/6', '', '🟨⬜⬜🟩⬜', '⬜🟨⬜🟩🟩', '⬜🟩🟩🟩🟩', '⬜🟩🟩🟩🟩', '🟩🟩🟩🟩🟩', '11/18/24, 10:39\\u202fAM - Sean Edwards: I wonder if we can have ‘seasons’ so the score resets in the new year?', '11/18/24, 10:42\\u202fAM - Ben Hawkey: Wordle wrapped', '11/18/24, 12:08\\u202fPM - Bal The Veen: This is good idea', '11/18/24, 12:13\\u202fPM - Stephen Jackson: Wordle 1,248 4/6', '', '🟨⬛⬛🟩⬛', '⬛⬛⬛🟩🟨', '⬛🟩🟩🟩⬛', '🟩🟩🟩🟩🟩', '11/19/24, 10:01\\u202fAM - +44 7889 643371: Wordle 1,249 4/6', '', '⬜⬜⬜🟨🟨', '🟨⬜🟨🟩⬜', '🟨⬜🟩🟩⬜', '🟩🟩🟩🟩🟩', '11/19/24, 10:19\\u202fAM - Ben Hawkey: Wordle 1,249 5/6', '', '⬛⬛⬛🟨🟨', '⬛🟩🟩🟩⬛', '⬛🟩🟩🟩⬛', '⬛🟩🟩🟩⬛', '🟩🟩🟩🟩🟩', '11/19/24, 10:40\\u202fAM - Tomos: Wordle 1,249 6/6', '', '⬛🟨🟨⬛⬛', '⬛⬛⬛🟨🟨', '⬛⬛🟨🟩⬛', '⬛🟩⬛🟩⬛', '⬛🟩🟩🟩⬛', '🟩🟩🟩🟩🟩', '11/19/24, 10:43\\u202fAM - Bal The Veen: Wordle 1,249 3/6', '', '⬛🟩⬛🟩⬛', '⬛🟩🟩🟩⬛', '🟩🟩🟩🟩🟩', '11/19/24, 1:31\\u202fPM - Stephen Jackson: Wordle 1,249 5/6', '', '⬛⬛⬛🟨🟨', '⬛🟩🟩⬛⬛', '⬛🟩🟩⬛⬛', '⬛🟩🟩🟩⬛', '🟩🟩🟩🟩🟩', '11/19/24, 2:40\\u202fPM - Sean Edwards: Wordle 1,249 5/6', '', '⬜🟩⬜⬜⬜', '⬜🟩⬜⬜⬜', '⬜🟩🟨⬜⬜', '⬜🟩🟩🟩⬜', '🟩🟩🟩🟩🟩', '11/20/24, 8:56\\u202fAM - Ben Hawkey: Wordle 1,250 4/6', '', '⬛⬛🟨⬛⬛', '⬛🟨🟩⬛⬛', '⬛🟩🟩🟨⬛', '🟩🟩🟩🟩🟩', '11/20/24, 9:17\\u202fAM - +44 7889 643371: Wordle 1,250 5/6', '', '⬜⬜⬜🟨⬜', '⬜⬜🟨⬜🟩', '⬜🟩⬜🟩🟩', '⬜🟩🟩🟩🟩', '🟩🟩🟩🟩🟩', '11/20/24, 10:06\\u202fAM - Stephen Jackson: Wordle 1,250 4/6', '', '⬛⬛⬛🟨⬛', '⬛⬛🟨🟨⬛', '⬛🟩⬛⬛🟩', '🟩🟩🟩🟩🟩', '11/20/24, 9:26\\u202fPM - Sean Edwards: Wordle 1,250 3/6', '', '🟨⬜⬜⬜🟩', '⬜🟨⬜🟨🟩', '🟩🟩🟩🟩🟩', '11/20/24, 9:40\\u202fPM - Tomos: Wordle 1,250 4/6', '', '⬛⬛🟨⬛🟩', '⬛🟨🟨⬛🟩', '🟨🟨🟨⬛🟩', '🟩🟩🟩🟩🟩', '11/21/24, 7:01\\u202fAM - Sean Edwards: Wordle 1,251 4/6', '', '⬜⬜⬜🟨🟩', '🟩⬜⬜⬜🟩', '🟩⬜🟩⬜🟩', '🟩🟩🟩🟩🟩', '11/21/24, 7:49\\u202fAM - Tomos: Wordle 1,251 4/6', '', '⬛⬛🟩🟨🟩', '🟩🟩🟩⬛🟩', '🟩🟩🟩⬛🟩', '🟩🟩🟩🟩🟩', '11/21/24, 8:25\\u202fAM - +44 7889 643371: Wordle 1,251 6/6', '', '⬜⬜⬜🟨⬜', '⬜⬜🟩⬜🟩', '🟨⬜🟩⬜🟩', '🟩⬜🟩🟨🟩', '🟩🟩🟩⬜🟩', '🟩🟩🟩🟩🟩', '11/21/24, 8:56\\u202fAM - Ben Hawkey: Wordle 1,251 5/6', '', '⬛🟩🟨⬛⬛', '🟩🟩🟨⬛⬛', '🟩🟩🟩🟨⬛', '🟩🟩🟩⬛🟩', '🟩🟩🟩🟩🟩', '11/21/24, 10:02\\u202fAM - Bal The Veen: Wordle 1,251 3/6', '', '⬛⬛⬛🟨⬛', '⬛⬛🟩🟩🟨', '🟩🟩🟩🟩🟩', '11/21/24, 12:18\\u202fPM - Stephen Jackson: Wordle 1,251 3/6', '', '⬛⬛⬛🟨⬛', '🟩🟩🟩⬛🟩', '🟩🟩🟩🟩🟩', '11/22/24, 6:14\\u202fAM - Sean Edwards: Wordle 1,252 3/6', '', '⬜⬜⬜⬜🟨', '🟩🟨🟨🟨⬜', '🟩🟩🟩🟩🟩', '11/22/24, 8:42\\u202fAM - +44 7889 643371: Wordle 1,252 4/6', '', '🟨⬜⬜⬜⬜', '⬜🟨⬜⬜🟨', '⬜🟩🟩🟩⬜', '🟩🟩🟩🟩🟩', '11/22/24, 9:06\\u202fAM - Bal The Veen: Wordle 1,252 3/6', '', '⬛⬛🟩🟩🟨', '⬛🟩🟩🟩⬛', '🟩🟩🟩🟩🟩', '11/22/24, 10:04\\u202fAM - Stephen Jackson: Wordle 1,252 4/6', '', '🟨⬛⬛⬛⬛', '⬛⬛🟩🟨🟨', '🟨🟩🟩🟩⬛', '🟩🟩🟩🟩🟩', '11/22/24, 11:29\\u202fAM - Ben Hawkey: Wordle 1,252 5/6', '', '🟨⬛⬛⬛⬛', '🟩🟨🟩⬛🟨', '🟩🟩🟩⬛⬛', '🟩🟩🟩🟩⬛', '🟩🟩🟩🟩🟩', '11/22/24, 1:35\\u202fPM - Tomos: Wordle 1,252 5/6', '', '⬛⬛🟨🟩⬛', '⬛⬛⬛🟩🟨', '⬛🟩🟩🟩⬛', '⬛🟩🟩🟩⬛', '🟩🟩🟩🟩🟩', '11/23/24, 7:54\\u202fAM - Sean Edwards: Wordle 1,253 5/6', '', '⬜⬜⬜⬜⬜', '⬜⬜🟨⬜⬜', '⬜🟩⬜⬜⬜', '⬜🟩🟩🟩🟩', '🟩🟩🟩🟩🟩', '11/23/24, 8:49\\u202fAM - Tomos: Wordle 1,253 6/6', '', '⬛⬛⬛⬛🟨', '⬛⬛🟩🟨⬛', '⬛🟩🟩🟩🟩', '⬛🟩🟩🟩🟩', '⬛🟩🟩🟩🟩', '🟩🟩🟩🟩🟩', '11/23/24, 9:56\\u202fAM - Stephen Jackson: Wordle 1,253 4/6', '', '⬛⬛⬛⬛⬛', '⬛⬛🟨⬛⬛', '⬛🟩⬛⬛🟩', '🟩🟩🟩🟩🟩', '11/23/24, 9:59\\u202fAM - Ben Hawkey: Wordle 1,253 6/6', '', '⬛⬛⬛⬛⬛', '⬛⬛🟨⬛⬛', '⬛🟩🟩🟩🟩', '⬛🟩🟩🟩🟩', '⬛🟩🟩🟩🟩', '🟩🟩🟩🟩🟩', '11/23/24, 9:59\\u202fAM - Ben Hawkey: Ugh', '11/23/24, 10:18\\u202fAM - Tomos: ...ditto', '11/23/24, 10:28\\u202fAM - +44 7889 643371: Wordle 1,253 3/6', '', '⬜⬜⬜⬜⬜', '⬜⬜🟨🟨⬜', '🟩🟩🟩🟩🟩', '11/24/24, 8:51\\u202fAM - Bal The Veen: Wordle 1,254 3/6', '', '⬛⬛⬛🟨🟩', '🟩⬛🟩⬛⬛', '🟩🟩🟩🟩🟩', '11/24/24, 8:52\\u202fAM - +44 7889 643371: Wordle 1,254 3/6', '', '⬜⬜⬜🟨⬜', '🟨⬜🟩🟩🟩', '🟩🟩🟩🟩🟩', '11/24/24, 8:59\\u202fAM - Sean Edwards: Wordle 1,254 3/6', '', '⬜⬜⬜🟩⬜', '⬜⬜🟩🟩⬜', '🟩🟩🟩🟩🟩', '11/24/24, 9:58\\u202fAM - Ben Hawkey: Wordle 1,254 5/6', '', '⬛⬛⬛⬛⬛', '⬛⬛🟩🟩🟩', '⬛⬛🟩🟩🟩', '🟩⬛🟩🟩🟩', '🟩🟩🟩🟩🟩', '11/24/24, 9:59\\u202fAM - Ben Hawkey: Should have had that in 2', '11/24/24, 2:02\\u202fPM - Stephen Jackson: Wordle 1,254 4/6', '', '⬛⬛⬛🟨⬛', '🟨⬛🟩🟨⬛', '🟨⬛🟩🟩🟩', '🟩🟩🟩🟩🟩', '11/24/24, 8:04\\u202fPM - Tomos: Wordle 1,254 3/6', '', '⬛⬛🟩🟩⬛', '⬛⬛🟩🟩⬛', '🟩🟩🟩🟩🟩', '11/25/24, 8:18\\u202fAM - Sean Edwards: Wordle 1,255 3/6', '', '⬜🟨⬜⬜⬜', '🟩🟩🟩⬜⬜', '🟩🟩🟩🟩🟩', '11/25/24, 8:54\\u202fAM - +44 7889 643371: Wordle 1,255 4/6', '', '⬜⬜⬜⬜🟨', '⬜⬜🟩🟨⬜', '⬜🟩🟩🟩🟩', '🟩🟩🟩🟩🟩', '11/25/24, 8:58\\u202fAM - Stephen Jackson: Wordle 1,255 X/6', '', '⬛⬛⬛⬛🟨', '⬛⬛🟩🟨⬛', '⬛⬛🟩⬛⬛', '🟨⬛🟩⬛⬛', '⬛🟩🟩🟩🟩', '⬛🟩🟩🟩🟩', '11/25/24, 9:17\\u202fAM - Ben Hawkey: Wordle 1,255 4/6', '', '⬛🟩⬛🟨⬛', '⬛🟩⬛🟨🟩', '⬛🟩🟩⬛🟩', '🟩🟩🟩🟩🟩', '11/25/24, 9:17\\u202fAM - Ben Hawkey: Simple but hard', '11/25/24, 9:56\\u202fAM - Tomos: Wordle 1,255 3/6', '', '🟨⬛⬛⬛⬛', '🟩🟨⬛⬛⬛', '🟩🟩🟩🟩🟩', '11/26/24, 7:06\\u202fAM - Sean Edwards: Wordle 1,256 5/6', '', '🟨⬜⬜⬜⬜', '🟨🟨⬜🟨⬜', '⬜🟩⬜🟩🟩', '⬜🟩⬜🟩🟩', '🟩🟩🟩🟩🟩', '11/26/24, 7:36\\u202fAM - Stephen Jackson: Wordle 1,256 4/6', '', '⬛⬛⬛🟨⬛', '⬛⬛🟨🟨⬛', '🟨🟩⬛⬛⬛', '🟩🟩🟩🟩🟩', '11/26/24, 7:48\\u202fAM - +44 7889 643371: Wordle 1,256 4/6', '', '⬜⬜⬜🟨⬜', '🟨⬜⬜⬜⬜', '⬜🟩🟩🟩🟩', '🟩🟩🟩🟩🟩', '11/26/24, 8:27\\u202fAM - Ben Hawkey: Wordle 1,256 6/6', '', '⬛⬛⬛⬛⬛', '🟨⬛⬛⬛⬛', '🟨🟨🟨🟩⬛', '⬛🟩🟩🟩🟩', '⬛🟩🟩🟩🟩', '🟩🟩🟩🟩🟩', '11/26/24, 2:02\\u202fPM - Tomos: Wordle 1,256 5/6', '', '⬛🟩⬛⬛⬛', '⬛🟩🟨⬛⬛', '⬛🟩⬛🟩🟩', '🟩🟩⬛🟩🟩', '🟩🟩🟩🟩🟩', '11/27/24, 7:33\\u202fAM - +44 7889 643371: Wordle 1,257 5/6', '', '🟨⬜⬜⬜⬜', '🟨🟨⬜⬜⬜', '⬜🟩🟩⬜⬜', '⬜🟩🟩🟩⬜', '🟩🟩🟩🟩🟩', '11/27/24, 7:46\\u202fAM - Sean Edwards: Wordle 1,257 5/6', '', '⬜⬜⬜⬜🟨', '⬜🟨⬜🟨⬜', '⬜🟩🟩⬜⬜', '🟨🟩🟩🟨⬜', '🟩🟩🟩🟩🟩', '11/27/24, 8:24\\u202fAM - Ben Hawkey: Wordle 1,257 4/6', '', '⬛⬛⬛⬛🟨', '⬛⬛🟩🟩⬛', '🟩⬛🟩🟩⬛', '🟩🟩🟩🟩🟩', '11/27/24, 11:56\\u202fAM - Tomos: Wordle 1,257 4/6', '', '⬛⬛🟩🟩⬛', '⬛🟩🟩🟩🟨', '🟩🟩🟩🟩⬛', '🟩🟩🟩🟩🟩', '11/27/24, 12:12\\u202fPM - Bal The Veen: Wordle 1,257 3/6', '', '🟩⬛🟩⬛⬛', '🟩🟨🟩⬛🟨', '🟩🟩🟩🟩🟩', '11/27/24, 4:41\\u202fPM - Stephen Jackson: Wordle 1,257 5/6', '', '🟨⬛⬛⬛⬛', '🟩⬛🟩⬛⬛', '🟩⬛🟩⬛⬛', '🟩⬛🟩🟨⬛', '🟩🟩🟩🟩🟩', '11/28/24, 9:08\\u202fAM - +44 7889 643371: Wordle 1,258 5/6', '', '⬜⬜⬜⬜🟨', '⬜🟩🟩⬜⬜', '🟩🟩🟩⬜⬜', '🟩🟩🟩🟨⬜', '🟩🟩🟩🟩🟩', '11/28/24, 9:08\\u202fAM - Ben Hawkey: Wordle 1,258 5/6', '', '🟨⬛⬛⬛⬛', '⬛🟩🟩⬛⬛', '🟩🟩🟩⬛⬛', '🟩🟩🟩🟨⬛', '🟩🟩🟩🟩🟩', '11/28/24, 9:58\\u202fAM - Stephen Jackson: Wordle 1,258 5/6', '', '⬛⬛⬛⬛🟨', '⬛🟨🟩⬛⬛', '🟩⬛🟩⬛🟨', '🟩🟩🟩⬛🟩', '🟩🟩🟩🟩🟩', '11/28/24, 12:59\\u202fPM - Sean Edwards: Wordle 1,258 4/6', '', '🟨🟨⬜⬜⬜', '🟩🟩🟩⬜⬜', '🟩🟩🟩⬜⬜', '🟩🟩🟩🟩🟩', '11/28/24, 2:57\\u202fPM - Tomos: Wordle 1,258 3/6', '', '⬛⬛🟩⬛⬛', '⬛🟨🟩⬛⬛', '🟩🟩🟩🟩🟩', '11/29/24, 6:36\\u202fAM - Stephen Jackson: Wordle 1,259 5/6', '', '⬛⬛⬛🟨🟩', '⬛🟩⬛⬛🟩', '⬛🟩⬛⬛🟩', '⬛🟩🟩🟩🟩', '🟩🟩🟩🟩🟩', '11/29/24, 7:05\\u202fAM - Sean Edwards: Wordle 1,259 3/6', '', '⬜⬜⬜🟨🟩', '⬜🟩⬜⬜🟩', '🟩🟩🟩🟩🟩', '11/29/24, 8:38\\u202fAM - +44 7889 643371: Wordle 1,259 4/6', '', '⬜⬜⬜🟨🟩', '⬜🟩⬜⬜🟩', '⬜🟩⬜⬜🟩', '🟩🟩🟩🟩🟩', '11/29/24, 10:35\\u202fAM - Ben Hawkey: Wordle 1,259 6/6', '', '⬛⬛⬛⬛⬛', '⬛🟩⬛🟩⬛', '⬛🟩🟩🟩⬛', '⬛🟩🟩🟩⬛', '⬛🟩🟩🟩🟩', '🟩🟩🟩🟩🟩', '11/29/24, 11:49\\u202fPM - Tomos: Wordle 1,259 5/6', '', '🟨⬛⬛⬛🟩', '⬛🟩⬛⬛🟩', '⬛🟩⬛⬛🟩', '⬛🟩⬛⬛🟩', '🟩🟩🟩🟩🟩', '11/30/24, 7:14\\u202fAM - Sean Edwards: Wordle 1,260 4/6', '', '⬜⬜🟨⬜⬜', '⬜🟨⬜⬜⬜', '🟨⬜🟨⬜🟨', '🟩🟩🟩🟩🟩', '11/30/24, 9:53\\u202fAM - Stephen Jackson: Wordle 1,260 4/6', '', '🟨⬛🟨⬛🟨', '⬛🟩🟨🟨⬛', '🟨🟩⬛🟨🟨', '🟩🟩🟩🟩🟩', '11/30/24, 9:55\\u202fAM - Bal The Veen: Wordle 1,260 3/6', '', '⬛🟩🟨⬛⬛', '⬛🟩🟩🟨⬛', '🟩🟩🟩🟩🟩', '11/30/24, 9:58\\u202fAM - +44 7889 643371: Wordle 1,260 4/6', '', '🟨⬜🟨⬜🟨', '⬜🟩🟨🟨⬜', '🟨🟩⬜🟨🟨', '🟩🟩🟩🟩🟩', '11/30/24, 3:51\\u202fPM - Ben Hawkey: Wordle 1,260 5/6', '', '🟨⬛⬛⬛🟩', '⬛⬛🟨⬛⬛', '🟨🟩⬛⬛🟩', '⬛🟩⬛🟨🟩', '🟩🟩🟩🟩🟩', '11/30/24, 6:28\\u202fPM - Tomos: Wordle 1,260 3/6', '', '🟨🟨🟨⬛⬛', '⬛🟩🟨🟨⬛', '🟩🟩🟩🟩🟩', '12/1/24, 10:17\\u202fAM - Stephen Jackson: Wordle 1,261 4/6', '', '🟨🟨⬛⬛⬛', '⬛🟩🟩⬛⬛', '⬛🟩🟩⬛🟩', '🟩🟩🟩🟩🟩', '12/1/24, 10:46\\u202fAM - Ben Hawkey: Wordle 1,261 6/6', '', '⬛⬛🟨⬛🟩', '⬛🟩⬛⬛🟩', '🟨🟨⬛⬛⬛', '⬛🟩🟩⬛🟩', '⬛🟩🟩⬛🟩', '🟩🟩🟩🟩🟩', '12/1/24, 10:46\\u202fAM - Ben Hawkey: Awful', '12/1/24, 11:56\\u202fAM - +44 7889 643371: Wordle 1,261 5/6', '', '🟨🟨⬜⬜⬜', '⬜🟩🟩⬜⬜', '⬜🟩🟩⬜⬜', '⬜🟩🟩⬜🟩', '🟩🟩🟩🟩🟩', '12/1/24, 12:00\\u202fPM - Tomos: Wordle 1,261 3/6', '', '⬛🟩🟩⬛⬛', '⬛🟩🟩⬛🟩', '🟩🟩🟩🟩🟩', '12/2/24, 8:52\\u202fAM - +44 7889 643371: Wordle 1,262 4/6', '', '⬜🟩⬜🟨⬜', '⬜🟩🟩⬜🟩', '⬜🟩🟩⬜🟩', '🟩🟩🟩🟩🟩', '12/2/24, 8:59\\u202fAM - Ben Hawkey: Wordle 1,262 4/6', '', '⬛🟩⬛🟨⬛', '⬛🟩🟩⬛🟩', '⬛🟩🟩⬛🟩', '🟩🟩🟩🟩🟩', '12/2/24, 9:14\\u202fAM - Stephen Jackson: Wordle 1,262 4/6', '', '⬛🟩⬛🟨⬛', '⬛🟩🟩⬛🟩', '⬛🟩🟩⬛🟩', '🟩🟩🟩🟩🟩', \"12/2/24, 9:14\\u202fAM - Stephen Jackson: We've all done the exact same thing so far\", '12/2/24, 9:30\\u202fAM - Tomos: Wordle 1,262 3/6', '', '⬛🟩🟩⬛⬛', '⬛🟩🟩🟩⬛', '🟩🟩🟩🟩🟩', '12/2/24, 11:36\\u202fAM - Bal The Veen: Wordle 1,262 3/6', '', '⬛⬛⬛⬛🟩', '⬛🟨🟨⬛🟩', '🟩🟩🟩🟩🟩', '12/2/24, 11:36\\u202fAM - Bal The Veen: What even is that word', '12/2/24, 11:38\\u202fAM - +44 7889 643371: skilful deceit', '12/2/24, 11:40\\u202fAM - Bal The Veen: Thought it was a bird', '12/2/24, 11:40\\u202fAM - Bal The Veen: But that sounds more appropriate', '12/2/24, 1:05\\u202fPM - Sean Edwards: Wordle 1,262 4/6', '', '⬜⬜🟨⬜⬜', '⬜🟨🟨🟨⬜', '⬜🟨🟨⬜⬜', '🟩🟩🟩🟩🟩', '12/3/24, 8:02\\u202fAM - Sean Edwards: Wordle 1,263 6/6', '', '🟨⬜⬜🟨⬜', '⬜⬜🟩🟨🟨', '🟩🟩🟩⬜⬜', '🟩🟩🟩⬜⬜', '🟩🟩🟩⬜🟩', '🟩🟩🟩🟩🟩', '12/3/24, 9:33\\u202fAM - +44 7889 643371: Wordle 1,263 5/6', '', '🟨⬜⬜⬜⬜', '🟩🟩🟩⬜⬜', '🟩🟩🟩⬜⬜', '🟩🟩🟩⬜🟨', '🟩🟩🟩🟩🟩', '12/3/24, 9:36\\u202fAM - Ben Hawkey: Wordle 1,263 5/6', '', '🟨⬛⬛⬛⬛', '⬛⬛🟩⬛⬛', '⬛⬛🟩🟨🟨', '🟩🟩🟩⬛🟨', '🟩🟩🟩🟩🟩', '12/3/24, 9:52\\u202fAM - Bal The Veen: Wordle 1,263 4/6', '', '🟩⬛🟩⬛⬛', '🟩⬛🟩⬛🟨', '🟩🟩🟩🟩⬛', '🟩🟩🟩🟩🟩', '12/3/24, 10:33\\u202fAM - Stephen Jackson: Wordle 1,263 4/6', '', '🟨⬛⬛⬛⬛', '⬛⬛🟩⬛⬛', '🟩⬛🟩⬛🟨', '🟩🟩🟩🟩🟩', '12/3/24, 3:21\\u202fPM - Tomos: Wordle 1,263 4/6', '', '⬛⬛🟩🟨🟨', '🟩⬛🟩⬛🟩', '🟩🟩🟩⬛🟩', '🟩🟩🟩🟩🟩', '12/4/24, 8:50\\u202fAM - +44 7889 643371: Wordle 1,264 4/6', '', '⬜⬜⬜⬜⬜', '⬜🟩⬜⬜⬜', '⬜🟩🟩⬜🟩', '🟩🟩🟩🟩🟩', '12/4/24, 9:15\\u202fAM - Ben Hawkey: Wordle 1,264 5/6*', '', '🟩🟩⬛⬛⬛', '🟩🟩⬛⬛⬛', '🟩🟩⬛⬛🟨', '🟩🟩⬛⬛🟨', '🟩🟩🟩🟩🟩', '12/4/24, 9:16\\u202fAM - Stephen Jackson: Wordle 1,264 3/6', '', '⬛⬛⬛⬛⬛', '⬛🟨⬛⬛🟩', '🟩🟩🟩🟩🟩', '12/4/24, 8:53\\u202fPM - Sean Edwards: Wordle 1,264 3/6', '', '⬜⬜⬜⬜⬜', '🟨⬜⬜⬜🟩', '🟩🟩🟩🟩🟩', '12/4/24, 8:55\\u202fPM - Tomos: Wordle 1,264 4/6', '', '🟩🟩⬛⬛⬛', '🟩🟩⬛⬛⬛', '🟩🟩⬛⬛🟨', '🟩🟩🟩🟩🟩', '12/4/24, 9:03\\u202fPM - Bal The Veen: Wordle 1,264 3/6', '', '⬛🟩⬛⬛🟩', '🟩🟩⬛⬛🟩', '🟩🟩🟩🟩🟩', '12/5/24, 6:49\\u202fAM - Sean Edwards: Wordle 1,265 6/6', '', '⬜🟨⬜⬜🟨', '🟨⬜⬜🟨⬜', '⬜🟨⬜🟩🟨', '🟩⬜⬜🟩⬜', '🟩🟩⬜🟩⬜', '🟩🟩🟩🟩🟩', '12/5/24, 8:50\\u202fAM - Ben Hawkey: Wordle 1,265 5/6', '', '🟨⬛🟨⬛⬛', '⬛🟨🟨⬛🟨', '⬛⬛🟩⬛🟨', '🟨🟨🟩⬛⬛', '🟩🟩🟩🟩🟩', '12/5/24, 1:08\\u202fPM - +44 7889 643371: Wordle 1,265 4/6', '', '⬜⬜🟩⬜🟨', '🟨⬜🟩🟨⬜', '⬜🟨🟩⬜🟨', '🟩🟩🟩🟩🟩', '12/5/24, 1:27\\u202fPM - Bal The Veen: Wordle 1,265 3/6', '', '⬛🟨⬛⬛🟨', '🟨🟨⬛🟩🟨', '🟩🟩🟩🟩🟩', '12/5/24, 1:37\\u202fPM - Stephen Jackson: Wordle 1,265 4/6', '', '⬛⬛🟩⬛🟨', '⬛🟨🟩🟨⬛', '⬛🟨🟩🟩⬛', '🟩🟩🟩🟩🟩', '12/5/24, 8:19\\u202fPM - Tomos: Wordle 1,265 X/6', '', '⬛🟨🟩🟨⬛', '🟨⬛🟩🟨⬛', '⬛🟨🟩🟩⬛', '⬛🟨🟩🟩⬛', '🟩🟨⬛⬛⬛', '🟩⬛⬛⬛⬛', '12/6/24, 7:43\\u202fAM - Bal The Veen: Wordle 1,266 3/6', '', '🟩🟨⬛⬛🟩', '🟩⬛🟩⬛🟩', '🟩🟩🟩🟩🟩', '12/6/24, 8:34\\u202fAM - Stephen Jackson: Wordle 1,266 6/6', '', '⬛⬛⬛⬛🟨', '🟩⬛🟩⬛🟩', '🟩⬛🟩⬛🟩', '🟩⬛🟩⬛🟩', '🟩⬛🟩⬛🟩', '🟩🟩🟩🟩🟩', '12/6/24, 8:36\\u202fAM - Stephen Jackson: Skin of my teeth', '12/6/24, 8:37\\u202fAM - Bal The Veen: Not the best set up for that word, too many variations', '12/6/24, 8:37\\u202fAM - Ben Hawkey: Wordle 1,266 4/6', '', '🟨⬛🟨⬛⬛', '⬛🟩🟩🟨🟩', '🟩🟩🟩⬛🟩', '🟩🟩🟩🟩🟩', '12/6/24, 8:37\\u202fAM - Ben Hawkey: Git up', '12/6/24, 8:39\\u202fAM - Ben Hawkey: What’s the prize for the winner', '12/6/24, 8:40\\u202fAM - +44 7889 643371: Wordle 1,266 5/6', '', '⬜⬜⬜⬜🟨', '⬜🟨⬜⬜⬜', '⬜🟨⬜🟨⬜', '🟩⬜🟩🟩🟩', '🟩🟩🟩🟩🟩', '12/6/24, 8:44\\u202fAM - Bal The Veen: Pat on the back', '12/6/24, 8:44\\u202fAM - Bal The Veen: Leader of the wordle council', '12/7/24, 1:28\\u202fAM - Sean Edwards: Wordle 1,267 4/6', '', '🟩⬜⬜⬜⬜', '🟩⬜⬜⬜🟩', '🟩🟩⬜⬜🟩', '🟩🟩🟩🟩🟩', '12/7/24, 8:27\\u202fAM - Bal The Veen: Wordle 1,267 4/6', '', '⬛⬛⬛⬛⬛', '⬛🟨⬛⬛⬛', '⬛🟨🟨🟩⬛', '🟩🟩🟩🟩🟩', '12/7/24, 8:30\\u202fAM - +44 7889 643371: Wordle 1,267 5/6', '', '⬜⬜⬜🟨⬜', '🟨⬜⬜⬜⬜', '⬜⬜🟩🟨⬜', '⬜🟩🟩⬜🟩', '🟩🟩🟩🟩🟩', '12/7/24, 8:30\\u202fAM - Ben Hawkey: Wordle 1,267 5/6', '', '⬛⬛⬛⬛⬛', '⬛⬛⬛🟨⬛', '⬛🟩🟩⬛🟨', '🟩🟩🟩🟩⬛', '🟩🟩🟩🟩🟩', '12/7/24, 8:58\\u202fAM - Tomos: Archive December 6, 2024', 'Wordle 1,266 4/6', '', '⬛⬛⬛⬛🟩', '🟩⬛⬛⬛🟩', '🟩⬛🟩⬛🟩', '🟩🟩🟩🟩🟩', '12/7/24, 9:00\\u202fAM - Tomos: Wordle 1,267 4/6', '', '⬛⬛🟨⬛⬛', '🟨⬛⬛🟨🟩', '🟩🟩⬛⬛🟩', '🟩🟩🟩🟩🟩', '12/7/24, 9:06\\u202fAM - Stephen Jackson: Wordle 1,267 5/6', '', '⬛⬛⬛🟨⬛', '⬛🟨🟨⬛⬛', '🟨🟩⬛⬛🟩', '⬛🟩🟩🟩🟩', '🟩🟩🟩🟩🟩', '12/7/24, 9:12\\u202fAM - Bal The Veen: TOM', \"12/7/24, 9:12\\u202fAM - Bal The Veen: That's so unfair\", '12/7/24, 9:12\\u202fAM - Ben Hawkey: Yeah what’s he done there', '12/7/24, 9:13\\u202fAM - Bal The Veen: That means I get to go through the archive too', '12/7/24, 9:13\\u202fAM - Bal The Veen: Verdict...', \"12/7/24, 9:13\\u202fAM - Bal The Veen: You're the gaffa\", '12/7/24, 9:13\\u202fAM - Ben Hawkey: I don’t know what it is', '12/7/24, 9:14\\u202fAM - Ben Hawkey: Let me consult my senate', '12/7/24, 9:26\\u202fAM - Bal The Veen: Your what bab', '12/7/24, 9:26\\u202fAM - Bal The Veen: Senate 😂😂😂', '12/8/24, 10:04\\u202fAM - Ben Hawkey: Wordle 1,268 5/6', '', '🟨⬛⬛⬛⬛', '⬛⬛🟨⬛🟨', '⬛🟨🟩🟨⬛', '⬛⬛🟩⬛🟨', '🟩🟩🟩🟩🟩', '12/8/24, 10:04\\u202fAM - Ben Hawkey: Solid', '12/8/24, 10:17\\u202fAM - Stephen Jackson: Wordle 1,268 4/6', '', '🟨⬛⬛⬛⬛', '⬛🟨🟨⬛🟨', '⬛🟨🟨🟨⬛', '🟩🟩🟩🟩🟩', '12/8/24, 10:26\\u202fAM - +44 7889 643371: Wordle 1,268 6/6', '', '🟨⬜⬜⬜⬜', '⬜⬜🟨⬜🟨', '🟨🟨⬜⬜⬜', '⬜🟨⬜⬜🟩', '⬜🟨🟩⬜🟩', '🟩🟩🟩🟩🟩', '12/8/24, 11:03\\u202fAM - Tomos: Wordle 1,268 5/6', '', '🟨⬛⬛⬛🟨', '⬛⬛🟩🟨⬛', '🟨⬛🟩🟩⬛', '⬛⬛🟩🟩🟩', '🟩🟩🟩🟩🟩', '12/8/24, 11:27\\u202fAM - Bal The Veen: Jesus what is going on today', '12/8/24, 11:45\\u202fAM - Bal The Veen: Wordle 1,268 3/6', '', '⬛⬛🟨⬛🟨', '⬛🟨⬛⬛🟩', '🟩🟩🟩🟩🟩', '12/8/24, 11:46\\u202fAM - Bal The Veen: Would make a good starter word', '12/8/24, 6:24\\u202fPM - Sean Edwards: I have absolutely no idea today', '12/8/24, 6:24\\u202fPM - Sean Edwards: Fair play on your 3/6', '12/8/24, 6:25\\u202fPM - Tomos: My dad managed it in 1 today somehow 😂', '12/8/24, 6:26\\u202fPM - Sean Edwards: Wowww', '12/8/24, 6:26\\u202fPM - Tomos: <Media omitted>', '12/8/24, 6:26\\u202fPM - Sean Edwards: 1 in 15000 chance', '12/8/24, 6:26\\u202fPM - Sean Edwards: Might be a doctored text 👀', \"12/8/24, 6:29\\u202fPM - Tomos: I have my suspicions...it's an odd starting word\", '12/8/24, 6:39\\u202fPM - Sean Edwards: Wordle 1,268 5/6', '', '🟨⬜⬜⬜⬜', '⬜⬜🟨⬜🟨', '⬜⬜🟩🟨⬜', '🟨⬜🟩🟩⬜', '🟩🟩🟩🟩🟩', '12/8/24, 7:33\\u202fPM - +44 7889 643371: What are the things in question known for.....', '12/8/24, 8:55\\u202fPM - Bal The Veen: Nuts', '12/9/24, 6:51\\u202fAM - Sean Edwards: Wordle 1,269 6/6', '', '⬜🟩⬜⬜⬜', '🟩🟩⬜🟨⬜', '🟩🟩🟩⬜⬜', '🟩🟩🟩⬜⬜', '🟩🟩🟩🟩⬜', '🟩🟩🟩🟩🟩', '12/9/24, 8:45\\u202fAM - Ben Hawkey: Wordle 1,269 6/6', '', '⬛⬛🟩⬛⬛', '⬛🟩🟩⬛⬛', '⬛🟩🟩⬛⬛', '🟩🟩🟩⬛⬛', '🟩🟩🟩⬛⬛', '🟩🟩🟩🟩🟩', '12/9/24, 10:52\\u202fAM - +44 7889 643371: Wordle 1,269 6/6', '', '⬜⬜⬜🟩⬜', '⬜⬜🟩🟩⬜', '⬜⬜🟩🟩⬜', '⬜⬜🟩🟩🟩', '⬜🟩🟩🟩🟩', '🟩🟩🟩🟩🟩', '12/9/24, 11:32\\u202fAM - Tomos: Wordle 1,269 5/6', '', '⬛⬛⬛⬛⬛', '⬛⬛⬛⬛⬛', '⬛🟩🟩⬛⬛', '⬛🟩🟩🟩⬛', '🟩🟩🟩🟩🟩', '12/9/24, 12:58\\u202fPM - Bal The Veen: Wordle 1,269 3/6', '', '🟨⬛⬛⬛⬛', '⬛⬛⬛🟩🟩', '🟩🟩🟩🟩🟩', '12/9/24, 5:35\\u202fPM - Stephen Jackson: Wordle 1,269 5/6', '', '⬛🟨⬛⬛⬛', '⬛⬛🟩🟩⬛', '⬛🟩🟩🟩🟩', '⬛🟩🟩🟩🟩', '🟩🟩🟩🟩🟩', '12/10/24, 6:14\\u202fAM - Bal The Veen: Wordle 1,270 3/6', '', '⬛⬛🟨⬛⬛', '🟩⬛🟨🟩⬛', '🟩🟩🟩🟩🟩', '12/10/24, 8:21\\u202fAM - Stephen Jackson: Wordle 1,270 3/6', '', '🟨⬛⬛🟩🟩', '⬛🟩🟩🟩🟩', '🟩🟩🟩🟩🟩', '12/10/24, 8:41\\u202fAM - +44 7889 643371: Wordle 1,270 3/6', '', '🟨⬜⬜🟩🟩', '⬜🟩🟩🟩🟩', '🟩🟩🟩🟩🟩', '12/10/24, 9:50\\u202fAM - Tomos: Wordle 1,270 1/6', '', '🟩🟩🟩🟩🟩', '12/10/24, 9:51\\u202fAM - Ben Hawkey: No way', '12/10/24, 9:51\\u202fAM - Bal The Veen: What the fuck', '12/10/24, 9:52\\u202fAM - Ben Hawkey: Wordle 1,270 4/6', '', '⬛⬛🟨⬛⬛', '🟩⬛🟨🟨⬛', '🟩🟩🟩⬛⬛', '🟩🟩🟩🟩🟩', '12/10/24, 9:55\\u202fAM - Tomos: <Media omitted>', '12/11/24, 7:08\\u202fAM - Sean Edwards: Wordle 1,271 4/6', '', '⬜⬜⬜⬜⬜', '⬜⬜⬜⬜⬜', '🟨🟨⬜🟨⬜', '🟩🟩🟩🟩🟩', '12/11/24, 8:18\\u202fAM - Ben Hawkey: Wordle 1,271 5/6', '', '⬛⬛⬛⬛⬛', '⬛⬛⬛⬛⬛', '🟩🟩🟩⬛⬛', '🟩🟩🟩🟩⬛', '🟩🟩🟩🟩🟩', '12/11/24, 8:28\\u202fAM - +44 7889 643371: Wordle 1,271 6/6', '', '⬜🟨⬜⬜⬜', '⬜⬜🟩⬜⬜', '⬜🟩🟩⬜⬜', '🟩🟩🟩🟩⬜', '🟩🟩🟩🟩⬜', '🟩🟩🟩🟩🟩', '12/11/24, 9:37\\u202fAM - Stephen Jackson: Wordle 1,271 6/6', '', '⬛🟨⬛⬛⬛', '⬛⬛🟩⬛🟨', '⬛🟩🟩⬛⬛', '⬛🟩🟩⬛⬛', '🟩🟩🟩🟩⬛', '🟩🟩🟩🟩🟩', '12/11/24, 9:45\\u202fAM - Bal The Veen: Yikes', '12/11/24, 9:46\\u202fAM - Bal The Veen: What is happening here', '12/11/24, 9:57\\u202fAM - Bal The Veen: Wordle 1,271 4/6', '', '⬛⬛🟨🟨⬛', '⬛⬛🟩🟩🟨', '🟩🟩🟩🟩⬛', '🟩🟩🟩🟩🟩', '12/11/24, 6:46\\u202fPM - Tomos: Wordle 1,271 3/6', '', '⬛🟨⬛⬛⬛', '🟩🟩🟩⬛⬛', '🟩🟩🟩🟩🟩', '12/12/24, 7:12\\u202fAM - Sean Edwards: Wordle 1,272 5/6', '', '⬜⬜⬜⬜⬜', '⬜⬜🟩⬜⬜', '⬜⬜🟩🟩⬜', '⬜⬜🟩🟩🟩', '🟩🟩🟩🟩🟩', '12/12/24, 10:01\\u202fAM - Ben Hawkey: Wordle 1,272 5/6', '', '⬛⬛⬛🟩⬛', '⬛⬛🟩🟩⬛', '⬛⬛🟩🟩🟨', '⬛⬛🟩🟩🟩', '🟩🟩🟩🟩🟩', '12/12/24, 10:01\\u202fAM - Ben Hawkey: Wow', '12/12/24, 10:06\\u202fAM - Bal The Veen: Wordle 1,272 4/6', '', '🟨🟩⬛⬛⬛', '⬛🟩🟩🟩🟩', '⬛🟩🟩🟩🟩', '🟩🟩🟩🟩🟩', '12/12/24, 10:06\\u202fAM - Bal The Veen: Solid', '12/12/24, 10:32\\u202fAM - +44 7889 643371: Wordle 1,272 5/6', '', '⬜⬜⬜🟨⬜', '⬜⬜🟩🟩⬜', '⬜⬜🟩🟩🟩', '⬜⬜🟩🟩🟩', '🟩🟩🟩🟩🟩', '12/12/24, 12:25\\u202fPM - Stephen Jackson: Wordle 1,272 6/6', '', '⬛⬛⬛🟨⬛', '⬛⬛🟩🟩⬛', '🟨⬛🟩🟩⬛', '⬛⬛🟩🟩🟩', '⬛⬛🟩🟩🟩', '🟩🟩🟩🟩🟩', '12/12/24, 3:41\\u202fPM - Tomos: Wordle 1,272 6/6', '', '⬛⬛🟩⬛⬛', '⬛⬛🟩🟩🟩', '⬛⬛🟩🟩🟩', '⬛🟩🟩🟩🟩', '⬛🟩🟩🟩🟩', '🟩🟩🟩🟩🟩', '12/13/24, 7:30\\u202fAM - +44 7889 643371: Wordle 1,273 6/6', '', '⬜⬜⬜⬜🟨', '🟨⬜⬜🟩🟩', '⬜🟩⬜🟩🟩', '⬜🟩⬜🟩🟩', '⬜🟩🟨🟩🟩', '🟩🟩🟩🟩🟩', '12/13/24, 7:44\\u202fAM - Stephen Jackson: Wordle 1,273 5/6', '', '⬛⬛⬛⬛🟨', '⬛⬛🟨🟨🟨', '⬛🟩⬛🟩🟩', '🟩🟩⬛🟩🟩', '🟩🟩🟩🟩🟩', '12/13/24, 9:16\\u202fAM - Ben Hawkey: Wordle 1,273 4/6', '', '🟨⬛🟨🟨⬛', '⬛🟩🟨🟩⬛', '⬛🟩⬛🟩🟩', '🟩🟩🟩🟩🟩', '12/13/24, 10:09\\u202fAM - Tomos: Wordle 1,273 X/6', '', '🟨⬛⬛🟩🟩', '⬛🟩⬛🟩🟩', '⬛🟩⬛🟩🟩', '⬛🟩⬛🟩🟩', '⬛🟩⬛🟩🟩', '⬛🟩⬛🟩🟩', '12/13/24, 10:15\\u202fAM - Bal The Veen: Feel like this will be me', '12/13/24, 10:35\\u202fAM - Bal The Veen: Wordle 1,273 4/6', '', '⬛🟩⬛🟨🟨', '⬛🟩⬛🟩🟩', '⬛⬛⬛⬛⬛', '🟩🟩🟩🟩🟩', '12/13/24, 4:17\\u202fPM - Sean Edwards: Wordle 1,273 X/6', '', '⬜🟨⬜⬜🟨', '🟨🟨⬜⬜⬜', '⬜⬜🟨🟩⬜', '⬜🟩⬜🟩🟩', '⬜🟩⬜🟩🟩', '⬜🟩⬜🟩🟩', '12/14/24, 9:42\\u202fAM - Tomos: Wordle 1,274 4/6', '', '⬛🟩⬛⬛⬛', '⬛🟩⬛⬛⬛', '🟩🟩🟩⬛⬛', '🟩🟩🟩🟩🟩', '12/14/24, 9:44\\u202fAM - Ben Hawkey: Wordle 1,274 5/6', '', '🟩🟩🟩⬛⬛', '🟩🟩🟩⬛⬛', '🟩🟩🟩⬛🟩', '🟩🟩🟩⬛🟩', '🟩🟩🟩🟩🟩', '12/14/24, 9:44\\u202fAM - Ben Hawkey: That was dumb', '12/14/24, 9:54\\u202fAM - +44 7889 643371: Wordle 1,274 4/6', '', '⬜⬜🟨⬜🟨', '🟩🟨⬜⬜🟨', '🟩🟩🟩🟩⬜', '🟩🟩🟩🟩🟩', '12/14/24, 10:13\\u202fAM - Bal The Veen: Wordle 1,274 3/6', '', '⬛🟩🟩⬛⬛', '⬛🟩🟩🟩⬛', '🟩🟩🟩🟩🟩', '12/14/24, 10:14\\u202fAM - Bal The Veen: HA', \"12/14/24, 10:14\\u202fAM - Bal The Veen: Awwwww I want to say something but it'll give it away\", '12/14/24, 1:23\\u202fPM - Sean Edwards: Wordle 1,274 4/6', '', '⬜⬜🟨⬜🟨', '⬜🟨🟨⬜🟨', '🟩🟩🟩🟩⬜', '🟩🟩🟩🟩🟩', '12/14/24, 6:49\\u202fPM - Stephen Jackson: Wordle 1,274 4/6', '', '⬛⬛🟨⬛🟨', '🟩🟨⬛⬛⬛', '🟩🟩🟩⬛🟩', '🟩🟩🟩🟩🟩', '12/15/24, 8:48\\u202fAM - Ben Hawkey: Wordle 1,275 3/6', '', '⬛🟩⬛⬛⬛', '⬛🟩⬛⬛🟩', '🟩🟩🟩🟩🟩', '12/15/24, 9:09\\u202fAM - Sean Edwards: Wordle 1,275 5/6', '', '⬜🟩⬜⬜⬜', '⬜🟩⬜⬜🟩', '⬜⬜⬜🟨⬜', '🟩🟩🟩⬜🟩', '🟩🟩🟩🟩🟩', '12/15/24, 9:55\\u202fAM - +44 7889 643371: Wordle 1,275 4/6', '', '⬜🟩⬜⬜⬜', '⬜🟩🟩⬜⬜', '⬜🟩🟩⬜⬜', '🟩🟩🟩🟩🟩', '12/15/24, 10:20\\u202fAM - Stephen Jackson: Wordle 1,275 5/6', '', '⬛🟩⬛⬛⬛', '⬛🟩⬛⬛⬛', '⬛🟩⬛🟩🟩', '⬛🟩⬛🟩🟩', '🟩🟩🟩🟩🟩', '12/15/24, 7:37\\u202fPM - Tomos: Wordle 1,275 5/6', '', '⬛🟩⬛⬛⬛', '⬛🟩⬛⬛⬛', '⬛🟩⬛⬛🟩', '⬛🟩⬛⬛🟩', '🟩🟩🟩🟩🟩', '12/16/24, 9:07\\u202fAM - Bal The Veen: Wordle 1,276 3/6', '', '🟨🟩🟩⬛⬛', '🟩🟩🟩🟨🟨', '🟩🟩🟩🟩🟩', '12/16/24, 9:07\\u202fAM - Bal The Veen: Crap I forgot yday', '12/16/24, 9:34\\u202fAM - +44 7889 643371: Wordle 1,276 5/6', '', '🟨⬜⬜⬜🟨', '⬜🟩🟩🟩🟩', '⬜🟩🟩🟩🟩', '⬜🟩🟩🟩🟩', '🟩🟩🟩🟩🟩', '12/16/24, 12:36\\u202fPM - Ben Hawkey: Wordle 1,276 4/6', '', '🟨⬛⬛⬛🟨', '🟨⬛⬛⬛🟨', '⬛⬛🟩🟨🟨', '🟩🟩🟩🟩🟩', '12/16/24, 12:46\\u202fPM - Stephen Jackson: Wordle 1,276 6/6', '', '🟨⬛⬛⬛🟨', '⬛🟩⬛🟨⬛', '🟨🟩🟩⬛⬛', '⬛🟩🟩🟩🟩', '⬛🟩🟩🟩🟩', '🟩🟩🟩🟩🟩', '12/16/24, 12:54\\u202fPM - Bal The Veen: Can we be nicer about points when it comes to days forgotten', '12/16/24, 12:54\\u202fPM - Tomos: No.', '12/16/24, 12:54\\u202fPM - Ben Hawkey: No obviously not', '12/16/24, 12:54\\u202fPM - Bal The Veen: You guys are just sour', '12/16/24, 12:54\\u202fPM - Ben Hawkey: You’re winning anyway', \"12/16/24, 12:55\\u202fPM - Bal The Veen: I've missed like 6 days\", '12/16/24, 12:55\\u202fPM - Ben Hawkey: Not our problem', '12/16/24, 12:55\\u202fPM - Ben Hawkey: Wordle waits for no man', '12/16/24, 12:55\\u202fPM - Bal The Veen: The only child competitiveness is coming through', \"12/16/24, 12:56\\u202fPM - Bal The Veen: I don't like losing\", \"12/16/24, 12:56\\u202fPM - Bal The Veen: I'm your wife\", '12/16/24, 12:57\\u202fPM - Bal The Veen: I reckon wordle gaffa should do a Wordle end of year speech', '12/16/24, 6:12\\u202fPM - Sean Edwards: Wordle 1,276 3/6', '', '⬜🟩⬜🟩⬜', '⬜🟩⬜🟩🟩', '🟩🟩🟩🟩🟩', '12/16/24, 6:12\\u202fPM - Sean Edwards: I second the speech', '12/16/24, 8:48\\u202fPM - Tomos: Oooor...an apology from the loser 👀', '12/16/24, 8:49\\u202fPM - Ben Hawkey: Nah terrible idea….', '12/16/24, 8:49\\u202fPM - Ben Hawkey: A heartfelt Christmas speech', '12/16/24, 8:50\\u202fPM - Tomos: Wordle 1,276 3/6', '', '🟩⬛🟨🟨⬛', '🟩🟩🟩🟨🟨', '🟩🟩🟩🟩🟩', \"12/16/24, 8:51\\u202fPM - Bal The Veen: No Ben's FIFA apology is enough for the next 4 decades\", '12/16/24, 8:51\\u202fPM - Bal The Veen: Delightful', '12/17/24, 8:03\\u202fAM - +44 7889 643371: Wordle 1,277 4/6', '', '⬜⬜⬜⬜🟨', '⬜🟨🟩⬜⬜', '⬜⬜🟩⬜🟩', '🟩🟩🟩🟩🟩', '12/17/24, 11:25\\u202fAM - Ben Hawkey: Wordle 1,277 4/6', '', '🟨⬛⬛⬛⬛', '⬛⬛⬛🟨⬛', '🟩🟩🟩🟨⬛', '🟩🟩🟩🟩🟩', '12/17/24, 1:42\\u202fPM - Stephen Jackson: Wordle 1,277 5/6', '', '⬛⬛⬛⬛🟨', '🟩⬛🟩⬛⬛', '🟩⬛🟩⬛⬛', '🟩🟨🟩⬛⬛', '🟩🟩🟩🟩🟩', '12/17/24, 2:05\\u202fPM - Tomos: Wordle 1,277 4/6', '', '🟨⬛⬛⬛⬛', '🟩⬛🟩⬛🟩', '🟩⬛🟩⬛🟩', '🟩🟩🟩🟩🟩', '12/17/24, 8:16\\u202fPM - Bal The Veen: Wordle 1,277 3/6', '', '🟩🟨⬛⬛⬛', '🟩🟩🟩🟨⬛', '🟩🟩🟩🟩🟩', '12/17/24, 10:03\\u202fPM - Sean Edwards: Wordle 1,277 3/6', '', '⬜🟨⬜🟨⬜', '🟩⬜🟩🟨⬜', '🟩🟩🟩🟩🟩', '12/18/24, 8:04\\u202fAM - Stephen Jackson: Wordle 1,278 3/6', '', '⬛⬛⬛⬛⬛', '⬛⬛🟨⬛🟨', '🟩🟩🟩🟩🟩', '12/18/24, 8:13\\u202fAM - +44 7889 643371: Wordle 1,278 3/6', '', '⬜⬜⬜⬜⬜', '⬜🟩🟩🟩🟩', '🟩🟩🟩🟩🟩', '12/18/24, 8:15\\u202fAM - Sean Edwards: Wordle 1,278 4/6', '', '⬜⬜⬜⬜🟨', '🟨⬜⬜⬜🟩', '⬜🟩⬜⬜🟩', '🟩🟩🟩🟩🟩', '12/18/24, 8:26\\u202fAM - Ben Hawkey: Wordle 1,278 3/6', '', '🟨⬛⬛🟨⬛', '⬛🟨🟨⬛🟨', '🟩🟩🟩🟩🟩', '12/18/24, 7:32\\u202fPM - Bal The Veen: Wordle 1,278 3/6', '', '⬛🟨⬛⬛🟨', '🟨⬛⬛🟨🟩', '🟩🟩🟩🟩🟩', '12/18/24, 9:26\\u202fPM - Tomos: Wordle 1,278 4/6', '', '⬛⬛⬛🟨⬛', '🟨🟩⬛⬛⬛', '🟩🟩⬛🟩⬛', '🟩🟩🟩🟩🟩', '12/19/24, 7:35\\u202fAM - Sean Edwards: Wordle 1,279 6/6', '', '⬜⬜⬜🟨⬜', '🟩⬜🟨🟨🟨', '🟩🟩🟨⬜🟨', '🟩🟩🟩🟩⬜', '🟩🟩🟩🟩⬜', '🟩🟩🟩🟩🟩', '12/19/24, 8:34\\u202fAM - +44 7889 643371: Wordle 1,279 5/6', '', '🟨⬜⬜⬜⬜', '🟩⬜🟨🟨⬜', '🟩⬜🟩🟩🟨', '🟩🟩🟩🟩⬜', '🟩🟩🟩🟩🟩', '12/19/24, 9:47\\u202fAM - Ben Hawkey: Wordle 1,279 6/6', '', '🟨🟨⬛⬛🟨', '🟩🟩🟨⬛⬛', '🟩🟩⬛⬛🟨', '🟩🟩🟩🟩⬛', '🟩🟩🟩🟩⬛', '🟩🟩🟩🟩🟩', '12/19/24, 3:40\\u202fPM - Stephen Jackson: Wordle 1,279 4/6', '', '🟨⬛⬛⬛⬛', '🟩🟩🟨⬛⬛', '🟩🟩🟩🟩⬛', '🟩🟩🟩🟩🟩', '12/19/24, 9:29\\u202fPM - Tomos: Wordle 1,279 3/6', '', '⬛⬛🟨🟨🟨', '🟩⬛🟨🟩🟩', '🟩🟩🟩🟩🟩', '12/19/24, 10:55\\u202fPM - Bal The Veen: Wordle 1,279 3/6', '', '🟩⬛🟨🟨⬛', '🟩⬛🟩🟩🟩', '🟩🟩🟩🟩🟩', '12/20/24, 3:42\\u202fAM - Sean Edwards: Wordle 1,280 2/6', '', '🟨⬜⬜🟩⬜', '🟩🟩🟩🟩🟩', '12/20/24, 10:20\\u202fAM - +44 7889 643371: Wordle 1,280 4/6', '', '🟨⬜⬜⬜⬜', '⬜🟩🟩⬜⬜', '🟩🟩🟩⬜⬜', '🟩🟩🟩🟩🟩', '12/20/24, 10:58\\u202fAM - Stephen Jackson: Wordle 1,280 4/6', '', '🟨⬛⬛⬛⬛', '⬛⬛🟩⬛⬛', '🟨⬛🟩⬛⬛', '🟩🟩🟩🟩🟩', '12/20/24, 11:00\\u202fAM - Tomos: Wordle 1,280 3/6', '', '🟨⬛🟩⬛⬛', '⬛🟩🟩⬛🟨', '🟩🟩🟩🟩🟩', \"12/20/24, 12:04\\u202fPM - Tomos: Finally caught up with about a month and a half's worth of Wordling 🥲\", '', 'Latest standings as we head into the final week of the season...', '', '🏆 Balveen - 916', '🥈 Tomos - 942', '🥉 Jeremy - 957', '4️⃣ Stephen - 1018', '5️⃣ Sean - 1025', '🥄 Benjamin - 1143', \"12/20/24, 12:33\\u202fPM - Stephen Jackson: It's all to play for\", '12/20/24, 12:42\\u202fPM - Bal The Veen: How', '12/20/24, 12:42\\u202fPM - Bal The Veen: I had so many sick days', '12/21/24, 7:15\\u202fAM - Bal The Veen: Wordle 1,281 3/6', '', '⬛⬛🟩⬛🟩', '🟩🟩🟩⬛🟩', '🟩🟩🟩🟩🟩', '12/21/24, 7:19\\u202fAM - Sean Edwards: Wordle 1,281 4/6', '', '⬜⬜⬜⬜🟩', '⬜🟩🟩⬜🟩', '⬜🟩🟩⬜🟩', '🟩🟩🟩🟩🟩', '12/21/24, 8:56\\u202fAM - Ben Hawkey: Ah damn I missed yesterday', '12/21/24, 8:57\\u202fAM - +44 7889 643371: Oh no!', '12/21/24, 8:57\\u202fAM - Ben Hawkey: That’ll be why I’m in last place….', '12/21/24, 8:58\\u202fAM - +44 7889 643371: (((', '12/21/24, 8:59\\u202fAM - Ben Hawkey: Wordle 1,281 5/6', '', '⬛⬛⬛🟨🟨', '🟨⬛🟩⬛⬛', '⬛🟩🟩⬛🟩', '⬛🟩🟩⬛🟩', '🟩🟩🟩🟩🟩', '12/21/24, 9:00\\u202fAM - +44 7889 643371: Wordle 1,281 4/6', '', '🟨⬜🟨⬜⬜', '🟨🟨🟨🟨⬜', '⬜🟨🟩🟨🟨', '🟩🟩🟩🟩🟩', '12/21/24, 10:06\\u202fAM - Bal The Veen: Yea you believe that x', '12/21/24, 12:33\\u202fPM - Tomos: Wordle 1,281 5/6', '', '🟨⬛⬛⬛🟩', '⬛🟩🟩⬛🟩', '⬛🟩🟩⬛🟩', '🟩🟩🟩⬛🟩', '🟩🟩🟩🟩🟩', '12/22/24, 7:46\\u202fAM - Sean Edwards: Wordle 1,282 4/6', '', '⬜⬜⬜⬜⬜', '⬜⬜🟩⬜⬜', '🟨🟩🟩⬜⬜', '🟩🟩🟩🟩🟩', '12/22/24, 8:47\\u202fAM - Bal The Veen: Wordle 1,282 4/6', '', '⬛⬛🟩🟨⬛', '⬛🟩🟩⬛⬛', '⬛🟩🟩🟩⬛', '🟩🟩🟩🟩🟩', '12/22/24, 9:19\\u202fAM - +44 7889 643371: Wordle 1,282 4/6', '', '🟨⬜⬜⬜⬜', '⬜🟨⬜⬜⬜', '⬜⬜🟩🟨⬜', '🟩🟩🟩🟩🟩', '12/22/24, 11:03\\u202fAM - Stephen Jackson: Wordle 1,282 5/6', '', '🟨⬛⬛⬛⬛', '⬛⬛🟩⬛⬛', '🟨🟩🟩🟨⬛', '⬛🟩🟩🟩🟩', '🟩🟩🟩🟩🟩', '12/22/24, 5:34\\u202fPM - Tomos: Wordle 1,282 4/6', '', '⬛🟩🟩⬛⬛', '⬛🟩🟩🟨⬛', '🟩🟩🟩⬛🟩', '🟩🟩🟩🟩🟩', '12/22/24, 9:27\\u202fPM - Ben Hawkey: Wordle 1,282 4/6', '', '⬛🟩🟩⬛⬛', '⬛🟩🟩🟨⬛', '🟩🟩🟩⬛🟩', '🟩🟩🟩🟩🟩', '12/22/24, 9:27\\u202fPM - Ben Hawkey: Nice pattern Tom', '12/23/24, 8:14\\u202fAM - Sean Edwards: Wordle 1,283 3/6', '', '🟨🟨⬜⬜⬜', '⬜🟩🟩🟨⬜', '🟩🟩🟩🟩🟩', '12/23/24, 9:05\\u202fAM - +44 7889 643371: Wordle 1,283 3/6', '', '🟨🟨⬜⬜⬜', '⬜🟩🟩🟩⬜', '🟩🟩🟩🟩🟩', '12/23/24, 9:43\\u202fAM - Stephen Jackson: Wordle 1,283 3/6', '', '🟨🟨⬛⬛⬛', '⬛🟩🟩🟨⬛', '🟩🟩🟩🟩🟩', '12/23/24, 10:03\\u202fAM - Ben Hawkey: Wordle 1,283 3/6', '', '🟨🟨⬛⬛⬛', '🟩🟩🟩🟩⬛', '🟩🟩🟩🟩🟩', '12/23/24, 8:35\\u202fPM - Tomos: Wordle 1,283 4/6', '', '⬛🟨🟨⬛⬛', '⬛🟩🟩🟨⬛', '🟩🟩🟩⬛⬛', '🟩🟩🟩🟩🟩', '12/23/24, 10:24\\u202fPM - Bal The Veen: Wordle 1,283 2/6', '', '🟩🟩🟩🟩⬛', '🟩🟩🟩🟩🟩', '12/24/24, 10:32\\u202fAM - +44 7889 643371: Wordle 1,284 5/6', '', '🟨⬜⬜⬜⬜', '⬜⬜🟨⬜🟩', '⬜🟩⬜⬜🟩', '⬜🟩⬜🟩🟩', '🟩🟩🟩🟩🟩', '12/24/24, 11:33\\u202fAM - Ben Hawkey: Wordle 1,284 6/6', '', '⬛⬛⬛🟨🟨', '🟨⬛🟨⬛⬛', '⬛🟨🟨🟨⬛', '⬛🟨🟨⬛🟨', '⬛🟩⬛🟩⬛', '🟩🟩🟩🟩🟩', '12/24/24, 5:20\\u202fPM - Stephen Jackson: Wordle 1,284 6/6', '', '🟨⬛⬛⬛⬛', '⬛⬛🟨⬛🟩', '⬛🟩⬛⬛🟩', '⬛🟩⬛🟩🟩', '⬛🟩⬛🟩🟩', '🟩🟩🟩🟩🟩', '12/24/24, 5:46\\u202fPM - Sean Edwards: Wordle 1,284 4/6', '', '⬜⬜⬜⬜🟩', '⬜🟨🟨⬜🟩', '🟨🟨🟨⬜🟩', '🟩🟩🟩🟩🟩', '12/24/24, 6:26\\u202fPM - Tomos: Wordle 1,284 4/6', '', '⬛🟩⬛🟨⬛', '🟨🟩⬛🟨⬛', '🟨🟩🟩🟨⬛', '🟩🟩🟩🟩🟩', '12/25/24, 7:30\\u202fAM - Sean Edwards: Wordle 1,285 3/6', '', '🟨⬜⬜⬜⬜', '⬜🟨🟨⬜🟩', '🟩🟩🟩🟩🟩', '12/25/24, 7:31\\u202fAM - Sean Edwards: Merry Christmas wordlers 🎄', '12/25/24, 8:15\\u202fAM - +44 7889 643371: Wordle 1,285 6/6', '', '🟨⬜⬜⬜⬜', '🟩🟨⬜🟨🟨', '🟩⬜🟩🟩🟩', '🟩⬜🟩🟩🟩', '🟩⬜🟩🟩🟩', '🟩🟩🟩🟩🟩', '12/25/24, 8:16\\u202fAM - +44 7889 643371: Feliz Navidad!', '12/25/24, 8:24\\u202fAM - Bal The Veen: Wordle 1,285 5/6', '', '🟩⬛🟩🟩🟩', '🟩⬛🟩🟩🟩', '🟩⬛🟩🟩🟩', '🟩⬛🟩🟩🟩', '🟩🟩🟩🟩🟩', '12/25/24, 8:25\\u202fAM - Bal The Veen: Mez chrimz 🎁', '12/25/24, 10:10\\u202fAM - Ben Hawkey: Wordle 1,285 3/6', '', '⬛🟨⬛🟨⬛', '🟨🟨⬛⬛🟨', '🟩🟩🟩🟩🟩', '12/25/24, 10:10\\u202fAM - Ben Hawkey: Merry Christmas!!', '12/25/24, 10:10\\u202fAM - Ben Hawkey: Everybody tuning into Tom’s speech at 3?', '12/25/24, 10:35\\u202fAM - Bal The Veen: King Tom since when?', '12/25/24, 12:34\\u202fPM - Stephen Jackson: Wordle 1,285 3/6', '', '🟨⬛⬛⬛⬛', '🟩⬛🟩🟩🟩', '🟩🟩🟩🟩🟩', '12/25/24, 12:34\\u202fPM - Stephen Jackson: Merrrrrryyyyy Christmas ⛄', '12/25/24, 12:53\\u202fPM - Tomos: Wordle 1,285 5/6', '', '⬛⬛🟩🟩🟩', '🟩⬛🟩🟩🟩', '🟩⬛🟩🟩🟩', '🟩⬛🟩🟩🟩', '🟩🟩🟩🟩🟩', '12/26/24, 12:51\\u202fPM - Stephen Jackson: Wordle 1,286 X/6', '', '🟩⬛⬛🟩⬛', '🟩⬛⬛🟩⬛', '🟩⬛⬛🟩⬛', '🟩⬛⬛🟩⬛', '🟩⬛⬛🟩⬛', '🟩⬛⬛🟩⬛', '12/26/24, 12:52\\u202fPM - Stephen Jackson: Brilliant', '12/26/24, 1:41\\u202fPM - Ben Hawkey: Wordle 1,286 5/6', '', '⬛⬛🟨🟨⬛', '⬛⬛🟨🟩⬛', '⬛🟨⬛🟩⬛', '⬛⬛⬛🟩🟨', '🟩🟩🟩🟩🟩', '12/26/24, 4:36\\u202fPM - Tomos: Wordle 1,286 6/6', '', '⬛⬛🟨🟩⬛', '⬛🟨⬛🟩⬛', '🟩⬛⬛🟩⬛', '🟩⬛🟨⬛⬛', '🟩⬛⬛🟩⬛', '🟩🟩🟩🟩🟩', '12/26/24, 4:57\\u202fPM - +44 7889 643371: Wordle 1,286 X/6', '', '🟩⬜⬜🟩⬜', '🟩⬜⬜🟩⬜', '🟩⬜⬜🟩⬜', '🟩⬜⬜🟩⬜', '🟩⬜⬜🟩⬜', '🟩⬜⬜⬜⬜', '12/26/24, 5:56\\u202fPM - +44 7889 643371: Ok i cocked up on the final try))', '12/27/24, 8:03\\u202fAM - Sean Edwards: What was yesterday’s word?', '12/27/24, 9:51\\u202fAM - Tomos: Wordle 1,287 5/6', '', '🟨⬛⬛🟨⬛', '⬛🟩🟩⬛⬛', '⬛🟩🟩🟩🟩', '⬛🟩🟩🟩🟩', '🟩🟩🟩🟩🟩', '12/27/24, 9:52\\u202fAM - Tomos: Affix', '12/27/24, 10:01\\u202fAM - Sean Edwards: Wordle 1,287 4/6', '', '⬜⬜⬜⬜⬜', '⬜🟩🟩🟩⬜', '⬜🟩🟩🟩⬜', '🟩🟩🟩🟩🟩', '12/27/24, 10:02\\u202fAM - Sean Edwards: Ouch', '12/27/24, 10:21\\u202fAM - Ben Hawkey: Wordle 1,287 3/6', '', '⬛🟩🟩🟩⬛', '⬛🟩🟩🟩🟩', '🟩🟩🟩🟩🟩', '12/27/24, 11:09\\u202fAM - Stephen Jackson: Wordle 1,287 6/6', '', '🟨⬛⬛🟩⬛', '⬛⬛🟩🟩🟩', '⬛⬛🟩🟩🟩', '⬛🟩🟩🟩🟩', '⬛🟩🟩🟩🟩', '🟩🟩🟩🟩🟩', '12/27/24, 12:00\\u202fPM - +44 7889 643371: Wordle 1,287 6/6', '', '🟨⬜⬜🟩⬜', '⬜🟨🟨🟩⬜', '⬜⬜🟩🟩🟩', '⬜🟩🟩🟩🟩', '⬜🟩🟩🟩🟩', '🟩🟩🟩🟩🟩', '12/28/24, 11:48\\u202fAM - Ben Hawkey: Wordle 1,288 4/6', '', '⬛⬛🟨⬛⬛', '🟩🟨🟨⬛⬛', '🟩🟩⬛🟩🟩', '🟩🟩🟩🟩🟩', '12/28/24, 12:11\\u202fPM - Stephen Jackson: Wordle 1,288 4/6', '', '⬛⬛🟨⬛⬛', '⬛🟩⬛⬛🟩', '⬛🟩🟩⬛🟩', '🟩🟩🟩🟩🟩', '12/28/24, 12:14\\u202fPM - +44 7889 643371: Wordle 1,288 4/6', '', '⬜🟨⬜⬜⬜', '🟨⬜⬜🟨🟨', '🟩🟩🟨⬜🟩', '🟩🟩🟩🟩🟩', '12/28/24, 7:29\\u202fPM - Tomos: Wordle 1,288 5/6', '', '⬛⬛⬛⬛🟨', '⬛🟨🟨⬛⬛', '⬛⬛🟨🟩⬛', '⬛🟩⬛🟩🟩', '🟩🟩🟩🟩🟩', '12/28/24, 9:10\\u202fPM - Sean Edwards: Wordle 1,288 4/6', '', '⬜⬜⬜⬜🟨', '🟨⬜⬜🟩⬜', '🟨⬜🟨🟩⬜', '🟩🟩🟩🟩🟩', '12/29/24, 10:14\\u202fAM - Ben Hawkey: Wordle 1,289 6/6', '', '⬛⬛⬛🟨⬛', '⬛⬛🟨⬛⬛', '⬛🟩⬛⬛⬛', '🟨⬛⬛⬛🟩', '🟨🟩⬛⬛🟩', '🟩🟩🟩🟩🟩', '12/29/24, 10:14\\u202fAM - Ben Hawkey: What the hell', '12/29/24, 10:46\\u202fAM - Stephen Jackson: Wordle 1,289 5/6', '', '🟨⬛⬛⬛🟩', '🟨⬛🟨⬛🟩', '⬛🟩⬛🟩🟩', '⬛🟩🟩🟩🟩', '🟩🟩🟩🟩🟩', '12/29/24, 1:25\\u202fPM - +44 7889 643371: Wordle 1,289 X/6', '', '⬜⬜⬜🟨⬜', '⬜⬜⬜🟨⬜', '🟨🟩⬜⬜⬜', '⬜🟩🟩🟩🟩', '⬜🟩🟩🟩🟩', '⬜🟩🟩🟩🟩', '12/29/24, 8:43\\u202fPM - Tomos: Wordle 1,289 4/6', '', '⬛🟩⬛⬛🟩', '🟩🟩⬛⬛🟩', '🟩🟩⬛⬛🟩', '🟩🟩🟩🟩🟩', '12/30/24, 8:42\\u202fAM - Sean Edwards: Wordle 1,290 X/6', '', '⬜⬜🟩🟨🟨', '🟩🟩🟩⬜⬜', '🟩🟩🟩⬜⬜', '🟩🟩🟩⬜🟩', '🟩🟩🟩⬜🟩', '🟩🟩🟩🟩⬜', '12/30/24, 8:42\\u202fAM - Sean Edwards: Oops typed it in wrong at the end lol', '12/30/24, 9:25\\u202fAM - +44 7889 643371: Wordle 1,290 3/6', '', '🟨🟨🟩⬜⬜', '🟩🟩🟩🟩⬜', '🟩🟩🟩🟩🟩', '12/30/24, 9:59\\u202fAM - Ben Hawkey: Wordle 1,290 5/6', '', '🟨🟨⬛🟨⬛', '🟨🟨🟨⬛⬛', '🟩⬛🟨⬛🟨', '🟩⬛🟩🟨🟩', '🟩🟩🟩🟩🟩', '12/30/24, 2:04\\u202fPM - Tomos: Wordle 1,290 5/6', '', '⬛🟨⬛🟨⬛', '🟨🟨⬛⬛🟨', '🟨🟨🟨⬛🟨', '🟩🟩🟨🟨🟩', '🟩🟩🟩🟩🟩', '12/30/24, 2:33\\u202fPM - Bal The Veen: Wordle 1,290 3/6', '', '🟩⬛🟩🟩🟩', '🟩⬛🟩🟩🟩', '🟩🟩🟩🟩🟩', '12/31/24, 7:46\\u202fAM - +44 7889 643371: Wordle 1,291 3/6', '', '⬜🟨⬜⬜🟨', '🟩⬜🟨⬜⬜', '🟩🟩🟩🟩🟩', '12/31/24, 8:02\\u202fAM - Bal The Veen: Wordle 1,291 5/6', '', '⬛⬛⬛🟨🟨', '⬛🟨🟨⬛⬛', '⬛⬛⬛🟨🟩', '⬛⬛🟩⬛⬛', '🟩🟩🟩🟩🟩', '12/31/24, 9:52\\u202fAM - Ben Hawkey: Wordle 1,291 5/6', '', '⬛🟨⬛⬛🟨', '⬛🟨🟨🟨⬛', '⬛🟨🟨🟨🟨', '⬛🟨🟨🟩🟩', '🟩🟩🟩🟩🟩', '12/31/24, 9:55\\u202fAM - Tomos: Wordle 1,291 3/6', '', '⬛🟨⬛⬛🟨', '⬛🟩⬛🟩🟩', '🟩🟩🟩🟩🟩', '12/31/24, 5:51\\u202fPM - Sean Edwards: Wordle 1,291 5/6', '', '⬜⬜🟨⬜🟨', '🟨⬜⬜🟨🟩', '⬜🟨🟨🟨🟩', '⬜🟨🟨🟩🟩', '🟩🟩🟩🟩🟩', '12/31/24, 6:22\\u202fPM - Stephen Jackson: Wordle 1,291 4/6', '', '⬛🟨⬛⬛⬛', '⬛🟨🟨⬛🟨', '⬛🟩🟨🟩🟨', '🟩🟩🟩🟩🟩', '1/1/25, 2:50\\u202fAM - Sean Edwards: Wordle 1,292 6/6', '', '⬜⬜⬜⬜⬜', '⬜⬜🟨⬜⬜', '⬜🟩🟨🟨⬜', '⬜🟩🟩🟩🟩', '⬜🟩🟩🟩🟩', '🟩🟩🟩🟩🟩', '1/1/25, 2:53\\u202fAM - Stephen Jackson: Wordle 1,292 3/6', '', '⬛⬛⬛⬛⬛', '⬛⬛🟨🟨⬛', '🟩🟩🟩🟩🟩', '1/1/25, 2:54\\u202fAM - Ben Hawkey: Wordle 1,292 6/6', '', '⬛🟨⬛⬛⬛', '🟨⬛⬛🟨⬛', '⬛⬛🟨🟨🟨', '⬛🟩🟩🟨⬛', '⬛🟩🟩⬛🟩', '🟩🟩🟩🟩🟩', '1/1/25, 2:54\\u202fAM - Stephen Jackson: May or may not have got information from Ben there', '1/1/25, 2:55\\u202fAM - Sean Edwards: Instant +50 to start the new year for cheating', '1/1/25, 2:57\\u202fAM - Ben Hawkey: Give Steve a DNF', '1/1/25, 3:00\\u202fAM - +44 7889 643371: Wordle 1,292 5/6', '', '⬜🟨⬜⬜⬜', '🟨🟩⬜⬜⬜', '⬜🟩⬜⬜🟩', '⬜🟩🟩🟩🟩', '🟩🟩🟩🟩🟩', '1/1/25, 8:32\\u202fAM - Bal The Veen: Wordle 1,292 5/6', '', '⬛⬛⬛🟨🟩', '⬛🟨⬛⬛🟩', '⬛🟩⬛🟨🟩', '⬛🟩🟩⬛🟩', '🟩🟩🟩🟩🟩', '1/1/25, 8:32\\u202fAM - Bal The Veen: Poooooo', '1/1/25, 8:33\\u202fAM - Bal The Veen: Happy New Year wordles 🧡', '1/1/25, 9:08\\u202fAM - Sean Edwards: Happy new year!!', '1/1/25, 9:26\\u202fAM - Tomos: 🟩🟩🟩🟩🟩', '🟩🟩🟩', '🟩🟩🟩🟩 🎉', '1/1/25, 9:27\\u202fAM - Bal The Veen: Tom just chortled at his own joke', '1/2/25, 6:00\\u202fAM - Tomos: Wordle 1,293 4/6', '', '⬛⬛⬛⬛🟩', '🟨⬛🟩⬛🟩', '⬛🟩🟩🟩🟩', '🟩🟩🟩🟩🟩', '1/2/25, 6:04\\u202fAM - Bal The Veen: Wordle 1,293 2/6', '', '🟨🟨⬛⬛🟩', '🟩🟩🟩🟩🟩', '1/2/25, 9:18\\u202fAM - +44 7889 643371: Wordle 1,293 4/6', '', '⬜⬜⬜⬜⬜', '⬜🟨⬜🟨⬜', '🟨🟨🟩⬜🟩', '🟩🟩🟩🟩🟩', '1/2/25, 9:18\\u202fAM - Sean Edwards: Wordle 1,293 5/6', '', '⬜⬜⬜🟨🟩', '🟩🟩⬜⬜🟩', '🟩🟩⬜⬜🟩', '🟩🟩🟩⬜🟩', '🟩🟩🟩🟩🟩', '1/2/25, 11:25\\u202fAM - Ben Hawkey: Wordle 1,293 3/6', '', '⬛⬛⬛⬛⬛', '🟨🟩🟩⬛⬛', '🟩🟩🟩🟩🟩', '1/3/25, 9:39\\u202fAM - +44 7889 643371: Wordle 1,294 3/6', '', '⬜⬜⬜🟩⬜', '⬜🟨🟩🟩⬜', '🟩🟩🟩🟩🟩', '1/3/25, 1:26\\u202fPM - Ben Hawkey: Wordle 1,294 2/6', '', '⬛⬛⬛🟩⬛', '🟩🟩🟩🟩🟩', '1/3/25, 4:18\\u202fPM - Tomos: Wordle 1,294 3/6', '', '⬛🟨⬛⬛⬛', '🟨⬛🟨⬛⬛', '🟩🟩🟩🟩🟩', '1/3/25, 4:25\\u202fPM - Stephen Jackson: Wordle 1,294 5/6', '', '🟨⬛⬛⬛⬛', '⬛🟨🟨⬛🟨', '🟨🟨⬛🟨⬛', '🟨🟨🟨🟨⬛', '🟩🟩🟩🟩🟩', '1/4/25, 9:28\\u202fAM - Sean Edwards: Wordle 1,295 4/6', '', '⬜⬜⬜⬜🟨', '🟨🟨⬜🟨🟨', '⬜🟨🟨🟨🟨', '🟩🟩🟩🟩🟩', '1/4/25, 9:55\\u202fAM - +44 7889 643371: Wordle 1,295 3/6', '', '⬜🟨🟨⬜🟨', '🟩🟨🟩⬜⬜', '🟩🟩🟩🟩🟩', '1/4/25, 11:33\\u202fAM - Stephen Jackson: Wordle 1,295 4/6', '', '🟨⬛⬛⬛⬛', '⬛⬛🟨🟨🟨', '⬛🟩🟨🟩🟨', '🟩🟩🟩🟩🟩', '1/4/25, 11:44\\u202fAM - Ben Hawkey: Wordle 1,295 3/6', '', '⬛🟨⬛🟩🟨', '⬛🟨⬛🟩⬛', '🟩🟩🟩🟩🟩', '1/4/25, 9:01\\u202fPM - Tomos: Wordle 1,295 5/6', '', '⬛⬛🟨🟨🟨', '🟩🟨⬛🟨⬛', '🟩🟩🟨⬛⬛', '🟩🟩🟩🟩⬛', '🟩🟩🟩🟩🟩', '1/4/25, 9:06\\u202fPM - Bal The Veen: Wordle 1,295 5/6', '', '⬛⬛🟨🟨🟨', '⬛🟨🟨🟩🟨', '⬛🟩🟨🟩🟨', '🟩🟩🟩🟩⬛', '🟩🟩🟩🟩🟩', '1/5/25, 10:22\\u202fAM - Stephen Jackson: Wordle 1,296 5/6', '', '⬛⬛⬛⬛⬛', '⬛🟨🟨⬛⬛', '🟩⬛🟨🟨⬛', '🟩⬛🟨⬛🟨', '🟩🟩🟩🟩🟩', '1/5/25, 11:09\\u202fAM - Ben Hawkey: Wordle 1,296 4/6', '', '⬛🟨⬛⬛⬛', '🟨⬛⬛🟩🟨', '🟨⬛🟨🟩🟩', '🟩🟩🟩🟩🟩', '1/5/25, 11:11\\u202fAM - +44 7889 643371: Wordle 1,296 5/6', '', '⬜🟨⬜⬜⬜', '🟨🟨🟨⬜⬜', '🟩🟨⬜⬜🟨', '🟩⬜⬜🟩🟩', '🟩🟩🟩🟩🟩', '1/5/25, 10:11\\u202fPM - Tomos: Wordle 1,296 5/6', '', '⬛🟨⬛🟨🟨', '🟩🟨⬛🟩⬛', '🟩⬛🟨🟩⬛', '🟩⬛⬛🟩🟩', '🟩🟩🟩🟩🟩', '1/5/25, 10:12\\u202fPM - Bal The Veen: Wordle 1,296 6/6', '', '⬛⬛⬛🟨🟨', '⬛🟨🟨🟨⬛', '⬛⬛🟨🟩🟩', '🟩⬛⬛🟩🟩', '🟩⬛⬛🟩🟩', '🟩🟩🟩🟩🟩', '1/6/25, 7:53\\u202fAM - Sean Edwards: Wordle 1,297 4/6', '', '🟩⬜⬜🟨⬜', '🟩⬜⬜⬜🟨', '🟩🟨⬜⬜⬜', '🟩🟩🟩🟩🟩', '1/6/25, 8:01\\u202fAM - Bal The Veen: Wordle 1,297 3/6', '', '🟩⬛⬛🟨⬛', '🟩⬛🟩⬛⬛', '🟩🟩🟩🟩🟩', '1/6/25, 8:16\\u202fAM - Ben Hawkey: Wordle 1,297 6/6', '', '⬛🟨🟨⬛⬛', '⬛⬛🟨🟨🟨', '🟨🟨🟨⬛⬛', '🟨⬛🟩🟩⬛', '🟩⬛🟩⬛🟨', '🟩🟩🟩🟩🟩', '1/6/25, 8:22\\u202fAM - +44 7889 643371: Wordle 1,297 3/6', '', '⬜🟨⬜🟩⬜', '🟨⬜🟨⬜⬜', '🟩🟩🟩🟩🟩', '1/6/25, 4:46\\u202fPM - Stephen Jackson: Wordle 1,297 3/6', '', '⬛⬛⬛🟩⬛', '🟨⬛⬛🟩🟨', '🟩🟩🟩🟩🟩', '1/6/25, 4:48\\u202fPM - Tomos: Wordle 1,297 3/6', '', '🟨⬛⬛🟩⬛', '🟩⬛🟩🟩🟨', '🟩🟩🟩🟩🟩', '1/7/25, 10:36\\u202fAM - +44 7889 643371: Wordle 1,298 3/6', '', '🟨⬜🟨⬜🟨', '🟨🟨🟨⬜⬜', '🟩🟩🟩🟩🟩', '1/7/25, 3:16\\u202fPM - Ben Hawkey: Wordle 1,298 4/6*', '', '🟨⬛⬛🟩🟨', '⬛🟨⬛🟩🟨', '🟨🟩⬛🟩🟨', '🟩🟩🟩🟩🟩', '1/7/25, 3:16\\u202fPM - Sean Edwards: Wordle 1,298 5/6', '', '⬜🟨⬜⬜⬜', '🟨🟩🟨⬜⬜', '🟩🟩⬜⬜🟩', '🟩🟩⬜🟩🟩', '🟩🟩🟩🟩🟩', '1/7/25, 3:28\\u202fPM - Bal The Veen: Suspicious behaviour', \"1/7/25, 3:28\\u202fPM - Bal The Veen: What's with the asterisk?\", '1/7/25, 3:29\\u202fPM - Ben Hawkey: Oh I don’t know', '1/7/25, 3:29\\u202fPM - Ben Hawkey: I did it on the app', \"1/7/25, 3:30\\u202fPM - Tomos: I've read up on this because I've seen it on yours before... apparently it indicates that you're playing on 'Hard Mode'? But that can't be right...\", '1/7/25, 3:30\\u202fPM - Stephen Jackson: Wordle 1,298 5/6*****', '', '🟩⬛⬛⬛⬛', '🟩⬛⬛⬛⬛', '🟩🟨⬛⬛🟨', '🟩⬛🟨🟨🟨', '🟩🟩🟩🟩🟩', '1/7/25, 3:30\\u202fPM - Ben Hawkey: <Media omitted>', '1/7/25, 3:31\\u202fPM - Ben Hawkey: Oh I’ve just given away loads there for the people who haven’t played yet', '1/7/25, 3:31\\u202fPM - Ben Hawkey: DNF for everyone today', \"1/7/25, 3:31\\u202fPM - Stephen Jackson: Why wouldn't you be using hints in the next guesses?\", \"1/7/25, 3:31\\u202fPM - Stephen Jackson: Isn't that the game\", '1/7/25, 3:32\\u202fPM - Bal The Veen: PAHAHAHAHA', '1/7/25, 3:32\\u202fPM - Sean Edwards: Nah you can do multiple words to e.g. get 15 letters out in three rounds. I usually do this if I’m on 4/6 and stuck', '1/7/25, 3:32\\u202fPM - Bal The Veen: 🥲', '1/7/25, 3:33\\u202fPM - Sean Edwards: Excuses!!', '1/7/25, 3:33\\u202fPM - Bal The Veen: Ben babes just take the L', '1/7/25, 3:34\\u202fPM - Ben Hawkey: It just makes you use your yellows and greens', '1/7/25, 3:36\\u202fPM - Stephen Jackson: It seems useful because sometimes I forget to do that', '1/7/25, 7:47\\u202fPM - Tomos: Wordle 1,298 4/6', '', '⬛⬛🟨⬛⬛', '🟩⬛⬛⬛🟨', '🟩🟨🟨🟩⬛', '🟩🟩🟩🟩🟩', '1/7/25, 7:52\\u202fPM - Bal The Veen: Wordle 1,298 5/6', '', '🟨⬛🟨⬛⬛', '⬛🟨🟨🟨⬛', '⬛⬛🟨🟩🟩', '🟨⬛⬛🟩🟩', '🟩🟩🟩🟩🟩', '1/8/25, 7:01\\u202fAM - Sean Edwards: Wordle 1,299 4/6', '', '⬜🟩🟩⬜⬜', '⬜🟩🟩⬜⬜', '⬜⬜⬜⬜🟩', '🟩🟩🟩🟩🟩', '1/8/25, 7:13\\u202fAM - Ben Hawkey: Wordle 1,299 5/6', '', '🟨🟩⬛🟨⬛', '⬛🟩🟩🟨⬛', '⬛🟩🟩⬛🟩', '⬛🟩🟩⬛⬛', '🟩🟩🟩🟩🟩', '1/8/25, 8:19\\u202fAM - +44 7889 643371: Wordle 1,299 3/6', '', '🟨🟩🟩⬜⬜', '⬜🟩🟩⬜🟩', '🟩🟩🟩🟩🟩', '1/8/25, 8:32\\u202fAM - Tomos: Wordle 1,299 4/6', '', '⬛⬛🟩🟨⬛', '🟨⬛🟩🟨⬛', '🟩🟩🟩⬛⬛', '🟩🟩🟩🟩🟩', '1/8/25, 3:11\\u202fPM - Stephen Jackson: Wordle 1,299 6/6', '', '🟨⬛🟨⬛⬛', '🟩🟨⬛⬛⬛', '🟩🟩🟩⬛⬛', '🟩🟩🟩⬛⬛', '🟩🟩🟩🟨⬛', '🟩🟩🟩🟩🟩', '1/9/25, 7:28\\u202fAM - Bal The Veen: Wordle 1,300 2/6', '', '🟨🟨🟨⬛⬛', '🟩🟩🟩🟩🟩', '1/9/25, 7:29\\u202fAM - Sean Edwards: Wordle 1,300 X/6', '', '🟨⬜⬜⬜⬜', '⬜⬜🟨⬜🟨', '🟨⬜⬜🟨🟨', '🟨🟩⬜🟩⬜', '⬜🟩⬜🟩🟩', '⬜🟩⬜🟩🟩', '1/9/25, 7:48\\u202fAM - Ben Hawkey: Wordle 1,300 X/6', '', '⬛🟨⬛🟨⬛', '🟨🟩⬛⬛⬛', '⬛⬛🟨🟨⬛', '⬛🟩🟨⬛⬛', '⬛🟩⬛⬛🟩', '⬛🟩⬛🟩🟩', '1/9/25, 7:48\\u202fAM - Ben Hawkey: What the hell Bill', '1/9/25, 9:15\\u202fAM - +44 7889 643371: Wordle 1,300 4/6', '', '⬜🟨🟨⬜⬜', '⬜🟨🟨⬜🟨', '⬜🟩🟨🟩⬜', '🟩🟩🟩🟩🟩', '1/9/25, 9:20\\u202fAM - Stephen Jackson: Wordle 1,300 5/6', '', '🟨⬛⬛⬛⬛', '⬛🟨🟨⬛⬛', '⬛🟨🟨⬛⬛', '🟨⬛🟨🟨🟨', '🟩🟩🟩🟩🟩', '1/9/25, 11:42\\u202fAM - Tomos: 🚨 SEASON 1 RESULTS 🚨', '', '🏆 Balveen - 1100', '🥈 Tomos - 1166', '🥉 Jeremy - 1192', '4️⃣ Sean - 1222', '5️⃣ Stephen - 1234', '🥄 Benjamin - 1385', '1/9/25, 11:47\\u202fAM - Sean Edwards: Congrats', '1/9/25, 11:49\\u202fAM - Tomos: And some awards...', '', '♻️ Ever-present - Jeremy (0 games missed)', '', '🫥 The Invisible Man - Balveen (15 games missed)', '', '🥲 Biggest Loser - Sean/Stephen (4 games lost)', '', '🟩 Green Giant - Ben (739 green tiles used)', '', '🟨 Mellow Yellow - Ben (224 Yellow tiles used)', '', '☝️ One and Done - Tomos (1 game completed in one attempt)', '', '😅 Life on the Edge - Sean (20 games completed on the last attempt)', '1/9/25, 11:50\\u202fAM - Sean Edwards: I love this haha', '1/9/25, 12:17\\u202fPM - Ben Hawkey: Hahahahaha that is fantastic', '1/9/25, 8:04\\u202fPM - Tomos: Wordle 1,300 6/6', '', '🟨🟨⬛⬛🟨', '🟨🟨🟨⬛⬛', '⬛🟩⬛🟩🟩', '⬛🟩⬛🟩🟩', '🟩🟩⬛🟩🟩', '🟩🟩🟩🟩🟩', '1/10/25, 7:06\\u202fAM - Sean Edwards: Wordle 1,301 4/6', '', '⬜🟨⬜⬜⬜', '🟩⬜🟩⬜🟨', '🟩🟩🟩⬜⬜', '🟩🟩🟩🟩🟩', \"1/10/25, 8:11\\u202fAM - Bal The Veen: Knew I'd be good at something\", '1/10/25, 11:09\\u202fAM - +44 7889 643371: Wordle 1,301 2/6', '', '⬜🟩⬜🟨🟩', '🟩🟩🟩🟩🟩', '1/10/25, 11:26\\u202fAM - Stephen Jackson: Wordle 1,301 3/6', '', '⬛⬛🟩🟨⬛', '⬛🟨🟩⬛🟨', '🟩🟩🟩🟩🟩', '1/10/25, 12:21\\u202fPM - Ben Hawkey: Wordle 1,301 2/6', '', '⬛🟩⬛🟨🟩', '🟩🟩🟩🟩🟩', '1/10/25, 2:47\\u202fPM - Tomos: Suspicious', \"1/10/25, 2:52\\u202fPM - Bal The Veen: He's got super vision now\", '1/10/25, 2:53\\u202fPM - Ben Hawkey: We’re using the best starter word', \"1/10/25, 2:55\\u202fPM - Bal The Veen: Pretty sure I've got the best starter word\", '1/10/25, 2:55\\u202fPM - Ben Hawkey: What is it?', '1/10/25, 2:56\\u202fPM - Tomos: Wordle 1,301 4/6', '', '🟩⬛⬛⬛🟨', '🟩🟩🟩⬛⬛', '🟩🟩🟩⬛⬛', '🟩🟩🟩🟩🟩', '1/10/25, 2:56\\u202fPM - Bal The Veen: Not telling x', '1/11/25, 1:53\\u202fAM - Sean Edwards: Wordle 1,302 6/6', '', '⬜⬜⬜⬜⬜', '⬜⬜⬜🟨⬜', '⬜⬜🟨🟨🟩', '🟨🟩⬜⬜🟩', '⬜🟩🟩🟨🟩', '🟩🟩🟩🟩🟩', '1/11/25, 6:45\\u202fAM - Ben Hawkey: Wordle 1,302 4/6', '', '⬛⬛🟨⬛⬛', '⬛🟩🟩⬛🟩', '⬛⬛🟩⬛🟩', '🟩🟩🟩🟩🟩', '1/11/25, 11:04\\u202fAM - +44 7889 643371: Wordle 1,302 3/6', '', '⬜⬜🟨⬜⬜', '⬜🟩🟩🟨🟩', '🟩🟩🟩🟩🟩', '1/11/25, 11:07\\u202fAM - Stephen Jackson: Wordle 1,302 4/6', '', '⬛⬛🟨🟨⬛', '⬛⬛🟨⬛🟨', '⬛🟩🟩🟨🟩', '🟩🟩🟩🟩🟩', '1/12/25, 8:02\\u202fAM - Sean Edwards: Wordle 1,303 3/6', '', '⬜🟨🟨⬜⬜', '🟩🟨🟨⬜⬜', '🟩🟩🟩🟩🟩', '1/12/25, 8:39\\u202fAM - Ben Hawkey: Wordle 1,303 2/6', '', '🟩⬛⬛🟩🟩', '🟩🟩🟩🟩🟩', '1/12/25, 10:14\\u202fAM - Tomos: Wordle 1,303 4/6', '', '⬛⬛⬛⬛⬛', '⬛🟨🟨🟨⬛', '⬛🟨🟨🟩🟨', '🟩🟩🟩🟩🟩', '1/12/25, 11:41\\u202fAM - Stephen Jackson: Wordle 1,303 3/6', '', '⬛🟩🟨⬛⬛', '🟩🟩⬛🟩🟩', '🟩🟩🟩🟩🟩', '1/12/25, 1:03\\u202fPM - +44 7889 643371: Wordle 1,303 2/6', '', '🟩⬜⬜🟩🟩', '🟩🟩🟩🟩🟩', '1/12/25, 9:38\\u202fPM - Bal The Veen: Wordle 1,303 3/6', '', '⬛🟩🟨⬛⬛', '⬛🟩⬛🟩⬛', '🟩🟩🟩🟩🟩', '1/13/25, 7:03\\u202fAM - Sean Edwards: Wordle 1,304 4/6', '', '⬜🟨⬜⬜⬜', '⬜🟩🟩🟨🟩', '🟩🟩🟩⬜🟩', '🟩🟩🟩🟩🟩', '1/13/25, 9:05\\u202fAM - Ben Hawkey: Wordle 1,304 6/6', '', '⬛⬛⬛🟩🟨', '⬛⬛🟨🟩⬛', '⬛🟩🟩🟩⬛', '⬛🟩🟩🟩⬛', '🟩🟩🟩🟩⬛', '🟩🟩🟩🟩🟩', '1/13/25, 9:26\\u202fAM - +44 7889 643371: Wordle 1,304 4/6', '', '🟨⬜⬜🟨⬜', '🟨🟨⬜🟨⬜', '⬜🟩🟨🟨🟩', '🟩🟩🟩🟩🟩', '1/13/25, 10:49\\u202fAM - Stephen Jackson: Wordle 1,304 4/6', '', '⬛🟨🟨⬛⬛', '⬛🟨⬛🟨⬛', '⬛🟩🟩🟩⬛', '🟩🟩🟩🟩🟩', '1/13/25, 11:08\\u202fAM - Tomos: Wordle 1,304 3/6', '', '🟩⬛🟨⬛⬛', '🟩🟩🟨⬛⬛', '🟩🟩🟩🟩🟩', '1/14/25, 7:00\\u202fAM - Sean Edwards: Wordle 1,305 6/6', '', '🟨⬜⬜⬜⬜', '⬜⬜⬜🟨⬜', '⬜⬜🟨⬜⬜', '⬜🟩🟨⬜🟩', '🟨🟩🟩⬜🟩', '🟩🟩🟩🟩🟩', '1/14/25, 9:01\\u202fAM - +44 7889 643371: Wordle 1,305 5/6', '', '⬜⬜⬜🟨⬜', '⬜⬜🟨⬜⬜', '🟨⬜⬜🟨⬜', '⬜🟩🟩⬜🟩', '🟩🟩🟩🟩🟩', '1/14/25, 9:13\\u202fAM - Ben Hawkey: Wordle 1,305 6/6', '', '⬛⬛⬛🟨⬛', '⬛🟩⬛⬛🟩', '⬛🟩🟨⬛🟩', '🟨🟩⬛⬛🟩', '⬛🟩🟩🟩🟩', '🟩🟩🟩🟩🟩', '1/14/25, 10:02\\u202fAM - Stephen Jackson: Wordle 1,305 4/6', '', '🟨⬛⬛⬛⬛', '⬛🟨🟨⬛⬛', '⬛🟩🟨⬛🟩', '🟩🟩🟩🟩🟩', '1/14/25, 7:55\\u202fPM - Tomos: Wordle 1,305 4/6', '', '⬛⬛🟨⬛⬛', '⬛🟩🟩⬛🟩', '⬛🟩🟩⬛🟩', '🟩🟩🟩🟩🟩', '1/15/25, 10:07\\u202fAM - Stephen Jackson: Wordle 1,306 4/6', '', '🟨⬛⬛⬛⬛', '⬛🟨⬛⬛⬛', '🟨⬛🟩🟨🟩', '🟩🟩🟩🟩🟩', '1/15/25, 10:08\\u202fAM - Sean Edwards: Wordle 1,306 4/6', '', '⬜⬜🟩⬜⬜', '🟨🟨⬜⬜🟩', '⬜⬜🟩🟩🟩', '🟩🟩🟩🟩🟩', '1/15/25, 10:22\\u202fAM - +44 7889 643371: Wordle 1,306 4/6', '', '⬜⬜🟩⬜⬜', '⬜⬜🟩🟨⬜', '⬜🟩🟩🟩🟩', '🟩🟩🟩🟩🟩', '1/15/25, 3:50\\u202fPM - Ben Hawkey: Wordle 1,306 5/6', '', '⬛⬛⬛🟨⬛', '⬛🟨🟨⬛⬛', '🟨⬛⬛🟨⬛', '⬛🟩🟩🟨⬛', '🟩🟩🟩🟩🟩', '1/15/25, 8:06\\u202fPM - Tomos: Wordle 1,306 3/6', '', '🟨🟩⬛⬛⬛', '⬛🟩🟩🟩🟩', '🟩🟩🟩🟩🟩', '1/15/25, 8:50\\u202fPM - Ben Hawkey: Is ittttttt', '1/15/25, 8:50\\u202fPM - Tomos: Sure is', '1/16/25, 6:41\\u202fAM - Sean Edwards: Wordle 1,307 3/6', '', '⬜⬜⬜⬜🟩', '⬜🟩⬜🟨🟩', '🟩🟩🟩🟩🟩', '1/16/25, 6:57\\u202fAM - Ben Hawkey: Wordle 1,307 4/6*', '', '🟨⬛⬛🟨🟨', '⬛🟨🟨🟨⬛', '🟩🟩🟩⬛🟩', '🟩🟩🟩🟩🟩', '1/16/25, 9:36\\u202fAM - +44 7889 643371: Wordle 1,307 4/6', '', '🟨⬜⬜🟨🟨', '🟨🟨⬜🟨⬜', '⬜⬜🟩🟨🟩', '🟩🟩🟩🟩🟩', '1/16/25, 8:08\\u202fPM - Tomos: Wordle 1,307 4/6', '', '⬛⬛🟩⬛⬛', '⬛🟩🟩🟩⬛', '⬛🟩🟩🟩⬛', '🟩🟩🟩🟩🟩', '1/17/25, 6:30\\u202fAM - Sean Edwards: Wordle 1,308 2/6', '', '⬜🟨⬜🟩🟩', '🟩🟩🟩🟩🟩', '1/17/25, 8:35\\u202fAM - Stephen Jackson: Wordle 1,308 2/6', '', '🟨🟨⬛🟨🟩', '🟩🟩🟩🟩🟩', '1/17/25, 8:43\\u202fAM - +44 7889 643371: Wordle 1,308 6/6', '', '⬜🟩⬜⬜⬜', '⬜🟩🟩⬜⬜', '⬜🟩🟩⬜🟨', '🟩🟩🟩⬜🟩', '🟩🟩🟩⬜🟩', '🟩🟩🟩🟩🟩', '1/17/25, 9:37\\u202fAM - Ben Hawkey: Wordle 1,308 5/6', '', '⬛🟩⬛⬛⬛', '🟩🟩🟩⬛🟩', '🟩🟩🟩⬛🟩', '🟩🟩🟩⬛🟩', '🟩🟩🟩🟩🟩', '1/17/25, 9:37\\u202fAM - Ben Hawkey: That’s sooo annoying', '1/17/25, 10:16\\u202fPM - Tomos: Wordle 1,308 4/6', '', '⬛🟩⬛⬛🟩', '🟩🟩⬛⬛🟩', '🟩🟩🟩⬛🟩', '🟩🟩🟩🟩🟩', '1/18/25, 8:01\\u202fAM - +44 7889 643371: Wordle 1,309 3/6', '', '⬜⬜⬜🟨🟨', '⬜🟩🟩⬜🟩', '🟩🟩🟩🟩🟩', '1/18/25, 8:52\\u202fAM - Sean Edwards: Wordle 1,309 2/6', '', '⬜⬜🟨🟩⬜', '🟩🟩🟩🟩🟩', '1/18/25, 9:28\\u202fAM - Bal The Veen: Wordle 1,309 3/6', '', '🟩⬛⬛⬛⬛', '🟩⬛⬛⬛🟩', '🟩🟩🟩🟩🟩', '1/18/25, 9:29\\u202fAM - Ben Hawkey: Wordle 1,309 3/6', '', '⬛⬛🟨⬛🟨', '⬛🟩🟩🟩🟨', '🟩🟩🟩🟩🟩', '1/18/25, 1:01\\u202fPM - Tomos: Wordle 1,309 4/6', '', '⬛🟨🟨⬛⬛', '🟩⬛🟨🟩🟨', '🟩🟩🟩🟩⬛', '🟩🟩🟩🟩🟩', '1/19/25, 2:35\\u202fPM - Tomos: Wordle 1,310 4/6', '', '⬛⬛🟨🟨🟨', '🟩🟩⬛🟩⬛', '🟩🟩⬛🟩🟩', '🟩🟩🟩🟩🟩', '1/19/25, 2:37\\u202fPM - Ben Hawkey: Wordle 1,310 X/6', '', '⬛🟨⬛⬛⬛', '⬛⬛⬛🟨⬛', '⬛🟩🟨🟨⬛', '🟩🟩⬛🟩🟩', '🟩🟩⬛🟩🟩', '🟩🟩⬛🟩🟩', '1/19/25, 2:37\\u202fPM - Ben Hawkey: Nahhhh', '1/19/25, 2:40\\u202fPM - +44 7889 643371: Wordle 1,310 4/6', '', '⬜🟨⬜⬜⬜', '⬜⬜🟨⬜⬜', '🟩🟩⬜🟩⬜', '🟩🟩🟩🟩🟩', '1/19/25, 5:06\\u202fPM - Sean Edwards: Wordle 1,310 6/6', '', '⬜⬜⬜⬜🟨', '🟨⬜🟨⬜⬜', '🟨⬜⬜🟩🟩', '⬜🟩⬜🟩🟩', '⬜🟩🟩🟩🟩', '🟩🟩🟩🟩🟩', '1/19/25, 5:50\\u202fPM - Stephen Jackson: Wordle 1,310 X/6', '', '⬛⬛⬛⬛🟨', '⬛⬛🟨🟨🟨', '⬛🟨🟨🟨⬛', '⬛🟩⬛🟩🟩', '⬛🟩🟩🟩🟩', '⬛🟩🟩🟩🟩', '1/19/25, 10:38\\u202fPM - Bal The Veen: Wordle 1,310 3/6', '', '⬛🟩⬛🟨🟨', '🟩🟩⬛🟩🟩', '🟩🟩🟩🟩🟩', '1/20/25, 8:40\\u202fAM - +44 7889 643371: Wordle 1,311 4/6', '', '⬜⬜⬜🟩⬜', '⬜🟨⬜🟩⬜', '🟨⬜⬜🟩🟩', '🟩🟩🟩🟩🟩', '1/20/25, 12:02\\u202fPM - Stephen Jackson: Wordle 1,311 5/6', '', '🟩⬛⬛⬛⬛', '🟩⬛🟨⬛⬛', '🟩🟨⬛⬛⬛', '🟩🟩🟩🟩⬛', '🟩🟩🟩🟩🟩', '1/20/25, 12:03\\u202fPM - Sean Edwards: Wordle 1,311 4/6', '', '⬜⬜⬜⬜⬜', '⬜🟨⬜⬜🟨', '🟩⬜🟨⬜⬜', '🟩🟩🟩🟩🟩', '1/20/25, 12:07\\u202fPM - Ben Hawkey: Wordle 1,311 4/6', '', '⬛⬛🟨⬛⬛', '🟨🟨⬛🟨⬛', '⬛🟨🟨🟨⬛', '🟩🟩🟩🟩🟩', '1/21/25, 7:20\\u202fAM - +44 7889 643371: Wordle 1,312 5/6', '', '⬜⬜⬜🟨⬜', '⬜🟨🟨⬜⬜', '⬜⬜🟩🟩⬜', '🟨⬜🟩🟩⬜', '🟩🟩🟩🟩🟩', '1/21/25, 8:09\\u202fAM - Sean Edwards: Wordle 1,312 5/6', '', '⬜⬜⬜⬜⬜', '⬜⬜⬜🟨⬜', '⬜🟨🟨⬜⬜', '⬜🟨🟩🟨⬜', '🟩🟩🟩🟩🟩', '1/21/25, 8:55\\u202fAM - Ben Hawkey: Wordle 1,312 6/6', '', '⬛⬛🟩⬛⬛', '⬛⬛🟩🟩⬛', '⬛⬛🟩🟩🟩', '⬛⬛🟩🟩🟩', '🟨⬛🟩🟩🟩', '🟩🟩🟩🟩🟩', '1/21/25, 8:13\\u202fPM - Tomos: Wordle 1,312 4/6', '', '⬛⬛⬛⬛⬛', '🟨⬛🟩⬛⬛', '⬛⬛🟩🟨⬛', '🟩🟩🟩🟩🟩', '1/21/25, 8:28\\u202fPM - Stephen Jackson: Wordle 1,312 4/6', '', '⬛⬛⬛⬛⬛', '🟨⬛🟩⬛⬛', '⬛⬛🟩🟨⬛', '🟩🟩🟩🟩🟩', '1/22/25, 7:43\\u202fAM - +44 7889 643371: Wordle 1,313 3/6', '', '⬜🟨🟩⬜⬜', '⬜⬜🟩🟨🟨', '🟩🟩🟩🟩🟩', '1/22/25, 8:02\\u202fAM - Sean Edwards: Wordle 1,313 5/6', '', '⬜⬜⬜🟩🟨', '⬜⬜🟨🟩⬜', '⬜🟩🟩🟩🟩', '⬜🟩🟩🟩🟩', '🟩🟩🟩🟩🟩', '1/22/25, 8:14\\u202fAM - Ben Hawkey: Wordle 1,313 6/6', '', '🟨⬛⬛⬛⬛', '⬛⬛🟩⬛⬛', '⬛🟨🟩⬛⬛', '⬛🟨🟩🟩🟨', '⬛🟩🟩🟩🟩', '🟩🟩🟩🟩🟩', '1/22/25, 10:22\\u202fAM - Tomos: Wordle 1,313 4/6', '', '⬛⬛🟩🟨🟨', '🟩🟩🟩⬛⬛', '🟩🟩🟩🟩⬛', '🟩🟩🟩🟩🟩', '1/22/25, 12:23\\u202fPM - Stephen Jackson: Wordle 1,313 6/6', '', '⬛⬛🟩🟨🟨', '🟩🟩🟩⬛⬛', '🟩🟩🟩⬛⬛', '🟩🟩🟩⬛⬛', '🟩🟩🟩🟩⬛', '🟩🟩🟩🟩🟩', '1/23/25, 8:30\\u202fAM - Ben Hawkey: Wordle 1,314 5/6', '', '⬛🟨⬛⬛⬛', '⬛⬛🟨⬛⬛', '⬛⬛⬛🟩🟩', '⬛🟨🟩🟩🟩', '🟩🟩🟩🟩🟩', '1/23/25, 8:39\\u202fAM - Sean Edwards: Wordle 1,314 5/6', '', '⬜⬜🟨⬜⬜', '🟨⬜⬜⬜🟨', '⬜⬜🟩🟩🟩', '⬜🟨🟩🟩🟩', '🟩🟩🟩🟩🟩', '1/23/25, 8:39\\u202fAM - Sean Edwards: 🖐️', '1/23/25, 9:06\\u202fAM - +44 7889 643371: Wordle 1,314 3/6', '', '⬜🟨⬜⬜⬜', '🟨⬜🟩🟩⬜', '🟩🟩🟩🟩🟩', '1/23/25, 3:31\\u202fPM - Tomos: Wordle 1,314 5/6', '', '⬛🟩⬛⬛🟨', '🟨🟩⬛⬛⬛', '🟩🟩⬛⬛🟨', '🟩🟩⬛🟩⬛', '🟩🟩🟩🟩🟩', '1/24/25, 6:57\\u202fAM - Sean Edwards: Wordle 1,315 4/6', '', '🟨⬜⬜⬜🟩', '⬜🟩⬜🟩🟩', '⬜🟩⬜🟩🟩', '🟩🟩🟩🟩🟩', '1/24/25, 8:37\\u202fAM - Ben Hawkey: Wordle 1,315 4/6', '', '⬛🟩⬛⬛⬛', '🟩🟩⬛🟩⬛', '🟩🟩🟩🟩⬛', '🟩🟩🟩🟩🟩', '1/24/25, 9:01\\u202fAM - +44 7889 643371: Wordle 1,315 3/6', '', '⬜🟩⬜⬜⬜', '⬜🟩⬜🟩🟩', '🟩🟩🟩🟩🟩', '1/24/25, 3:00\\u202fPM - Stephen Jackson: Wordle 1,315 3/6', '', '⬛⬛⬛🟨🟩', '🟨🟩⬛🟨🟩', '🟩🟩🟩🟩🟩', '1/25/25, 8:03\\u202fAM - Sean Edwards: Wordle 1,316 6/6', '', '🟨⬜⬜🟨⬜', '⬜🟩⬜⬜🟨', '⬜🟩⬜🟩⬜', '⬜🟩🟩🟩⬜', '🟨🟩🟩🟩⬜', '🟩🟩🟩🟩🟩', '1/25/25, 8:26\\u202fAM - Tomos: Wordle 1,316 4/6', '', '🟨🟨⬛🟨⬛', '🟨⬛🟨🟨⬛', '🟨🟩🟩🟩⬛', '🟩🟩🟩🟩🟩', '1/25/25, 8:30\\u202fAM - +44 7889 643371: Wordle 1,316 4/6', '', '⬜🟩⬜🟨⬜', '⬜🟩🟩⬜⬜', '⬜🟩🟩⬜⬜', '🟩🟩🟩🟩🟩', '1/25/25, 8:36\\u202fAM - Stephen Jackson: Wordle 1,316 5/6', '', '🟨⬛⬛🟨⬛', '🟨⬛🟩⬛🟨', '⬛🟩🟩🟩⬛', '🟨🟩🟩🟩⬛', '🟩🟩🟩🟩🟩', '1/25/25, 8:37\\u202fAM - Ben Hawkey: Wordle 1,316 4/6', '', '⬛🟩🟩⬛⬛', '🟨🟩🟩⬛⬛', '⬛🟩🟩🟨🟨', '🟩🟩🟩🟩🟩', '1/26/25, 7:58\\u202fAM - +44 7889 643371: Wordle 1,317 4/6', '', '⬜⬜⬜⬜⬜', '⬜⬜⬜⬜⬜', '⬜🟩🟨⬜🟩', '🟩🟩🟩🟩🟩', '1/26/25, 8:07\\u202fAM - Stephen Jackson: Wordle 1,317 5/6', '', '🟩⬛⬛⬛⬛', '🟩⬛🟨⬛⬛', '🟩🟩⬛⬛🟩', '🟩🟩⬛⬛🟩', '🟩🟩🟩🟩🟩', '1/26/25, 10:06\\u202fAM - Sean Edwards: Wordle 1,317 4/6', '', '⬜⬜⬜🟨⬜', '⬜🟩⬜🟨⬜', '⬜🟩🟨⬜🟩', '🟩🟩🟩🟩🟩', '1/26/25, 10:26\\u202fAM - Ben Hawkey: Wordle 1,317 4/6', '', '⬛⬛⬛⬛⬛', '🟩⬛⬛🟨⬛', '🟩🟩⬛⬛🟩', '🟩🟩🟩🟩🟩', '1/26/25, 12:31\\u202fPM - Tomos: Wordle 1,317 4/6', '', '🟩⬛⬛⬛⬛', '🟩⬛⬛🟩⬛', '🟩⬛🟨🟩⬛', '🟩🟩🟩🟩🟩', '1/27/25, 8:58\\u202fAM - +44 7889 643371: Wordle 1,318 4/6', '', '🟨⬜⬜⬜⬜', '🟩⬜🟩🟩⬜', '🟩⬜🟩🟩⬜', '🟩🟩🟩🟩🟩', '1/27/25, 9:17\\u202fAM - Ben Hawkey: Wordle 1,318 3/6', '', '⬛⬛⬛🟩⬛', '🟩🟩⬛🟩⬛', '🟩🟩🟩🟩🟩', '1/27/25, 9:39\\u202fAM - Tomos: Wordle 1,318 4/6', '', '🟩🟨⬛⬛⬛', '🟩⬛⬛⬛🟩', '🟩🟩⬛⬛🟩', '🟩🟩🟩🟩🟩', '1/28/25, 7:16\\u202fAM - Sean Edwards: Wordle 1,319 5/6', '', '⬜⬜⬜⬜⬜', '⬜⬜⬜🟨🟨', '⬜🟨🟨🟩⬜', '⬜🟩🟩🟩🟩', '🟩🟩🟩🟩🟩', '1/28/25, 8:28\\u202fAM - +44 7889 643371: Wordle 1,319 5/6', '', '⬜🟨⬜⬜⬜', '🟨🟩⬜⬜⬜', '🟩🟩🟨⬜⬜', '🟩🟩⬜⬜🟩', '🟩🟩🟩🟩🟩', '1/28/25, 8:38\\u202fAM - Ben Hawkey: Wordle 1,319 5/6', '', '⬛🟨⬛⬛🟨', '⬛🟩🟨⬛🟨', '🟨🟩🟨⬛⬛', '⬛🟩⬛🟩🟩', '🟩🟩🟩🟩🟩', '1/28/25, 8:42\\u202fAM - Tomos: Wordle 1,319 5/6', '', '⬛🟨⬛⬛⬛', '🟨🟩⬛⬛⬛', '⬛🟩🟨⬛⬛', '⬛🟩🟩🟩🟩', '🟩🟩🟩🟩🟩', '1/28/25, 9:04\\u202fPM - Stephen Jackson: Wordle 1,319 6/6', '', '⬛⬛⬛🟨🟨', '⬛⬛⬛🟩🟩', '⬛⬛⬛🟩🟩', '⬛⬛⬛🟩🟩', '⬛⬛🟨🟩🟩', '🟩🟩🟩🟩🟩', '1/29/25, 7:19\\u202fAM - +44 7889 643371: Wordle 1,320 5/6', '', '⬜🟨⬜⬜⬜', '⬜🟨🟨⬜⬜', '⬜⬜⬜🟩🟩', '🟩⬜🟩🟩🟩', '🟩🟩🟩🟩🟩', '1/29/25, 7:36\\u202fAM - Stephen Jackson: Wordle 1,320 4/6', '', '⬛⬛⬛🟨🟨', '🟨🟨⬛⬛⬛', '⬛🟨⬛🟩🟩', '🟩🟩🟩🟩🟩', '1/29/25, 8:26\\u202fAM - Sean Edwards: Wordle 1,320 4/6', '', '⬜⬜🟨⬜🟨', '⬜🟨🟩⬜⬜', '⬜🟨⬜⬜⬜', '🟩🟩🟩🟩🟩', '1/29/25, 10:38\\u202fAM - Ben Hawkey: Wordle 1,320 5/6', '', '⬛🟨⬛⬛🟨', '⬛🟨⬛🟩🟨', '🟨⬛🟩🟩⬛', '⬛⬛🟩🟩🟩', '🟩🟩🟩🟩🟩', '1/29/25, 3:26\\u202fPM - Tomos: Wordle 1,320 4/6', '', '⬛🟨⬛⬛⬛', '🟨⬛⬛🟩🟨', '🟨🟨⬛🟩⬛', '🟩🟩🟩🟩🟩', '1/29/25, 5:44\\u202fPM - Tomos: When do we propose bringing Season 2 to a close?', '1/30/25, 6:44\\u202fAM - Sean Edwards: Wordle 1,321 4/6', '', '⬜⬜🟨⬜⬜', '⬜🟨🟨🟨⬜', '🟨🟨🟨🟩⬜', '🟩🟩🟩🟩🟩', '1/30/25, 6:45\\u202fAM - Sean Edwards: Hmm I think quarterly could be good such as end of March. If you’re up to collating results until then hehe', '1/30/25, 7:39\\u202fAM - +44 7889 643371: Wordle 1,321 4/6', '', '⬜⬜🟨⬜🟨', '🟨🟩⬜⬜🟨', '🟨🟩🟩⬜🟩', '🟩🟩🟩🟩🟩', '1/30/25, 7:53\\u202fAM - Stephen Jackson: Wordle 1,321 4/6', '', '🟨⬛🟨⬛🟩', '🟨🟨⬛⬛🟩', '⬛🟩🟨⬛🟩', '🟩🟩🟩🟩🟩', '1/30/25, 8:11\\u202fAM - Tomos: Wordle 1,321 4/6', '', '⬛🟨🟨⬛🟩', '🟨⬛🟨🟨🟩', '🟨🟩⬛🟩🟩', '🟩🟩🟩🟩🟩', '1/30/25, 10:16\\u202fAM - Ben Hawkey: Wordle 1,321 3/6', '', '⬛⬛🟨⬛🟩', '🟨🟩🟩⬛🟩', '🟩🟩🟩🟩🟩', '1/30/25, 10:16\\u202fAM - Ben Hawkey: Yesss get in', '1/30/25, 10:19\\u202fAM - Bal The Veen: Nerd', '1/31/25, 7:15\\u202fAM - Sean Edwards: Wordle 1,322 5/6', '', '⬜⬜⬜🟨🟩', '⬜⬜🟩⬜🟩', '⬜⬜🟩🟩🟩', '⬜⬜🟩🟩🟩', '🟩🟩🟩🟩🟩', '1/31/25, 8:20\\u202fAM - Ben Hawkey: Wordle 1,322 3/6', '', '🟩⬛⬛🟨⬛', '🟩🟨⬛⬛🟨', '🟩🟩🟩🟩🟩', '1/31/25, 8:26\\u202fAM - Stephen Jackson: Wordle 1,322 4/6', '', '🟨🟩🟩⬛⬛', '⬛🟩🟩🟩🟩', '⬛🟩🟩🟩🟩', '🟩🟩🟩🟩🟩', '1/31/25, 9:02\\u202fAM - +44 7889 643371: Wordle 1,322 3/6', '', '🟩⬜⬜🟨⬜', '🟩⬜🟩⬜⬜', '🟩🟩🟩🟩🟩', '1/31/25, 8:55\\u202fPM - Tomos: Wordle 1,322 4/6', '', '⬛⬛🟩⬛⬛', '🟨🟨🟩⬛⬛', '🟩⬛🟩⬛🟨', '🟩🟩🟩🟩🟩', '2/1/25, 7:56\\u202fAM - Sean Edwards: Wordle 1,323 5/6', '', '⬜⬜⬜⬜🟨', '🟨⬜🟨🟨⬜', '🟨🟨🟨⬜⬜', '🟩🟨⬜🟨🟩', '🟩🟩🟩🟩🟩', '2/1/25, 9:00\\u202fAM - Ben Hawkey: Wordle 1,323 4/6', '', '🟨🟨🟨⬛⬛', '⬛🟩🟨🟨⬛', '🟩🟩🟩🟩⬛', '🟩🟩🟩🟩🟩', '2/1/25, 9:21\\u202fAM - +44 7889 643371: Wordle 1,323 3/6', '', '🟨🟨⬜🟨⬜', '🟨⬜🟨🟩🟨', '🟩🟩🟩🟩🟩', '2/1/25, 11:31\\u202fAM - Tomos: Wordle 1,323 4/6', '', '⬛🟨⬛⬛⬛', '🟩🟩⬛🟩⬛', '🟩🟩⬛🟩⬛', '🟩🟩🟩🟩🟩', '2/1/25, 11:59\\u202fAM - Stephen Jackson: Wordle 1,323 3/6', '', '⬛⬛⬛🟨🟨', '🟩🟩⬛🟩⬛', '🟩🟩🟩🟩🟩', '2/2/25, 8:05\\u202fAM - +44 7889 643371: Wordle 1,324 4/6', '', '⬜🟨⬜⬜⬜', '⬜🟨🟨⬜🟩', '⬜⬜🟩🟩🟩', '🟩🟩🟩🟩🟩', '2/2/25, 8:08\\u202fAM - Ben Hawkey: Wordle 1,324 5/6', '', '⬛🟨⬛⬛⬛', '🟨🟨⬛🟨⬛', '⬛🟨🟨🟨⬛', '🟩🟩🟩⬛🟩', '🟩🟩🟩🟩🟩', '2/2/25, 11:06\\u202fAM - Sean Edwards: Wordle 1,324 4/6', '', '⬜⬜⬜⬜🟨', '⬜🟨🟩⬜🟩', '⬜🟨🟩🟩🟩', '🟩🟩🟩🟩🟩', '2/2/25, 9:02\\u202fPM - Stephen Jackson: Wordle 1,324 2/6', '', '⬛🟨⬛🟩🟩', '🟩🟩🟩🟩🟩', '2/2/25, 9:23\\u202fPM - Tomos: Wordle 1,324 3/6', '', '⬛⬛🟩⬛⬛', '🟩🟩🟩⬛🟩', '🟩🟩🟩🟩🟩', '2/3/25, 1:06\\u202fPM - +44 7889 643371: Wordle 1,325 5/6', '', '⬜🟨⬜⬜⬜', '⬜⬜⬜🟨🟩', '🟨🟩🟨⬜🟩', '🟩🟩⬜🟨🟩', '🟩🟩🟩🟩🟩', '2/3/25, 4:29\\u202fPM - Ben Hawkey: Wordle 1,325 5/6', '', '⬛🟨⬛⬛⬛', '⬛⬛🟨⬛⬛', '🟨⬛⬛🟨🟨', '⬛🟨🟨⬛⬛', '🟩🟩🟩🟩🟩', '2/3/25, 4:29\\u202fPM - Ben Hawkey: That was so hard', '2/3/25, 4:34\\u202fPM - Stephen Jackson: Wordle 1,325 4/6', '', '⬛⬛⬛🟨🟩', '⬛🟨🟨⬛🟩', '🟩🟨⬛🟨🟩', '🟩🟩🟩🟩🟩', '2/3/25, 5:36\\u202fPM - Tomos: Wordle 1,325 5/6', '', '⬛⬛⬛🟨🟩', '⬛🟨🟨⬛🟩', '🟩⬛⬛🟩🟩', '🟩🟩⬛🟩🟩', '🟩🟩🟩🟩🟩', '2/4/25, 8:31\\u202fAM - Ben Hawkey: Wordle 1,326 4/6', '', '🟩⬛⬛⬛⬛', '🟩🟨⬛⬛⬛', '🟩🟩⬛⬛🟩', '🟩🟩🟩🟩🟩', '2/4/25, 9:31\\u202fAM - +44 7889 643371: Wordle 1,326 4/6', '', '🟩⬜⬜⬜⬜', '🟩🟨⬜⬜⬜', '🟩🟩⬜⬜🟩', '🟩🟩🟩🟩🟩', '2/4/25, 1:40\\u202fPM - Stephen Jackson: Wordle 1,326 4/6', '', '⬛🟩⬛⬛⬛', '⬛🟩⬛🟩⬛', '⬛🟩⬛🟩🟩', '🟩🟩🟩🟩🟩', '2/5/25, 9:25\\u202fAM - +44 7889 643371: Wordle 1,327 3/6', '', '⬜⬜⬜🟩🟩', '🟩🟩⬜🟩🟩', '🟩🟩🟩🟩🟩', '2/5/25, 9:27\\u202fAM - Ben Hawkey: Wordle 1,327 3/6', '', '🟨⬛🟩⬛⬛', '🟩🟨🟩⬛⬛', '🟩🟩🟩🟩🟩', '2/5/25, 9:27\\u202fAM - Stephen Jackson: Wordle 1,327 5/6', '', '⬛⬛🟨⬛🟨', '⬛🟨🟨🟨⬛', '⬛🟨🟨🟩⬛', '⬛🟩🟨🟩⬛', '🟩🟩🟩🟩🟩', '2/5/25, 1:02\\u202fPM - Sean Edwards: Wordle 1,327 4/6', '', '⬜⬜⬜⬜🟨', '🟨⬜⬜⬜🟨', '🟩🟨⬜🟨🟨', '🟩🟩🟩🟩🟩', '2/5/25, 5:05\\u202fPM - Tomos: Wordle 1,327 5/6', '', '⬛⬛⬛⬛⬛', '⬛🟨⬛🟨🟨', '🟨🟩🟨🟨⬛', '🟨🟩🟨🟨⬛', '🟩🟩🟩🟩🟩', '2/6/25, 7:44\\u202fAM - +44 7889 643371: Wordle 1,328 3/6', '', '⬜⬜⬜🟩🟩', '⬜🟨⬜🟩🟩', '🟩🟩🟩🟩🟩', '2/6/25, 8:04\\u202fAM - Ben Hawkey: Wordle 1,328 5/6', '', '⬛⬛🟨⬛🟩', '⬛🟩⬛🟩⬛', '⬛🟩⬛🟩🟩', '⬛🟩⬛🟨⬛', '🟩🟩🟩🟩🟩', '2/6/25, 6:42\\u202fPM - Tomos: Wordle 1,328 5/6', '', '⬛⬛⬛⬛⬛', '⬛🟨⬛⬛⬛', '🟨🟩⬛⬛⬛', '🟩🟩🟨⬛⬛', '🟩🟩🟩🟩🟩', '2/6/25, 11:03\\u202fPM - Stephen Jackson: Wordle 1,328 3/6', '', '⬛🟩⬛🟩⬛', '⬛🟩🟨🟩🟨', '🟩🟩🟩🟩🟩', '2/7/25, 9:06\\u202fAM - +44 7889 643371: Wordle 1,329 5/6', '', '🟨⬜⬜🟨⬜', '🟨⬜🟨⬜⬜', '🟩🟨🟩⬜⬜', '🟩🟨🟩⬜🟨', '🟩🟩🟩🟩🟩', '2/7/25, 9:12\\u202fAM - Ben Hawkey: Wordle 1,329 X/6', '', '🟨⬛⬛⬛⬛', '⬛⬛🟩🟩⬛', '⬛⬛🟩🟩🟨', '🟩🟨🟩⬛🟨', '🟩⬛🟩🟩🟩', '🟩⬛🟩🟩🟩', '2/7/25, 9:31\\u202fAM - Bal The Veen: Wordle 1,329 4/6', '', '🟩⬛🟩⬛⬛', '🟩🟨🟩⬛🟨', '🟩🟨🟩⬛🟩', '🟩🟩🟩🟩🟩', '2/7/25, 9:32\\u202fAM - Ben Hawkey: I think we have an intruder in the chat', '2/7/25, 9:32\\u202fAM - Bal The Veen: Silenzio dum dum', '2/7/25, 11:09\\u202fAM - Sean Edwards: Wordle 1,329 4/6', '', '⬜⬜🟨⬜⬜', '🟩🟨🟩⬜⬜', '🟩🟨🟩⬜🟨', '🟩🟩🟩🟩🟩', '2/7/25, 11:31\\u202fAM - Stephen Jackson: Wordle 1,329 4/6', '', '🟩⬛🟩⬛⬛', '🟩⬛🟩⬛⬛', '🟩🟨🟩⬛⬛', '🟩🟩🟩🟩🟩', '2/7/25, 10:28\\u202fPM - Tomos: Wordle 1,329 4/6', '', '🟩🟨⬛⬛⬛', '🟩⬛⬛⬛🟩', '🟩⬛🟩⬛🟩', '🟩🟩🟩🟩🟩', '2/8/25, 7:47\\u202fAM - +44 7889 643371: Wordle 1,330 4/6', '', '🟨⬜⬜⬜⬜', '🟩🟩⬜⬜⬜', '🟩🟩⬜⬜🟨', '🟩🟩🟩🟩🟩', '2/8/25, 8:36\\u202fAM - Tomos: Wordle 1,330 2/6', '', '🟩🟩🟩⬛⬛', '🟩🟩🟩🟩🟩', '2/8/25, 8:38\\u202fAM - Stephen Jackson: Wordle 1,330 3/6', '', '🟩⬛⬛⬛🟨', '🟩⬛🟩🟨🟨', '🟩🟩🟩🟩🟩', '2/8/25, 6:05\\u202fPM - Ben Hawkey: Wordle 1,330 3/6', '', '🟨⬛⬛⬛⬛', '🟩⬛⬛🟨🟨', '🟩🟩🟩🟩🟩', '2/8/25, 6:43\\u202fPM - Sean Edwards: Wordle 1,330 5/6', '', '⬜⬜⬜⬜⬜', '🟩🟩🟩🟩⬜', '🟩🟩🟩🟩⬜', '🟩🟩🟩🟩⬜', '🟩🟩🟩🟩🟩', '2/8/25, 10:11\\u202fPM - Bal The Veen: Wordle 1,330 3/6', '', '🟩⬛⬛⬛🟨', '🟩⬛🟩🟩🟩', '🟩🟩🟩🟩🟩', '2/9/25, 9:16\\u202fAM - Ben Hawkey: Wordle 1,331 5/6', '', '⬛⬛⬛⬛⬛', '⬛⬛🟨⬛🟩', '⬛🟩⬛🟨🟩', '🟩🟩🟩⬛🟩', '🟩🟩🟩🟩🟩', '2/9/25, 10:08\\u202fAM - +44 7889 643371: Wordle 1,331 4/6', '', '⬜⬜⬜⬜⬜', '⬜⬜⬜🟨⬜', '🟨⬜🟨🟨⬜', '🟩🟩🟩🟩🟩', '2/10/25, 10:15\\u202fAM - +44 7889 643371: Wordle 1,332 6/6', '', '⬜⬜⬜⬜⬜', '⬜🟩⬜⬜🟩', '⬜🟩⬜⬜🟩', '⬜🟩⬜⬜🟩', '⬜🟩🟨⬜🟩', '🟩🟩🟩🟩🟩', '2/10/25, 10:23\\u202fAM - Stephen Jackson: Wordle 1,332 X/6', '', '⬛🟩⬛⬛⬛', '⬛🟩⬛⬛🟩', '⬛🟩⬛⬛🟩', '⬛🟩🟩⬛🟩', '🟨🟩🟩⬛🟩', '⬛🟩🟩🟩🟩', '2/10/25, 10:24\\u202fAM - Sean Edwards: Wordle 1,332 5/6', '', '⬜🟩⬜⬜⬜', '⬜🟩⬜🟨⬜', '⬜🟩🟩⬜🟩', '🟨⬜⬜🟨🟩', '🟩🟩🟩🟩🟩', '2/10/25, 10:35\\u202fAM - Tomos: Wordle 1,332 5/6', '', '⬛⬛⬛🟩⬛', '⬛⬛⬛🟩⬛', '⬛🟩🟩🟩🟩', '⬛🟩🟩🟩🟩', '🟩🟩🟩🟩🟩', '2/10/25, 12:13\\u202fPM - Ben Hawkey: Wordle 1,332 X/6', '', '⬛⬛⬛⬛⬛', '⬛⬛🟩⬛⬛', '⬛⬛🟩⬛🟩', '⬛🟩🟩🟩🟩', '⬛🟩🟩🟩🟩', '⬛🟩🟩🟩🟩', '2/10/25, 9:05\\u202fPM - Bal The Veen: Wordle 1,332 4/6', '', '⬛🟩⬛⬛⬛', '⬛🟩🟩⬛🟩', '🟩🟩🟩⬛🟩', '🟩🟩🟩🟩🟩', '2/11/25, 7:48\\u202fAM - Sean Edwards: Wordle 1,333 3/6', '', '⬜🟨⬜🟨🟩', '🟩⬜🟩🟩🟩', '🟩🟩🟩🟩🟩', '2/11/25, 7:52\\u202fAM - Stephen Jackson: Wordle 1,333 3/6', '', '🟩🟨⬛🟩🟩', '🟩⬛🟩🟩🟩', '🟩🟩🟩🟩🟩', '2/11/25, 8:40\\u202fAM - +44 7889 643371: Wordle 1,333 3/6', '', '⬜🟨⬜⬜⬜', '🟨🟨⬜⬜🟩', '🟩🟩🟩🟩🟩', '2/11/25, 8:49\\u202fAM - Ben Hawkey: Wordle 1,333 4/6', '', '⬛🟨⬛⬛⬛', '⬛🟨🟩⬛⬛', '🟨⬛🟩🟩🟩', '🟩🟩🟩🟩🟩', '2/12/25, 8:59\\u202fAM - +44 7889 643371: Wordle 1,334 3/6', '', '⬜🟨🟨🟩⬜', '🟨🟩🟨🟩⬜', '🟩🟩🟩🟩🟩', '2/12/25, 2:00\\u202fPM - Sean Edwards: Wordle 1,334 4/6', '', '⬜🟨🟨🟨⬜', '🟩🟩🟨⬜⬜', '🟩🟩⬜🟩🟩', '🟩🟩🟩🟩🟩', '2/12/25, 2:22\\u202fPM - Ben Hawkey: Wordle 1,334 3/6', '', '⬛🟨🟨🟨⬛', '🟩🟨⬛🟨⬛', '🟩🟩🟩🟩🟩', '2/12/25, 2:41\\u202fPM - Stephen Jackson: Wordle 1,334 3/6', '', '⬛⬛🟨🟨⬛', '🟨🟩🟨⬛⬛', '🟩🟩🟩🟩🟩', '2/12/25, 8:24\\u202fPM - Tomos: Wordle 1,334 2/6', '', '🟨⬛🟨🟩🟩', '🟩🟩🟩🟩🟩', '2/13/25, 6:28\\u202fAM - Sean Edwards: Wordle 1,335 3/6', '', '⬜⬜🟨⬜⬜', '🟨🟩⬜⬜⬜', '🟩🟩🟩🟩🟩', '2/13/25, 8:18\\u202fAM - Ben Hawkey: Wordle 1,335 5/6', '', '⬛🟨⬛🟨⬛', '⬛🟨🟨⬛⬛', '🟩🟨⬛⬛⬛', '🟩⬛🟩🟨⬛', '🟩🟩🟩🟩🟩', '2/13/25, 8:39\\u202fAM - Stephen Jackson: Wordle 1,335 3/6', '', '⬛⬛🟨🟨⬛', '🟩🟨🟨⬛⬛', '🟩🟩🟩🟩🟩', '2/13/25, 9:34\\u202fAM - +44 7889 643371: Wordle 1,335 4/6', '', '⬜🟨🟨⬜⬜', '⬜🟨🟨⬜⬜', '⬜⬜🟨🟨⬜', '🟩🟩🟩🟩🟩', '2/13/25, 9:35\\u202fAM - Tomos: Wordle 1,335 4/6', '', '⬛🟨⬛⬛⬛', '⬛🟨🟨⬛⬛', '🟩🟨⬛⬛⬛', '🟩🟩🟩🟩🟩', '2/14/25, 9:02\\u202fAM - +44 7889 643371: Wordle 1,336 5/6', '', '🟨⬜⬜🟨⬜', '⬜⬜🟩⬜⬜', '⬜🟩🟩⬜⬜', '⬜🟩🟩⬜⬜', '🟩🟩🟩🟩🟩', '2/14/25, 9:03\\u202fAM - Ben Hawkey: Wordle 1,336 3/6', '', '🟨⬛🟨⬛⬛', '⬛🟩🟩⬛⬛', '🟩🟩🟩🟩🟩', '2/14/25, 10:11\\u202fAM - Stephen Jackson: Wordle 1,336 6/6', '', '⬛⬛⬛⬛⬛', '⬛⬛⬛🟨🟨', '🟩🟩⬛⬛🟩', '🟩🟩⬛⬛🟩', '🟩🟩⬛⬛🟩', '🟩🟩🟩🟩🟩', '2/14/25, 11:58\\u202fAM - Sean Edwards: Wordle 1,336 4/6', '', '🟨⬜⬜⬜⬜', '⬜🟩⬜🟩⬜', '⬜🟩⬜🟩🟩', '🟩🟩🟩🟩🟩', '2/14/25, 5:28\\u202fPM - Tomos: Wordle 1,336 5/6', '', '⬛⬛⬛⬛⬛', '⬛⬛⬛🟩⬛', '⬛🟩⬛🟩🟩', '⬛🟩⬛🟩🟩', '🟩🟩🟩🟩🟩', '2/15/25, 8:14\\u202fAM - Sean Edwards: Wordle 1,337 3/6', '', '⬜⬜⬜⬜⬜', '🟩⬜🟩⬜🟨', '🟩🟩🟩🟩🟩', '2/15/25, 10:38\\u202fAM - +44 7889 643371: Wordle 1,337 5/6', '', '⬜🟩⬜⬜⬜', '⬜🟩🟩⬜⬜', '⬜🟩🟩⬜⬜', '🟩🟩🟩⬜⬜', '🟩🟩🟩🟩🟩', '2/15/25, 1:43\\u202fPM - Tomos: Wordle 1,337 5/6', '', '🟨⬛⬛⬛⬛', '⬛🟩🟩🟩⬛', '⬛🟩🟩🟩⬛', '⬛🟩🟩🟩🟩', '🟩🟩🟩🟩🟩', '2/15/25, 2:03\\u202fPM - Ben Hawkey: Wordle 1,337 6/6', '', '⬛🟩⬛⬛⬛', '🟩🟩⬛⬛⬛', '🟩🟩🟩⬛⬛', '🟩🟩🟩⬛🟩', '🟩🟩🟩⬛🟩', '🟩🟩🟩🟩🟩', '2/15/25, 3:46\\u202fPM - Stephen Jackson: Wordle 1,337 6/6', '', '⬛🟨⬛🟨⬛', '⬛🟩🟩⬛⬛', '⬛🟩🟩⬛⬛', '🟩🟩🟩⬛⬛', '🟩🟩🟩⬛🟩', '🟩🟩🟩🟩🟩', '2/16/25, 9:18\\u202fAM - +44 7889 643371: Wordle 1,338 5/6', '', '⬜⬜⬜🟨⬜', '⬜🟨⬜🟨⬜', '⬜⬜🟩🟨🟩', '🟩⬜🟩⬜🟩', '🟩🟩🟩🟩🟩', '2/16/25, 9:25\\u202fAM - Ben Hawkey: Wordle 1,338 4/6', '', '🟨🟩⬛⬛⬛', '⬛🟩⬛🟨⬛', '🟩⬛🟨⬛🟨', '🟩🟩🟩🟩🟩', '2/16/25, 11:00\\u202fAM - Stephen Jackson: Wordle 1,338 5/6', '', '🟩⬛🟩⬛🟩', '🟩⬛🟩⬛🟩', '🟩⬛🟩⬛🟩', '🟩⬛🟩⬛🟩', '🟩🟩🟩🟩🟩', '2/16/25, 11:00\\u202fAM - Stephen Jackson: W for winner', '2/16/25, 12:09\\u202fPM - Tomos: Wordle 1,338 6/6', '', '🟩⬛🟩⬛🟩', '🟩⬛🟩⬛🟩', '🟩⬛🟩⬛🟩', '🟩⬛🟩⬛🟩', '🟩⬛🟩⬛🟩', '🟩🟩🟩🟩🟩', '2/16/25, 12:10\\u202fPM - Tomos: *W*🤝', '2/17/25, 8:24\\u202fAM - Sean Edwards: Wordle 1,339 3/6', '', '🟩🟩🟩⬜⬜', '🟩🟩🟩⬜🟩', '🟩🟩🟩🟩🟩', '2/17/25, 8:28\\u202fAM - +44 7889 643371: Wordle 1,339 1/6', '', '🟩🟩🟩🟩🟩', '2/17/25, 9:43\\u202fAM - Stephen Jackson: Wordle 1,339 3/6', '', '⬛⬛🟩🟨⬛', '🟩🟩🟩🟩⬛', '🟩🟩🟩🟩🟩', '2/17/25, 2:11\\u202fPM - Ben Hawkey: Wordle 1,339 2/6', '', '🟩🟩🟨🟨🟩', '🟩🟩🟩🟩🟩', '2/17/25, 2:40\\u202fPM - Tomos: Wordle 1,339 5/6', '', '⬛⬛🟩🟨⬛', '🟨⬛🟩⬛⬛', '🟩🟩🟩🟩⬛', '🟩🟩🟩🟩⬛', '🟩🟩🟩🟩🟩', '2/17/25, 2:40\\u202fPM - Tomos: 😒', '2/18/25, 7:10\\u202fAM - Sean Edwards: Wordle 1,340 4/6', '', '⬜⬜⬜⬜🟨', '⬜⬜🟨🟨🟩', '⬜🟨🟩⬜🟩', '🟩🟩🟩🟩🟩', '2/18/25, 9:00\\u202fAM - +44 7889 643371: Wordle 1,340 3/6', '', '⬜⬜🟩🟩⬜', '⬜🟨🟩🟩⬜', '🟩🟩🟩🟩🟩', '2/18/25, 9:03\\u202fAM - Ben Hawkey: Wordle 1,340 4/6', '', '⬛⬛⬛🟩⬛', '⬛🟨⬛🟩🟩', '🟩⬛⬛⬛🟩', '🟩🟩🟩🟩🟩', '2/18/25, 10:30\\u202fAM - Stephen Jackson: Wordle 1,340 4/6', '', '⬛⬛⬛⬛🟩', '⬛⬛⬛⬛🟩', '⬛⬛🟨🟨🟩', '🟩🟩🟩🟩🟩', '2/18/25, 5:20\\u202fPM - Tomos: Wordle 1,340 4/6', '', '🟨⬛🟨⬛⬛', '🟩🟨🟨⬛⬛', '🟩🟩🟩🟨⬛', '🟩🟩🟩🟩🟩', '2/19/25, 8:06\\u202fAM - Ben Hawkey: Wordle 1,341 6/6', '', '⬛⬛🟨⬛🟨', '⬛🟨⬛🟨⬛', '🟨⬛⬛🟨⬛', '⬛🟩⬛🟩🟩', '⬛🟩⬛🟩🟩', '🟩🟩🟩🟩🟩', '2/19/25, 9:24\\u202fAM - +44 7889 643371: Wordle 1,341 4/6', '', '⬜⬜⬜🟨🟨', '⬜🟨🟨⬜⬜', '🟩⬜🟨⬜🟨', '🟩🟩🟩🟩🟩', '2/19/25, 10:56\\u202fAM - Sean Edwards: Wordle 1,341 4/6', '', '⬜⬜🟨⬜⬜', '⬜🟩⬜⬜⬜', '🟩🟩⬜🟩🟩', '🟩🟩🟩🟩🟩', '2/19/25, 12:20\\u202fPM - Stephen Jackson: Wordle 1,341 6/6', '', '⬛⬛🟨⬛⬛', '🟨⬛🟩⬛⬛', '⬛🟩🟩⬛🟩', '⬛🟩⬛🟨🟩', '⬛🟩🟩🟩🟩', '🟩🟩🟩🟩🟩', '2/19/25, 7:20\\u202fPM - Tomos: Wordle 1,341 5/6', '', '⬛🟨🟨⬛🟨', '🟩⬛🟨🟨⬛', '🟩🟩⬛🟩⬛', '🟩🟩⬛🟩⬛', '🟩🟩🟩🟩🟩', '2/20/25, 7:13\\u202fAM - Sean Edwards: Wordle 1,342 2/6', '', '🟨🟩🟩🟨⬜', '🟩🟩🟩🟩🟩', '2/20/25, 8:19\\u202fAM - +44 7889 643371: Wordle 1,342 3/6', '', '⬜🟨🟩⬜⬜', '🟩⬜🟩🟩🟩', '🟩🟩🟩🟩🟩', '2/20/25, 9:21\\u202fAM - Ben Hawkey: Wordle 1,342 4/6', '', '⬛🟨🟩⬛⬛', '🟨🟨🟩🟨⬛', '🟩⬛🟩🟩🟩', '🟩🟩🟩🟩🟩', '2/20/25, 12:32\\u202fPM - Stephen Jackson: Wordle 1,342 3/6', '', '⬛🟩🟩🟨⬛', '🟩🟩🟩⬛⬛', '🟩🟩🟩🟩🟩', '2/20/25, 10:13\\u202fPM - Tomos: Wordle 1,342 3/6', '', '⬛🟨🟨🟨⬛', '⬛🟨🟨🟩⬛', '🟩🟩🟩🟩🟩', '2/21/25, 11:50\\u202fAM - Stephen Jackson: Wordle 1,343 3/6', '', '⬛🟨⬛⬛🟩', '🟩🟩🟩⬛🟩', '🟩🟩🟩🟩🟩', '2/21/25, 1:06\\u202fPM - +44 7889 643371: Wordle 1,343 5/6', '', '⬜⬜⬜⬜🟨', '🟨⬜🟨⬜⬜', '🟩🟩🟩⬜🟩', '🟩🟩🟩⬜🟩', '🟩🟩🟩🟩🟩', '2/21/25, 1:07\\u202fPM - Sean Edwards: Wordle 1,343 6/6', '', '⬜🟩🟩⬜⬜', '🟩🟩🟩⬜⬜', '🟩🟩🟩⬜⬜', '🟩🟩🟩⬜⬜', '🟩🟩🟩⬜🟩', '🟩🟩🟩🟩🟩', '2/21/25, 1:13\\u202fPM - Ben Hawkey: Wordle 1,343 X/6', '', '⬛⬛⬛⬛🟨', '🟨⬛🟨⬛⬛', '⬛🟨⬛⬛🟩', '🟩⬛🟩⬛🟩', '🟩🟩🟩⬛🟩', '🟩🟩🟩⬛🟩', '2/21/25, 5:58\\u202fPM - Tomos: Wordle 1,343 5/6', '', '⬛⬛⬛⬛⬛', '⬛🟩⬛⬛⬛', '⬛🟩🟩⬛⬛', '⬛🟩🟩⬛⬛', '🟩🟩🟩🟩🟩', '2/22/25, 7:24\\u202fAM - Sean Edwards: Wordle 1,344 5/6', '', '⬜⬜⬜⬜⬜', '⬜⬜⬜🟨🟨', '🟨🟨🟨⬜🟩', '⬜🟩🟩🟩🟩', '🟩🟩🟩🟩🟩', '2/22/25, 9:34\\u202fAM - Tomos: Wordle 1,344 5/6', '', '⬛🟨🟨⬛⬛', '⬛🟩🟨⬛⬛', '⬛🟩⬛🟩⬛', '⬛🟩🟩🟩⬛', '🟩🟩🟩🟩🟩', '2/22/25, 10:07\\u202fAM - +44 7889 643371: Wordle 1,344 4/6', '', '⬜🟩🟨⬜⬜', '🟨🟩⬜⬜⬜', '⬜🟩🟩🟩🟩', '🟩🟩🟩🟩🟩', '2/22/25, 10:31\\u202fAM - Stephen Jackson: Wordle 1,344 2/6', '', '⬛⬛🟨🟨🟨', '🟩🟩🟩🟩🟩', '2/22/25, 11:05\\u202fAM - Ben Hawkey: Wordle 1,344 3/6', '', '⬛🟩⬛🟩⬛', '🟩🟩⬛🟩⬛', '🟩🟩🟩🟩🟩', '2/23/25, 10:16\\u202fAM - +44 7889 643371: Wordle 1,345 5/6', '', '🟨🟨⬜⬜⬜', '🟨⬜🟩🟨⬜', '⬜⬜🟩🟩🟩', '⬜🟨🟩🟩🟩', '🟩🟩🟩🟩🟩', '2/23/25, 1:59\\u202fPM - Stephen Jackson: Wordle 1,345 4/6', '', '⬛🟨⬛🟨🟨', '⬛🟨🟨🟨⬛', '🟨🟨🟨⬛🟨', '🟩🟩🟩🟩🟩', '2/23/25, 2:36\\u202fPM - Ben Hawkey: Wordle 1,345 4/6', '', '🟨🟨⬛⬛⬛', '⬛🟨🟨🟨⬛', '🟨🟨⬛🟨⬛', '🟩🟩🟩🟩🟩', '2/24/25, 9:33\\u202fAM - +44 7889 643371: Wordle 1,346 5/6', '', '⬜⬜🟩⬜🟨', '⬜🟩🟩⬜⬜', '⬜🟩🟩🟩⬜', '⬜🟩🟩🟩🟩', '🟩🟩🟩🟩🟩', '2/24/25, 9:58\\u202fAM - Ben Hawkey: Wordle 1,346 5/6', '', '⬛⬛⬛🟨🟨', '🟨⬛🟩🟩⬛', '⬛🟩🟩🟩🟩', '🟩🟩🟩🟩⬛', '🟩🟩🟩🟩🟩', '2/24/25, 11:01\\u202fAM - Stephen Jackson: Wordle 1,346 5/6', '', '⬛⬛🟩⬛⬛', '⬛⬛🟩⬛🟨', '⬛🟩🟩🟩⬛', '⬛🟩🟩🟩🟩', '🟩🟩🟩🟩🟩', '2/24/25, 2:28\\u202fPM - Tomos: Wordle 1,346 4/6', '', '⬛⬛⬛🟨⬛', '🟨⬛⬛⬛⬛', '⬛⬛⬛🟩🟨', '🟩🟩🟩🟩🟩', '2/24/25, 6:20\\u202fPM - Sean Edwards: Wordle 1,346 4/6', '', '⬜⬜🟩⬜⬜', '⬜⬜🟩⬜⬜', '⬜🟩🟩🟨⬜', '🟩🟩🟩🟩🟩', '2/25/25, 8:37\\u202fAM - Ben Hawkey: Wordle 1,347 5/6', '', '⬛🟩⬛⬛⬛', '⬛🟩⬛⬛⬛', '⬛🟩⬛⬛⬛', '⬛🟩⬛🟩🟨', '🟩🟩🟩🟩🟩', '2/25/25, 11:02\\u202fAM - +44 7889 643371: Wordle 1,347 X/6', '', '⬜🟩⬜⬜⬜', '⬜🟩⬜⬜🟨', '⬜🟩🟨⬜⬜', '⬜🟩⬜🟨🟨', '⬜🟩🟨🟩🟨', '🟩🟩⬜🟩🟩', '2/25/25, 1:30\\u202fPM - Sean Edwards: Wordle 1,347 5/6', '', '⬜⬜⬜⬜⬜', '⬜⬜⬜⬜🟩', '⬜⬜⬜🟩🟩', '⬜⬜⬜🟩🟩', '🟩🟩🟩🟩🟩', '2/25/25, 6:26\\u202fPM - Stephen Jackson: Wordle 1,347 5/6', '', '⬛⬛⬛🟨🟨', '🟨🟨⬛⬛⬛', '⬛⬛🟨⬛🟨', '🟩⬛⬛🟩🟩', '🟩🟩🟩🟩🟩', '2/25/25, 8:12\\u202fPM - Tomos: Wordle 1,347 5/6', '', '⬛⬛⬛⬛🟨', '🟨🟨⬛⬛⬛', '⬛⬛🟨🟩🟨', '🟩🟩⬛🟩🟩', '🟩🟩🟩🟩🟩', '2/26/25, 12:32\\u202fPM - Ben Hawkey: Wordle 1,348 X/6', '', '⬛🟨⬛🟨⬛', '⬛🟨🟩⬛⬛', '⬛⬛🟩🟩⬛', '⬛⬛🟩🟩🟩', '⬛⬛🟩🟩🟩', '⬛⬛🟩🟩⬛', '2/26/25, 12:36\\u202fPM - +44 7889 643371: Wordle 1,348 5/6', '', '⬜🟨⬜🟨⬜', '🟨⬜🟩🟨⬜', '⬜⬜🟩🟩🟩', '⬜⬜🟩🟩🟩', '🟩🟩🟩🟩🟩', '2/26/25, 2:20\\u202fPM - Tomos: Wordle 1,348 X/6', '', '🟨🟨⬛⬛⬛', '🟨🟨⬛⬛🟩', '⬛🟨🟩⬛🟩', '⬛⬛🟩🟩🟩', '⬛⬛🟩🟩🟩', '⬛🟩🟩🟩🟩', '2/26/25, 2:44\\u202fPM - Stephen Jackson: Wordle 1,348 5/6', '', '⬛⬛🟩🟩⬛', '⬛⬛🟩🟩⬛', '⬛⬛🟩🟩⬛', '⬛⬛🟩🟩⬛', '🟩🟩🟩🟩🟩', '2/26/25, 2:58\\u202fPM - Sean Edwards: Wordle 1,348 6/6', '', '⬜🟨🟩🟨⬜', '⬜⬜🟩🟩🟩', '⬜⬜🟩🟩🟩', '⬜⬜🟩🟩🟩', '⬜⬜⬜⬜⬜', '🟩🟩🟩🟩🟩', '2/27/25, 9:24\\u202fAM - +44 7889 643371: Wordle 1,349 5/6', '', '⬜⬜⬜⬜🟨', '🟩⬜⬜⬜⬜', '🟩🟨⬜⬜⬜', '🟩🟩⬜🟨🟨', '🟩🟩🟩🟩🟩', '2/27/25, 10:18\\u202fAM - Ben Hawkey: Wordle 1,349 4/6', '', '⬛⬛⬛⬛🟨', '🟩🟩⬛⬛⬛', '🟩🟩⬛⬛⬛', '🟩🟩🟩🟩🟩', '2/27/25, 2:56\\u202fPM - Stephen Jackson: Wordle 1,349 3/6', '', '⬛🟩⬛⬛🟩', '🟨🟩⬛🟨🟩', '🟩🟩🟩🟩🟩', '2/28/25, 8:50\\u202fAM - +44 7889 643371: Wordle 1,350 4/6', '', '⬜⬜⬜⬜⬜', '⬜⬜⬜⬜⬜', '⬜⬜⬜⬜🟩', '🟩🟩🟩🟩🟩', '2/28/25, 9:28\\u202fAM - Ben Hawkey: Wordle 1,350 6/6', '', '⬛⬛⬛⬛⬛', '⬛⬛⬛⬛⬛', '⬛🟩⬛⬛⬛', '⬛🟩🟨⬛🟩', '🟩🟩⬛⬛🟩', '🟩🟩🟩🟩🟩', '2/28/25, 10:59\\u202fPM - Sean Edwards: Wordle 1,350 6/6', '', '⬜⬜⬜⬜⬜', '⬜⬜🟨⬜🟩', '⬜🟩🟨⬜🟩', '🟩🟩⬜⬜🟩', '⬜⬜⬜⬜⬜', '🟩🟩🟩🟩🟩', '2/28/25, 11:58\\u202fPM - Stephen Jackson: Wordle 1,350 4/6', '', '⬛⬛⬛⬛⬛', '⬛🟩⬛⬛⬛', '🟩🟩⬛⬛🟩', '🟩🟩🟩🟩🟩', '3/1/25, 12:47\\u202fAM - Tomos: Wordle 1,351 X/6', '', '⬛🟨⬛⬛⬛', '🟨🟩⬛🟩⬛', '⬛🟩🟨🟩⬛', '🟨🟩⬛🟩🟩', '⬛🟩🟩🟩🟩', '⬛🟩🟩🟩🟩', '3/1/25, 7:27\\u202fAM - Sean Edwards: Wordle 1,351 6/6', '', '⬜⬜⬜🟩🟩', '⬜🟩⬜⬜⬜', '⬜🟩⬜🟩🟩', '⬜⬜⬜⬜⬜', '⬜🟩🟩🟩🟩', '🟩🟩🟩🟩🟩', '3/1/25, 7:56\\u202fAM - +44 7889 643371: Wordle 1,351 5/6', '', '⬜🟨⬜⬜⬜', '⬜⬜🟨🟨⬜', '⬜🟩⬜🟩🟩', '⬜🟩⬜🟩🟩', '🟩🟩🟩🟩🟩', '3/1/25, 11:54\\u202fAM - Ben Hawkey: Wordle 1,351 6/6', '', '⬛⬛⬛⬛🟨', '🟨⬛🟨🟨⬛', '⬛🟩⬛🟩🟩', '🟩🟩⬛🟩🟩', '🟩🟩⬛🟩🟩', '🟩🟩🟩🟩🟩', '3/2/25, 8:44\\u202fAM - Sean Edwards: Wordle 1,352 4/6', '', '⬜⬜⬜⬜🟨', '🟨⬜🟨⬜⬜', '⬜⬜🟩🟩🟨', '🟩🟩🟩🟩🟩', '3/2/25, 8:44\\u202fAM - +44 7889 643371: Wordle 1,352 5/6', '', '🟨⬜⬜🟨⬜', '⬜🟨🟩⬜⬜', '⬜⬜🟩⬜🟨', '⬜⬜🟩🟩🟨', '🟩🟩🟩🟩🟩', '3/2/25, 9:38\\u202fAM - Tomos: Wordle 1,352 5/6', '', '⬛🟨⬛⬛⬛', '🟨🟨⬛🟨🟨', '🟩🟩⬛🟨🟨', '🟩🟩⬛🟩⬛', '🟩🟩🟩🟩🟩', '3/2/25, 10:31\\u202fAM - Ben Hawkey: Wordle 1,352 5/6', '', '⬛⬛🟨⬛⬛', '⬛🟩⬛🟩🟩', '⬛🟩⬛🟩🟩', '⬛🟩⬛🟩🟩', '🟩🟩🟩🟩🟩', '3/2/25, 12:21\\u202fPM - Stephen Jackson: Wordle 1,352 6/6', '', '⬛⬛⬛⬛🟨', '🟨⬛⬛🟨⬛', '⬛🟨🟨⬛🟨', '⬛⬛🟩⬛🟨', '⬛🟩🟩⬛🟨', '🟩🟩🟩🟩🟩', '3/3/25, 7:16\\u202fAM - Ben Hawkey: Wordle 1,353 3/6', '', '⬛🟨⬛🟩⬛', '🟩⬛🟩🟩🟩', '🟩🟩🟩🟩🟩', '3/3/25, 7:56\\u202fAM - Stephen Jackson: Wordle 1,353 2/6', '', '🟩⬛🟨🟨🟨', '🟩🟩🟩🟩🟩', '3/3/25, 8:25\\u202fAM - +44 7889 643371: Wordle 1,353 5/6', '', '⬜🟨⬜🟩⬜', '⬜🟨🟩🟩⬜', '🟩⬜🟩🟩🟩', '🟩⬜🟩🟩🟩', '🟩🟩🟩🟩🟩', '3/3/25, 2:21\\u202fPM - Tomos: Wordle 1,353 3/6', '', '⬛🟨🟨⬛🟨', '🟨🟨⬛🟩⬛', '🟩🟩🟩🟩🟩', '3/4/25, 10:10\\u202fAM - +44 7889 643371: Wordle 1,354 4/6', '', '⬜⬜⬜⬜⬜', '⬜⬜⬜⬜🟨', '⬜🟨⬜⬜⬜', '🟩🟩🟩🟩🟩', '3/4/25, 10:11\\u202fAM - Ben Hawkey: Wordle 1,354 4/6', '', '⬛⬛⬛⬛⬛', '⬛🟩⬛⬛⬛', '🟩🟩🟩⬛🟩', '🟩🟩🟩🟩🟩', '3/4/25, 10:12\\u202fAM - Stephen Jackson: Wordle 1,354 4/6', '', '⬛⬛⬛⬛🟨', '🟨⬛⬛⬛⬛', '⬛🟨⬛🟩🟨', '🟩🟩🟩🟩🟩', '3/4/25, 1:16\\u202fPM - Sean Edwards: Wordle 1,354 4/6', '', '⬜⬜⬜🟩🟨', '⬜⬜🟩🟩🟩', '⬜⬜🟩🟩🟩', '🟩🟩🟩🟩🟩', '3/4/25, 1:32\\u202fPM - Tomos: Wordle 1,354 3/6', '', '⬛⬛⬛⬛🟨', '⬛🟨⬛🟩🟨', '🟩🟩🟩🟩🟩', '3/5/25, 6:22\\u202fAM - Sean Edwards: Wordle 1,355 4/6', '', '⬜⬜🟨🟨⬜', '🟩🟨🟩⬜⬜', '🟩⬜🟩🟩⬜', '🟩🟩🟩🟩🟩', '3/5/25, 8:40\\u202fAM - Ben Hawkey: Wordle 1,355 5/6', '', '⬛🟨⬛⬛⬛', '🟨⬛⬛⬛🟨', '🟩🟨🟩⬛⬛', '🟩⬛🟩🟩⬛', '🟩🟩🟩🟩🟩', '3/5/25, 10:18\\u202fAM - Stephen Jackson: Wordle 1,355 4/6', '', '🟩⬛⬛🟨⬛', '🟩⬛🟩⬛⬛', '🟩⬛🟩🟩⬛', '🟩🟩🟩🟩🟩', '3/5/25, 10:19\\u202fAM - +44 7889 643371: Wordle 1,355 5/6', '', '⬜🟨⬜⬜⬜', '🟨⬜🟨⬜⬜', '🟨⬜⬜⬜🟨', '🟩🟩🟨🟨⬜', '🟩🟩🟩🟩🟩', '3/5/25, 11:59\\u202fAM - Tomos: Wordle 1,355 3/6', '', '🟩⬛⬛🟨⬛', '🟩⬛🟩⬛⬛', '🟩🟩🟩🟩🟩', '3/6/25, 7:18\\u202fAM - Sean Edwards: Wordle 1,356 3/6', '', '⬜⬜🟩🟨⬜', '🟩⬜🟩⬜🟩', '🟩🟩🟩🟩🟩', '3/6/25, 7:59\\u202fAM - +44 7889 643371: Wordle 1,356 2/6', '', '🟨🟨⬜🟨🟨', '🟩🟩🟩🟩🟩', '3/6/25, 8:23\\u202fAM - Ben Hawkey: Wordle 1,356 3/6', '', '🟨🟨⬛🟨🟨', '🟨🟨🟨🟨🟨', '🟩🟩🟩🟩🟩', '3/6/25, 6:24\\u202fPM - Stephen Jackson: Wordle 1,356 3/6', '', '⬛⬛🟨🟩🟨', '⬛🟨🟨🟩🟩', '🟩🟩🟩🟩🟩', '3/6/25, 8:32\\u202fPM - Tomos: Wordle 1,356 5/6', '', '⬛🟨🟨⬛🟨', '🟨🟨🟨🟨⬛', '⬛🟨🟨🟩🟨', '🟨🟨🟨🟩⬛', '🟩🟩🟩🟩🟩', '3/7/25, 7:47\\u202fAM - +44 7889 643371: Wordle 1,357 4/6', '', '🟩🟩⬜⬜⬜', '🟩🟩⬜⬜⬜', '🟩🟩⬜⬜⬜', '🟩🟩🟩🟩🟩', '3/7/25, 8:13\\u202fAM - Ben Hawkey: Wordle 1,357 4/6', '', '⬛🟩⬛⬛⬛', '🟩🟩⬛⬛⬛', '🟩🟩🟩⬛⬛', '🟩🟩🟩🟩🟩', '3/7/25, 9:04\\u202fAM - Tomos: Wordle 1,357 3/6', '', '⬛🟨⬛🟨⬛', '🟨🟩🟩🟩⬛', '🟩🟩🟩🟩🟩', '3/7/25, 9:09\\u202fAM - Stephen Jackson: Wordle 1,357 5/6', '', '⬛🟨⬛🟨⬛', '⬛⬛🟩⬛🟨', '🟨🟩🟩⬛⬛', '⬛🟩🟩🟨⬛', '🟩🟩🟩🟩🟩', '3/8/25, 9:09\\u202fAM - +44 7889 643371: Wordle 1,358 4/6', '', '⬜⬜⬜🟨🟩', '🟨🟨⬜🟩🟩', '⬜🟩🟨⬜🟩', '🟩🟩🟩🟩🟩', '3/8/25, 11:54\\u202fAM - Stephen Jackson: Wordle 1,358 5/6', '', '⬛⬛🟨⬛🟨', '⬛🟩⬛🟨🟨', '⬛🟩⬛🟩🟩', '⬛🟩⬛🟩🟩', '🟩🟩🟩🟩🟩', '3/8/25, 12:05\\u202fPM - Tomos: Wordle 1,358 5/6', '', '⬛🟨⬛⬛⬛', '⬛🟨⬛🟨🟩', '⬛⬛🟨🟨🟩', '🟨🟨⬛🟩🟩', '🟩🟩🟩🟩🟩', '3/8/25, 2:28\\u202fPM - Sean Edwards: Wordle 1,358 4/6', '', '⬜⬜🟨⬜🟨', '⬜🟨🟨🟨⬜', '⬜🟩🟨🟩🟩', '🟩🟩🟩🟩🟩', '3/8/25, 6:30\\u202fPM - Ben Hawkey: Wordle 1,358 3/6', '', '⬛⬛⬛🟨🟩', '⬛🟩⬛🟨🟨', '🟩🟩🟩🟩🟩', '3/9/25, 9:10\\u202fAM - Ben Hawkey: Wordle 1,359 5/6', '', '⬛🟩⬛⬛🟨', '⬛🟩🟩🟩⬛', '⬛🟩🟩🟩🟩', '⬛🟩🟩🟩🟩', '🟩🟩🟩🟩🟩', '3/9/25, 9:23\\u202fAM - Stephen Jackson: Wordle 1,359 5/6', '', '⬛⬛⬛🟨🟨', '⬛⬛🟩⬛🟩', '⬛🟩🟩🟩🟩', '⬛🟩🟩🟩🟩', '🟩🟩🟩🟩🟩', '3/9/25, 9:34\\u202fAM - Tomos: Wordle 1,359 4/6', '', '⬛⬛⬛🟨🟨', '🟨🟨⬛🟩⬛', '🟩🟩🟩🟩⬛', '🟩🟩🟩🟩🟩', '3/9/25, 9:53\\u202fAM - +44 7889 643371: Wordle 1,359 3/6', '', '⬜🟩⬜⬜⬜', '🟩🟩⬜⬜⬜', '🟩🟩🟩🟩🟩', '3/9/25, 9:07\\u202fPM - Sean Edwards: Wordle 1,359 3/6', '', '⬜⬜🟨🟩🟩', '⬜🟩🟩🟩🟩', '🟩🟩🟩🟩🟩', '3/10/25, 7:16\\u202fAM - Sean Edwards: Wordle 1,360 3/6', '', '🟨🟨⬜⬜⬜', '🟨⬜🟨🟨⬜', '🟩🟩🟩🟩🟩', '3/10/25, 7:32\\u202fAM - Tomos: Wordle 1,360 3/6', '', '🟨⬛⬛⬛🟩', '🟩🟨⬛⬛🟩', '🟩🟩🟩🟩🟩', '3/10/25, 8:12\\u202fAM - +44 7889 643371: Wordle 1,360 3/6', '', '🟨⬜⬜🟨⬜', '⬜🟨⬜🟩🟨', '🟩🟩🟩🟩🟩', '3/10/25, 1:46\\u202fPM - Ben Hawkey: Wordle 1,360 4/6', '', '⬛⬛⬛⬛🟩', '🟩⬛⬛⬛🟩', '🟩🟨⬛🟨🟩', '🟩🟩🟩🟩🟩', '3/11/25, 6:57\\u202fAM - Sean Edwards: Wordle 1,361 3/6', '', '🟨⬜⬜⬜🟨', '🟨⬜🟩🟩🟨', '🟩🟩🟩🟩🟩', '3/11/25, 8:52\\u202fAM - +44 7889 643371: Wordle 1,361 5/6', '', '🟩🟩🟩⬜⬜', '🟩🟩🟩⬜⬜', '🟩🟩🟩⬜⬜', '🟩🟩🟩⬜⬜', '🟩🟩🟩🟩🟩', '3/11/25, 8:55\\u202fAM - Ben Hawkey: Wordle 1,361 5/6', '', '🟨⬛⬛⬛⬛', '⬛⬛🟩🟨⬛', '🟩⬛🟩⬛🟩', '🟩⬛🟩⬛🟩', '🟩🟩🟩🟩🟩', '3/11/25, 9:10\\u202fAM - Tomos: Wordle 1,361 4/6', '', '🟩🟩🟩⬛⬛', '🟩🟩🟩⬛⬛', '🟩🟩🟩⬛⬛', '🟩🟩🟩🟩🟩', '3/12/25, 1:47\\u202fPM - Tomos: Wordle 1,362 6/6', '', '⬛⬛🟨⬛⬛', '⬛🟨⬛⬛🟨', '🟨🟨⬛🟨⬛', '🟨⬛🟩⬛⬛', '🟩🟩🟩🟨⬛', '🟩🟩🟩🟩🟩', '3/12/25, 1:49\\u202fPM - +44 7889 643371: Wordle 1,362 5/6', '', '⬜⬜🟨⬜⬜', '🟨⬜⬜⬜⬜', '🟩🟨⬜🟨⬜', '🟩🟩⬜🟨🟨', '🟩🟩🟩🟩🟩', '3/12/25, 1:50\\u202fPM - Ben Hawkey: Wordle 1,362 5/6', '', '⬛⬛🟨🟨⬛', '⬛🟩🟩⬛⬛', '⬛🟩🟩⬛⬛', '⬛🟩🟩⬛🟩', '🟩🟩🟩🟩🟩', '3/12/25, 1:57\\u202fPM - Stephen Jackson: Wordle 1,362 4/6', '', '⬛🟨🟨⬛⬛', '⬛⬛🟨🟨⬛', '⬛🟩🟨🟨🟨', '🟩🟩🟩🟩🟩', '3/12/25, 8:43\\u202fPM - Sean Edwards: Wordle 1,362 4/6', '', '⬜⬜🟨⬜⬜', '⬜🟨⬜🟨⬜', '⬜🟩⬜🟨🟨', '🟩🟩🟩🟩🟩', '3/13/25, 6:47\\u202fAM - Sean Edwards: Wordle 1,363 2/6', '', '🟩⬜🟩⬜🟩', '🟩🟩🟩🟩🟩', '3/13/25, 8:17\\u202fAM - +44 7889 643371: Wordle 1,363 2/6', '', '⬜⬜🟩⬜⬜', '🟩🟩🟩🟩🟩', '3/13/25, 10:02\\u202fAM - Ben Hawkey: Wordle 1,363 2/6', '', '⬛⬛⬛🟨⬛', '🟩🟩🟩🟩🟩', '3/13/25, 10:15\\u202fAM - Tomos: Wordle 1,363 3/6', '', '⬛⬛🟩⬛🟩', '⬛⬛🟩🟨🟩', '🟩🟩🟩🟩🟩', '3/13/25, 10:17\\u202fAM - Ben Hawkey: Tom broke the streak', \"3/13/25, 10:17\\u202fAM - Tomos: Couldn't handle the heat 🥲\", '3/13/25, 12:58\\u202fPM - Stephen Jackson: Wordle 1,363 3/6', '', '🟨⬛🟩⬛🟩', '⬛🟩🟩🟩🟩', '🟩🟩🟩🟩🟩', '3/13/25, 1:18\\u202fPM - Tomos: Finally caught up with adding the scores up 😅', '', '🏆 Jeremy - 1095', '🥈 Benjamin - 1320', '🥉 Stephen - 1399', '4️⃣ Tomos - 1456', '5️⃣ Sean - 1521', '🥄 Balveen - 2176', '', 'A shocking 222% increase in attempts not being shared this season 🥲', '', \"Though this is heavily skewed by Balveen's impressive 56 missed games, 79% of this season's games... 🫥\", '3/14/25, 6:44\\u202fAM - Sean Edwards: Wordle 1,364 5/6', '', '⬜⬜⬜🟩⬜', '⬜⬜⬜🟩⬜', '⬜⬜🟨🟩🟩', '⬜🟩⬜🟩🟩', '🟩🟩🟩🟩🟩', '3/14/25, 8:11\\u202fAM - +44 7889 643371: Wordle 1,364 4/6', '', '⬜⬜🟨⬜⬜', '⬜🟩⬜⬜🟩', '⬜🟩🟨⬜🟩', '🟩🟩🟩🟩🟩', '3/14/25, 9:08\\u202fAM - Ben Hawkey: Wordle 1,364 4/6', '', '🟨⬛⬛⬛🟩', '⬛⬛⬛⬛🟩', '🟩🟩⬛🟩🟩', '🟩🟩🟩🟩🟩', '3/14/25, 1:28\\u202fPM - Stephen Jackson: Wordle 1,364 4/6', '', '⬛⬛⬛⬛🟩', '⬛⬛🟨⬛🟩', '⬛🟩🟨⬛🟩', '🟩🟩🟩🟩🟩', '3/14/25, 1:58\\u202fPM - Tomos: Wordle 1,364 4/6', '', '🟨⬛⬛⬛⬛', '⬛⬛🟩🟩⬛', '🟩🟨⬛🟩🟩', '🟩🟩🟩🟩🟩', '3/15/25, 8:10\\u202fAM - +44 7889 643371: Wordle 1,365 5/6', '', '⬜⬜⬜🟨🟨', '⬜🟨🟨⬜🟩', '🟨🟨⬜⬜🟩', '🟩🟩⬜🟨🟩', '🟩🟩🟩🟩🟩', '3/15/25, 8:14\\u202fAM - Stephen Jackson: Wordle 1,365 4/6', '', '⬛⬛🟨⬛🟩', '🟩🟩⬛⬛🟩', '🟩🟩⬛🟨🟩', '🟩🟩🟩🟩🟩', '3/15/25, 8:15\\u202fAM - Tomos: Wordle 1,365 4/6', '', '⬛⬛🟨⬛🟩', '🟨⬛⬛⬛🟩', '⬛🟩⬛⬛🟩', '🟩🟩🟩🟩🟩', '3/15/25, 8:19\\u202fAM - Sean Edwards: Wordle 1,365 4/6', '', '⬜⬜⬜⬜🟨', '⬜⬜🟨🟨🟩', '⬜🟩🟩🟩🟩', '🟩🟩🟩🟩🟩', '3/15/25, 8:34\\u202fAM - Ben Hawkey: Wordle 1,365 4/6', '', '⬛⬛🟨⬛🟩', '🟨⬛⬛🟨🟩', '🟨🟩🟨🟩🟩', '🟩🟩🟩🟩🟩', '3/16/25, 7:10\\u202fAM - Stephen Jackson: Wordle 1,366 3/6', '', '🟩⬛🟩⬛⬛', '🟩🟨🟩⬛⬛', '🟩🟩🟩🟩🟩', '3/16/25, 10:01\\u202fAM - +44 7889 643371: Wordle 1,366 3/6', '', '🟨⬜🟩⬜⬜', '🟨⬜🟩🟨⬜', '🟩🟩🟩🟩🟩', '3/16/25, 10:52\\u202fAM - Tomos: Wordle 1,366 4/6', '', '⬛⬛⬛⬛⬛', '🟨⬛⬛⬛⬛', '🟩🟩🟩⬛⬛', '🟩🟩🟩🟩🟩', '3/16/25, 11:00\\u202fPM - Ben Hawkey: Wordle 1,366 3/6', '', '⬛⬛🟩⬛⬛', '🟩⬛🟩⬛⬛', '🟩🟩🟩🟩🟩', '3/17/25, 6:54\\u202fAM - Sean Edwards: Wordle 1,367 3/6', '', '⬜🟨⬜🟩⬜', '⬜🟨🟨🟩🟨', '🟩🟩🟩🟩🟩', '3/17/25, 8:59\\u202fAM - Ben Hawkey: Wordle 1,367 6/6', '', '⬛⬛🟨⬛⬛', '⬛🟩🟨⬛⬛', '🟩🟩⬛⬛⬛', '🟩🟩⬛⬛🟨', '🟩🟩🟩🟩⬛', '🟩🟩🟩🟩🟩', '3/17/25, 9:09\\u202fAM - +44 7889 643371: Wordle 1,367 5/6', '', '⬜⬜⬜🟨🟨', '🟩🟩⬜⬜⬜', '🟩🟩⬜⬜⬜', '🟩🟩⬜⬜⬜', '🟩🟩🟩🟩🟩', '3/17/25, 11:28\\u202fAM - Stephen Jackson: Wordle 1,367 3/6', '', '🟨🟨🟨⬛⬛', '⬛🟩🟩🟨⬛', '🟩🟩🟩🟩🟩', '3/17/25, 11:57\\u202fAM - Bal The Veen: Wordle 1,367 2/6', '', '🟨🟨🟨⬛⬛', '🟩🟩🟩🟩🟩', '3/17/25, 12:33\\u202fPM - Ben Hawkey: She returns', \"3/17/25, 12:38\\u202fPM - Bal The Veen: But also not... I've got so much homework\", \"3/17/25, 12:38\\u202fPM - Bal The Veen: Just wanted to beat you in today's wordle, needed a pick me up\", '3/17/25, 12:38\\u202fPM - Bal The Veen: Xxx have a fab day 💕', '3/18/25, 6:54\\u202fAM - Sean Edwards: Wordle 1,368 3/6', '', '⬜⬜⬜⬜⬜', '🟩🟨⬜🟨⬜', '🟩🟩🟩🟩🟩', '3/18/25, 7:54\\u202fAM - Tomos: Wordle 1,368 6/6', '', '⬛🟨⬛🟨⬛', '🟨🟩⬛⬛⬛', '🟩🟨🟨⬛⬛', '🟩🟩🟨🟨⬛', '🟩🟩🟨🟩⬛', '🟩🟩🟩🟩🟩', '3/18/25, 8:18\\u202fAM - Ben Hawkey: Wordle 1,368 5/6', '', '🟩🟨🟨⬛⬛', '🟩⬛🟨🟨🟩', '🟩🟩⬛🟩🟩', '🟩🟩⬛🟩🟩', '🟩🟩🟩🟩🟩', '3/18/25, 8:21\\u202fAM - +44 7889 643371: Wordle 1,368 3/6', '', '🟩🟨🟨⬜⬜', '🟩⬜🟨🟨🟩', '🟩🟩🟩🟩🟩', '3/18/25, 11:45\\u202fAM - Stephen Jackson: Wordle 1,368 3/6', '', '⬛⬛⬛🟨🟨', '🟨🟨🟨🟨🟨', '🟩🟩🟩🟩🟩', '3/19/25, 12:58\\u202fPM - Stephen Jackson: Wordle 1,369 4/6', '', '🟩⬛🟩🟩⬛', '🟩⬛🟩🟩⬛', '🟩⬛🟩🟩🟩', '🟩🟩🟩🟩🟩', '3/19/25, 1:12\\u202fPM - Ben Hawkey: Wordle 1,369 X/6', '', '⬛🟨🟩⬛⬛', '⬛⬛🟩🟩🟨', '🟩⬛🟩🟩⬛', '🟩⬛🟩🟩⬛', '🟩⬛🟩🟩⬛', '🟩⬛🟩🟩⬛', '3/19/25, 1:14\\u202fPM - Sean Edwards: Wordle 1,369 4/6', '', '⬜⬜⬜🟨⬜', '🟩🟨⬜⬜⬜', '🟩⬜🟩⬜🟩', '🟩🟩🟩🟩🟩', '3/19/25, 1:40\\u202fPM - +44 7889 643371: Wordle 1,369 4/6', '', '⬜🟨⬜🟨⬜', '🟨🟨⬜⬜⬜', '⬜🟨🟩⬜🟩', '🟩🟩🟩🟩🟩', '3/19/25, 9:20\\u202fPM - Tomos: Wordle 1,369 3/6', '', '⬛🟨⬛⬛⬛', '🟩⬛🟩🟩⬛', '🟩🟩🟩🟩🟩', '3/20/25, 6:35\\u202fAM - Sean Edwards: Wordle 1,370 6/6', '', '⬜🟩🟩🟩🟩', '⬜🟩🟩🟩🟩', '⬜🟩🟩🟩🟩', '⬜🟩🟩🟩🟩', '⬜🟩🟩🟩🟩', '🟩🟩🟩🟩🟩', '3/20/25, 6:35\\u202fAM - Sean Edwards: Phew', '3/20/25, 8:21\\u202fAM - +44 7889 643371: Wordle 1,370 X/6', '', '🟨⬜🟨⬜⬜', '⬜🟩🟩🟩🟩', '⬜🟩🟩🟩🟩', '⬜🟩🟩🟩🟩', '⬜🟩🟩🟩🟩', '⬜🟩🟩🟩🟩', '3/20/25, 8:37\\u202fAM - Stephen Jackson: Wordle 1,370 5/6', '', '🟨⬛🟨⬛🟩', '⬛🟩⬛🟨🟩', '⬛🟩🟩🟩🟩', '⬛🟩🟩🟩🟩', '🟩🟩🟩🟩🟩', '3/20/25, 1:19\\u202fPM - Ben Hawkey: Wordle 1,370 6/6', '', '🟨⬛⬛🟨⬛', '⬛🟩🟨🟨🟨', '🟨🟨🟨⬛🟩', '⬛🟩🟩🟩🟩', '⬛🟩🟩🟩🟩', '🟩🟩🟩🟩🟩', '3/20/25, 10:07\\u202fPM - Tomos: Wordle 1,370 X/6', '', '🟨🟨⬛⬛🟩', '⬛⬛🟩🟩🟩', '⬛⬛🟩🟩🟩', '⬛🟩🟩🟩🟩', '⬛🟩🟩🟩🟩', '⬛🟩🟩🟩🟩', '3/21/25, 6:53\\u202fAM - Sean Edwards: Wordle 1,371 4/6', '', '🟨⬜⬜🟨⬜', '⬜🟨⬜🟨🟨', '⬜⬜🟨🟩🟩', '🟩🟩🟩🟩🟩', '3/21/25, 8:55\\u202fAM - +44 7889 643371: Wordle 1,371 6/6', '', '⬜⬜⬜⬜⬜', '⬜🟨⬜⬜⬜', '⬜🟩🟨⬜🟨', '⬜🟩🟨⬜🟩', '🟩🟩⬜⬜🟩', '🟩🟩🟩🟩🟩', '3/21/25, 6:17\\u202fPM - Stephen Jackson: Wordle 1,371 5/6', '', '⬛⬛⬛⬛🟩', '⬛🟩⬛⬛🟩', '⬛🟩⬛🟩🟩', '⬛🟩🟨🟩🟩', '🟩🟩🟩🟩🟩', '3/21/25, 6:53\\u202fPM - Ben Hawkey: Wordle 1,371 4/6', '', '⬛⬛⬛⬛⬛', '🟨⬛⬛⬛⬛', '⬛🟨⬛⬛⬛', '🟩🟩🟩🟩🟩', '3/21/25, 10:26\\u202fPM - Tomos: Wordle 1,371 6/6', '', '⬛⬛⬛⬛⬛', '🟨⬛⬛⬛⬛', '⬛🟨🟨🟨⬛', '⬛⬛🟨🟨🟨', '🟨🟨🟨⬛⬛', '🟩🟩🟩🟩🟩', '3/22/25, 7:37\\u202fAM - Sean Edwards: Wordle 1,372 3/6', '', '⬜🟩⬜⬜🟩', '🟩🟩⬜⬜🟩', '🟩🟩🟩🟩🟩', '3/22/25, 8:52\\u202fAM - +44 7889 643371: Wordle 1,372 6/6', '', '⬜⬜⬜🟨🟨', '⬜⬜🟨🟩🟩', '🟩⬜⬜🟩🟩', '🟩⬜⬜🟩🟩', '🟩🟩⬜🟩🟩', '🟩🟩🟩🟩🟩', '3/22/25, 9:20\\u202fAM - Tomos: Wordle 1,372 5/6', '', '⬛🟨🟨⬛⬛', '🟨🟨🟩⬛⬛', '⬛⬛🟩🟨🟨', '⬛🟨🟩🟩🟩', '🟩🟩🟩🟩🟩', '3/22/25, 9:22\\u202fAM - Ben Hawkey: Wordle 1,372 5/6', '', '⬛⬛⬛🟨🟨', '🟨🟨⬛🟨⬛', '⬛⬛🟨🟩⬛', '⬛⬛⬛⬛🟩', '🟩🟩🟩🟩🟩', '3/22/25, 10:57\\u202fAM - Stephen Jackson: Wordle 1,372 4/6', '', '⬛⬛🟨⬛🟩', '🟨🟨⬛⬛🟩', '🟩🟩⬛🟩🟩', '🟩🟩🟩🟩🟩', '3/23/25, 8:15\\u202fAM - Tomos: Wordle 1,373 3/6', '', '⬛⬛🟨⬛⬛', '🟨🟩⬛🟩🟨', '🟩🟩🟩🟩🟩', '3/23/25, 9:06\\u202fAM - Ben Hawkey: Wordle 1,373 X/6', '', '⬛⬛🟨⬛🟨', '🟩🟩⬛⬛🟩', '🟩🟩⬛⬛🟩', '🟩🟩⬛⬛🟩', '🟩🟩⬛⬛🟩', '🟩🟩⬛⬛🟩', '3/23/25, 9:06\\u202fAM - Ben Hawkey: Incredible', '3/23/25, 9:06\\u202fAM - +44 7889 643371: Wordle 1,373 6/6', '', '⬜⬜🟨⬜🟨', '🟩⬜🟨⬜🟨', '🟩🟩⬜🟩⬜', '🟩🟩⬜🟩⬜', '🟩🟩⬜🟩⬜', '🟩🟩🟩🟩🟩', '3/23/25, 8:07\\u202fPM - Stephen Jackson: Wordle 1,373 4/6', '', '⬛🟩⬛⬛🟨', '⬛🟩⬛🟩⬛', '🟩🟩⬛🟩⬛', '🟩🟩🟩🟩🟩', '3/23/25, 8:31\\u202fPM - Sean Edwards: Wordle 1,373 5/6', '', '⬜⬜🟨⬜🟨', '⬜🟨⬜🟨⬜', '🟨🟩⬜🟩🟨', '🟩🟩🟩🟩⬜', '🟩🟩🟩🟩🟩', '3/24/25, 8:29\\u202fAM - +44 7889 643371: Wordle 1,374 5/6', '', '⬜⬜🟨⬜🟨', '🟨🟨🟨⬜⬜', '⬜🟨🟨🟨🟩', '🟨🟨🟨⬜🟩', '🟩🟩🟩🟩🟩', '3/24/25, 8:43\\u202fAM - Sean Edwards: Wordle 1,374 4/6', '', '⬜⬜⬜⬜🟩', '⬜🟨🟨⬜🟩', '🟩⬜⬜🟩🟩', '🟩🟩🟩🟩🟩', '3/24/25, 11:33\\u202fAM - Tomos: Wordle 1,374 4/6', '', '⬛⬛⬛⬛⬛', '⬛🟨⬛⬛⬛', '🟩⬛⬛🟩🟩', '🟩🟩🟩🟩🟩', '3/24/25, 12:40\\u202fPM - Ben Hawkey: Wordle 1,374 X/6', '', '⬛⬛⬛🟨🟨', '⬛🟨🟨⬛⬛', '⬛⬛🟨🟩🟨', '⬛🟨⬛🟩🟩', '🟩⬛⬛🟩🟩', '🟩🟩⬛🟩🟩', '3/24/25, 12:45\\u202fPM - Tomos: Here he is, the man on form 🔥', '3/24/25, 12:46\\u202fPM - Bal The Veen: Yessss my day to do wordle', '3/24/25, 9:19\\u202fPM - Stephen Jackson: Wordle 1,374 4/6', '', '⬛⬛🟨⬛🟩', '🟨🟨🟨⬛🟩', '🟩🟩⬛🟩🟩', '🟩🟩🟩🟩🟩', '3/25/25, 8:39\\u202fAM - +44 7889 643371: Wordle 1,375 5/6', '', '⬜⬜⬜⬜🟨', '⬜🟨⬜⬜🟨', '⬜🟨🟨🟨🟨', '🟩🟩🟩🟩⬜', '🟩🟩🟩🟩🟩', '3/25/25, 8:46\\u202fAM - Sean Edwards: Wordle 1,375 3/6', '', '🟨⬜⬜🟨🟨', '🟩🟩🟩🟩⬜', '🟩🟩🟩🟩🟩', '3/25/25, 10:01\\u202fAM - Ben Hawkey: Wordle 1,375 5/6', '', '⬛⬛⬛⬛🟨', '🟨⬛⬛⬛⬛', '⬛⬛⬛⬛⬛', '🟩🟩🟩🟩⬛', '🟩🟩🟩🟩🟩', '3/25/25, 3:24\\u202fPM - Stephen Jackson: Wordle 1,375 5/6', '', '🟩⬛⬛⬛🟨', '🟩⬛⬛🟨⬛', '🟩⬛🟩⬛⬛', '🟩⬛🟩🟩⬛', '🟩🟩🟩🟩🟩', '3/25/25, 8:38\\u202fPM - Tomos: Wordle 1,375 6/6', '', '⬛⬛⬛⬛🟨', '🟩⬛⬛⬛🟨', '🟩⬛⬛🟨⬛', '🟩🟨⬛🟩⬛', '🟩🟩🟩🟩⬛', '🟩🟩🟩🟩🟩', '3/26/25, 7:04\\u202fAM - Sean Edwards: Wordle 1,376 4/6', '', '⬜⬜🟨⬜⬜', '⬜🟨🟨⬜⬜', '🟨🟨⬜🟩⬜', '🟩🟩🟩🟩🟩', '3/26/25, 7:59\\u202fAM - +44 7889 643371: Wordle 1,376 4/6', '', '⬜⬜⬜⬜🟨', '⬜🟩🟨⬜⬜', '🟨🟩⬜🟨⬜', '🟩🟩🟩🟩🟩', '3/26/25, 9:25\\u202fAM - Ben Hawkey: Wordle 1,376 4/6', '', '⬛⬛⬛⬛🟨', '🟩⬛⬛⬛⬛', '🟩⬛⬛🟨⬛', '🟩🟩🟩🟩🟩', '3/27/25, 7:29\\u202fAM - Tomos: Wordle 1,377 4/6', '', '🟩⬛⬛⬛🟨', '🟩🟨⬛🟨⬛', '🟩🟨🟩🟩⬛', '🟩🟩🟩🟩🟩', '3/27/25, 8:20\\u202fAM - +44 7889 643371: Wordle 1,377 4/6', '', '🟨⬜⬜⬜⬜', '🟩⬜🟩⬜🟩', '🟩⬜🟩🟩🟩', '🟩🟩🟩🟩🟩', '3/27/25, 10:02\\u202fAM - Ben Hawkey: Wordle 1,377 X/6', '', '⬛⬛⬛⬛🟨', '🟨⬛⬛🟨⬛', '🟨🟨⬛⬛🟨', '🟩🟨🟩🟩⬛', '🟩⬛🟩🟩🟩', '🟩⬛🟩🟩🟩', '3/27/25, 10:15\\u202fAM - Bal The Veen: Wordle 1,377 3/6', '', '🟩⬛⬛⬛🟨', '🟩🟨⬛🟩⬛', '🟩🟩🟩🟩🟩', '3/27/25, 2:48\\u202fPM - Stephen Jackson: Wordle 1,377 4/6', '', '🟩⬛⬛⬛🟨', '🟩⬛🟩⬛🟩', '🟩⬛🟩⬛🟩', '🟩🟩🟩🟩🟩', '3/27/25, 9:46\\u202fPM - Sean Edwards: Wordle 1,377 4/6', '', '⬜⬜🟩🟨🟩', '🟩⬜🟩⬜🟩', '🟩⬜🟩🟩🟩', '🟩🟩🟩🟩🟩', '3/28/25, 7:22\\u202fAM - Sean Edwards: Wordle 1,378 5/6', '', '⬜🟨⬜🟨⬜', '🟨⬜⬜⬜🟩', '⬜🟨⬜🟩🟩', '⬜⬜🟩🟩🟩', '🟩🟩🟩🟩🟩', '3/28/25, 8:45\\u202fAM - +44 7889 643371: Wordle 1,378 4/6', '', '⬜🟨⬜⬜⬜', '🟨⬜⬜⬜⬜', '🟨⬜🟨🟨⬜', '🟩🟩🟩🟩🟩', '3/28/25, 8:56\\u202fAM - Ben Hawkey: Wordle 1,378 5/6', '', '⬛🟨⬛⬛⬛', '🟨⬛⬛🟨⬛', '🟨⬛🟨🟨⬛', '⬛🟩🟩⬛🟩', '🟩🟩🟩🟩🟩', '3/28/25, 11:41\\u202fAM - Tomos: Wordle 1,378 6/6', '', '🟨⬛⬛⬛🟨', '⬛🟨⬛🟩🟩', '⬛⬛🟩🟩🟩', '⬛🟩🟩🟩🟩', '⬛🟩🟩🟩🟩', '🟩🟩🟩🟩🟩', '3/29/25, 9:05\\u202fAM - Ben Hawkey: Wordle 1,379 3/6', '', '⬛🟨⬛⬛⬛', '🟩⬛⬛⬛🟨', '🟩🟩🟩🟩🟩', '3/29/25, 9:14\\u202fAM - +44 7889 643371: Wordle 1,379 5/6', '', '⬜🟨⬜⬜⬜', '🟨🟩⬜⬜⬜', '⬜🟩⬜⬜⬜', '⬜🟩🟩⬜🟩', '🟩🟩🟩🟩🟩', '3/29/25, 11:49\\u202fAM - Stephen Jackson: Wordle 1,379 3/6', '', '🟩🟩⬛🟩⬛', '🟩🟩⬛🟩⬛', '🟩🟩🟩🟩🟩', '3/29/25, 2:12\\u202fPM - Tomos: Wordle 1,379 3/6', '', '🟩⬛⬛🟩⬛', '🟩⬛🟨🟩⬛', '🟩🟩🟩🟩🟩', '3/29/25, 4:26\\u202fPM - Sean Edwards: Wordle 1,379 2/6', '', '⬜🟩⬜🟨⬜', '🟩🟩🟩🟩🟩', '3/29/25, 4:26\\u202fPM - +44 7889 643371: 👍', '3/29/25, 4:28\\u202fPM - Sean Edwards: 🥳', '3/30/25, 8:34\\u202fAM - Sean Edwards: Wordle 1,380 3/6', '', '⬜🟨🟨⬜⬜', '🟨🟩⬜⬜🟨', '🟩🟩🟩🟩🟩', '3/30/25, 9:13\\u202fAM - +44 7889 643371: Wordle 1,380 5/6', '', '🟨⬜⬜🟨⬜', '🟨⬜🟨⬜⬜', '⬜🟨⬜🟩🟨', '⬜🟨🟨🟩⬜', '🟩🟩🟩🟩🟩', '3/30/25, 9:54\\u202fAM - Stephen Jackson: Wordle 1,380 4/6', '', '⬛🟨🟨⬛⬛', '⬛🟨🟨🟨⬛', '⬛⬛🟩🟨🟨', '🟩🟩🟩🟩🟩', '3/30/25, 4:11\\u202fPM - Tomos: Wordle 1,380 6/6', '', '⬛🟨⬛⬛⬛', '🟨🟨⬛⬛⬛', '⬛⬛🟩🟩⬛', '⬛⬛🟩🟩⬛', '⬛⬛🟩🟩⬛', '🟩🟩🟩🟩🟩', '3/30/25, 4:27\\u202fPM - Ben Hawkey: Wordle 1,380 5/6', '', '🟨⬛⬛🟨⬛', '⬛🟨🟨⬛⬛', '⬛⬛⬛⬛🟩', '⬛🟨⬛🟩🟩', '🟩🟩🟩🟩🟩', '3/31/25, 8:58\\u202fAM - Tomos: Wordle 1,381 5/6', '', '⬛⬛⬛⬛⬛', '⬛⬛🟩⬛🟨', '🟨⬛🟩⬛⬛', '🟩⬛🟩🟩⬛', '🟩🟩🟩🟩🟩', '3/31/25, 10:25\\u202fAM - Ben Hawkey: Wordle 1,381 4/6', '', '🟨⬛⬛⬛⬛', '⬛⬛⬛⬛🟨', '🟩⬛⬛🟩🟩', '🟩🟩🟩🟩🟩', '3/31/25, 10:26\\u202fAM - +44 7889 643371: Wordle 1,381 5/6', '', '⬜⬜⬜⬜🟨', '⬜🟩🟩⬜🟨', '⬜🟩🟩🟩⬜', '⬜🟩🟩🟩🟩', '🟩🟩🟩🟩🟩', '4/1/25, 7:16\\u202fAM - Sean Edwards: Wordle 1,382 5/6', '', '⬜⬜🟨🟩🟩', '⬜🟩⬜🟩🟩', '⬜🟩⬜🟩🟩', '⬜⬜⬜⬜⬜', '🟩🟩🟩🟩🟩', '4/1/25, 8:00\\u202fAM - +44 7889 643371: Wordle 1,382 5/6', '', '⬜⬜⬜⬜⬜', '⬜🟩⬜⬜⬜', '⬜🟩⬜🟩⬜', '⬜🟩⬜🟩🟩', '🟩🟩🟩🟩🟩', '4/1/25, 9:25\\u202fAM - Ben Hawkey: Wordle 1,382 6/6', '', '⬛⬛⬛⬛⬛', '⬛⬛🟨🟩⬛', '⬛🟩⬛🟩⬛', '⬛🟩🟨🟩⬛', '⬛🟩⬛🟩🟩', '🟩🟩🟩🟩🟩', '4/1/25, 1:30\\u202fPM - Tomos: Yesterday brought a marathon, 90-game Season 2 to a close', '', '🏆 - Jeremy (1486)', '🥈 - Benjamin (1723)', '🥉 - Stephen (1761)', '4️⃣ - Sean (1846)', '5️⃣ - Tomos (1849)', '🥄 - Balveen (2817)', '4/1/25, 1:33\\u202fPM - Tomos: And some awards...', '', '♻️ Ever-present - Jeremy and Benjamin (0 games missed)', '', '🫥 The Invisible Man - Balveen (74 games missed)', '', '🥲 Biggest Loser - Benjamin (4 games lost)', '', '🟩 Green Giant - Sean (11.14 greens/game)', '', '🟨 Mellow Yellow - Tomos (3.24 yellows/game)', '', '☝️ One and Done - Jeremy (1 game completed in one attempt)', '', '😅 Life on the Edge - Sean (25 games completed on the last attempt)', '4/1/25, 1:33\\u202fPM - Tomos: @447535351329 there have been applications from people wishing to join the league (namely my parents and brother 😂)', '4/1/25, 1:38\\u202fPM - Ben Hawkey: Let me discuss with the board 👍🏻', '4/1/25, 1:38\\u202fPM - Ben Hawkey: Is a season 90 days?', \"4/1/25, 1:38\\u202fPM - Tomos: Pretty much yeah, it's Quarterly\", '4/1/25, 1:50\\u202fPM - Stephen Jackson: Ella has also requested consideration from the board', \"4/1/25, 1:51\\u202fPM - Tomos: Can't wait for the Season 3 admin 😅\", '4/1/25, 2:07\\u202fPM - Stephen Jackson: How long does it take to do you reckon? Could write a program for it', '4/1/25, 3:00\\u202fPM - Bal The Veen: I like my wordle name but watch this space when uni finishes 🏆', '4/1/25, 3:00\\u202fPM - Bal The Veen: Do my matlab homework instead', '4/1/25, 3:51\\u202fPM - Sean Edwards: Please can the program be open access so that any bugs can be exploited 👀', '4/1/25, 3:52\\u202fPM - Sean Edwards: Thanks for all your time putting the scores together it is delightful 😃', '4/1/25, 4:05\\u202fPM - +44 7889 643371: Ditto. Much appreciated 👍', '4/1/25, 4:06\\u202fPM - Ben Hawkey: Yeah nice one Ings', '4/1/25, 4:50\\u202fPM - Tomos: Depends how long I leave it between updates so a program would be brilliant haha', '4/1/25, 5:02\\u202fPM - Tomos: Any update from the board?', '4/1/25, 5:23\\u202fPM - Ben Hawkey: Do the applicants understand that this is a serious league for serious people?', '4/1/25, 5:24\\u202fPM - Ben Hawkey: Approval from the board. Just make sure they read the rules before playing', '4/1/25, 7:08\\u202fPM - Tomos: Welcome Ioan!', '4/1/25, 7:08\\u202fPM - Tomos added ~\\u202fIoan', '4/1/25, 7:08\\u202fPM - Tomos added ~\\u202fMike Ings', '4/1/25, 7:08\\u202fPM - Tomos: My dad, Mike', '4/1/25, 7:09\\u202fPM - Tomos: And mum, Cath', '4/1/25, 7:09\\u202fPM - Tomos added ~\\u202fCathryn Ings', '4/1/25, 7:09\\u202fPM - Tomos: Rules:', '', '1. No profanity ', '2. No goading', '3. No cheating ', '4. No fun', '5. No emojis', '4/1/25, 7:10\\u202fPM - Tomos: New season starts today so get your attempts in!', '4/1/25, 7:11\\u202fPM - Ben Hawkey added Ella Carden', '4/1/25, 7:12\\u202fPM - Ben Hawkey: <Media omitted>', \"4/1/25, 7:14\\u202fPM - Tomos: Like golf you're aiming for as small a score as possible over the season which runs from today until the end of June\", '', 'A loss = 10 points', 'Not sharing =12 points', 'Green tiles = 1 points each', 'Yellow tiles = 2 points each', '1 attempt = -10 points', '2 attempts = -5 points', '3 attempts = -2 points', '4 attempts = 1 point', '5 attempts = 3 points', '6 attempts = 5 points', '', 'Let the games.........begin!', '4/1/25, 7:18\\u202fPM - Tomos: Wordle 1,382 4/6', '', '⬛⬛🟨⬛🟩', '⬛⬛⬛🟩🟩', '🟨⬛🟨🟩🟩', '🟩🟩🟩🟩🟩', '4/1/25, 7:20\\u202fPM - +44 7805 323515: Wordle 1,382 4/6', '', '⬜🟩⬜⬜⬜', '🟨🟩⬜⬜⬜', '⬜🟩⬜🟩🟩', '🟩🟩🟩🟩🟩', '4/1/25, 7:23\\u202fPM - Bal The Veen: Ben your rules are so poo', '4/1/25, 7:23\\u202fPM - Ben Hawkey: Rules are rules Bill', '4/1/25, 7:29\\u202fPM - +44 7896 463954: Wordle 1,382 5/6', '', '⬜⬜⬜⬜⬜', '⬜🟨⬜⬜🟨', '⬜🟨⬜🟩⬜', '🟨⬜🟨🟩🟩', '🟩🟩🟩🟩🟩', '4/1/25, 7:43\\u202fPM - +44 7950 720437: Wordle 1,382 4/6', '', '⬛⬛⬛⬛⬛', '⬛🟨⬛⬛⬛', '⬛⬛🟩🟩🟩', '🟩🟩🟩🟩🟩', \"4/1/25, 8:15\\u202fPM - Bal The Veen: I'm still in the season @447480528481 I'll do a feature here and there as Invisible Man when Ben gets X/6 but won't play proper until school ends\", '4/1/25, 8:33\\u202fPM - Ella Carden: Wordle 1,382 4/6', '', '⬜🟩🟨⬜⬜', '⬜🟩⬜⬜⬜', '⬜🟩🟨⬜🟨', '🟩🟩🟩🟩🟩', '4/2/25, 6:52\\u202fAM - Sean Edwards: Wordle 1,383 3/6', '', '⬜⬜🟨⬜⬜', '🟨⬜⬜🟨🟩', '🟩🟩🟩🟩🟩', '4/2/25, 7:53\\u202fAM - +44 7950 720437: Wordle 1,383 4/6', '', '⬛🟨⬛🟨⬛', '⬛⬛🟩🟨🟨', '⬛🟩🟩🟩🟩', '🟩🟩🟩🟩🟩', '4/2/25, 8:01\\u202fAM - Tomos: Wordle 1,383 5/6', '', '⬛🟨⬛⬛🟩', '🟨⬛⬛🟨🟩', '⬛⬛🟩🟩🟩', '⬛⬛🟩🟩🟩', '🟩🟩🟩🟩🟩', '4/2/25, 8:02\\u202fAM - +44 7805 323515: Wordle 1,383 4/6', '', '⬜🟨⬜🟩⬜', '⬜🟨🟨🟩⬜', '⬜⬜🟩🟩🟩', '🟩🟩🟩🟩🟩', '4/2/25, 8:08\\u202fAM - +44 7889 643371: Wordle 1,383 5/6', '', '⬜🟨⬜⬜⬜', '⬜🟨🟨⬜⬜', '🟨🟩⬜⬜⬜', '🟩🟩🟩⬜🟩', '🟩🟩🟩🟩🟩', '4/2/25, 8:58\\u202fAM - Stephen Jackson: Wordle 1,383 5/6', '', '🟨⬛⬛🟨🟩', '⬛⬛🟩🟩🟩', '⬛🟩🟩🟩🟩', '⬛🟩🟩🟩🟩', '🟩🟩🟩🟩🟩', '4/2/25, 9:00\\u202fAM - Ben Hawkey: Wordle 1,383 4/6', '', '⬛🟩⬛⬛⬛', '🟨🟩⬛🟨⬛', '🟩🟩🟩🟨🟨', '🟩🟩🟩🟩🟩', '4/2/25, 9:54\\u202fAM - +44 7896 463954: Wordle 1,383 5/6', '', '⬜⬜⬜🟨⬜', '⬜⬜⬜🟨🟨', '⬜🟨🟩⬜⬜', '🟩🟩🟩⬜🟩', '🟩🟩🟩🟩🟩', '4/2/25, 10:02\\u202fAM - Ella Carden: Wordle 1,383 4/6', '', '🟨⬜⬜🟨🟩', '⬜⬜🟩🟩🟩', '⬜🟩🟩🟩🟩', '🟩🟩🟩🟩🟩', '4/2/25, 10:22\\u202fAM - Bal The Veen: Wordle 1,383 3/6', '', '🟨⬛⬛🟨🟩', '⬛🟩🟩🟩🟩', '🟩🟩🟩🟩🟩', '4/3/25, 1:38\\u202fAM - +44 7950 720437: Wordle 1,384 5/6', '', '🟨🟨⬛⬛⬛', '🟨🟨⬛⬛⬛', '⬛🟨🟨🟨🟨', '🟩⬛🟩🟩🟩', '🟩🟩🟩🟩🟩', '4/3/25, 7:15\\u202fAM - Sean Edwards: Wordle 1,384 6/6', '', '🟩⬜⬜⬜🟨', '🟩⬜🟩🟩⬜', '🟩⬜🟩🟩🟩', '🟩⬜🟩🟩🟩', '🟩⬜🟩🟩🟩', '🟩🟩🟩🟩🟩', '4/3/25, 8:08\\u202fAM - Stephen Jackson: Wordle 1,384 4/6', '', '🟩⬛🟨🟨🟨', '🟩⬛🟩🟩🟩', '🟩⬛🟩🟩🟩', '🟩🟩🟩🟩🟩', '4/3/25, 8:11\\u202fAM - +44 7889 643371: Wordle 1,384 4/6', '', '⬜🟨🟨⬜⬜', '🟨🟨⬜⬜🟨', '🟩🟩⬜🟨🟨', '🟩🟩🟩🟩🟩', '4/3/25, 8:19\\u202fAM - +44 7805 323515: Wordle 1,384 3/6', '', '⬜🟨🟨🟨⬜', '⬜🟨🟨🟨🟩', '🟩🟩🟩🟩🟩', '4/3/25, 9:29\\u202fAM - Ben Hawkey: Wordle 1,384 6/6', '', '⬛⬛🟩🟨🟨', '⬛🟨🟩🟩⬛', '🟩⬛🟩🟩🟩', '🟩⬛🟩🟩🟩', '🟩⬛🟩🟩🟩', '🟩🟩🟩🟩🟩', '4/3/25, 10:05\\u202fAM - Ella Carden: Wordle 1,384 5/6', '', '🟩⬜🟨🟨🟨', '🟩⬜🟩🟩🟩', '🟩⬜🟩🟩🟩', '🟩⬜🟩🟩🟩', '🟩🟩🟩🟩🟩', '4/3/25, 10:22\\u202fAM - Tomos: Wordle 1,384 5/6', '', '🟩⬛🟨⬛🟩', '🟩🟨⬛🟨🟩', '🟩⬛🟩🟩🟩', '🟩⬛🟩🟩🟩', '🟩🟩🟩🟩🟩', '4/3/25, 11:11\\u202fAM - +44 7896 463954: Wordle 1,384 3/6', '', '⬜⬜⬜🟨🟩', '⬜🟨⬜⬜🟩', '🟩🟩🟩🟩🟩', \"4/3/25, 9:49\\u202fPM - Bal The Veen: What is going on here. I'm not doing this one ew\", '4/4/25, 7:02\\u202fAM - Sean Edwards: Wordle 1,385 5/6', '', '⬜⬜⬜⬜⬜', '⬜🟨⬜⬜🟨', '⬜🟨🟨🟨⬜', '🟨🟩🟨⬜⬜', '🟩🟩🟩🟩🟩', '4/4/25, 7:48\\u202fAM - +44 7950 720437: Wordle 1,385 4/6', '', '⬛⬛⬛⬛⬛', '⬛🟩⬛⬛⬛', '🟨🟨⬛🟨⬛', '🟩🟩🟩🟩🟩', '4/4/25, 8:09\\u202fAM - +44 7805 323515: Wordle 1,385 4/6', '', '⬜⬜⬜⬜⬜', '⬜⬜⬜🟨🟨', '⬜🟩🟩⬜🟨', '🟩🟩🟩🟩🟩', '4/4/25, 8:11\\u202fAM - Stephen Jackson: Wordle 1,385 3/6', '', '⬛⬛⬛🟨⬛', '🟨⬛🟨🟨⬛', '🟩🟩🟩🟩🟩', '4/4/25, 8:11\\u202fAM - Tomos: Wordle 1,385 4/6', '', '⬛🟩⬛⬛⬛', '⬛🟩⬛⬛⬛', '⬛🟩🟩⬛🟨', '🟩🟩🟩🟩🟩', '4/4/25, 8:52\\u202fAM - Ella Carden: Wordle 1,385 6/6', '', '⬜⬜⬜🟨⬜', '⬜🟩⬜🟨⬜', '⬜🟩🟩🟩🟩', '⬜🟩🟩🟩🟩', '⬜🟩🟩🟩🟩', '🟩🟩🟩🟩🟩', '4/4/25, 8:55\\u202fAM - +44 7889 643371: Wordle 1,385 2/6', '', '⬜🟩⬜🟨🟩', '🟩🟩🟩🟩🟩', '4/4/25, 9:48\\u202fAM - Ben Hawkey: Wordle 1,385 X/6', '', '⬛🟩🟩⬛🟩', '⬛🟩🟩🟩🟩', '⬛🟩🟩🟩🟩', '⬛🟩🟩🟩🟩', '⬛🟩🟩🟩🟩', '⬛🟩🟩🟩🟩', '4/4/25, 9:48\\u202fAM - Ben Hawkey: Brilliant', '4/4/25, 10:11\\u202fAM - +44 7896 463954: Wordle 1,385 6/6', '', '⬜⬜⬜⬜⬜', '⬜⬜⬜⬜🟨', '⬜🟩🟩⬜⬜', '⬜🟩🟩⬜⬜', '⬜🟩🟩🟩🟩', '🟩🟩🟩🟩🟩', '4/4/25, 10:15\\u202fAM - Bal The Veen: 🏆', '4/4/25, 12:59\\u202fPM - Bal The Veen: Wordle 1,385 3/6', '', '⬛🟩⬛🟨⬛', '⬛🟩🟩⬛🟨', '🟩🟩🟩🟩🟩', '4/5/25, 8:26\\u202fAM - +44 7889 643371: Wordle 1,386 3/6', '', '⬜⬜🟩⬜⬜', '⬜⬜🟩⬜⬜', '🟩🟩🟩🟩🟩', '4/5/25, 8:28\\u202fAM - Ben Hawkey: Wordle 1,386 4/6', '', '⬛⬛🟩⬛⬛', '⬛⬛🟩⬛⬛', '🟨🟩🟩⬛🟩', '🟩🟩🟩🟩🟩', '4/5/25, 8:38\\u202fAM - +44 7950 720437: Wordle 1,386 4/6', '', '⬛⬛🟩⬛🟩', '⬛🟩🟩⬛🟩', '⬛🟩🟩⬛🟩', '🟩🟩🟩🟩🟩', '4/5/25, 9:19\\u202fAM - +44 7805 323515: Wordle 1,386 4/6', '', '🟨⬜🟩⬜⬜', '⬜⬜🟩⬜🟩', '🟩⬜🟩⬜🟩', '🟩🟩🟩🟩🟩', '4/5/25, 9:36\\u202fAM - +44 7896 463954: Wordle 1,386 6/6', '', '⬜⬜🟩⬜⬜', '⬜⬜🟩⬜⬜', '⬜⬜🟩⬜⬜', '⬜⬜🟩⬜🟨', '⬜🟨⬜🟩🟩', '🟩🟩🟩🟩🟩', '4/5/25, 10:00\\u202fAM - Sean Edwards: Wordle 1,386 4/6', '', '⬜⬜⬜🟨🟨', '🟨🟨⬜⬜⬜', '⬜🟩⬜🟩🟨', '🟩🟩🟩🟩🟩', '4/5/25, 10:37\\u202fAM - Stephen Jackson: Wordle 1,386 3/6', '', '⬛🟩🟩⬛⬛', '🟨🟩🟩⬛🟩', '🟩🟩🟩🟩🟩', '4/5/25, 10:50\\u202fAM - Ella Carden: Wordle 1,386 4/6', '', '⬜🟩🟩⬜⬜', '⬜🟩🟩⬜⬜', '⬜🟩🟩⬜⬜', '🟩🟩🟩🟩🟩', '4/5/25, 9:21\\u202fPM - Tomos: Wordle 1,386 5/6', '', '⬛⬛⬛🟨⬛', '⬛⬛🟩⬛⬛', '⬛⬛🟩🟩⬛', '⬛⬛🟩🟩🟨', '🟩🟩🟩🟩🟩', '4/6/25, 8:36\\u202fAM - +44 7889 643371: Wordle 1,387 4/6', '', '⬜⬜🟨🟨🟨', '⬜🟨🟨🟩⬜', '🟩🟩⬜🟩🟩', '🟩🟩🟩🟩🟩', '4/6/25, 9:29\\u202fAM - +44 7805 323515: Wordle 1,387 4/6', '', '⬜⬜🟨⬜⬜', '🟨🟨🟨⬜⬜', '🟨⬜🟨🟨🟨', '🟩🟩🟩🟩🟩', '4/6/25, 10:08\\u202fAM - Tomos: Wordle 1,387 X/6', '', '⬛🟨⬛⬛⬛', '⬛⬛⬛🟨🟨', '⬛⬛🟨🟨🟨', '⬛🟨🟨🟨⬛', '⬛🟨🟨🟩⬛', '🟨🟩⬛🟩⬛', '4/6/25, 10:08\\u202fAM - Tomos: 😓', '4/6/25, 10:11\\u202fAM - Ben Hawkey: Wordle 1,387 3/6', '', '⬛⬛🟨⬛⬛', '⬛🟨🟩🟩⬛', '🟩🟩🟩🟩🟩', '4/6/25, 11:19\\u202fAM - +44 7896 463954: Wordle 1,387 4/6', '', '⬜⬜⬜⬜⬜', '⬜🟩⬜⬜⬜', '⬜🟩⬜🟩⬜', '🟩🟩🟩🟩🟩', '4/6/25, 11:36\\u202fAM - +44 7950 720437: Wordle 1,387 6/6', '', '⬛🟨⬛🟨⬛', '⬛⬛🟨🟩⬛', '🟨⬛⬛🟩⬛', '⬛🟨⬛🟩⬛', '🟩🟩⬛🟩🟩', '🟩🟩🟩🟩🟩', '4/6/25, 6:14\\u202fPM - Stephen Jackson: Wordle 1,387 4/6', '', '⬛⬛🟨⬛⬛', '⬛🟨🟨🟨⬛', '🟨🟩⬛🟨⬛', '🟩🟩🟩🟩🟩', '4/6/25, 10:14\\u202fPM - Ella Carden: Wordle 1,387 4/6', '', '⬜⬜🟨⬜⬜', '🟨⬜⬜🟨⬜', '⬜🟨🟨🟩⬜', '🟩🟩🟩🟩🟩', '4/7/25, 8:01\\u202fAM - Sean Edwards: Wordle 1,388 6/6', '', '⬜🟨⬜⬜⬜', '⬜⬜🟨🟨🟨', '🟨🟨🟨⬜⬜', '⬜🟩⬜🟩🟩', '⬜🟩⬜🟩🟩', '🟩🟩🟩🟩🟩', '4/7/25, 8:26\\u202fAM - +44 7805 323515: Wordle 1,388 6/6', '', '⬜🟨🟨⬜⬜', '⬜⬜🟨🟨⬜', '⬜🟩⬜🟩🟩', '⬜🟩⬜🟩🟩', '⬜🟩⬜🟩🟩', '🟩🟩🟩🟩🟩', '4/7/25, 8:34\\u202fAM - +44 7889 643371: Wordle 1,388 3/6', '', '⬜⬜⬜🟨🟩', '⬜🟨🟨⬜🟩', '🟩🟩🟩🟩🟩', '4/7/25, 8:48\\u202fAM - Ella Carden: Wordle 1,388 4/6', '', '⬜⬜🟨⬜🟨', '⬜🟨🟨⬜⬜', '🟨🟨🟨⬜⬜', '🟩🟩🟩🟩🟩', '4/7/25, 9:10\\u202fAM - Stephen Jackson: Wordle 1,388 5/6', '', '⬛🟩⬛⬛🟨', '⬛🟩⬛🟩⬛', '⬛🟩⬛🟩⬛', '⬛🟩⬛🟩🟩', '🟩🟩🟩🟩🟩', '4/7/25, 9:21\\u202fAM - +44 7950 720437: Wordle 1,388 3/6', '', '⬛🟩⬛⬛🟨', '🟨🟩⬛⬛🟨', '🟩🟩🟩🟩🟩', '4/7/25, 9:43\\u202fAM - Ben Hawkey: Wordle 1,388 3/6', '', '⬛⬛🟨⬛🟩', '⬛🟨⬛🟨🟩', '🟩🟩🟩🟩🟩', '4/7/25, 4:35\\u202fPM - +44 7896 463954: Wordle 1,388 X/6', '', '⬜🟨🟨⬜⬜', '⬜🟨🟨🟨⬜', '🟨🟩⬜🟩⬜', '⬜🟩🟨🟩⬜', '⬜🟩⬜🟩🟩', '⬜🟩⬜🟩🟩', '4/7/25, 10:06\\u202fPM - Tomos: Wordle 1,388 5/6', '', '⬛⬛🟨⬛⬛', '🟨⬛🟨🟩⬛', '🟨🟩⬛🟩⬛', '⬛🟩⬛🟩🟩', '🟩🟩🟩🟩🟩', '4/8/25, 7:41\\u202fAM - Ben Hawkey: Wordle 1,389 3/6', '', '⬛🟨🟩⬛⬛', '🟩⬛🟩🟩🟩', '🟩🟩🟩🟩🟩', '4/8/25, 8:08\\u202fAM - +44 7805 323515: Wordle 1,389 3/6', '', '⬜🟨🟩🟨⬜', '🟩⬜🟩🟩🟩', '🟩🟩🟩🟩🟩', '4/8/25, 8:25\\u202fAM - Tomos: Wordle 1,389 2/6', '', '⬛🟨⬛⬛🟩', '🟩🟩🟩🟩🟩', '4/8/25, 8:26\\u202fAM - +44 7889 643371: 👍', '4/8/25, 8:26\\u202fAM - +44 7889 643371: Wordle 1,389 4/6', '', '⬜🟨⬜🟨⬜', '🟨⬜⬜🟨🟨', '⬜🟨🟨⬜🟩', '🟩🟩🟩🟩🟩', '4/8/25, 8:45\\u202fAM - +44 7896 463954: Wordle 1,389 5/6', '', '🟩⬜⬜⬜🟩', '🟩⬜⬜🟩🟩', '🟩⬜🟩🟩🟩', '🟩⬜🟩🟩🟩', '🟩🟩🟩🟩🟩', '4/8/25, 8:54\\u202fAM - Sean Edwards: Wordle 1,389 5/6', '', '⬜⬜⬜🟨🟩', '🟩⬜🟩🟩🟩', '🟩⬜🟩🟩🟩', '🟩⬜🟩🟩🟩', '🟩🟩🟩🟩🟩', '4/8/25, 9:18\\u202fAM - +44 7950 720437: Wordle 1,389 5/6', '', '🟩⬛🟨🟨⬛', '🟩⬛🟩⬛🟩', '🟩⬛🟩⬛🟩', '🟩⬛🟩🟩🟩', '🟩🟩🟩🟩🟩', '4/8/25, 1:04\\u202fPM - Stephen Jackson: Wordle 1,389 3/6', '', '🟩⬛🟩🟩🟩', '🟩⬛🟩🟩🟩', '🟩🟩🟩🟩🟩', '4/8/25, 1:06\\u202fPM - Ella Carden: Wordle 1,389 1/6', '', '🟩🟩🟩🟩🟩', '4/8/25, 1:07\\u202fPM - +44 7889 643371: 🤲🤲👍', '4/8/25, 1:12\\u202fPM - Bal The Veen: ELLLLLLAAA!!!!', '4/8/25, 1:12\\u202fPM - Bal The Veen: Wtf', '4/8/25, 1:12\\u202fPM - Bal The Veen: Wicked', '4/8/25, 1:14\\u202fPM - Bal The Veen: Great effort. Not as awesome as Ella though x', '4/9/25, 7:01\\u202fAM - Sean Edwards: Wordle 1,390 5/6', '', '⬜⬜⬜⬜🟨', '⬜🟨🟨🟩⬜', '⬜⬜🟩🟩🟩', '⬜🟩🟩🟩🟩', '🟩🟩🟩🟩🟩', '4/9/25, 7:58\\u202fAM - +44 7805 323515: Wordle 1,390 5/6', '', '⬜🟨🟨⬜🟩', '⬜⬜🟩🟩🟩', '⬜⬜🟩🟩🟩', '⬜🟩🟩🟩🟩', '🟩🟩🟩🟩🟩', '4/9/25, 8:06\\u202fAM - +44 7889 643371: Wordle 1,390 3/6', '', '🟨⬜⬜🟩⬜', '⬜🟨🟩🟩🟩', '🟩🟩🟩🟩🟩', '4/9/25, 8:16\\u202fAM - +44 7950 720437: Wordle 1,390 3/6', '', '⬛🟨⬛⬛⬛', '🟨🟨⬛🟨🟨', '🟩🟩🟩🟩🟩', '4/9/25, 11:43\\u202fAM - Ben Hawkey: Wordle 1,390 3/6', '', '⬛⬛🟩⬛🟨', '⬛🟩🟩🟩⬛', '🟩🟩🟩🟩🟩', '4/9/25, 12:34\\u202fPM - +44 7896 463954: Wordle 1,390 3/6', '', '⬜⬜🟨🟨⬜', '⬜🟨🟩🟩🟩', '🟩🟩🟩🟩🟩', '4/9/25, 1:32\\u202fPM - Tomos: Wordle 1,390 4/6', '', '⬛⬛🟨🟨🟨', '🟨🟨⬛🟨⬛', '⬛🟨🟩🟩🟩', '🟩🟩🟩🟩🟩', '4/9/25, 9:40\\u202fPM - Stephen Jackson: Wordle 1,390 4/6', '', '⬛⬛🟨⬛🟨', '⬛🟨⬛🟨⬛', '🟨🟨🟩🟩⬛', '🟩🟩🟩🟩🟩', '4/9/25, 10:40\\u202fPM - Ella Carden: Wordle 1,390 3/6', '', '⬜⬜🟨⬜🟨', '⬜🟨⬜🟨⬜', '🟩🟩🟩🟩🟩', '4/10/25, 7:02\\u202fAM - Sean Edwards: Wordle 1,391 4/6', '', '⬜⬜⬜🟨⬜', '⬜🟨🟨🟨⬜', '🟨🟩⬜🟩🟩', '🟩🟩🟩🟩🟩', '4/10/25, 7:39\\u202fAM - +44 7896 463954: Wordle 1,391 2/6', '', '⬜🟨🟨⬜🟨', '🟩🟩🟩🟩🟩', '4/10/25, 7:57\\u202fAM - +44 7950 720437: Wordle 1,391 3/6', '', '⬛⬛🟩🟨⬛', '🟩🟩🟩⬛⬛', '🟩🟩🟩🟩🟩', '4/10/25, 8:14\\u202fAM - +44 7805 323515: Wordle 1,391 5/6', '', '⬜⬜⬜⬜🟨', '🟩⬜⬜⬜⬜', '🟩🟨🟨⬜⬜', '🟩🟩⬜🟨🟨', '🟩🟩🟩🟩🟩', '4/10/25, 8:36\\u202fAM - Stephen Jackson: Wordle 1,391 3/6', '', '⬛🟨⬛🟨⬛', '🟩🟨🟨🟨⬛', '🟩🟩🟩🟩🟩', '4/10/25, 8:55\\u202fAM - Ben Hawkey: Wordle 1,391 4/6', '', '⬛🟨⬛⬛⬛', '⬛⬛🟨🟨🟨', '⬛🟨🟩⬛⬛', '🟩🟩🟩🟩🟩', '4/10/25, 10:00\\u202fAM - +44 7889 643371: Wordle 1,391 4/6', '', '🟩🟨⬜⬜⬜', '🟩🟨⬜⬜🟨', '🟩⬜🟩🟨🟨', '🟩🟩🟩🟩🟩']\n",
                  "############ SCOREBOARD ############\n",
                  "🏆 - Bal The Veen (130)\n",
                  "🥈 - +44 7889 643371 (162)\n",
                  "🥉 - Ella Carden (166)\n",
                  "4️⃣ - Stephen Jackson (172)\n",
                  "5️⃣ - +44 7950 720437 (180)\n",
                  "6️⃣ - +44 7896 463954 (185)\n",
                  "7️⃣ - Ben Hawkey (186)\n",
                  "8️⃣ - +44 7805 323515 (192)\n",
                  "9️⃣ - Tomos (203)\n",
                  "🥄 - Sean Edwards (215)\n",
                  " \n",
                  "############ AWARDS ############\n",
                  " \n",
                  "############ AWARDS ############\n",
                  "♻️ Ever-present - Ben Hawkey (1 games missed)\n",
                  "🫥 The Invisible Man - Bal The Veen (9 games missed)\n",
                  "🥲 Biggest Loser - Ben Hawkey (1 games lost)\n",
                  "🟩 Green Giant - Ben Hawkey (11.5 greens/game)\n",
                  "🟨 Mellow Yellow - Tomos (4.0 yellows/game)\n",
                  "☝️ One and Done - Ella Carden (1 game completed in one attempt)\n",
                  "😅 Life on the Edge - Ben Hawkey (2 games completed on the last attempt)\n"
                ]
              }
            ]
          }
        },
        "177382b60f134ac4b51d462bf57345f9": {
          "model_module": "@jupyter-widgets/base",
          "model_name": "LayoutModel",
          "model_module_version": "1.2.0",
          "state": {
            "_model_module": "@jupyter-widgets/base",
            "_model_module_version": "1.2.0",
            "_model_name": "LayoutModel",
            "_view_count": null,
            "_view_module": "@jupyter-widgets/base",
            "_view_module_version": "1.2.0",
            "_view_name": "LayoutView",
            "align_content": null,
            "align_items": null,
            "align_self": null,
            "border": null,
            "bottom": null,
            "display": null,
            "flex": null,
            "flex_flow": null,
            "grid_area": null,
            "grid_auto_columns": null,
            "grid_auto_flow": null,
            "grid_auto_rows": null,
            "grid_column": null,
            "grid_gap": null,
            "grid_row": null,
            "grid_template_areas": null,
            "grid_template_columns": null,
            "grid_template_rows": null,
            "height": null,
            "justify_content": null,
            "justify_items": null,
            "left": null,
            "margin": null,
            "max_height": null,
            "max_width": null,
            "min_height": null,
            "min_width": null,
            "object_fit": null,
            "object_position": null,
            "order": null,
            "overflow": null,
            "overflow_x": null,
            "overflow_y": null,
            "padding": null,
            "right": null,
            "top": null,
            "visibility": null,
            "width": null
          }
        }
      }
    }
  },
  "nbformat": 4,
  "nbformat_minor": 0
}