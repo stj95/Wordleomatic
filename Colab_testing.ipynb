{
  "cells": [
    {
      "cell_type": "markdown",
      "metadata": {
        "id": "view-in-github",
        "colab_type": "text"
      },
      "source": [
        "<a href=\"https://colab.research.google.com/github/stj95/Wordleomatic/blob/main/Colab_testing.ipynb\" target=\"_parent\"><img src=\"https://colab.research.google.com/assets/colab-badge.svg\" alt=\"Open In Colab\"/></a>"
      ]
    },
    {
      "cell_type": "markdown",
      "metadata": {
        "id": "bcfgW_bpTyke"
      },
      "source": [
        "WORDLE'O'MATIC 🤖"
      ]
    },
    {
      "cell_type": "code",
      "execution_count": 1,
      "metadata": {
        "id": "IkeELD5iPB9V"
      },
      "outputs": [],
      "source": [
        "import ipywidgets as widgets\n",
        "from IPython.display import display\n",
        "from datetime import datetime"
      ]
    },
    {
      "cell_type": "markdown",
      "metadata": {
        "id": "-8DAE6_aUjbp"
      },
      "source": []
    },
    {
      "cell_type": "code",
      "execution_count": 2,
      "metadata": {
        "colab": {
          "base_uri": "https://localhost:8080/",
          "height": 49,
          "referenced_widgets": [
            "0ea3dea973674bc59cfd21cff5680ddb",
            "f129560cbdb547abb7c6df574b2ba2f8",
            "6eaf77b5b5b647d2ad5803f81c35baea"
          ]
        },
        "id": "dmnUJlSiXDtu",
        "outputId": "fd959e85-cf68-477e-8266-2f77b06f6a38"
      },
      "outputs": [
        {
          "output_type": "display_data",
          "data": {
            "text/plain": [
              "FileUpload(value={}, accept='.txt', description='Upload')"
            ],
            "application/vnd.jupyter.widget-view+json": {
              "version_major": 2,
              "version_minor": 0,
              "model_id": "0ea3dea973674bc59cfd21cff5680ddb"
            }
          },
          "metadata": {}
        }
      ],
      "source": [
        "# @title  {\"display-mode\":\"code\"}\n",
        "# Create the upload widget\n",
        "uploader = widgets.FileUpload(\n",
        "    accept='.txt',  # Only accept text files (optional)\n",
        "    multiple=False  # One file only\n",
        ")\n",
        "\n",
        "# Display the widget\n",
        "display(uploader)"
      ]
    },
    {
      "cell_type": "code",
      "execution_count": 3,
      "metadata": {
        "colab": {
          "base_uri": "https://localhost:8080/"
        },
        "id": "-nNp6JyRaE3A",
        "outputId": "ff816c3d-20c3-4078-f275-fe772b4333bd"
      },
      "outputs": [
        {
          "output_type": "stream",
          "name": "stdout",
          "text": [
            "No file uploaded yet.\n"
          ]
        }
      ],
      "source": [
        "# Check if a file was uploaded\n",
        "if uploader.value:\n",
        "    uploaded_file = list(uploader.value.values())[0]  # Get the uploaded file info\n",
        "    content_bytes = uploaded_file['content']          # This is a bytes object\n",
        "    content_text = content_bytes.decode('utf-8')      # Decode to string\n",
        "    lines=content_text.splitlines()\n",
        "    print(\"File uploaded\\n\")\n",
        "else:\n",
        "    print(\"No file uploaded yet.\")\n"
      ]
    },
    {
      "cell_type": "code",
      "source": [
        "import ipywidgets as widgets\n",
        "from IPython.display import display\n",
        "from datetime import date\n",
        "\n",
        "# Create two DatePickers\n",
        "start_date = widgets.DatePicker(\n",
        "    description='Start:',\n",
        "    value=date(2025, 4, 1),\n",
        "    disabled=False\n",
        ")\n",
        "\n",
        "end_date = widgets.DatePicker(\n",
        "    description='End:',\n",
        "    value=date.today(),\n",
        "    disabled=False\n",
        ")\n",
        "\n",
        "# Button to apply filter\n",
        "apply_button = widgets.Button(description=\"Apply Date Filter\")\n",
        "\n",
        "\n",
        "# Display everything\n",
        "print(\"Date range to calculate results:\")\n",
        "display(widgets.HBox([start_date, end_date]))\n"
      ],
      "metadata": {
        "colab": {
          "base_uri": "https://localhost:8080/",
          "height": 66,
          "referenced_widgets": [
            "d32e78f991214940a1552a54fa89a16b",
            "1c49f159e602449a8516defe607d847c",
            "4d0eab34249543b88efede1d4899b9af",
            "1d85f18f07334e47b43bdf3d2e2205cb",
            "47772c5e0358489abcbf109a3a510db7",
            "0ac7466fd2114a3399e1ae01adece193",
            "7c17b60c728f41a5b3e8b0d4351190de",
            "4f3fab3401a2499d92a70b70f7a35c56"
          ]
        },
        "id": "1OZ3XiliSyCM",
        "outputId": "3ce3532a-0d13-4dd0-a0c2-8de483baffcf"
      },
      "execution_count": 4,
      "outputs": [
        {
          "output_type": "stream",
          "name": "stdout",
          "text": [
            "Date range to calculate results:\n"
          ]
        },
        {
          "output_type": "display_data",
          "data": {
            "text/plain": [
              "HBox(children=(DatePicker(value=datetime.date(2025, 4, 1), description='Start:'), DatePicker(value=datetime.da…"
            ],
            "application/vnd.jupyter.widget-view+json": {
              "version_major": 2,
              "version_minor": 0,
              "model_id": "d32e78f991214940a1552a54fa89a16b"
            }
          },
          "metadata": {}
        }
      ]
    },
    {
      "cell_type": "code",
      "execution_count": 5,
      "metadata": {
        "id": "PVo_xRQpaMSN",
        "outputId": "92fe0bf7-de4f-43bc-8ea7-1e3b14e9e2f2",
        "colab": {
          "base_uri": "https://localhost:8080/",
          "height": 384
        }
      },
      "outputs": [
        {
          "output_type": "error",
          "ename": "ModuleNotFoundError",
          "evalue": "No module named 'wordle_users'",
          "traceback": [
            "\u001b[0;31m---------------------------------------------------------------------------\u001b[0m",
            "\u001b[0;31mModuleNotFoundError\u001b[0m                       Traceback (most recent call last)",
            "\u001b[0;32m<ipython-input-5-0296f8ffd99b>\u001b[0m in \u001b[0;36m<cell line: 0>\u001b[0;34m()\u001b[0m\n\u001b[1;32m      2\u001b[0m \u001b[0;34m\u001b[0m\u001b[0m\n\u001b[1;32m      3\u001b[0m \u001b[0;31m# Import the modules (not individual classes yet)\u001b[0m\u001b[0;34m\u001b[0m\u001b[0;34m\u001b[0m\u001b[0m\n\u001b[0;32m----> 4\u001b[0;31m \u001b[0;32mimport\u001b[0m \u001b[0mwordle_users\u001b[0m\u001b[0;34m\u001b[0m\u001b[0;34m\u001b[0m\u001b[0m\n\u001b[0m\u001b[1;32m      5\u001b[0m \u001b[0;32mimport\u001b[0m \u001b[0mwordle_logs\u001b[0m\u001b[0;34m\u001b[0m\u001b[0;34m\u001b[0m\u001b[0m\n\u001b[1;32m      6\u001b[0m \u001b[0;34m\u001b[0m\u001b[0m\n",
            "\u001b[0;31mModuleNotFoundError\u001b[0m: No module named 'wordle_users'",
            "",
            "\u001b[0;31m---------------------------------------------------------------------------\u001b[0;32m\nNOTE: If your import is failing due to a missing package, you can\nmanually install dependencies using either !pip or !apt.\n\nTo view examples of installing some common dependencies, click the\n\"Open Examples\" button below.\n\u001b[0;31m---------------------------------------------------------------------------\u001b[0m\n"
          ],
          "errorDetails": {
            "actions": [
              {
                "action": "open_url",
                "actionText": "Open Examples",
                "url": "/notebooks/snippets/importing_libraries.ipynb"
              }
            ]
          }
        }
      ],
      "source": [
        "import importlib\n",
        "\n",
        "# Import the modules (not individual classes yet)\n",
        "import wordle_users\n",
        "import wordle_logs\n",
        "\n",
        "# Reload the modules (this picks up file changes)\n",
        "importlib.reload(wordle_users)\n",
        "importlib.reload(wordle_logs)\n",
        "\n",
        "# Now import the classes from the reloaded modules\n",
        "from wordle_users import WordleUser\n",
        "from wordle_logs import WordleLog\n"
      ]
    },
    {
      "cell_type": "code",
      "execution_count": null,
      "metadata": {
        "colab": {
          "base_uri": "https://localhost:8080/"
        },
        "id": "b8kqNQI5pEcy",
        "outputId": "a51355fa-de81-49a0-d46f-5535705185c5"
      },
      "outputs": [
        {
          "output_type": "stream",
          "name": "stdout",
          "text": [
            "############ SCOREBOARD ############\n",
            "🏆 - Bal The Veen (118)\n",
            "🥈 - +44 7889 643371 (150)\n",
            "🥉 - Ella Carden (154)\n",
            "4️⃣ - Stephen Jackson (160)\n",
            "5️⃣ - +44 7950 720437 (168)\n",
            "6️⃣ - +44 7896 463954 (173)\n",
            "7️⃣ - Ben Hawkey (174)\n",
            "8️⃣ - +44 7805 323515 (180)\n",
            "9️⃣ - Tomos (191)\n",
            "🥄 - Sean Edwards (203)\n",
            " \n",
            "############ AWARDS ############\n",
            "♻️ Ever-present - Ben Hawkey (0 games missed)\n",
            "🫥 The Invisible Man - Bal The Veen (8 games missed)\n",
            "🥲 Biggest Loser - Ben Hawkey (1 games lost)\n",
            "🟩 Green Giant - Ben Hawkey (11.5 greens/game)\n",
            "🟨 Mellow Yellow - Tomos (4.0 yellows/game)\n",
            "☝️ One and Done - Ella Carden (1 game completed in one attempt)\n",
            "😅 Life on the Edge - Ben Hawkey (2 games completed on the last attempt)\n"
          ]
        }
      ],
      "source": [
        "log = WordleLog(start_date, end_date)\n",
        "log.parse_lines(lines)\n",
        "\n",
        "scoreboard = {}\n",
        "missed_games = {}\n",
        "missed_scores = {}\n",
        "tile_scores = {}\n",
        "average_scores = {}\n",
        "n_green_scores = {}\n",
        "n_yellow_scores = {}\n",
        "ones = {}\n",
        "sixs = {}\n",
        "losses = {}\n",
        "\n",
        "for name, user in log.users.items():\n",
        "\n",
        "  user.get_stats()\n",
        "  scoreboard[name] = user.total_score\n",
        "  missed_games[name] = user.n_missed_games\n",
        "  missed_scores[name] = user.missed_score\n",
        "  tile_scores[name] = user.game_score\n",
        "  average_scores[name] = user.average_score\n",
        "  n_green_scores[name] = user.n_greens\n",
        "  n_yellow_scores[name] = user.n_yellows\n",
        "  ones[name] = user.ones\n",
        "  sixs[name] = user.sixs\n",
        "  losses[name] = user.losses\n",
        "  # print(losses)\n",
        "\n",
        "sorted_scoreboard = dict(sorted(scoreboard.items(), key=lambda item: item[1]))\n",
        "sorted_missed_games = dict(sorted(missed_games.items(), key=lambda item: item[1]))\n",
        "sorted_missed_games_r = dict(sorted(missed_games.items(), key=lambda item: item[1], reverse=True))\n",
        "sorted_greens = dict(sorted(n_green_scores.items(), key=lambda item: item[1], reverse=True))\n",
        "sorted_yellows = dict(sorted(n_yellow_scores.items(), key=lambda item: item[1], reverse=True))\n",
        "sorted_ones = dict(sorted(ones.items(), key=lambda item: item[1], reverse=True))\n",
        "sorted_sixs = dict(sorted(sixs.items(), key=lambda item: item[1], reverse=True))\n",
        "sorted_losses = dict(sorted(losses.items(), key=lambda item: item[1], reverse=True))\n",
        "\n",
        "# ------------------------ SCOREBOARD ----------------------------\n",
        "\n",
        "print(\"############ SCOREBOARD ############\")\n",
        "emoji_list = ['🏆', '🥈', '🥉', '4️⃣', '5️⃣', '6️⃣', '7️⃣', '8️⃣', '9️⃣', '🔟']\n",
        "for i, (name, score) in enumerate(sorted_scoreboard.items()):\n",
        "  if i == len(scoreboard)-1:\n",
        "    emoji = '🥄'\n",
        "  else:\n",
        "    emoji = emoji_list[i]\n",
        "\n",
        "  print(f\"{emoji} - {name} ({score})\")\n",
        "\n",
        "# ----------------------------------------------------------------\n",
        "\n",
        "\n",
        "# -------------------------- AWARDS ------------------------------\n",
        "\n",
        "\n",
        "missed_winner_name, missed_winner_score = next(iter(sorted_missed_games.items()))\n",
        "missed_loser_name, missed_loser_score = next(iter(sorted_missed_games_r.items()))\n",
        "green_winner_name, green_winner_score = next(iter(sorted_greens.items()))\n",
        "yellow_winner_name, yellow_winner_score = next(iter(sorted_yellows.items()))\n",
        "ones_winner_name, ones_winner_score = next(iter(sorted_ones.items()))\n",
        "sixs_winner_name, sixs_winner_score = next(iter(sorted_sixs.items()))\n",
        "losses_winner_name, losses_winner_score = next(iter(sorted_losses.items()))\n",
        "\n",
        "print(\" \")\n",
        "print(\"############ AWARDS ############\")\n",
        "print(f\"♻️ Ever-present - {missed_winner_name} ({missed_winner_score} games missed)\")\n",
        "print(f\"🫥 The Invisible Man - {missed_loser_name} ({missed_loser_score} games missed)\")\n",
        "print(f\"🥲 Biggest Loser - {losses_winner_name} ({losses_winner_score} games lost)\")\n",
        "print(f\"🟩 Green Giant - {green_winner_name} ({green_winner_score} greens/game)\")\n",
        "print(f\"🟨 Mellow Yellow - {yellow_winner_name} ({yellow_winner_score} yellows/game)\")\n",
        "print(f\"☝️ One and Done - {ones_winner_name} ({ones_winner_score} game completed in one attempt)\")\n",
        "print(f\"😅 Life on the Edge - {sixs_winner_name} ({sixs_winner_score} games completed on the last attempt)\")\n",
        "\n",
        "\n"
      ]
    },
    {
      "cell_type": "code",
      "execution_count": null,
      "metadata": {
        "id": "QKmuUGJF2nUj",
        "colab": {
          "base_uri": "https://localhost:8080/",
          "height": 52
        },
        "outputId": "97bf7d14-3b41-45e3-98c2-64079ac020df"
      },
      "outputs": [
        {
          "output_type": "stream",
          "name": "stdout",
          "text": [
            "  adding: wordle_logs.py (deflated 72%)\n",
            "  adding: wordle_users.py (deflated 69%)\n"
          ]
        },
        {
          "output_type": "display_data",
          "data": {
            "text/plain": [
              "<IPython.core.display.Javascript object>"
            ],
            "application/javascript": [
              "\n",
              "    async function download(id, filename, size) {\n",
              "      if (!google.colab.kernel.accessAllowed) {\n",
              "        return;\n",
              "      }\n",
              "      const div = document.createElement('div');\n",
              "      const label = document.createElement('label');\n",
              "      label.textContent = `Downloading \"${filename}\": `;\n",
              "      div.appendChild(label);\n",
              "      const progress = document.createElement('progress');\n",
              "      progress.max = size;\n",
              "      div.appendChild(progress);\n",
              "      document.body.appendChild(div);\n",
              "\n",
              "      const buffers = [];\n",
              "      let downloaded = 0;\n",
              "\n",
              "      const channel = await google.colab.kernel.comms.open(id);\n",
              "      // Send a message to notify the kernel that we're ready.\n",
              "      channel.send({})\n",
              "\n",
              "      for await (const message of channel.messages) {\n",
              "        // Send a message to notify the kernel that we're ready.\n",
              "        channel.send({})\n",
              "        if (message.buffers) {\n",
              "          for (const buffer of message.buffers) {\n",
              "            buffers.push(buffer);\n",
              "            downloaded += buffer.byteLength;\n",
              "            progress.value = downloaded;\n",
              "          }\n",
              "        }\n",
              "      }\n",
              "      const blob = new Blob(buffers, {type: 'application/binary'});\n",
              "      const a = document.createElement('a');\n",
              "      a.href = window.URL.createObjectURL(blob);\n",
              "      a.download = filename;\n",
              "      div.appendChild(a);\n",
              "      a.click();\n",
              "      div.remove();\n",
              "    }\n",
              "  "
            ]
          },
          "metadata": {}
        },
        {
          "output_type": "display_data",
          "data": {
            "text/plain": [
              "<IPython.core.display.Javascript object>"
            ],
            "application/javascript": [
              "download(\"download_71b44f16-f419-41a9-a3e4-6b3a1781d2dd\", \"wordle_project.zip\", 2211)"
            ]
          },
          "metadata": {}
        }
      ],
      "source": [
        "!zip -r wordle_project.zip . -i \"*.py\" \"*.ipynb\"\n",
        "from google.colab import files\n",
        "files.download('wordle_project.zip')\n"
      ]
    }
  ],
  "metadata": {
    "colab": {
      "provenance": [],
      "authorship_tag": "ABX9TyOURJH3Nl9DFzpz4PdnwLNC",
      "include_colab_link": true
    },
    "kernelspec": {
      "display_name": "Python 3",
      "name": "python3"
    },
    "language_info": {
      "name": "python"
    },
    "widgets": {
      "application/vnd.jupyter.widget-state+json": {
        "0ea3dea973674bc59cfd21cff5680ddb": {
          "model_module": "@jupyter-widgets/controls",
          "model_name": "FileUploadModel",
          "model_module_version": "1.5.0",
          "state": {
            "_counter": 1,
            "_dom_classes": [],
            "_model_module": "@jupyter-widgets/controls",
            "_model_module_version": "1.5.0",
            "_model_name": "FileUploadModel",
            "_view_count": null,
            "_view_module": "@jupyter-widgets/controls",
            "_view_module_version": "1.5.0",
            "_view_name": "FileUploadView",
            "accept": ".txt",
            "button_style": "",
            "data": [
              null
            ],
            "description": "Upload",
            "description_tooltip": null,
            "disabled": false,
            "error": "",
            "icon": "upload",
            "layout": "IPY_MODEL_f129560cbdb547abb7c6df574b2ba2f8",
            "metadata": [
              {
                "name": "WhatsApp Chat with The leeeeg of extraordinary wordles.txt",
                "type": "text/plain",
                "size": 148653,
                "lastModified": 1744282400000
              }
            ],
            "multiple": false,
            "style": "IPY_MODEL_6eaf77b5b5b647d2ad5803f81c35baea"
          }
        },
        "f129560cbdb547abb7c6df574b2ba2f8": {
          "model_module": "@jupyter-widgets/base",
          "model_name": "LayoutModel",
          "model_module_version": "1.2.0",
          "state": {
            "_model_module": "@jupyter-widgets/base",
            "_model_module_version": "1.2.0",
            "_model_name": "LayoutModel",
            "_view_count": null,
            "_view_module": "@jupyter-widgets/base",
            "_view_module_version": "1.2.0",
            "_view_name": "LayoutView",
            "align_content": null,
            "align_items": null,
            "align_self": null,
            "border": null,
            "bottom": null,
            "display": null,
            "flex": null,
            "flex_flow": null,
            "grid_area": null,
            "grid_auto_columns": null,
            "grid_auto_flow": null,
            "grid_auto_rows": null,
            "grid_column": null,
            "grid_gap": null,
            "grid_row": null,
            "grid_template_areas": null,
            "grid_template_columns": null,
            "grid_template_rows": null,
            "height": null,
            "justify_content": null,
            "justify_items": null,
            "left": null,
            "margin": null,
            "max_height": null,
            "max_width": null,
            "min_height": null,
            "min_width": null,
            "object_fit": null,
            "object_position": null,
            "order": null,
            "overflow": null,
            "overflow_x": null,
            "overflow_y": null,
            "padding": null,
            "right": null,
            "top": null,
            "visibility": null,
            "width": null
          }
        },
        "6eaf77b5b5b647d2ad5803f81c35baea": {
          "model_module": "@jupyter-widgets/controls",
          "model_name": "ButtonStyleModel",
          "model_module_version": "1.5.0",
          "state": {
            "_model_module": "@jupyter-widgets/controls",
            "_model_module_version": "1.5.0",
            "_model_name": "ButtonStyleModel",
            "_view_count": null,
            "_view_module": "@jupyter-widgets/base",
            "_view_module_version": "1.2.0",
            "_view_name": "StyleView",
            "button_color": null,
            "font_weight": ""
          }
        },
        "d32e78f991214940a1552a54fa89a16b": {
          "model_module": "@jupyter-widgets/controls",
          "model_name": "HBoxModel",
          "model_module_version": "1.5.0",
          "state": {
            "_dom_classes": [],
            "_model_module": "@jupyter-widgets/controls",
            "_model_module_version": "1.5.0",
            "_model_name": "HBoxModel",
            "_view_count": null,
            "_view_module": "@jupyter-widgets/controls",
            "_view_module_version": "1.5.0",
            "_view_name": "HBoxView",
            "box_style": "",
            "children": [
              "IPY_MODEL_1c49f159e602449a8516defe607d847c",
              "IPY_MODEL_4d0eab34249543b88efede1d4899b9af"
            ],
            "layout": "IPY_MODEL_1d85f18f07334e47b43bdf3d2e2205cb"
          }
        },
        "1c49f159e602449a8516defe607d847c": {
          "model_module": "@jupyter-widgets/controls",
          "model_name": "DatePickerModel",
          "model_module_version": "1.5.0",
          "state": {
            "_dom_classes": [],
            "_model_module": "@jupyter-widgets/controls",
            "_model_module_version": "1.5.0",
            "_model_name": "DatePickerModel",
            "_view_count": null,
            "_view_module": "@jupyter-widgets/controls",
            "_view_module_version": "1.5.0",
            "_view_name": "DatePickerView",
            "description": "Start:",
            "description_tooltip": null,
            "disabled": false,
            "layout": "IPY_MODEL_47772c5e0358489abcbf109a3a510db7",
            "style": "IPY_MODEL_0ac7466fd2114a3399e1ae01adece193",
            "value": {
              "year": 2025,
              "month": 3,
              "date": 1
            }
          }
        },
        "4d0eab34249543b88efede1d4899b9af": {
          "model_module": "@jupyter-widgets/controls",
          "model_name": "DatePickerModel",
          "model_module_version": "1.5.0",
          "state": {
            "_dom_classes": [],
            "_model_module": "@jupyter-widgets/controls",
            "_model_module_version": "1.5.0",
            "_model_name": "DatePickerModel",
            "_view_count": null,
            "_view_module": "@jupyter-widgets/controls",
            "_view_module_version": "1.5.0",
            "_view_name": "DatePickerView",
            "description": "End:",
            "description_tooltip": null,
            "disabled": false,
            "layout": "IPY_MODEL_7c17b60c728f41a5b3e8b0d4351190de",
            "style": "IPY_MODEL_4f3fab3401a2499d92a70b70f7a35c56",
            "value": {
              "year": 2025,
              "month": 3,
              "date": 11
            }
          }
        },
        "1d85f18f07334e47b43bdf3d2e2205cb": {
          "model_module": "@jupyter-widgets/base",
          "model_name": "LayoutModel",
          "model_module_version": "1.2.0",
          "state": {
            "_model_module": "@jupyter-widgets/base",
            "_model_module_version": "1.2.0",
            "_model_name": "LayoutModel",
            "_view_count": null,
            "_view_module": "@jupyter-widgets/base",
            "_view_module_version": "1.2.0",
            "_view_name": "LayoutView",
            "align_content": null,
            "align_items": null,
            "align_self": null,
            "border": null,
            "bottom": null,
            "display": null,
            "flex": null,
            "flex_flow": null,
            "grid_area": null,
            "grid_auto_columns": null,
            "grid_auto_flow": null,
            "grid_auto_rows": null,
            "grid_column": null,
            "grid_gap": null,
            "grid_row": null,
            "grid_template_areas": null,
            "grid_template_columns": null,
            "grid_template_rows": null,
            "height": null,
            "justify_content": null,
            "justify_items": null,
            "left": null,
            "margin": null,
            "max_height": null,
            "max_width": null,
            "min_height": null,
            "min_width": null,
            "object_fit": null,
            "object_position": null,
            "order": null,
            "overflow": null,
            "overflow_x": null,
            "overflow_y": null,
            "padding": null,
            "right": null,
            "top": null,
            "visibility": null,
            "width": null
          }
        },
        "47772c5e0358489abcbf109a3a510db7": {
          "model_module": "@jupyter-widgets/base",
          "model_name": "LayoutModel",
          "model_module_version": "1.2.0",
          "state": {
            "_model_module": "@jupyter-widgets/base",
            "_model_module_version": "1.2.0",
            "_model_name": "LayoutModel",
            "_view_count": null,
            "_view_module": "@jupyter-widgets/base",
            "_view_module_version": "1.2.0",
            "_view_name": "LayoutView",
            "align_content": null,
            "align_items": null,
            "align_self": null,
            "border": null,
            "bottom": null,
            "display": null,
            "flex": null,
            "flex_flow": null,
            "grid_area": null,
            "grid_auto_columns": null,
            "grid_auto_flow": null,
            "grid_auto_rows": null,
            "grid_column": null,
            "grid_gap": null,
            "grid_row": null,
            "grid_template_areas": null,
            "grid_template_columns": null,
            "grid_template_rows": null,
            "height": null,
            "justify_content": null,
            "justify_items": null,
            "left": null,
            "margin": null,
            "max_height": null,
            "max_width": null,
            "min_height": null,
            "min_width": null,
            "object_fit": null,
            "object_position": null,
            "order": null,
            "overflow": null,
            "overflow_x": null,
            "overflow_y": null,
            "padding": null,
            "right": null,
            "top": null,
            "visibility": null,
            "width": null
          }
        },
        "0ac7466fd2114a3399e1ae01adece193": {
          "model_module": "@jupyter-widgets/controls",
          "model_name": "DescriptionStyleModel",
          "model_module_version": "1.5.0",
          "state": {
            "_model_module": "@jupyter-widgets/controls",
            "_model_module_version": "1.5.0",
            "_model_name": "DescriptionStyleModel",
            "_view_count": null,
            "_view_module": "@jupyter-widgets/base",
            "_view_module_version": "1.2.0",
            "_view_name": "StyleView",
            "description_width": ""
          }
        },
        "7c17b60c728f41a5b3e8b0d4351190de": {
          "model_module": "@jupyter-widgets/base",
          "model_name": "LayoutModel",
          "model_module_version": "1.2.0",
          "state": {
            "_model_module": "@jupyter-widgets/base",
            "_model_module_version": "1.2.0",
            "_model_name": "LayoutModel",
            "_view_count": null,
            "_view_module": "@jupyter-widgets/base",
            "_view_module_version": "1.2.0",
            "_view_name": "LayoutView",
            "align_content": null,
            "align_items": null,
            "align_self": null,
            "border": null,
            "bottom": null,
            "display": null,
            "flex": null,
            "flex_flow": null,
            "grid_area": null,
            "grid_auto_columns": null,
            "grid_auto_flow": null,
            "grid_auto_rows": null,
            "grid_column": null,
            "grid_gap": null,
            "grid_row": null,
            "grid_template_areas": null,
            "grid_template_columns": null,
            "grid_template_rows": null,
            "height": null,
            "justify_content": null,
            "justify_items": null,
            "left": null,
            "margin": null,
            "max_height": null,
            "max_width": null,
            "min_height": null,
            "min_width": null,
            "object_fit": null,
            "object_position": null,
            "order": null,
            "overflow": null,
            "overflow_x": null,
            "overflow_y": null,
            "padding": null,
            "right": null,
            "top": null,
            "visibility": null,
            "width": null
          }
        },
        "4f3fab3401a2499d92a70b70f7a35c56": {
          "model_module": "@jupyter-widgets/controls",
          "model_name": "DescriptionStyleModel",
          "model_module_version": "1.5.0",
          "state": {
            "_model_module": "@jupyter-widgets/controls",
            "_model_module_version": "1.5.0",
            "_model_name": "DescriptionStyleModel",
            "_view_count": null,
            "_view_module": "@jupyter-widgets/base",
            "_view_module_version": "1.2.0",
            "_view_name": "StyleView",
            "description_width": ""
          }
        }
      }
    }
  },
  "nbformat": 4,
  "nbformat_minor": 0
}